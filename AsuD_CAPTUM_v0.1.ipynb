{
  "nbformat": 4,
  "nbformat_minor": 5,
  "metadata": {
    "kernelspec": {
      "display_name": "Python 3",
      "language": "python",
      "name": "python3"
    },
    "language_info": {
      "codemirror_mode": {
        "name": "ipython",
        "version": 3
      },
      "file_extension": ".py",
      "mimetype": "text/x-python",
      "name": "python",
      "nbconvert_exporter": "python",
      "pygments_lexer": "ipython3",
      "version": "3.7.10"
    },
    "colab": {
      "name": "AsuD_CAPTUM_v0.1.ipynb",
      "provenance": [],
      "include_colab_link": true
    }
  },
  "cells": [
    {
      "cell_type": "markdown",
      "metadata": {
        "id": "view-in-github",
        "colab_type": "text"
      },
      "source": [
        "<a href=\"https://colab.research.google.com/github/JulianSchmidtke/CAPTUM/blob/main/AsuD_CAPTUM_v0.1.ipynb\" target=\"_parent\"><img src=\"https://colab.research.google.com/assets/colab-badge.svg\" alt=\"Open In Colab\"/></a>"
      ]
    },
    {
      "cell_type": "code",
      "metadata": {
        "id": "21aa3cc8"
      },
      "source": [
        "%matplotlib inline\n",
        "import matplotlib.pyplot as plt\n",
        "import nltk, os\n",
        "import pandas as pd\n",
        "import numpy as np\n",
        "import re\n",
        "from collections import Counter\n",
        "import shutil"
      ],
      "id": "21aa3cc8",
      "execution_count": 2,
      "outputs": []
    },
    {
      "cell_type": "code",
      "metadata": {
        "id": "y1JNnvqwhn-d",
        "colab": {
          "base_uri": "https://localhost:8080/"
        },
        "outputId": "b5689bf7-9bce-4e37-cdda-3d1ddc1d8595"
      },
      "source": [
        "os.chdir(r'/content')\n",
        "\n",
        "content_dir = r'/content/CAPTUM/'\n",
        "\n",
        "# Remove if files already exist\n",
        "while os.path.exists(content_dir): \n",
        "    shutil.rmtree(content_dir)\n",
        "\n",
        "\n",
        "!git clone https://github.com/JulianSchmidtke/CAPTUM.git"
      ],
      "id": "y1JNnvqwhn-d",
      "execution_count": 3,
      "outputs": [
        {
          "output_type": "stream",
          "text": [
            "Cloning into 'CAPTUM'...\n",
            "remote: Enumerating objects: 532, done.\u001b[K\n",
            "remote: Counting objects: 100% (532/532), done.\u001b[K\n",
            "remote: Compressing objects: 100% (509/509), done.\u001b[K\n",
            "remote: Total 532 (delta 38), reused 463 (delta 20), pack-reused 0\u001b[K\n",
            "Receiving objects: 100% (532/532), 11.47 MiB | 9.84 MiB/s, done.\n",
            "Resolving deltas: 100% (38/38), done.\n"
          ],
          "name": "stdout"
        }
      ]
    },
    {
      "cell_type": "markdown",
      "metadata": {
        "id": "R1twNnO_f3hp"
      },
      "source": [
        "# Duplikate unter den Papern entfernen anhand der Hash-Werte"
      ],
      "id": "R1twNnO_f3hp"
    },
    {
      "cell_type": "code",
      "metadata": {
        "id": "18f27004"
      },
      "source": [
        "#Arbeitsverzeichnis auf das Ordnerverzeichnis ändern, in welchem die Daten liegen (txt-Format)\n",
        "file_dir = r'/content/CAPTUM/files'\n",
        "os.chdir(file_dir)\n",
        "\n",
        "#Speichern der Dateinamen in einem Array\n",
        "files = os.listdir()\n",
        "df_files = pd.DataFrame(files, columns=['Filepath'])"
      ],
      "id": "18f27004",
      "execution_count": 4,
      "outputs": []
    },
    {
      "cell_type": "code",
      "metadata": {
        "id": "5ugMSyU0f_4n"
      },
      "source": [
        "# create checksum for each file to identify duplicates\n",
        "# https://stackoverflow.com/questions/16874598/how-do-i-calculate-the-md5-checksum-of-a-file-in-python#16876405\n",
        "import hashlib\n",
        "def get_checksum(filepath: str) -> str:\n",
        "    # Open,close, read file and calculate MD5 on its contents \n",
        "    with open(filepath, 'rb') as file_to_check:\n",
        "        # read contents of the file\n",
        "        data = file_to_check.read()    \n",
        "        # pipe contents of the file through\n",
        "        return hashlib.md5(data).hexdigest()\n",
        "df_files['Checksum'] = df_files['Filepath'].apply(get_checksum)"
      ],
      "id": "5ugMSyU0f_4n",
      "execution_count": 5,
      "outputs": []
    },
    {
      "cell_type": "code",
      "metadata": {
        "id": "62410ea9"
      },
      "source": [
        "fileNameTags = list(map(lambda fn: fn.replace('', '+').split('_')[0:-2],df_files['Filepath']))\n",
        "\n",
        "\n",
        "df_files['Name'] = [fNT[-1] for fNT in fileNameTags]\n",
        "df_files['Tags'] = [fNT[1:-1] for fNT in fileNameTags]\n",
        "df_files['Year'] = [fY[-8:-4] for fY in df_files['Name']]\n",
        "df_files['Authors'] = [fN.split(' ')[0] for fN in df_files['Name']]"
      ],
      "id": "62410ea9",
      "execution_count": 6,
      "outputs": []
    },
    {
      "cell_type": "code",
      "metadata": {
        "id": "-6NJ23USltk9",
        "colab": {
          "base_uri": "https://localhost:8080/",
          "height": 487
        },
        "outputId": "c403b5b4-bd60-48ba-dbdf-e5efc513f59d"
      },
      "source": [
        "#Den Inhalt der Paper einlesen und in einen Pandas-\n",
        "df_files['Content'] = df_files['Filepath'].apply(lambda f: open(f, 'r', encoding = \"ISO-8859-1\").read())\n",
        "df_files"
      ],
      "id": "-6NJ23USltk9",
      "execution_count": 7,
      "outputs": [
        {
          "output_type": "execute_result",
          "data": {
            "text/html": [
              "<div>\n",
              "<style scoped>\n",
              "    .dataframe tbody tr th:only-of-type {\n",
              "        vertical-align: middle;\n",
              "    }\n",
              "\n",
              "    .dataframe tbody tr th {\n",
              "        vertical-align: top;\n",
              "    }\n",
              "\n",
              "    .dataframe thead th {\n",
              "        text-align: right;\n",
              "    }\n",
              "</style>\n",
              "<table border=\"1\" class=\"dataframe\">\n",
              "  <thead>\n",
              "    <tr style=\"text-align: right;\">\n",
              "      <th></th>\n",
              "      <th>Filepath</th>\n",
              "      <th>Checksum</th>\n",
              "      <th>Name</th>\n",
              "      <th>Tags</th>\n",
              "      <th>Year</th>\n",
              "      <th>Authors</th>\n",
              "      <th>Content</th>\n",
              "    </tr>\n",
              "  </thead>\n",
              "  <tbody>\n",
              "    <tr>\n",
              "      <th>0</th>\n",
              "      <td>CAPTUM_Total IgE_Basophil_Deza 2017.pdf_out_te...</td>\n",
              "      <td>1a5c1b616c12e9b9771c99e6ceb8d214</td>\n",
              "      <td>Deza 2017.pdf</td>\n",
              "      <td>[Total IgE, Basophil]</td>\n",
              "      <td>2017</td>\n",
              "      <td>Deza</td>\n",
              "      <td>Acta Dermato-Venereologica\\n\\nBB\\nFE\\n(=)\\n2\\n...</td>\n",
              "    </tr>\n",
              "    <tr>\n",
              "      <th>1</th>\n",
              "      <td>CAPTUM_Basophil_Severity_Baker 2008.pdf_out_te...</td>\n",
              "      <td>15a8b0fa0fc3869d149432646287f160</td>\n",
              "      <td>Baker 2008.pdf</td>\n",
              "      <td>[Basophil, Severity]</td>\n",
              "      <td>2008</td>\n",
              "      <td>Baker</td>\n",
              "      <td>\\n\\nBasophil histamine release activity and d...</td>\n",
              "    </tr>\n",
              "    <tr>\n",
              "      <th>2</th>\n",
              "      <td>CAPTUM_Duration_Angioedema_Ertaş 2019.pdf_out_...</td>\n",
              "      <td>bc1c62415ef1fb6dd2b1395c6d3e69e5</td>\n",
              "      <td>Ertaş 2019.pdf</td>\n",
              "      <td>[Duration, Angioedema]</td>\n",
              "      <td>2019</td>\n",
              "      <td>Ertaş</td>\n",
              "      <td>Journal Pre-proof ei EI\\n\\nIn Practice\\n\\noy\\n...</td>\n",
              "    </tr>\n",
              "    <tr>\n",
              "      <th>3</th>\n",
              "      <td>CAPTUM_Antihistamine_Omalizumab_Kaplan 2013.pd...</td>\n",
              "      <td>be8146576eb424a59298b6bcc1d73336</td>\n",
              "      <td>Kaplan 2013.pdf</td>\n",
              "      <td>[Antihistamine, Omalizumab]</td>\n",
              "      <td>2013</td>\n",
              "      <td>Kaplan</td>\n",
              "      <td>Atopic dermatitis and skin disease\\n\\nOmalizum...</td>\n",
              "    </tr>\n",
              "    <tr>\n",
              "      <th>4</th>\n",
              "      <td>CAPTUM_Total IgE_Allergic Diseases_Fang 2018.p...</td>\n",
              "      <td>d67db3ca3de5d6f7eaee3aa9a6094d1c</td>\n",
              "      <td>Fang 2018.pdf</td>\n",
              "      <td>[Total IgE, Allergic Diseases]</td>\n",
              "      <td>2018</td>\n",
              "      <td>Fang</td>\n",
              "      <td>Clinical Allergy - Research Article\\n\\nInterna...</td>\n",
              "    </tr>\n",
              "    <tr>\n",
              "      <th>...</th>\n",
              "      <td>...</td>\n",
              "      <td>...</td>\n",
              "      <td>...</td>\n",
              "      <td>...</td>\n",
              "      <td>...</td>\n",
              "      <td>...</td>\n",
              "      <td>...</td>\n",
              "    </tr>\n",
              "    <tr>\n",
              "      <th>1041</th>\n",
              "      <td>CAPTUM_BAT_Angioedema_Swerdt 2005.pdf_out_text...</td>\n",
              "      <td>cfc0bafeca8e44c8ae4b20db99d3f4d8</td>\n",
              "      <td>Swerdt 2005.pdf</td>\n",
              "      <td>[BAT, Angioedema]</td>\n",
              "      <td>2005</td>\n",
              "      <td>Swerdt</td>\n",
              "      <td>youpuap AB1a]|p poo\\n\\nS\\nw\\no\\na\\nw\\n®\\nY\\na...</td>\n",
              "    </tr>\n",
              "    <tr>\n",
              "      <th>1042</th>\n",
              "      <td>CAPTUM_CRP_Duration_Varghese 2016.pdf_out_text...</td>\n",
              "      <td>2f9977f9c58ea47f2a49853d5c34f077</td>\n",
              "      <td>Varghese 2016.pdf</td>\n",
              "      <td>[CRP, Duration]</td>\n",
              "      <td>2016</td>\n",
              "      <td>Varghese</td>\n",
              "      <td>Ann Allergy Asthma Immunol xxx (2016) 15\\n\\n ...</td>\n",
              "    </tr>\n",
              "    <tr>\n",
              "      <th>1043</th>\n",
              "      <td>CAPTUM_Total IgE_Eosinophil_El-Azim 2011.pdf_o...</td>\n",
              "      <td>4d231ac53ff1df520d8c049ce58c65ca</td>\n",
              "      <td>El-Azim 2011.pdf</td>\n",
              "      <td>[Total IgE, Eosinophil]</td>\n",
              "      <td>2011</td>\n",
              "      <td>El-Azim</td>\n",
              "      <td>ORIGINAL ARTICLE\\n\\nChronic Autoimmune Urticar...</td>\n",
              "    </tr>\n",
              "    <tr>\n",
              "      <th>1044</th>\n",
              "      <td>CAPTUM_Total IgE_TPO_Aversano 2005.pdf_out_tex...</td>\n",
              "      <td>7fbce933cdf14bac4456e26c9aa3776b</td>\n",
              "      <td>Aversano 2005.pdf</td>\n",
              "      <td>[Total IgE, TPO]</td>\n",
              "      <td>2005</td>\n",
              "      <td>Aversano</td>\n",
              "      <td>Allergy 2005: 60: 489-493\\n\\nOriginal article\\...</td>\n",
              "    </tr>\n",
              "    <tr>\n",
              "      <th>1045</th>\n",
              "      <td>CAPTUM_Angioedema_Omalizumab_Staubach 2016.pdf...</td>\n",
              "      <td>1ea86c43a240e894ffb8c8a62ed9472f</td>\n",
              "      <td>Staubach 2016.pdf</td>\n",
              "      <td>[Angioedema, Omalizumab]</td>\n",
              "      <td>2016</td>\n",
              "      <td>Staubach</td>\n",
              "      <td>\\n\\nAllergy\\n\\nEUROPEAN JOURNAL OF ALLERGY 2\\...</td>\n",
              "    </tr>\n",
              "  </tbody>\n",
              "</table>\n",
              "<p>1046 rows × 7 columns</p>\n",
              "</div>"
            ],
            "text/plain": [
              "                                               Filepath  ...                                            Content\n",
              "0     CAPTUM_Total IgE_Basophil_Deza 2017.pdf_out_te...  ...  Acta Dermato-Venereologica\\n\\nBB\\nFE\\n(=)\\n2\\n...\n",
              "1     CAPTUM_Basophil_Severity_Baker 2008.pdf_out_te...  ...   \\n\\nBasophil histamine release activity and d...\n",
              "2     CAPTUM_Duration_Angioedema_Ertaş 2019.pdf_out_...  ...  Journal Pre-proof ei EI\\n\\nIn Practice\\n\\noy\\n...\n",
              "3     CAPTUM_Antihistamine_Omalizumab_Kaplan 2013.pd...  ...  Atopic dermatitis and skin disease\\n\\nOmalizum...\n",
              "4     CAPTUM_Total IgE_Allergic Diseases_Fang 2018.p...  ...  Clinical Allergy - Research Article\\n\\nInterna...\n",
              "...                                                 ...  ...                                                ...\n",
              "1041  CAPTUM_BAT_Angioedema_Swerdt 2005.pdf_out_text...  ...  youpuap AB1a]|p poo\\n\\nS\\nw\\no\\na\\nw\\n®\\nY\\na...\n",
              "1042  CAPTUM_CRP_Duration_Varghese 2016.pdf_out_text...  ...  Ann Allergy Asthma Immunol xxx (2016) 15\\n\\n ...\n",
              "1043  CAPTUM_Total IgE_Eosinophil_El-Azim 2011.pdf_o...  ...  ORIGINAL ARTICLE\\n\\nChronic Autoimmune Urticar...\n",
              "1044  CAPTUM_Total IgE_TPO_Aversano 2005.pdf_out_tex...  ...  Allergy 2005: 60: 489-493\\n\\nOriginal article\\...\n",
              "1045  CAPTUM_Angioedema_Omalizumab_Staubach 2016.pdf...  ...   \\n\\nAllergy\\n\\nEUROPEAN JOURNAL OF ALLERGY 2\\...\n",
              "\n",
              "[1046 rows x 7 columns]"
            ]
          },
          "metadata": {
            "tags": []
          },
          "execution_count": 7
        }
      ]
    },
    {
      "cell_type": "code",
      "metadata": {
        "id": "NfbR4_P9s0f_"
      },
      "source": [
        "checksums = df_files['Checksum'].unique()\n",
        "for checksum in checksums:\n",
        "    tags = df_files.loc[df_files['Checksum'] == checksum, 'Tags']\n",
        "    list_of_pair_of_tags = tags.values.ravel()\n",
        "    list_of_tags = [tag for tags in list_of_pair_of_tags for tag in tags]\n",
        "    unique_tags = pd.unique(list_of_tags)\n",
        "    df_files.loc[df_files['Checksum'] == checksum, 'Tags'] = ', '.join(map(str, unique_tags))"
      ],
      "id": "NfbR4_P9s0f_",
      "execution_count": 8,
      "outputs": []
    },
    {
      "cell_type": "code",
      "metadata": {
        "id": "riAajBNjiMCf"
      },
      "source": [
        "# create dataframe for further analytics w/o the duplicate articles\n",
        "df = df_files.drop_duplicates(subset=['Checksum'], keep='first')\n",
        "df.reset_index(inplace=True, drop=True)\n",
        "df = df.loc[:,['Authors','Year','Tags', 'Content']]"
      ],
      "id": "riAajBNjiMCf",
      "execution_count": 9,
      "outputs": []
    },
    {
      "cell_type": "markdown",
      "metadata": {
        "id": "XYlSFMEfgAwt"
      },
      "source": [
        "# Korpus erstellen"
      ],
      "id": "XYlSFMEfgAwt"
    },
    {
      "cell_type": "code",
      "metadata": {
        "id": "LFVLJt6FMzRr",
        "colab": {
          "base_uri": "https://localhost:8080/"
        },
        "outputId": "4b895a54-6e71-4a02-c068-0db81fd00d77"
      },
      "source": [
        "from nltk.stem import PorterStemmer\n",
        "from nltk.stem import WordNetLemmatizer\n",
        "from nltk.corpus import stopwords\n",
        "\n",
        "from collections import Counter\n",
        "\n",
        "from sklearn.feature_extraction.text import TfidfVectorizer\n",
        "\n",
        "nltk.download('punkt')\n",
        "nltk.download('wordnet')\n",
        "nltk.download('stopwords')"
      ],
      "id": "LFVLJt6FMzRr",
      "execution_count": 10,
      "outputs": [
        {
          "output_type": "stream",
          "text": [
            "[nltk_data] Downloading package punkt to /root/nltk_data...\n",
            "[nltk_data]   Package punkt is already up-to-date!\n",
            "[nltk_data] Downloading package wordnet to /root/nltk_data...\n",
            "[nltk_data]   Package wordnet is already up-to-date!\n",
            "[nltk_data] Downloading package stopwords to /root/nltk_data...\n",
            "[nltk_data]   Package stopwords is already up-to-date!\n"
          ],
          "name": "stdout"
        },
        {
          "output_type": "execute_result",
          "data": {
            "text/plain": [
              "True"
            ]
          },
          "metadata": {
            "tags": []
          },
          "execution_count": 10
        }
      ]
    },
    {
      "cell_type": "markdown",
      "metadata": {
        "id": "-nRxEmyLRhDU"
      },
      "source": [
        "Es werden Füllwörter entfernt."
      ],
      "id": "-nRxEmyLRhDU"
    },
    {
      "cell_type": "code",
      "metadata": {
        "id": "983b795c"
      },
      "source": [
        "stop_words=set(stopwords.words(\"english\"))\n",
        "def stoppingFunc(text, stop_words=stop_words):\n",
        "    filtered_text=[]\n",
        "    for word in text:\n",
        "        # Wort unter 3 Zeichen -> weg\n",
        "        if len(word) < 3:\n",
        "          next\n",
        "        # Mehr als eine Ziffer -> weg\n",
        "        elif sum(c.isdigit() for c in word)>1:\n",
        "          next\n",
        "        # nicht in Stopword Liste -> behalten\n",
        "        elif word not in stop_words:\n",
        "          filtered_text.append(word)\n",
        "        \n",
        "    return filtered_text"
      ],
      "id": "983b795c",
      "execution_count": 11,
      "outputs": []
    },
    {
      "cell_type": "markdown",
      "metadata": {
        "id": "1Wu3O5CFRfVx"
      },
      "source": [
        "Wörter auf ihren Wortstamm reduzieren (cats -> cat, transportation -> transport)"
      ],
      "id": "1Wu3O5CFRfVx"
    },
    {
      "cell_type": "code",
      "metadata": {
        "id": "fa7a4b64"
      },
      "source": [
        "def stemmingFunc(text):\n",
        "    stemmer = PorterStemmer()\n",
        "    return [stemmer.stem(word) for word in text]"
      ],
      "id": "fa7a4b64",
      "execution_count": 12,
      "outputs": []
    },
    {
      "cell_type": "markdown",
      "metadata": {
        "id": "LDr_g2xlRdGG"
      },
      "source": [
        "Komplexere Version des Stemming. Wörter werden im Zusammenhang gesehen und reduziert. Verben werden auf den Infiitiv gesetzt usw."
      ],
      "id": "LDr_g2xlRdGG"
    },
    {
      "cell_type": "code",
      "metadata": {
        "id": "efd6f40d"
      },
      "source": [
        "def lemmatizingFunc(text):\n",
        "    lemmatizer = WordNetLemmatizer()\n",
        "    return [lemmatizer.lemmatize(word) for word in text]"
      ],
      "id": "efd6f40d",
      "execution_count": 13,
      "outputs": []
    },
    {
      "cell_type": "code",
      "metadata": {
        "id": "hjUQ6ELhBLWv"
      },
      "source": [
        "def removeWords(text):\n",
        "  filtered_text=[]\n",
        "  for word in text:\n",
        "    if word.lower() in ('csu', 'urticaria', 'doi', 'http', 'the', 'al', 'fig', \n",
        "                        'point', 'data', 'patient', 'result', 'study', 'disease', \n",
        "                        'result', 'group', 'table', 'figure', 'patient'):\n",
        "      next\n",
        "    else:\n",
        "      filtered_text.append(word)\n",
        "\n",
        "  counter = Counter(filtered_text)\n",
        "  filtered_text = [key for key, val in counter.items() if val > 1]\n",
        "\n",
        "  return filtered_text"
      ],
      "id": "hjUQ6ELhBLWv",
      "execution_count": 14,
      "outputs": []
    },
    {
      "cell_type": "code",
      "metadata": {
        "id": "8jXAdrQgT4sV"
      },
      "source": [
        "def remove_doi(text):\n",
        "  doi_regex = r\"10.\\d{4,9}\\/[-._;()\\/:A-Z0-9]+$\"\n",
        "  new_text = re.sub(doi_regex, '', text, flags=re.IGNORECASE)\n",
        "  return new_text"
      ],
      "id": "8jXAdrQgT4sV",
      "execution_count": 15,
      "outputs": []
    },
    {
      "cell_type": "code",
      "metadata": {
        "id": "QTogJ6y6EOX4",
        "colab": {
          "base_uri": "https://localhost:8080/"
        },
        "outputId": "6ad4bb49-c5b7-43c3-b2e3-1af7ef755d8c"
      },
      "source": [
        "removeWords(['csu', 'TEST', 'DOI', 'doi', 'al', 'DOI'])"
      ],
      "id": "QTogJ6y6EOX4",
      "execution_count": 16,
      "outputs": [
        {
          "output_type": "execute_result",
          "data": {
            "text/plain": [
              "[]"
            ]
          },
          "metadata": {
            "tags": []
          },
          "execution_count": 16
        }
      ]
    },
    {
      "cell_type": "code",
      "metadata": {
        "id": "xKqD-XOFY8Xd"
      },
      "source": [
        "def normalize_text(tokenizer, text):\n",
        "  # lowercase text\n",
        "  text = str(text).lower()\n",
        "  # remove non-UTF\n",
        "  text = text.encode(\"utf-8\", \"ignore\").decode()\n",
        "  # remove doi\n",
        "  text = remove_doi(text)\n",
        "\n",
        "  tokenized_text = tokenizer.tokenize(text)\n",
        "\n",
        "  tokenized_text = removeWords(tokenized_text)\n",
        "  tokenized_text = stoppingFunc(tokenized_text)\n",
        "  #tokenized_text = stemmingFunc(tokenized_text)\n",
        "  tokenized_text = lemmatizingFunc(tokenized_text)\n",
        "\n",
        "  text = \" \".join(tokenized_text)\n",
        "  return text"
      ],
      "id": "xKqD-XOFY8Xd",
      "execution_count": 17,
      "outputs": []
    },
    {
      "cell_type": "code",
      "metadata": {
        "id": "gi4T7zVR-iTk"
      },
      "source": [
        "def remove_word_in_every_corpus(corpus, series):\n",
        "  words = set(series)\n",
        "  print(words)\n",
        "  return\n",
        "\n",
        "\n",
        "\n",
        "\n",
        "  new_corpus = []\n",
        "  for word in corpus:\n",
        "    in_every_corpus = True\n",
        "    for element in series:\n",
        "      if not word in element:\n",
        "        in_every_corpus = False\n",
        "    if in_every_corpus:\n",
        "      new_corpus += word\n",
        "  return new_corpus"
      ],
      "id": "gi4T7zVR-iTk",
      "execution_count": 18,
      "outputs": []
    },
    {
      "cell_type": "markdown",
      "metadata": {
        "id": "yjs1JRBiRY-I"
      },
      "source": [
        "Ich glaube es sollte entweder eine Stemming oder eine Lemmatizing Funktion angewendet werden.\n",
        "\n",
        "Ich glaube wir sollten erst Lemmatizen und dann Stopwords entfernen."
      ],
      "id": "yjs1JRBiRY-I"
    },
    {
      "cell_type": "code",
      "metadata": {
        "id": "EQ-PJE_p_K7g",
        "outputId": "e4cf9840-dcb8-4981-aec1-44d919d1bfa4",
        "colab": {
          "base_uri": "https://localhost:8080/"
        }
      },
      "source": [
        "regex_tokenizer = nltk.RegexpTokenizer(\"\\w+\")\n",
        "df['Corpus'] = df['Content'].apply(lambda c: normalize_text(regex_tokenizer, c))\n",
        "\n",
        "# Corpus aufräumen \n",
        "#df['Corpus'] = df['Corpus'].apply(lambda c: remove_word_in_every_corpus(c, df['Content']))\n",
        "\n",
        "\n",
        "regex_tokenizer2 = nltk.RegexpTokenizer('\\w+[\\.,]{0,1}')\n",
        "df['Corpus_w_Punctuation'] = df['Content'].apply(lambda c: normalize_text(regex_tokenizer2, c))\n"
      ],
      "id": "EQ-PJE_p_K7g",
      "execution_count": 19,
      "outputs": [
        {
          "output_type": "stream",
          "text": [
            "IOPub data rate exceeded.\n",
            "The notebook server will temporarily stop sending output\n",
            "to the client in order to avoid crashing it.\n",
            "To change this limit, set the config variable\n",
            "`--NotebookApp.iopub_data_rate_limit`.\n",
            "\n",
            "Current values:\n",
            "NotebookApp.iopub_data_rate_limit=1000000.0 (bytes/sec)\n",
            "NotebookApp.rate_limit_window=3.0 (secs)\n",
            "\n"
          ],
          "name": "stderr"
        }
      ]
    },
    {
      "cell_type": "code",
      "metadata": {
        "id": "mxju8ng-_Gi5",
        "outputId": "718b5688-9e1f-4799-d176-70118842ecb3",
        "colab": {
          "base_uri": "https://localhost:8080/"
        }
      },
      "source": [
        "corpus_list = df['Content'].to_list()\n",
        "remove_word_in_every_corpus('', corpus_list)"
      ],
      "id": "mxju8ng-_Gi5",
      "execution_count": 67,
      "outputs": [
        {
          "output_type": "stream",
          "text": [
            "IOPub data rate exceeded.\n",
            "The notebook server will temporarily stop sending output\n",
            "to the client in order to avoid crashing it.\n",
            "To change this limit, set the config variable\n",
            "`--NotebookApp.iopub_data_rate_limit`.\n",
            "\n",
            "Current values:\n",
            "NotebookApp.iopub_data_rate_limit=1000000.0 (bytes/sec)\n",
            "NotebookApp.rate_limit_window=3.0 (secs)\n",
            "\n"
          ],
          "name": "stderr"
        }
      ]
    },
    {
      "cell_type": "code",
      "metadata": {
        "id": "HhxYmjBJ2iYG",
        "colab": {
          "base_uri": "https://localhost:8080/",
          "height": 487
        },
        "outputId": "497b78c6-8d21-4981-98a5-cf19c7ec83bc"
      },
      "source": [
        "df"
      ],
      "id": "HhxYmjBJ2iYG",
      "execution_count": 21,
      "outputs": [
        {
          "output_type": "execute_result",
          "data": {
            "text/html": [
              "<div>\n",
              "<style scoped>\n",
              "    .dataframe tbody tr th:only-of-type {\n",
              "        vertical-align: middle;\n",
              "    }\n",
              "\n",
              "    .dataframe tbody tr th {\n",
              "        vertical-align: top;\n",
              "    }\n",
              "\n",
              "    .dataframe thead th {\n",
              "        text-align: right;\n",
              "    }\n",
              "</style>\n",
              "<table border=\"1\" class=\"dataframe\">\n",
              "  <thead>\n",
              "    <tr style=\"text-align: right;\">\n",
              "      <th></th>\n",
              "      <th>Authors</th>\n",
              "      <th>Year</th>\n",
              "      <th>Tags</th>\n",
              "      <th>Content</th>\n",
              "      <th>Corpus</th>\n",
              "      <th>Corpus_w_Punctuation</th>\n",
              "    </tr>\n",
              "  </thead>\n",
              "  <tbody>\n",
              "    <tr>\n",
              "      <th>0</th>\n",
              "      <td>Deza</td>\n",
              "      <td>2017</td>\n",
              "      <td>Total IgE, Basophil, Omalizumab, Duration, All...</td>\n",
              "      <td>Acta Dermato-Venereologica\\n\\nBB\\nFE\\n(=)\\n2\\n...</td>\n",
              "      <td>acta dermato venereologica report basophil fce...</td>\n",
              "      <td>acta dermato venereologica is. report basophil...</td>\n",
              "    </tr>\n",
              "    <tr>\n",
              "      <th>1</th>\n",
              "      <td>Baker</td>\n",
              "      <td>2008</td>\n",
              "      <td>Basophil, Severity, Duration, BHRA</td>\n",
              "      <td>\\n\\nBasophil histamine release activity and d...</td>\n",
              "      <td>basophil histamine release activity disease se...</td>\n",
              "      <td>basophil histamine release activity disease se...</td>\n",
              "    </tr>\n",
              "    <tr>\n",
              "      <th>2</th>\n",
              "      <td>Ertaş</td>\n",
              "      <td>2019</td>\n",
              "      <td>Duration, Angioedema</td>\n",
              "      <td>Journal Pre-proof ei EI\\n\\nIn Practice\\n\\noy\\n...</td>\n",
              "      <td>journal practice sexual functioning frequently...</td>\n",
              "      <td>journal practice sexual functioning frequently...</td>\n",
              "    </tr>\n",
              "    <tr>\n",
              "      <th>3</th>\n",
              "      <td>Kaplan</td>\n",
              "      <td>2013</td>\n",
              "      <td>Antihistamine, Omalizumab, anti-FcεRI, Allergi...</td>\n",
              "      <td>Atopic dermatitis and skin disease\\n\\nOmalizum...</td>\n",
              "      <td>atopic skin disease omalizumab patient symptom...</td>\n",
              "      <td>atopic skin disease omalizumab patient symptom...</td>\n",
              "    </tr>\n",
              "    <tr>\n",
              "      <th>4</th>\n",
              "      <td>Fang</td>\n",
              "      <td>2018</td>\n",
              "      <td>Total IgE, Allergic Diseases, Severity</td>\n",
              "      <td>Clinical Allergy - Research Article\\n\\nInterna...</td>\n",
              "      <td>clinical allergy research immunology int arch ...</td>\n",
              "      <td>clinical allergy research immunology int arch ...</td>\n",
              "    </tr>\n",
              "    <tr>\n",
              "      <th>...</th>\n",
              "      <td>...</td>\n",
              "      <td>...</td>\n",
              "      <td>...</td>\n",
              "      <td>...</td>\n",
              "      <td>...</td>\n",
              "      <td>...</td>\n",
              "    </tr>\n",
              "    <tr>\n",
              "      <th>449</th>\n",
              "      <td>Ben-Shoshan</td>\n",
              "      <td>2018</td>\n",
              "      <td>Severity, Omalizumab</td>\n",
              "      <td>Clinical Commentary Review\\n\\nManagement of Pe...</td>\n",
              "      <td>clinical review management pediatric chronic s...</td>\n",
              "      <td>clinical review management pediatric chronic s...</td>\n",
              "    </tr>\n",
              "    <tr>\n",
              "      <th>450</th>\n",
              "      <td>Asero</td>\n",
              "      <td>2018</td>\n",
              "      <td>Severity, Omalizumab</td>\n",
              "      <td>DR. RICCARDO ASERO (Orcid ID : 0000-0002-8277-...</td>\n",
              "      <td>riccardo asero article editor efficacy omalizu...</td>\n",
              "      <td>riccardo asero article editor efficacy omalizu...</td>\n",
              "    </tr>\n",
              "    <tr>\n",
              "      <th>451</th>\n",
              "      <td>Ferrer</td>\n",
              "      <td>2017</td>\n",
              "      <td>Severity, Omalizumab</td>\n",
              "      <td>doi:10.1684/ejd.2017.3085\\n\\nReview\\n\\nMarta F...</td>\n",
              "      <td>ejd review marta ferrer isabelle boccon gibod ...</td>\n",
              "      <td>ejd. review marta ferrer isabelle boccon gibod...</td>\n",
              "    </tr>\n",
              "    <tr>\n",
              "      <th>452</th>\n",
              "      <td>Park</td>\n",
              "      <td>2013</td>\n",
              "      <td>Total IgE, Eosinophil</td>\n",
              "      <td>Ann Dermatol Vol. 25, No. 4, 2013\\n\\nhttp://dx...</td>\n",
              "      <td>ann dermatol vol org original article staphylo...</td>\n",
              "      <td>ann dermatol vol. no. org ad. original article...</td>\n",
              "    </tr>\n",
              "    <tr>\n",
              "      <th>453</th>\n",
              "      <td>Asero</td>\n",
              "      <td>020</td>\n",
              "      <td>D-Dimer, Omalizumab</td>\n",
              "      <td>CHRONIC SPONTANEOUS URTICARIA TREATED WITH OMA...</td>\n",
              "      <td>chronic spontaneous treated omalizumab early l...</td>\n",
              "      <td>chronic spontaneous treated omalizumab early l...</td>\n",
              "    </tr>\n",
              "  </tbody>\n",
              "</table>\n",
              "<p>454 rows × 6 columns</p>\n",
              "</div>"
            ],
            "text/plain": [
              "         Authors  ...                               Corpus_w_Punctuation\n",
              "0           Deza  ...  acta dermato venereologica is. report basophil...\n",
              "1          Baker  ...  basophil histamine release activity disease se...\n",
              "2          Ertaş  ...  journal practice sexual functioning frequently...\n",
              "3         Kaplan  ...  atopic skin disease omalizumab patient symptom...\n",
              "4           Fang  ...  clinical allergy research immunology int arch ...\n",
              "..           ...  ...                                                ...\n",
              "449  Ben-Shoshan  ...  clinical review management pediatric chronic s...\n",
              "450        Asero  ...  riccardo asero article editor efficacy omalizu...\n",
              "451       Ferrer  ...  ejd. review marta ferrer isabelle boccon gibod...\n",
              "452         Park  ...  ann dermatol vol. no. org ad. original article...\n",
              "453        Asero  ...  chronic spontaneous treated omalizumab early l...\n",
              "\n",
              "[454 rows x 6 columns]"
            ]
          },
          "metadata": {
            "tags": []
          },
          "execution_count": 21
        }
      ]
    },
    {
      "cell_type": "markdown",
      "metadata": {
        "id": "BPVoM5XU5WGq"
      },
      "source": [
        "# Wordcloud\n"
      ],
      "id": "BPVoM5XU5WGq"
    },
    {
      "cell_type": "code",
      "metadata": {
        "id": "sLfPfxb45leF",
        "outputId": "6237b1fe-6719-46e2-c0bf-4232c389add2",
        "colab": {
          "base_uri": "https://localhost:8080/"
        }
      },
      "source": [
        "!pip install wordcloud\n",
        "\n",
        "from wordcloud import WordCloud"
      ],
      "id": "sLfPfxb45leF",
      "execution_count": 71,
      "outputs": [
        {
          "output_type": "stream",
          "text": [
            "Requirement already satisfied: wordcloud in /usr/local/lib/python3.7/dist-packages (1.5.0)\n",
            "Requirement already satisfied: pillow in /usr/local/lib/python3.7/dist-packages (from wordcloud) (7.1.2)\n",
            "Requirement already satisfied: numpy>=1.6.1 in /usr/local/lib/python3.7/dist-packages (from wordcloud) (1.19.5)\n"
          ],
          "name": "stdout"
        }
      ]
    },
    {
      "cell_type": "code",
      "metadata": {
        "id": "NV_k2aSr5YhZ",
        "outputId": "a9a71e01-e0b5-42ea-b31e-4d13262e5e21",
        "colab": {
          "base_uri": "https://localhost:8080/",
          "height": 248
        }
      },
      "source": [
        "words = ' '.join(list(df['Corpus']))\n",
        "wordcloud = WordCloud(width=1000, height=1000, max_words=1000).generate(words)\n",
        "wordcloud.to_file(\"../../first_review.png\")\n",
        "\n",
        "plt.imshow(wordcloud, interpolation='bilinear')\n",
        "plt.axis(\"off\")\n",
        "plt.show()"
      ],
      "id": "NV_k2aSr5YhZ",
      "execution_count": 56,
      "outputs": [
        {
          "output_type": "display_data",
          "data": {
            "image/png": "[encoded data removed]",
            "text/plain": [
              "<Figure size 432x288 with 1 Axes>"
            ]
          },
          "metadata": {
            "tags": [],
            "needs_background": "light"
          }
        }
      ]
    },
    {
      "cell_type": "markdown",
      "metadata": {
        "id": "hCuEEMfP4-Y4"
      },
      "source": [
        "### Distinct Tags"
      ],
      "id": "hCuEEMfP4-Y4"
    },
    {
      "cell_type": "code",
      "metadata": {
        "id": "StvfVkx226jA",
        "colab": {
          "base_uri": "https://localhost:8080/"
        },
        "outputId": "85618b16-a862-4cce-bd26-8b835abdb0c5"
      },
      "source": [
        "type(list(df['Tags']))\n",
        "tags = set(', '.join(list(df['Tags'])).split(', '))\n",
        "print(*tags, sep=\"\\n\")"
      ],
      "id": "StvfVkx226jA",
      "execution_count": null,
      "outputs": [
        {
          "output_type": "stream",
          "text": [
            "Omalizumab\n",
            "ANA\n",
            "anti-TPO IgE ratio+\n",
            "CRP\n",
            "Antihistamine\n",
            "dsDNA\n",
            "Ana\n",
            "Allergic Diseases\n",
            "anti-FcεRI\n",
            "Cyclosporine\n",
            "BHRA\n",
            "Basophil count\n",
            "Eosinophil\n",
            "duration\n",
            "Anti-IgE\n",
            "Basophil\n",
            "serverity+\n",
            "thyroglobulin\n",
            "Duration\n",
            "angioedema\n",
            "ASST+\n",
            "Angioedema\n",
            "Tissue factor\n",
            "BAT\n",
            "cyclosporine\n",
            "omalizumab\n",
            "Severity\n",
            "IL-24\n",
            "D-Dimer\n",
            "Eosinophil count\n",
            "Thyroglobulin\n",
            "Total IgE\n",
            "TPO\n"
          ],
          "name": "stdout"
        }
      ]
    },
    {
      "cell_type": "markdown",
      "metadata": {
        "id": "8bb35178"
      },
      "source": [
        "# Algorithmen anwenden"
      ],
      "id": "8bb35178"
    },
    {
      "cell_type": "markdown",
      "metadata": {
        "id": "NUvil67imP_C"
      },
      "source": [
        "## Bag of Words\n",
        "Quelle: [towardsdatascience](https://towardsdatascience.com/topic-modeling-and-latent-dirichlet-allocation-in-python-9bf156893c24)"
      ],
      "id": "NUvil67imP_C"
    },
    {
      "cell_type": "code",
      "metadata": {
        "id": "XXEW8CQQmqZA",
        "colab": {
          "base_uri": "https://localhost:8080/"
        },
        "outputId": "7800ca2a-b39e-45b1-df07-7bb59f101ca4"
      },
      "source": [
        "import gensim\n",
        "import numpy as np\n",
        "np.random.seed(2021)\n",
        "import nltk\n",
        "nltk.download('wordnet')"
      ],
      "id": "XXEW8CQQmqZA",
      "execution_count": 68,
      "outputs": [
        {
          "output_type": "stream",
          "text": [
            "[nltk_data] Downloading package wordnet to /root/nltk_data...\n",
            "[nltk_data]   Package wordnet is already up-to-date!\n"
          ],
          "name": "stdout"
        },
        {
          "output_type": "execute_result",
          "data": {
            "text/plain": [
              "True"
            ]
          },
          "metadata": {
            "tags": []
          },
          "execution_count": 68
        }
      ]
    },
    {
      "cell_type": "code",
      "metadata": {
        "id": "DhoqU6U_mue-"
      },
      "source": [
        "processed_docs = df['Corpus'].apply(lambda c: c.split(' '))"
      ],
      "id": "DhoqU6U_mue-",
      "execution_count": 69,
      "outputs": []
    },
    {
      "cell_type": "code",
      "metadata": {
        "id": "gWjoEt0rmwnV",
        "colab": {
          "base_uri": "https://localhost:8080/"
        },
        "outputId": "2831966c-3f34-43cd-a2c8-7f1b22d1ef7e"
      },
      "source": [
        "dictionary = gensim.corpora.Dictionary(processed_docs)\n",
        "count = 0\n",
        "for k, v in dictionary.iteritems():\n",
        "    print(k, v)\n",
        "    count += 1\n",
        "    if count > 10:\n",
        "        break"
      ],
      "id": "gWjoEt0rmwnV",
      "execution_count": 70,
      "outputs": [
        {
          "output_type": "stream",
          "text": [
            "0 8weeks\n",
            "1 acad\n",
            "2 achieve\n",
            "3 acta\n",
            "4 action\n",
            "5 activation\n",
            "6 active\n",
            "7 activity\n",
            "8 addition\n",
            "9 additional\n",
            "10 adult\n"
          ],
          "name": "stdout"
        }
      ]
    },
    {
      "cell_type": "markdown",
      "metadata": {
        "id": "vJf8rx6MoqDu"
      },
      "source": [
        "### **LDA** (LatentDirichletAllocation) \n",
        "Quelle: [Medium-Artikel zu LDA](https://towardsdatascience.com/nlp-with-lda-latent-dirichlet-allocation-and-text-clustering-to-improve-classification-97688c23d98)"
      ],
      "id": "vJf8rx6MoqDu"
    },
    {
      "cell_type": "code",
      "metadata": {
        "id": "j0i46zY1sXJ2"
      },
      "source": [
        "#Turn tags into a set for faster checking of whether a tag exists or not\n",
        "type(list(df['Tags']))\n",
        "unique_tags = set(', '.join(list(df['Tags'])).split(', '))\n",
        "print(*unique_tags, sep=\"\\n\")\n"
      ],
      "id": "j0i46zY1sXJ2",
      "execution_count": null,
      "outputs": []
    },
    {
      "cell_type": "code",
      "metadata": {
        "id": "iMTf0IC6qfQi"
      },
      "source": [
        "from sklearn.feature_extraction.text import CountVectorizer\n",
        "from sklearn.decomposition import LatentDirichletAllocation as LDA\n",
        "\n",
        "\n",
        "def find_topics(text):\n",
        "  count_vectorizer = CountVectorizer()\n",
        "  count_data = count_vectorizer.fit_transform(list(text))\n",
        "\n",
        "\n",
        "  # One topic that has an avg of two words because most questions had 1/2 tags\n",
        "  number_topics = 5\n",
        "  number_words = 20\n",
        "\n",
        "  # Create and fit the LDA model\n",
        "  lda = LDA(n_components=number_topics, n_jobs=-1)\n",
        "  lda.fit(count_data)\n",
        "  words = count_vectorizer.get_feature_names()\n",
        "\n",
        "  #Get topics from model. They are represented as a list e.g. ['military','army']\n",
        "  topics = [[words[i] for i in topic.argsort()[:-number_words - 1:-1]] for (topic_idx, topic) in enumerate(lda.components_)]\n",
        "  topic_groups = topics\n",
        "\n",
        "  topics = np.array(topics).ravel()\n",
        "  distinct_topics = list(set(topics))\n",
        "\n",
        "  #Only use topics for which a tag already exists\n",
        "  existing_topics = set.intersection(set(topics),unique_tags)\n",
        "\n",
        "  \n",
        "\n",
        "  return (words, distinct_topics, topic_groups, existing_topics)"
      ],
      "id": "iMTf0IC6qfQi",
      "execution_count": null,
      "outputs": []
    },
    {
      "cell_type": "code",
      "metadata": {
        "id": "wVjwSYTVvfKI"
      },
      "source": [
        "words, distinct_topics, topic_groups, existing_topics = find_topics(df['Corpus_w_Punctuation'])"
      ],
      "id": "wVjwSYTVvfKI",
      "execution_count": null,
      "outputs": []
    },
    {
      "cell_type": "code",
      "metadata": {
        "id": "0hlQ-SwUzDG1"
      },
      "source": [
        "sorted(distinct_topics)\n"
      ],
      "id": "0hlQ-SwUzDG1",
      "execution_count": null,
      "outputs": []
    },
    {
      "cell_type": "markdown",
      "metadata": {
        "id": "rjf-SfSvy_hP"
      },
      "source": [
        "### **BERTopic** \n",
        "Topic modeling mit BERTopic -> siehe: https://towardsdatascience.com/topic-modeling-with-bert-779f7db187e6"
      ],
      "id": "rjf-SfSvy_hP"
    },
    {
      "cell_type": "markdown",
      "metadata": {
        "id": "0KkNASXt6JZ_"
      },
      "source": [
        "Copy and Paste aus: https://colab.research.google.com/drive/1iqs9Y5_zLI6R6mAwlnapcxcUbKjpv2CC?usp=sharing#scrollTo=MgMaef_uZT0T\n",
        "bzw.: https://www.youtube.com/watch?v=TLPmlVeEf1k"
      ],
      "id": "0KkNASXt6JZ_"
    },
    {
      "cell_type": "code",
      "metadata": {
        "id": "xdOCH0kszsfi",
        "colab": {
          "base_uri": "https://localhost:8080/",
          "height": 333
        },
        "outputId": "ee3d5d5d-1bb5-4f55-de83-52cbc9bc9ab9"
      },
      "source": [
        "!pip3 install bertopic[all]\n",
        "from bertopic import BERTopic"
      ],
      "id": "xdOCH0kszsfi",
      "execution_count": null,
      "outputs": [
        {
          "output_type": "stream",
          "text": [
            "^C\n"
          ],
          "name": "stdout"
        },
        {
          "output_type": "error",
          "ename": "ModuleNotFoundError",
          "evalue": "ignored",
          "traceback": [
            "\u001b[0;31m---------------------------------------------------------------------------\u001b[0m",
            "\u001b[0;31mModuleNotFoundError\u001b[0m                       Traceback (most recent call last)",
            "\u001b[0;32m<ipython-input-29-dac9e6e84e94>\u001b[0m in \u001b[0;36m<module>\u001b[0;34m()\u001b[0m\n\u001b[1;32m      1\u001b[0m \u001b[0mget_ipython\u001b[0m\u001b[0;34m(\u001b[0m\u001b[0;34m)\u001b[0m\u001b[0;34m.\u001b[0m\u001b[0msystem\u001b[0m\u001b[0;34m(\u001b[0m\u001b[0;34m'pip3 install bertopic[all]'\u001b[0m\u001b[0;34m)\u001b[0m\u001b[0;34m\u001b[0m\u001b[0;34m\u001b[0m\u001b[0m\n\u001b[0;32m----> 2\u001b[0;31m \u001b[0;32mfrom\u001b[0m \u001b[0mbertopic\u001b[0m \u001b[0;32mimport\u001b[0m \u001b[0mBERTopic\u001b[0m\u001b[0;34m\u001b[0m\u001b[0;34m\u001b[0m\u001b[0m\n\u001b[0m",
            "\u001b[0;31mModuleNotFoundError\u001b[0m: No module named 'bertopic'",
            "",
            "\u001b[0;31m---------------------------------------------------------------------------\u001b[0;32m\nNOTE: If your import is failing due to a missing package, you can\nmanually install dependencies using either !pip or !apt.\n\nTo view examples of installing some common dependencies, click the\n\"Open Examples\" button below.\n\u001b[0;31m---------------------------------------------------------------------------\u001b[0m\n"
          ]
        }
      ]
    },
    {
      "cell_type": "code",
      "metadata": {
        "id": "ELTFNj8VXCAQ"
      },
      "source": [
        "topic_model = BERTopic(language=\"english\", calculate_probabilities=True) # We need the probabilities to visualize\n",
        "topics, _ = topic_model.fit_transform(list(df['Content']))"
      ],
      "id": "ELTFNj8VXCAQ",
      "execution_count": null,
      "outputs": []
    },
    {
      "cell_type": "code",
      "metadata": {
        "id": "bFiD4jIi6DZn"
      },
      "source": [
        "# Get the most frequent topics\n",
        "topic_freq = topic_model.get_topic_freq()\n",
        "outliers = topic_freq['Count'][topic_freq['Topic']==-1].iloc[0]\n",
        "print(f\"{outliers} documents have not been classified\")\n",
        "print(f\"The other {topic_freq['Count'].sum() - outliers} documents are {topic_freq['Topic'].shape[0]-1} topics\")"
      ],
      "id": "bFiD4jIi6DZn",
      "execution_count": null,
      "outputs": []
    },
    {
      "cell_type": "code",
      "metadata": {
        "id": "vVP7-geA6HXx"
      },
      "source": [
        "topic_freq.head()"
      ],
      "id": "vVP7-geA6HXx",
      "execution_count": null,
      "outputs": []
    },
    {
      "cell_type": "code",
      "metadata": {
        "id": "SgiYB3av6yeg"
      },
      "source": [
        "print(f\"There are {topic_freq['Count'].iloc[1]} documents that are talking about topic ID {topic_freq['Topic'].iloc[1]}\")"
      ],
      "id": "SgiYB3av6yeg",
      "execution_count": null,
      "outputs": []
    },
    {
      "cell_type": "code",
      "metadata": {
        "id": "9EDrpSkB64rL"
      },
      "source": [
        "topic_model.get_topic(topic_freq['Topic'].iloc[1])"
      ],
      "id": "9EDrpSkB64rL",
      "execution_count": null,
      "outputs": []
    },
    {
      "cell_type": "code",
      "metadata": {
        "id": "HHDEzS4V7BBu"
      },
      "source": [
        "topic_model.visualize_topics()"
      ],
      "id": "HHDEzS4V7BBu",
      "execution_count": null,
      "outputs": []
    },
    {
      "cell_type": "markdown",
      "metadata": {
        "id": "jpTRFMDj-eZL"
      },
      "source": [
        "### **DistilBert**\n",
        "Quelle: https://towardsdatascience.com/topic-modeling-with-bert-779f7db187e6"
      ],
      "id": "jpTRFMDj-eZL"
    },
    {
      "cell_type": "code",
      "metadata": {
        "id": "wGpHETQJ-ujr"
      },
      "source": [
        "from sentence_transformers import SentenceTransformer\n",
        "model = SentenceTransformer('distilbert-base-nli-mean-tokens')\n",
        "embeddings = model.encode(df['Content'], show_progress_bar=True)"
      ],
      "id": "wGpHETQJ-ujr",
      "execution_count": null,
      "outputs": []
    },
    {
      "cell_type": "code",
      "metadata": {
        "id": "dKV0TTx4_MDa"
      },
      "source": [
        "import umap\n",
        "umap_embeddings = umap.UMAP(n_neighbors=15, \n",
        "                            n_components=5,\n",
        "                            metric='cosine').fit_transform(embeddings)"
      ],
      "id": "dKV0TTx4_MDa",
      "execution_count": null,
      "outputs": []
    },
    {
      "cell_type": "code",
      "metadata": {
        "id": "KVcm8J1oAGdc"
      },
      "source": [
        "import hdbscan\n",
        "cluster = hdbscan.HDBSCAN(min_cluster_size=4,\n",
        "                          metric='euclidean',                      \n",
        "                          cluster_selection_method='eom').fit(umap_embeddings)"
      ],
      "id": "KVcm8J1oAGdc",
      "execution_count": null,
      "outputs": []
    },
    {
      "cell_type": "code",
      "metadata": {
        "id": "IRLEuowiAt8z"
      },
      "source": [
        "# Prepare data\n",
        "umap_data = umap.UMAP(n_neighbors=20, n_components=2, min_dist=0.0, metric='cosine').fit_transform(embeddings)\n",
        "result = pd.DataFrame(umap_data, columns=['x', 'y'])\n",
        "result['labels'] = cluster.labels_\n",
        "\n",
        "# Visualize clusters\n",
        "fig, ax = plt.subplots(figsize=(20, 10))\n",
        "outliers = result.loc[result.labels == -1, :]\n",
        "clustered = result.loc[result.labels != -1, :]\n",
        "plt.scatter(outliers.x, outliers.y, color='#BDBDBD', s=15)\n",
        "plt.scatter(clustered.x, clustered.y, c=clustered.labels, s=15, cmap='hsv_r')\n",
        "plt.colorbar()"
      ],
      "id": "IRLEuowiAt8z",
      "execution_count": null,
      "outputs": []
    },
    {
      "cell_type": "markdown",
      "metadata": {
        "id": "HoXi6ici5_qs"
      },
      "source": [
        "### Top2Vec\n",
        "\n",
        "Quelle: https://github.com/bhattbhavesh91/Top2Vec-Demo/blob/main/Top2Vec-Notebook.ipynb"
      ],
      "id": "HoXi6ici5_qs"
    },
    {
      "cell_type": "code",
      "metadata": {
        "id": "HfedNDaf6IXj"
      },
      "source": [
        "!pip install -q numpy\n",
        "!pip install -q pandas\n",
        "!pip install -q gensim\n",
        "!pip install -q pynndescent>=0.4\n",
        "!pip install -q umap-learn\n",
        "!pip install -q hdbscan\n",
        "!pip install -q wordcloud\n",
        "!pip install -q tensorflow\n",
        "!pip install -q tensorflow_hub\n",
        "!pip install -q tensorflow_text\n",
        "!pip install -q torch\n",
        "!pip install -q sentence_transformers\n",
        "!pip install -q hnswlib\n",
        "!pip install -q joblib<1.0.0\n",
        "!pip install -q top2vec[sentence_transformers]"
      ],
      "id": "HfedNDaf6IXj",
      "execution_count": null,
      "outputs": []
    },
    {
      "cell_type": "code",
      "metadata": {
        "id": "dNR9_lgr6Rnw"
      },
      "source": [
        "import numpy as np\n",
        "import pandas as pd\n",
        "from copy import deepcopy\n",
        "from top2vec import Top2Vec"
      ],
      "id": "dNR9_lgr6Rnw",
      "execution_count": null,
      "outputs": []
    },
    {
      "cell_type": "code",
      "metadata": {
        "id": "M0Rivd9R6bDL"
      },
      "source": [
        "docs = list(df.loc[:, \"Content\"].values)\n",
        "docs[:5]"
      ],
      "id": "M0Rivd9R6bDL",
      "execution_count": null,
      "outputs": []
    },
    {
      "cell_type": "code",
      "metadata": {
        "id": "XbrUw3TM7lRC"
      },
      "source": [
        "model = Top2Vec(docs, embedding_model='universal-sentence-encoder')"
      ],
      "id": "XbrUw3TM7lRC",
      "execution_count": null,
      "outputs": []
    },
    {
      "cell_type": "code",
      "metadata": {
        "id": "W3QTpYcV7s4U"
      },
      "source": [
        "model.get_num_topics()"
      ],
      "id": "W3QTpYcV7s4U",
      "execution_count": null,
      "outputs": []
    },
    {
      "cell_type": "code",
      "metadata": {
        "id": "51SEhzi-7xae"
      },
      "source": [
        "topic_words, word_scores, topic_nums = model.get_topics(1)"
      ],
      "id": "51SEhzi-7xae",
      "execution_count": null,
      "outputs": []
    },
    {
      "cell_type": "code",
      "metadata": {
        "id": "-QwLqbcl76A_"
      },
      "source": [
        "for topic in topic_nums:\n",
        "    model.generate_topic_wordcloud(topic)"
      ],
      "id": "-QwLqbcl76A_",
      "execution_count": null,
      "outputs": []
    },
    {
      "cell_type": "markdown",
      "metadata": {
        "id": "1c7411d8"
      },
      "source": [
        "### TFIDF Vertorizer"
      ],
      "id": "1c7411d8"
    },
    {
      "cell_type": "code",
      "metadata": {
        "id": "2453744a"
      },
      "source": [
        "tfidfconvert = TfidfVectorizer(ngram_range=(1,1)).fit(df.Corpus.values)"
      ],
      "id": "2453744a",
      "execution_count": 57,
      "outputs": []
    },
    {
      "cell_type": "code",
      "metadata": {
        "id": "362e41ab",
        "colab": {
          "base_uri": "https://localhost:8080/"
        },
        "outputId": "17c9166f-e87c-4b0f-d3c6-e23010d99d40"
      },
      "source": [
        "len(tfidfconvert.vocabulary_)"
      ],
      "id": "362e41ab",
      "execution_count": 58,
      "outputs": [
        {
          "output_type": "execute_result",
          "data": {
            "text/plain": [
              "15738"
            ]
          },
          "metadata": {
            "tags": []
          },
          "execution_count": 58
        }
      ]
    },
    {
      "cell_type": "code",
      "metadata": {
        "id": "95f044e2"
      },
      "source": [
        "words_transformed = tfidfconvert.transform(df.Corpus.values)"
      ],
      "id": "95f044e2",
      "execution_count": 59,
      "outputs": []
    },
    {
      "cell_type": "markdown",
      "metadata": {
        "id": "6712dce8"
      },
      "source": [
        "### K-Means Clustering"
      ],
      "id": "6712dce8"
    },
    {
      "cell_type": "code",
      "metadata": {
        "id": "67d59ddc"
      },
      "source": [
        "from sklearn.cluster import KMeans"
      ],
      "id": "67d59ddc",
      "execution_count": 60,
      "outputs": []
    },
    {
      "cell_type": "markdown",
      "metadata": {
        "id": "95d1b144"
      },
      "source": [
        "K-Means für mehrere k's berechnen"
      ],
      "id": "95d1b144"
    },
    {
      "cell_type": "code",
      "metadata": {
        "id": "3a8567ca",
        "colab": {
          "base_uri": "https://localhost:8080/"
        },
        "outputId": "9de040bf-442b-41f9-8230-8884537ad026"
      },
      "source": [
        "Sum_of_squared_distances = []\n",
        "max_range = 25\n",
        "K = range(1,max_range + 1)\n",
        "for k in K: \n",
        "    print(str(k) + \"/\" + str(max_range))\n",
        "    km = KMeans(n_clusters=k)\n",
        "    km = km.fit(words_transformed)\n",
        "    Sum_of_squared_distances.append(km.inertia_)\n",
        "    "
      ],
      "id": "3a8567ca",
      "execution_count": 61,
      "outputs": [
        {
          "output_type": "stream",
          "text": [
            "1/25\n",
            "2/25\n",
            "3/25\n",
            "4/25\n",
            "5/25\n",
            "6/25\n",
            "7/25\n",
            "8/25\n",
            "9/25\n",
            "10/25\n",
            "11/25\n",
            "12/25\n",
            "13/25\n",
            "14/25\n",
            "15/25\n",
            "16/25\n",
            "17/25\n",
            "18/25\n",
            "19/25\n",
            "20/25\n",
            "21/25\n",
            "22/25\n",
            "23/25\n",
            "24/25\n",
            "25/25\n"
          ],
          "name": "stdout"
        }
      ]
    },
    {
      "cell_type": "code",
      "metadata": {
        "id": "49a1714b",
        "colab": {
          "base_uri": "https://localhost:8080/",
          "height": 295
        },
        "outputId": "021d577f-ca02-4486-8640-5bf5f3d46581"
      },
      "source": [
        "plt.plot(K,Sum_of_squared_distances, 'b^-')\n",
        "plt.xlabel('k')\n",
        "plt.ylabel('Sum_of_squared_distances')\n",
        "plt.title('Elbow Method For Optimal k')\n",
        "plt.show()"
      ],
      "id": "49a1714b",
      "execution_count": 62,
      "outputs": [
        {
          "output_type": "display_data",
          "data": {
            "image/png": "[encoded data removed]",
            "text/plain": [
              "<Figure size 432x288 with 1 Axes>"
            ]
          },
          "metadata": {
            "tags": [],
            "needs_background": "light"
          }
        }
      ]
    },
    {
      "cell_type": "markdown",
      "metadata": {
        "id": "OfRnuFS-6pSI"
      },
      "source": [
        "\n",
        "\n",
        "# **IDEEN zum Cluster bilden**\n",
        "\n",
        "\n",
        "- Bag of Words kreiren um neuer Cluster / Wortgruppen zu finden über Häufigkeit der Wörter oder nähe der Wörter zu einander\n",
        "- Visualisieren des Links zwischen Markern in einer HeatMap\n",
        "- BioBert einsetzen\n",
        "- Part of Speech recognition um Autorennamen zu identifizieren \n",
        "- AutorenNamen und Marker verknüpfen / clustern\n",
        "- \n",
        "\n",
        "\n",
        "**Generelle Todo's**\n",
        "- Distinct Values für Abkürzungsverzeichnis erheben und mit Markern abgleichen\n",
        "- CRISP-DM als Vorgehensmoddel zugrundeliegen\n",
        "- Begründen Stemm / Lemmatizing - Erörterung im Paper"
      ],
      "id": "OfRnuFS-6pSI"
    }
  ]
}