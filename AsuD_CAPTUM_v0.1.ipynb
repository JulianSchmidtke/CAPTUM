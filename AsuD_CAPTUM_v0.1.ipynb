{
 "cells": [
  {
   "cell_type": "code",
   "execution_count": 1,
   "id": "21aa3cc8",
   "metadata": {},
   "outputs": [
    {
     "name": "stderr",
     "output_type": "stream",
     "text": [
      "[nltk_data] Downloading package punkt to /Users/paul/nltk_data...\n",
      "[nltk_data]   Package punkt is already up-to-date!\n",
      "[nltk_data] Downloading package wordnet to /Users/paul/nltk_data...\n",
      "[nltk_data]   Package wordnet is already up-to-date!\n",
      "[nltk_data] Downloading package stopwords to /Users/paul/nltk_data...\n",
      "[nltk_data]   Package stopwords is already up-to-date!\n"
     ]
    },
    {
     "data": {
      "text/plain": [
       "True"
      ]
     },
     "execution_count": 1,
     "metadata": {},
     "output_type": "execute_result"
    }
   ],
   "source": [
    "%matplotlib inline\n",
    "import matplotlib.pyplot as plt\n",
    "import nltk, os\n",
    "import pandas as pd\n",
    "import numpy as np\n",
    "\n",
    "from nltk.stem import PorterStemmer\n",
    "from nltk.stem import WordNetLemmatizer\n",
    "from nltk.corpus import stopwords\n",
    "\n",
    "from collections import Counter\n",
    "\n",
    "from sklearn.feature_extraction.text import TfidfVectorizer\n",
    "\n",
    "nltk.download('punkt')\n",
    "nltk.download('wordnet')\n",
    "nltk.download('stopwords')"
   ]
  },
  {
   "cell_type": "code",
   "execution_count": 2,
   "id": "18f27004",
   "metadata": {},
   "outputs": [],
   "source": [
    "#Arbeitsverzeichnis auf das Ordnerverzeichnis ändern, in welchem die Daten liegen (txt-Format)\n",
    "\n",
    "#cwd = os.getcwd()\n",
    "nwd = r'/Users/paul/Documents/FOM/Analyse semi- und unstrukturierter Daten/CAPTUM_txt'\n",
    "os.chdir(nwd)\n",
    "\n",
    "#Speichern der Dateinamen in einem Array\n",
    "files = os.listdir()"
   ]
  },
  {
   "cell_type": "code",
   "execution_count": 3,
   "id": "07ce4d17",
   "metadata": {},
   "outputs": [],
   "source": [
    "#Zu Testzwecken werden lediglich die letzten 5 Dateien verwendet\n",
    "files = files[100:201]"
   ]
  },
  {
   "cell_type": "code",
   "execution_count": 4,
   "id": "62410ea9",
   "metadata": {},
   "outputs": [
    {
     "name": "stdout",
     "output_type": "stream",
     "text": [
      "[['CAPTUM', 'Allergic Diseases', 'Antihistamine', 'Maurer 2017 .pdf'], ['CAPTUM', 'Antihistamine', 'Omalizumab', 'Giménez‑Arnau 2020.pdf'], ['CAPTUM', 'ANA', 'Omalizumab', 'Asero 2017.pdf'], ['CAPTUM', 'Total IgE', 'TPO', 'Aversano 2005.pdf'], ['CAPTUM', 'ASST\\uf028', 'angioedema', 'Vikramkumar 2015.pdf'], ['CAPTUM', 'Total IgE', 'Allergic Diseases', 'Baker 2015.pdf'], ['CAPTUM', 'Allergic Diseases', 'Omalizumab', 'Nam 2012.pdf'], ['CAPTUM', 'ASST\\uf028', 'Anti-IgE', 'Guttman-Yassky 2007.pdf'], ['CAPTUM', 'BAT', 'Anti-IgE', 'Oda 2019.pdf'], ['CAPTUM', 'Total IgE', 'Omalizumab', 'Syrigos 2018.pdf'], ['CAPTUM', 'Basophil', 'Antihistamine', '~Irinyi 2007.pdf'], ['CAPTUM', 'Severity', 'Angioedema', 'Kahveci 2020.pdf'], ['CAPTUM', 'Antihistamine', 'Omalizumab', 'Rottem 2014.pdf'], ['CAPTUM', 'Severity', 'Duration', 'Deza 2017.pdf'], ['CAPTUM', 'Basophil', 'Omalizumab', 'Acer 2018.pdf'], ['CAPTUM', 'Total IgE', 'Duration', 'Kessel 2010.pdf'], ['CAPTUM', 'Duration', 'Omalizumab', 'Turk 2016.pdf'], ['CAPTUM', 'Antihistamine', 'Omalizumab', 'Cherrez 2017.pdf'], ['CAPTUM', 'Allergic Diseases', 'Severity', 'Kaplan 2013.pdf'], ['CAPTUM', 'ASST\\uf028', 'Total IgE', 'Rasool 2014.pdf'], ['CAPTUM', 'BAT', 'BHRA', 'El-Korashi 2018.pdf'], ['CAPTUM', 'TPO', 'Duration', 'Gangemi 2009.pdf'], ['CAPTUM', 'Total IgE', 'Omalizumab', 'T�rk 2020.pdf'], ['CAPTUM', 'Anti-IgE', 'Thyroglobulin', 'Sun 2014.pdf'], ['CAPTUM', 'D-Dimer', 'Omalizumab', 'Asero 2017  .pdf'], ['CAPTUM', 'Anti-IgE', 'Severity', 'Staubach 2005.pdf'], ['CAPTUM', 'Severity', 'Omalizumab', 'Staubach 2020.pdf'], ['CAPTUM', 'ASST\\uf028', 'serverity\\uf028', 'Degirmenci 2017.pdf'], ['CAPTUM', 'ASST\\uf028', 'BAT', 'Chen 2016.pdf'], ['CAPTUM', 'Eosinophil', 'Severity', 'Romano 2015.pdf'], ['CAPTUM', 'ANA', 'Duration', 'Ulambayar 2020.pdf'], ['CAPTUM', 'D-Dimer', 'Cyclosporine', 'Asero 2015.pdf'], ['CAPTUM', 'Allergic Diseases', 'Severity', 'Oguz Topal 2015.pdf'], ['CAPTUM', 'ASST\\uf028', 'Anti-IgE', 'Hatada 2013.pdf'], ['CAPTUM', 'Angioedema', 'Omalizumab', 'Asero 2017.pdf'], ['CAPTUM', 'CRP', 'Omalizumab', 'Magen 2019.pdf'], ['CAPTUM', 'BHRA', 'anti-FcεRI', 'Kandeel 2001.pdf'], ['CAPTUM', 'Allergic Diseases', 'Omalizumab', 'Ghazanfar 2018.pdf'], ['CAPTUM', 'Allergic Diseases', 'Angioedema', 'Savic 2020.pdf'], ['CAPTUM', 'ASST\\uf028', 'Total IgE', 'Baioumy 2018.pdf'], ['CAPTUM', 'ASST\\uf028', 'Basophil count', 'Magen 2011.pdf'], ['CAPTUM', 'Eosinophil', 'Duration', 'Aitella 2018.pdf'], ['CAPTUM', 'TPO', 'Thyroglobulin', 'Aversano 2005.pdf'], ['CAPTUM', 'BAT', 'BHRA', 'Schoepke 2019.pdf'], ['CAPTUM', 'Severity', 'Omalizumab', 'Deza 2017.pdf'], ['CAPTUM', 'Severity', 'Duration', 'Hawe 2016.pdf'], ['CAPTUM', 'D-Dimer', 'Omalizumab', 'Asero 2017.pdf'], ['CAPTUM', 'CRP', 'Angioedema', 'Yan 2019.pdf'], ['CAPTUM', 'BHRA', 'Angioedema', 'Swerdt 2005.pdf'], ['CAPTUM', 'Severity', 'Antihistamine', 'Bajaj 2008.pdf'], ['CAPTUM', 'Eosinophil', 'Basophil', 'Ulambayar 2019.pdf'], ['CAPTUM', 'CRP', 'Severity', 'Akca 2020.pdf'], ['CAPTUM', 'CRP', 'Antihistamine', 'Ghazanfar 2018.pdf'], ['CAPTUM', 'Severity', 'Antihistamine', 'Ulambayar 2019.pdf'], ['CAPTUM', 'D-Dimer', 'Severity', 'Marzano 2018.pdf'], ['CAPTUM', 'Basophil', 'Allergic Diseases', 'Vasagar 2006.pdf'], ['CAPTUM', 'ASST\\uf028', 'BAT', 'Gentinetta 2011.pdf'], ['CAPTUM', 'Eosinophil', 'Severity', 'Uysal 2016.pdf'], ['CAPTUM', 'Severity', 'Omalizumab', 'Nam 2012.pdf'], ['CAPTUM', 'Angioedema', 'Antihistamine', 'Serarslan 2018.pdf'], ['CAPTUM', 'Antihistamine', 'Omalizumab', 'Mellerowicz 2019.pdf'], ['CAPTUM', 'Anti-IgE', 'Duration', 'Izaki 2018.pdf'], ['CAPTUM', 'Severity', 'Duration', 'Altrichter 2018.pdf'], ['CAPTUM', 'Severity', 'Angioedema', 'Kulthanan 2019.pdf'], ['CAPTUM', 'Allergic Diseases', 'Duration', 'Rottem 2014.pdf'], ['CAPTUM', 'Basophil', 'Antihistamine', 'El-Korashi 2018.pdf'], ['CAPTUM', 'BAT', 'Basophil', 'El-Korashi 2018.pdf'], ['CAPTUM', 'Basophil', 'Duration', 'Izaki 2018.pdf'], ['CAPTUM', 'Angioedema', 'Omalizumab', 'Maurer 2019.pdf'], ['CAPTUM', 'ASST\\uf028', 'angioedema', 'Magen 2011.pdf'], ['CAPTUM', 'Duration', 'Antihistamine', 'Serarslan 2018.pdf'], ['CAPTUM', 'Angioedema', 'Antihistamine', 'Curto-Barredo 2019.pdf'], ['CAPTUM', 'Eosinophil', 'Antihistamine', 'Criado 2008.pdf'], ['CAPTUM', 'Total IgE', 'Antihistamine', 'Uysal 2016.pdf'], ['CAPTUM', 'BAT', 'TPO', 'Shin 2015.pdf'], ['CAPTUM', 'CRP', 'D-Dimer', 'Kolkhir 2017 .pdf'], ['CAPTUM', 'Severity', 'Angioedema', 'Coutinho 2020.pdf'], ['CAPTUM', 'BAT', 'Cyclosporine', 'Grattan 2000.pdf'], ['CAPTUM', 'BHRA', 'Basophil', 'Eckman 2008.pdf'], ['CAPTUM', 'Severity', 'Duration', 'Kohli 2018.pdf'], ['CAPTUM', 'BHRA', 'IL-24', 'Schmetzer 2017.pdf'], ['CAPTUM', 'ASST\\uf028', 'CRP', 'Kolkhir 2020.pdf'], ['CAPTUM', 'Angioedema', 'Antihistamine', 'Hofman 2020.pdf'], ['CAPTUM', 'Eosinophil', 'Basophil', 'Oliver 2019.pdf'], ['CAPTUM', 'Basophil', 'Allergic Diseases', 'Monfrecola 2003.pdf'], ['CAPTUM', 'CRP', 'Antihistamine', 'Montjoye 2020.pdf'], ['CAPTUM', 'Antihistamine', 'Cyclosporine', 'Ke 2017.pdf'], ['CAPTUM', 'Duration', 'Omalizumab', 'Har 2015.pdf'], ['CAPTUM', 'Total IgE', 'Allergic Diseases', 'Syrigos 2018.pdf'], ['CAPTUM', 'Severity', 'Duration', 'Toubi 2004.pdf'], ['CAPTUM', 'Severity', 'Omalizumab', 'Maurer 2013.pdf'], ['CAPTUM', 'CRP', 'Duration', 'Asero 2020.pdf'], ['CAPTUM', 'Eosinophil', 'Basophil', 'Uysal 2016.pdf'], ['CAPTUM', 'D-Dimer', 'Severity', 'Asero 2017 .pdf'], ['CAPTUM', 'Angioedema', 'Antihistamine', 'Faisant 2016.pdf'], ['CAPTUM', 'Allergic Diseases', 'Omalizumab', 'Cusack 2016.pdf'], ['CAPTUM', 'Angioedema', 'Omalizumab', 'Maoz-Segal 2020.pdf'], ['CAPTUM', 'Total IgE', 'TPO', 'Sanchez 2019.pdf'], ['CAPTUM', 'TPO', 'Omalizumab', 'Maurer 2011.pdf'], ['CAPTUM', 'Antihistamine', 'Omalizumab', 'Gimenez Arnau 2016.pdf'], ['CAPTUM', 'ASST\\uf028', 'Total IgE', 'Ulambayar 2020.pdf']]\n",
      "['Maurer 2017 .pdf', 'Giménez‑Arnau 2020.pdf', 'Asero 2017.pdf', 'Aversano 2005.pdf', 'Vikramkumar 2015.pdf', 'Baker 2015.pdf', 'Nam 2012.pdf', 'Guttman-Yassky 2007.pdf', 'Oda 2019.pdf', 'Syrigos 2018.pdf', '~Irinyi 2007.pdf', 'Kahveci 2020.pdf', 'Rottem 2014.pdf', 'Deza 2017.pdf', 'Acer 2018.pdf', 'Kessel 2010.pdf', 'Turk 2016.pdf', 'Cherrez 2017.pdf', 'Kaplan 2013.pdf', 'Rasool 2014.pdf', 'El-Korashi 2018.pdf', 'Gangemi 2009.pdf', 'T�rk 2020.pdf', 'Sun 2014.pdf', 'Asero 2017  .pdf', 'Staubach 2005.pdf', 'Staubach 2020.pdf', 'Degirmenci 2017.pdf', 'Chen 2016.pdf', 'Romano 2015.pdf', 'Ulambayar 2020.pdf', 'Asero 2015.pdf', 'Oguz Topal 2015.pdf', 'Hatada 2013.pdf', 'Asero 2017.pdf', 'Magen 2019.pdf', 'Kandeel 2001.pdf', 'Ghazanfar 2018.pdf', 'Savic 2020.pdf', 'Baioumy 2018.pdf', 'Magen 2011.pdf', 'Aitella 2018.pdf', 'Aversano 2005.pdf', 'Schoepke 2019.pdf', 'Deza 2017.pdf', 'Hawe 2016.pdf', 'Asero 2017.pdf', 'Yan 2019.pdf', 'Swerdt 2005.pdf', 'Bajaj 2008.pdf', 'Ulambayar 2019.pdf', 'Akca 2020.pdf', 'Ghazanfar 2018.pdf', 'Ulambayar 2019.pdf', 'Marzano 2018.pdf', 'Vasagar 2006.pdf', 'Gentinetta 2011.pdf', 'Uysal 2016.pdf', 'Nam 2012.pdf', 'Serarslan 2018.pdf', 'Mellerowicz 2019.pdf', 'Izaki 2018.pdf', 'Altrichter 2018.pdf', 'Kulthanan 2019.pdf', 'Rottem 2014.pdf', 'El-Korashi 2018.pdf', 'El-Korashi 2018.pdf', 'Izaki 2018.pdf', 'Maurer 2019.pdf', 'Magen 2011.pdf', 'Serarslan 2018.pdf', 'Curto-Barredo 2019.pdf', 'Criado 2008.pdf', 'Uysal 2016.pdf', 'Shin 2015.pdf', 'Kolkhir 2017 .pdf', 'Coutinho 2020.pdf', 'Grattan 2000.pdf', 'Eckman 2008.pdf', 'Kohli 2018.pdf', 'Schmetzer 2017.pdf', 'Kolkhir 2020.pdf', 'Hofman 2020.pdf', 'Oliver 2019.pdf', 'Monfrecola 2003.pdf', 'Montjoye 2020.pdf', 'Ke 2017.pdf', 'Har 2015.pdf', 'Syrigos 2018.pdf', 'Toubi 2004.pdf', 'Maurer 2013.pdf', 'Asero 2020.pdf', 'Uysal 2016.pdf', 'Asero 2017 .pdf', 'Faisant 2016.pdf', 'Cusack 2016.pdf', 'Maoz-Segal 2020.pdf', 'Sanchez 2019.pdf', 'Maurer 2011.pdf', 'Gimenez Arnau 2016.pdf', 'Ulambayar 2020.pdf']\n",
      "[['Allergic Diseases', 'Antihistamine'], ['Antihistamine', 'Omalizumab'], ['ANA', 'Omalizumab'], ['Total IgE', 'TPO'], ['ASST\\uf028', 'angioedema'], ['Total IgE', 'Allergic Diseases'], ['Allergic Diseases', 'Omalizumab'], ['ASST\\uf028', 'Anti-IgE'], ['BAT', 'Anti-IgE'], ['Total IgE', 'Omalizumab'], ['Basophil', 'Antihistamine'], ['Severity', 'Angioedema'], ['Antihistamine', 'Omalizumab'], ['Severity', 'Duration'], ['Basophil', 'Omalizumab'], ['Total IgE', 'Duration'], ['Duration', 'Omalizumab'], ['Antihistamine', 'Omalizumab'], ['Allergic Diseases', 'Severity'], ['ASST\\uf028', 'Total IgE'], ['BAT', 'BHRA'], ['TPO', 'Duration'], ['Total IgE', 'Omalizumab'], ['Anti-IgE', 'Thyroglobulin'], ['D-Dimer', 'Omalizumab'], ['Anti-IgE', 'Severity'], ['Severity', 'Omalizumab'], ['ASST\\uf028', 'serverity\\uf028'], ['ASST\\uf028', 'BAT'], ['Eosinophil', 'Severity'], ['ANA', 'Duration'], ['D-Dimer', 'Cyclosporine'], ['Allergic Diseases', 'Severity'], ['ASST\\uf028', 'Anti-IgE'], ['Angioedema', 'Omalizumab'], ['CRP', 'Omalizumab'], ['BHRA', 'anti-FcεRI'], ['Allergic Diseases', 'Omalizumab'], ['Allergic Diseases', 'Angioedema'], ['ASST\\uf028', 'Total IgE'], ['ASST\\uf028', 'Basophil count'], ['Eosinophil', 'Duration'], ['TPO', 'Thyroglobulin'], ['BAT', 'BHRA'], ['Severity', 'Omalizumab'], ['Severity', 'Duration'], ['D-Dimer', 'Omalizumab'], ['CRP', 'Angioedema'], ['BHRA', 'Angioedema'], ['Severity', 'Antihistamine'], ['Eosinophil', 'Basophil'], ['CRP', 'Severity'], ['CRP', 'Antihistamine'], ['Severity', 'Antihistamine'], ['D-Dimer', 'Severity'], ['Basophil', 'Allergic Diseases'], ['ASST\\uf028', 'BAT'], ['Eosinophil', 'Severity'], ['Severity', 'Omalizumab'], ['Angioedema', 'Antihistamine'], ['Antihistamine', 'Omalizumab'], ['Anti-IgE', 'Duration'], ['Severity', 'Duration'], ['Severity', 'Angioedema'], ['Allergic Diseases', 'Duration'], ['Basophil', 'Antihistamine'], ['BAT', 'Basophil'], ['Basophil', 'Duration'], ['Angioedema', 'Omalizumab'], ['ASST\\uf028', 'angioedema'], ['Duration', 'Antihistamine'], ['Angioedema', 'Antihistamine'], ['Eosinophil', 'Antihistamine'], ['Total IgE', 'Antihistamine'], ['BAT', 'TPO'], ['CRP', 'D-Dimer'], ['Severity', 'Angioedema'], ['BAT', 'Cyclosporine'], ['BHRA', 'Basophil'], ['Severity', 'Duration'], ['BHRA', 'IL-24'], ['ASST\\uf028', 'CRP'], ['Angioedema', 'Antihistamine'], ['Eosinophil', 'Basophil'], ['Basophil', 'Allergic Diseases'], ['CRP', 'Antihistamine'], ['Antihistamine', 'Cyclosporine'], ['Duration', 'Omalizumab'], ['Total IgE', 'Allergic Diseases'], ['Severity', 'Duration'], ['Severity', 'Omalizumab'], ['CRP', 'Duration'], ['Eosinophil', 'Basophil'], ['D-Dimer', 'Severity'], ['Angioedema', 'Antihistamine'], ['Allergic Diseases', 'Omalizumab'], ['Angioedema', 'Omalizumab'], ['Total IgE', 'TPO'], ['TPO', 'Omalizumab'], ['Antihistamine', 'Omalizumab'], ['ASST\\uf028', 'Total IgE']]\n",
      "['017 ', '2020', '2017', '2005', '2015', '2015', '2012', '2007', '2019', '2018', '2007', '2020', '2014', '2017', '2018', '2010', '2016', '2017', '2013', '2014', '2018', '2009', '2020', '2014', '17  ', '2005', '2020', '2017', '2016', '2015', '2020', '2015', '2015', '2013', '2017', '2019', '2001', '2018', '2020', '2018', '2011', '2018', '2005', '2019', '2017', '2016', '2017', '2019', '2005', '2008', '2019', '2020', '2018', '2019', '2018', '2006', '2011', '2016', '2012', '2018', '2019', '2018', '2018', '2019', '2014', '2018', '2018', '2018', '2019', '2011', '2018', '2019', '2008', '2016', '2015', '017 ', '2020', '2000', '2008', '2018', '2017', '2020', '2020', '2019', '2003', '2020', '2017', '2015', '2018', '2004', '2013', '2020', '2016', '017 ', '2016', '2016', '2020', '2019', '2011', '2016', '2020']\n"
     ]
    }
   ],
   "source": [
    "fileNameTags = list(map(lambda fn: fn.split('_')[0:-2],files))\n",
    "\n",
    "fileName = [fNT[-1] for fNT in fileNameTags]\n",
    "fileTags = [fNT[1:-1] for fNT in fileNameTags]\n",
    "fileYear = [fY[-8:-4] for fY in fileName]\n",
    "\n",
    "print(fileNameTags)\n",
    "print(fileName)\n",
    "print(fileTags)\n",
    "print(fileYear)"
   ]
  },
  {
   "cell_type": "code",
   "execution_count": 5,
   "id": "8029c690",
   "metadata": {},
   "outputs": [
    {
     "name": "stdout",
     "output_type": "stream",
     "text": [
      "Empty DataFrame\n",
      "Columns: []\n",
      "Index: [CAPTUM_Allergic Diseases_Antihistamine_Maurer 2017 .pdf_out_text.txt, CAPTUM_Antihistamine_Omalizumab_Giménez‑Arnau 2020.pdf_out_text.txt, CAPTUM_ANA_Omalizumab_Asero 2017.pdf_out_text.txt, CAPTUM_Total IgE_TPO_Aversano 2005.pdf_out_text.txt, CAPTUM_ASST_angioedema_Vikramkumar 2015.pdf_out_text.txt, CAPTUM_Total IgE_Allergic Diseases_Baker 2015.pdf_out_text.txt, CAPTUM_Allergic Diseases_Omalizumab_Nam 2012.pdf_out_text.txt, CAPTUM_ASST_Anti-IgE_Guttman-Yassky 2007.pdf_out_text.txt, CAPTUM_BAT_Anti-IgE_Oda 2019.pdf_out_text.txt, CAPTUM_Total IgE_Omalizumab_Syrigos 2018.pdf_out_text.txt, CAPTUM_Basophil_Antihistamine_~Irinyi 2007.pdf_out_text.txt, CAPTUM_Severity_Angioedema_Kahveci 2020.pdf_out_text.txt, CAPTUM_Antihistamine_Omalizumab_Rottem 2014.pdf_out_text.txt, CAPTUM_Severity_Duration_Deza 2017.pdf_out_text.txt, CAPTUM_Basophil_Omalizumab_Acer 2018.pdf_out_text.txt, CAPTUM_Total IgE_Duration_Kessel 2010.pdf_out_text.txt, CAPTUM_Duration_Omalizumab_Turk 2016.pdf_out_text.txt, CAPTUM_Antihistamine_Omalizumab_Cherrez 2017.pdf_out_text.txt, CAPTUM_Allergic Diseases_Severity_Kaplan 2013.pdf_out_text.txt, CAPTUM_ASST_Total IgE_Rasool 2014.pdf_out_text.txt, CAPTUM_BAT_BHRA_El-Korashi 2018.pdf_out_text.txt, CAPTUM_TPO_Duration_Gangemi 2009.pdf_out_text.txt, CAPTUM_Total IgE_Omalizumab_T�rk 2020.pdf_out_text.txt, CAPTUM_Anti-IgE_Thyroglobulin_Sun 2014.pdf_out_text.txt, CAPTUM_D-Dimer_Omalizumab_Asero 2017  .pdf_out_text.txt, CAPTUM_Anti-IgE_Severity_Staubach 2005.pdf_out_text.txt, CAPTUM_Severity_Omalizumab_Staubach 2020.pdf_out_text.txt, CAPTUM_ASST_serverity_Degirmenci 2017.pdf_out_text.txt, CAPTUM_ASST_BAT_Chen 2016.pdf_out_text.txt, CAPTUM_Eosinophil_Severity_Romano 2015.pdf_out_text.txt, CAPTUM_ANA_Duration_Ulambayar 2020.pdf_out_text.txt, CAPTUM_D-Dimer_Cyclosporine_Asero 2015.pdf_out_text.txt, CAPTUM_Allergic Diseases_Severity_Oguz Topal 2015.pdf_out_text.txt, CAPTUM_ASST_Anti-IgE_Hatada 2013.pdf_out_text.txt, CAPTUM_Angioedema_Omalizumab_Asero 2017.pdf_out_text.txt, CAPTUM_CRP_Omalizumab_Magen 2019.pdf_out_text.txt, CAPTUM_BHRA_anti-FcεRI_Kandeel 2001.pdf_out_text.txt, CAPTUM_Allergic Diseases_Omalizumab_Ghazanfar 2018.pdf_out_text.txt, CAPTUM_Allergic Diseases_Angioedema_Savic 2020.pdf_out_text.txt, CAPTUM_ASST_Total IgE_Baioumy 2018.pdf_out_text.txt, CAPTUM_ASST_Basophil count_Magen 2011.pdf_out_text.txt, CAPTUM_Eosinophil_Duration_Aitella 2018.pdf_out_text.txt, CAPTUM_TPO_Thyroglobulin_Aversano 2005.pdf_out_text.txt, CAPTUM_BAT_BHRA_Schoepke 2019.pdf_out_text.txt, CAPTUM_Severity_Omalizumab_Deza 2017.pdf_out_text.txt, CAPTUM_Severity_Duration_Hawe 2016.pdf_out_text.txt, CAPTUM_D-Dimer_Omalizumab_Asero 2017.pdf_out_text.txt, CAPTUM_CRP_Angioedema_Yan 2019.pdf_out_text.txt, CAPTUM_BHRA_Angioedema_Swerdt 2005.pdf_out_text.txt, CAPTUM_Severity_Antihistamine_Bajaj 2008.pdf_out_text.txt, CAPTUM_Eosinophil_Basophil_Ulambayar 2019.pdf_out_text.txt, CAPTUM_CRP_Severity_Akca 2020.pdf_out_text.txt, CAPTUM_CRP_Antihistamine_Ghazanfar 2018.pdf_out_text.txt, CAPTUM_Severity_Antihistamine_Ulambayar 2019.pdf_out_text.txt, CAPTUM_D-Dimer_Severity_Marzano 2018.pdf_out_text.txt, CAPTUM_Basophil_Allergic Diseases_Vasagar 2006.pdf_out_text.txt, CAPTUM_ASST_BAT_Gentinetta 2011.pdf_out_text.txt, CAPTUM_Eosinophil_Severity_Uysal 2016.pdf_out_text.txt, CAPTUM_Severity_Omalizumab_Nam 2012.pdf_out_text.txt, CAPTUM_Angioedema_Antihistamine_Serarslan 2018.pdf_out_text.txt, CAPTUM_Antihistamine_Omalizumab_Mellerowicz 2019.pdf_out_text.txt, CAPTUM_Anti-IgE_Duration_Izaki 2018.pdf_out_text.txt, CAPTUM_Severity_Duration_Altrichter 2018.pdf_out_text.txt, CAPTUM_Severity_Angioedema_Kulthanan 2019.pdf_out_text.txt, CAPTUM_Allergic Diseases_Duration_Rottem 2014.pdf_out_text.txt, CAPTUM_Basophil_Antihistamine_El-Korashi 2018.pdf_out_text.txt, CAPTUM_BAT_Basophil_El-Korashi 2018.pdf_out_text.txt, CAPTUM_Basophil_Duration_Izaki 2018.pdf_out_text.txt, CAPTUM_Angioedema_Omalizumab_Maurer 2019.pdf_out_text.txt, CAPTUM_ASST_angioedema_Magen 2011.pdf_out_text.txt, CAPTUM_Duration_Antihistamine_Serarslan 2018.pdf_out_text.txt, CAPTUM_Angioedema_Antihistamine_Curto-Barredo 2019.pdf_out_text.txt, CAPTUM_Eosinophil_Antihistamine_Criado 2008.pdf_out_text.txt, CAPTUM_Total IgE_Antihistamine_Uysal 2016.pdf_out_text.txt, CAPTUM_BAT_TPO_Shin 2015.pdf_out_text.txt, CAPTUM_CRP_D-Dimer_Kolkhir 2017 .pdf_out_text.txt, CAPTUM_Severity_Angioedema_Coutinho 2020.pdf_out_text.txt, CAPTUM_BAT_Cyclosporine_Grattan 2000.pdf_out_text.txt, CAPTUM_BHRA_Basophil_Eckman 2008.pdf_out_text.txt, CAPTUM_Severity_Duration_Kohli 2018.pdf_out_text.txt, CAPTUM_BHRA_IL-24_Schmetzer 2017.pdf_out_text.txt, CAPTUM_ASST_CRP_Kolkhir 2020.pdf_out_text.txt, CAPTUM_Angioedema_Antihistamine_Hofman 2020.pdf_out_text.txt, CAPTUM_Eosinophil_Basophil_Oliver 2019.pdf_out_text.txt, CAPTUM_Basophil_Allergic Diseases_Monfrecola 2003.pdf_out_text.txt, CAPTUM_CRP_Antihistamine_Montjoye 2020.pdf_out_text.txt, CAPTUM_Antihistamine_Cyclosporine_Ke 2017.pdf_out_text.txt, CAPTUM_Duration_Omalizumab_Har 2015.pdf_out_text.txt, CAPTUM_Total IgE_Allergic Diseases_Syrigos 2018.pdf_out_text.txt, CAPTUM_Severity_Duration_Toubi 2004.pdf_out_text.txt, CAPTUM_Severity_Omalizumab_Maurer 2013.pdf_out_text.txt, CAPTUM_CRP_Duration_Asero 2020.pdf_out_text.txt, CAPTUM_Eosinophil_Basophil_Uysal 2016.pdf_out_text.txt, CAPTUM_D-Dimer_Severity_Asero 2017 .pdf_out_text.txt, CAPTUM_Angioedema_Antihistamine_Faisant 2016.pdf_out_text.txt, CAPTUM_Allergic Diseases_Omalizumab_Cusack 2016.pdf_out_text.txt, CAPTUM_Angioedema_Omalizumab_Maoz-Segal 2020.pdf_out_text.txt, CAPTUM_Total IgE_TPO_Sanchez 2019.pdf_out_text.txt, CAPTUM_TPO_Omalizumab_Maurer 2011.pdf_out_text.txt, CAPTUM_Antihistamine_Omalizumab_Gimenez Arnau 2016.pdf_out_text.txt, ...]\n",
      "\n",
      "[101 rows x 0 columns]\n"
     ]
    }
   ],
   "source": [
    "#Einen leeren Pandas-Dataframe erstellen\n",
    "\n",
    "df = pd.DataFrame(index=files)\n",
    "print(df)"
   ]
  },
  {
   "cell_type": "code",
   "execution_count": 6,
   "id": "0e6af0f4",
   "metadata": {},
   "outputs": [],
   "source": [
    "c = []\n",
    "for file in files:\n",
    "    f = open(file, \"r\", encoding = \"ISO-8859-1\")\n",
    "    c.append(f.read())\n",
    "    f.close"
   ]
  },
  {
   "cell_type": "code",
   "execution_count": 7,
   "id": "cda7168c",
   "metadata": {},
   "outputs": [
    {
     "data": {
      "text/html": [
       "<div>\n",
       "<style scoped>\n",
       "    .dataframe tbody tr th:only-of-type {\n",
       "        vertical-align: middle;\n",
       "    }\n",
       "\n",
       "    .dataframe tbody tr th {\n",
       "        vertical-align: top;\n",
       "    }\n",
       "\n",
       "    .dataframe thead th {\n",
       "        text-align: right;\n",
       "    }\n",
       "</style>\n",
       "<table border=\"1\" class=\"dataframe\">\n",
       "  <thead>\n",
       "    <tr style=\"text-align: right;\">\n",
       "      <th></th>\n",
       "      <th>Name</th>\n",
       "      <th>Tags</th>\n",
       "      <th>Year</th>\n",
       "      <th>Content</th>\n",
       "    </tr>\n",
       "  </thead>\n",
       "  <tbody>\n",
       "    <tr>\n",
       "      <th>CAPTUM_Allergic Diseases_Antihistamine_Maurer 2017 .pdf_out_text.txt</th>\n",
       "      <td>Maurer 2017 .pdf</td>\n",
       "      <td>[Allergic Diseases, Antihistamine]</td>\n",
       "      <td>017</td>\n",
       "      <td>PROFESSOR FRANZISKA RUEFF (Orcid ID : 0000-000...</td>\n",
       "    </tr>\n",
       "    <tr>\n",
       "      <th>CAPTUM_Antihistamine_Omalizumab_Giménez‑Arnau 2020.pdf_out_text.txt</th>\n",
       "      <td>Giménez‑Arnau 2020.pdf</td>\n",
       "      <td>[Antihistamine, Omalizumab]</td>\n",
       "      <td>2020</td>\n",
       "      <td>Drugs\\nhttps://doi.org/10.1007/s40265-020-0138...</td>\n",
       "    </tr>\n",
       "    <tr>\n",
       "      <th>CAPTUM_ANA_Omalizumab_Asero 2017.pdf_out_text.txt</th>\n",
       "      <td>Asero 2017.pdf</td>\n",
       "      <td>[ANA, Omalizumab]</td>\n",
       "      <td>2017</td>\n",
       "      <td>Clinical Allergology - Original Paper\\n\\nInter...</td>\n",
       "    </tr>\n",
       "    <tr>\n",
       "      <th>CAPTUM_Total IgE_TPO_Aversano 2005.pdf_out_text.txt</th>\n",
       "      <td>Aversano 2005.pdf</td>\n",
       "      <td>[Total IgE, TPO]</td>\n",
       "      <td>2005</td>\n",
       "      <td>Allergy 2005: 60: 489-493\\n\\nOriginal article\\...</td>\n",
       "    </tr>\n",
       "    <tr>\n",
       "      <th>CAPTUM_ASST_angioedema_Vikramkumar 2015.pdf_out_text.txt</th>\n",
       "      <td>Vikramkumar 2015.pdf</td>\n",
       "      <td>[ASST, angioedema]</td>\n",
       "      <td>2015</td>\n",
       "      <td>11/14/2020 Autologous serum skin test as an in...</td>\n",
       "    </tr>\n",
       "    <tr>\n",
       "      <th>...</th>\n",
       "      <td>...</td>\n",
       "      <td>...</td>\n",
       "      <td>...</td>\n",
       "      <td>...</td>\n",
       "    </tr>\n",
       "    <tr>\n",
       "      <th>CAPTUM_Angioedema_Omalizumab_Maoz-Segal 2020.pdf_out_text.txt</th>\n",
       "      <td>Maoz-Segal 2020.pdf</td>\n",
       "      <td>[Angioedema, Omalizumab]</td>\n",
       "      <td>2020</td>\n",
       "      <td>Maoz-Segal et al. World Allergy Organization J...</td>\n",
       "    </tr>\n",
       "    <tr>\n",
       "      <th>CAPTUM_Total IgE_TPO_Sanchez 2019.pdf_out_text.txt</th>\n",
       "      <td>Sanchez 2019.pdf</td>\n",
       "      <td>[Total IgE, TPO]</td>\n",
       "      <td>2019</td>\n",
       "      <td>Allergy Asthma Immunol Res. 2019 Jan;11(1):29-...</td>\n",
       "    </tr>\n",
       "    <tr>\n",
       "      <th>CAPTUM_TPO_Omalizumab_Maurer 2011.pdf_out_text.txt</th>\n",
       "      <td>Maurer 2011.pdf</td>\n",
       "      <td>[TPO, Omalizumab]</td>\n",
       "      <td>2011</td>\n",
       "      <td>Efficacy and safety of omalizumab in patients ...</td>\n",
       "    </tr>\n",
       "    <tr>\n",
       "      <th>CAPTUM_Antihistamine_Omalizumab_Gimenez Arnau 2016.pdf_out_text.txt</th>\n",
       "      <td>Gimenez Arnau 2016.pdf</td>\n",
       "      <td>[Antihistamine, Omalizumab]</td>\n",
       "      <td>2016</td>\n",
       "      <td>Copyright © 2017 John Libbey Eurotext. Downloa...</td>\n",
       "    </tr>\n",
       "    <tr>\n",
       "      <th>CAPTUM_ASST_Total IgE_Ulambayar 2020.pdf_out_text.txt</th>\n",
       "      <td>Ulambayar 2020.pdf</td>\n",
       "      <td>[ASST, Total IgE]</td>\n",
       "      <td>2020</td>\n",
       "      <td>Journal of Microbiology, Immunology and Infect...</td>\n",
       "    </tr>\n",
       "  </tbody>\n",
       "</table>\n",
       "<p>101 rows × 4 columns</p>\n",
       "</div>"
      ],
      "text/plain": [
       "                                                                       Name  \\\n",
       "CAPTUM_Allergic Diseases_Antihistamine_Maurer 2...         Maurer 2017 .pdf   \n",
       "CAPTUM_Antihistamine_Omalizumab_Giménez‑Arnau ...  Giménez‑Arnau 2020.pdf   \n",
       "CAPTUM_ANA_Omalizumab_Asero 2017.pdf_out_text.txt            Asero 2017.pdf   \n",
       "CAPTUM_Total IgE_TPO_Aversano 2005.pdf_out_text...        Aversano 2005.pdf   \n",
       "CAPTUM_ASST_angioedema_Vikramkumar 2015.pdf_ou...     Vikramkumar 2015.pdf   \n",
       "...                                                                     ...   \n",
       "CAPTUM_Angioedema_Omalizumab_Maoz-Segal 2020.pd...      Maoz-Segal 2020.pdf   \n",
       "CAPTUM_Total IgE_TPO_Sanchez 2019.pdf_out_text.txt         Sanchez 2019.pdf   \n",
       "CAPTUM_TPO_Omalizumab_Maurer 2011.pdf_out_text.txt          Maurer 2011.pdf   \n",
       "CAPTUM_Antihistamine_Omalizumab_Gimenez Arnau 2...   Gimenez Arnau 2016.pdf   \n",
       "CAPTUM_ASST_Total IgE_Ulambayar 2020.pdf_out_t...       Ulambayar 2020.pdf   \n",
       "\n",
       "                                                                                  Tags  \\\n",
       "CAPTUM_Allergic Diseases_Antihistamine_Maurer 2...  [Allergic Diseases, Antihistamine]   \n",
       "CAPTUM_Antihistamine_Omalizumab_Giménez‑Arnau ...         [Antihistamine, Omalizumab]   \n",
       "CAPTUM_ANA_Omalizumab_Asero 2017.pdf_out_text.txt                    [ANA, Omalizumab]   \n",
       "CAPTUM_Total IgE_TPO_Aversano 2005.pdf_out_text...                    [Total IgE, TPO]   \n",
       "CAPTUM_ASST_angioedema_Vikramkumar 2015.pdf_ou...                 [ASST, angioedema]   \n",
       "...                                                                                ...   \n",
       "CAPTUM_Angioedema_Omalizumab_Maoz-Segal 2020.pd...            [Angioedema, Omalizumab]   \n",
       "CAPTUM_Total IgE_TPO_Sanchez 2019.pdf_out_text.txt                    [Total IgE, TPO]   \n",
       "CAPTUM_TPO_Omalizumab_Maurer 2011.pdf_out_text.txt                   [TPO, Omalizumab]   \n",
       "CAPTUM_Antihistamine_Omalizumab_Gimenez Arnau 2...         [Antihistamine, Omalizumab]   \n",
       "CAPTUM_ASST_Total IgE_Ulambayar 2020.pdf_out_t...                  [ASST, Total IgE]   \n",
       "\n",
       "                                                    Year  \\\n",
       "CAPTUM_Allergic Diseases_Antihistamine_Maurer 2...  017    \n",
       "CAPTUM_Antihistamine_Omalizumab_Giménez‑Arnau ...  2020   \n",
       "CAPTUM_ANA_Omalizumab_Asero 2017.pdf_out_text.txt   2017   \n",
       "CAPTUM_Total IgE_TPO_Aversano 2005.pdf_out_text...  2005   \n",
       "CAPTUM_ASST_angioedema_Vikramkumar 2015.pdf_ou...  2015   \n",
       "...                                                  ...   \n",
       "CAPTUM_Angioedema_Omalizumab_Maoz-Segal 2020.pd...  2020   \n",
       "CAPTUM_Total IgE_TPO_Sanchez 2019.pdf_out_text.txt  2019   \n",
       "CAPTUM_TPO_Omalizumab_Maurer 2011.pdf_out_text.txt  2011   \n",
       "CAPTUM_Antihistamine_Omalizumab_Gimenez Arnau 2...  2016   \n",
       "CAPTUM_ASST_Total IgE_Ulambayar 2020.pdf_out_t...  2020   \n",
       "\n",
       "                                                                                              Content  \n",
       "CAPTUM_Allergic Diseases_Antihistamine_Maurer 2...  PROFESSOR FRANZISKA RUEFF (Orcid ID : 0000-000...  \n",
       "CAPTUM_Antihistamine_Omalizumab_Giménez‑Arnau ...  Drugs\\nhttps://doi.org/10.1007/s40265-020-0138...  \n",
       "CAPTUM_ANA_Omalizumab_Asero 2017.pdf_out_text.txt   Clinical Allergology - Original Paper\\n\\nInter...  \n",
       "CAPTUM_Total IgE_TPO_Aversano 2005.pdf_out_text...  Allergy 2005: 60: 489-493\\n\\nOriginal article\\...  \n",
       "CAPTUM_ASST_angioedema_Vikramkumar 2015.pdf_ou...  11/14/2020 Autologous serum skin test as an in...  \n",
       "...                                                                                               ...  \n",
       "CAPTUM_Angioedema_Omalizumab_Maoz-Segal 2020.pd...  Maoz-Segal et al. World Allergy Organization J...  \n",
       "CAPTUM_Total IgE_TPO_Sanchez 2019.pdf_out_text.txt  Allergy Asthma Immunol Res. 2019 Jan;11(1):29-...  \n",
       "CAPTUM_TPO_Omalizumab_Maurer 2011.pdf_out_text.txt  Efficacy and safety of omalizumab in patients ...  \n",
       "CAPTUM_Antihistamine_Omalizumab_Gimenez Arnau 2...  Copyright © 2017 John Libbey Eurotext. Downloa...  \n",
       "CAPTUM_ASST_Total IgE_Ulambayar 2020.pdf_out_t...  Journal of Microbiology, Immunology and Infect...  \n",
       "\n",
       "[101 rows x 4 columns]"
      ]
     },
     "execution_count": 7,
     "metadata": {},
     "output_type": "execute_result"
    }
   ],
   "source": [
    "df['Name'] = fileName\n",
    "df['Tags'] = fileTags\n",
    "df['Year'] = fileYear\n",
    "df['Content'] = c\n",
    "df"
   ]
  },
  {
   "cell_type": "code",
   "execution_count": 8,
   "id": "983b795c",
   "metadata": {},
   "outputs": [],
   "source": [
    "stop_words=set(stopwords.words(\"english\"))\n",
    "def stoppingFunc(text, stop_words=stop_words):\n",
    "    filtered_text=[]\n",
    "    for word in text:\n",
    "        if len(word) < 3:\n",
    "            next\n",
    "        elif sum(c.isdigit() for c in word)>0:\n",
    "            next\n",
    "        elif word not in stop_words:\n",
    "            filtered_text.append(word)\n",
    "        \n",
    "    return filtered_text"
   ]
  },
  {
   "cell_type": "code",
   "execution_count": 9,
   "id": "fa7a4b64",
   "metadata": {},
   "outputs": [],
   "source": [
    "def stemmingFunc(text):\n",
    "    stemmer = PorterStemmer()\n",
    "    return [stemmer.stem(word) for word in text]"
   ]
  },
  {
   "cell_type": "code",
   "execution_count": 10,
   "id": "efd6f40d",
   "metadata": {},
   "outputs": [],
   "source": [
    "def lemmatizingFunc(text):\n",
    "    lemmatizer = WordNetLemmatizer()\n",
    "    return [lemmatizer.lemmatize(word) for word in text]"
   ]
  },
  {
   "cell_type": "code",
   "execution_count": 11,
   "id": "905d8df9",
   "metadata": {},
   "outputs": [],
   "source": [
    "df['Content'] = df['Content'].apply(lambda text: nltk.word_tokenize(text))\n",
    "df['Content'] = df['Content'].apply(stoppingFunc)\n",
    "df['Content'] = df['Content'].apply(stemmingFunc)\n",
    "df['Content'] = df['Content'].apply(lemmatizingFunc)\n",
    "df['Corpus'] = [' '.join(x) for x in df['Content']]"
   ]
  },
  {
   "cell_type": "code",
   "execution_count": 13,
   "id": "7220ee4a",
   "metadata": {},
   "outputs": [
    {
     "data": {
      "text/html": [
       "<div>\n",
       "<style scoped>\n",
       "    .dataframe tbody tr th:only-of-type {\n",
       "        vertical-align: middle;\n",
       "    }\n",
       "\n",
       "    .dataframe tbody tr th {\n",
       "        vertical-align: top;\n",
       "    }\n",
       "\n",
       "    .dataframe thead th {\n",
       "        text-align: right;\n",
       "    }\n",
       "</style>\n",
       "<table border=\"1\" class=\"dataframe\">\n",
       "  <thead>\n",
       "    <tr style=\"text-align: right;\">\n",
       "      <th></th>\n",
       "      <th>Name</th>\n",
       "      <th>Tags</th>\n",
       "      <th>Year</th>\n",
       "      <th>Content</th>\n",
       "      <th>Corpus</th>\n",
       "    </tr>\n",
       "  </thead>\n",
       "  <tbody>\n",
       "    <tr>\n",
       "      <th>CAPTUM_Allergic Diseases_Antihistamine_Maurer 2017 .pdf_out_text.txt</th>\n",
       "      <td>Maurer 2017 .pdf</td>\n",
       "      <td>[Allergic Diseases, Antihistamine]</td>\n",
       "      <td>017</td>\n",
       "      <td>[professor, franziska, rueff, orcid, receiv, d...</td>\n",
       "      <td>professor franziska rueff orcid receiv date re...</td>\n",
       "    </tr>\n",
       "    <tr>\n",
       "      <th>CAPTUM_Antihistamine_Omalizumab_Giménez‑Arnau 2020.pdf_out_text.txt</th>\n",
       "      <td>Giménez‑Arnau 2020.pdf</td>\n",
       "      <td>[Antihistamine, Omalizumab]</td>\n",
       "      <td>2020</td>\n",
       "      <td>[drug, http, lead, articl, check, updat, targe...</td>\n",
       "      <td>drug http lead articl check updat target thera...</td>\n",
       "    </tr>\n",
       "    <tr>\n",
       "      <th>CAPTUM_ANA_Omalizumab_Asero 2017.pdf_out_text.txt</th>\n",
       "      <td>Asero 2017.pdf</td>\n",
       "      <td>[ANA, Omalizumab]</td>\n",
       "      <td>2017</td>\n",
       "      <td>[clinic, allergolog, origin, paper, intern, ar...</td>\n",
       "      <td>clinic allergolog origin paper intern archiv i...</td>\n",
       "    </tr>\n",
       "    <tr>\n",
       "      <th>CAPTUM_Total IgE_TPO_Aversano 2005.pdf_out_text.txt</th>\n",
       "      <td>Aversano 2005.pdf</td>\n",
       "      <td>[Total IgE, TPO]</td>\n",
       "      <td>2005</td>\n",
       "      <td>[allergi, origin, articl, copyright, blackwel,...</td>\n",
       "      <td>allergi origin articl copyright blackwel munks...</td>\n",
       "    </tr>\n",
       "    <tr>\n",
       "      <th>CAPTUM_ASST_angioedema_Vikramkumar 2015.pdf_out_text.txt</th>\n",
       "      <td>Vikramkumar 2015.pdf</td>\n",
       "      <td>[ASST, angioedema]</td>\n",
       "      <td>2015</td>\n",
       "      <td>[autolog, serum, skin, test, indic, chronic, a...</td>\n",
       "      <td>autolog serum skin test indic chronic autoimmu...</td>\n",
       "    </tr>\n",
       "    <tr>\n",
       "      <th>...</th>\n",
       "      <td>...</td>\n",
       "      <td>...</td>\n",
       "      <td>...</td>\n",
       "      <td>...</td>\n",
       "      <td>...</td>\n",
       "    </tr>\n",
       "    <tr>\n",
       "      <th>CAPTUM_Angioedema_Omalizumab_Maoz-Segal 2020.pdf_out_text.txt</th>\n",
       "      <td>Maoz-Segal 2020.pdf</td>\n",
       "      <td>[Angioedema, Omalizumab]</td>\n",
       "      <td>2020</td>\n",
       "      <td>[maoz-seg, world, allergi, organ, journal, avv...</td>\n",
       "      <td>maoz-seg world allergi organ journal avv aisce...</td>\n",
       "    </tr>\n",
       "    <tr>\n",
       "      <th>CAPTUM_Total IgE_TPO_Sanchez 2019.pdf_out_text.txt</th>\n",
       "      <td>Sanchez 2019.pdf</td>\n",
       "      <td>[Total IgE, TPO]</td>\n",
       "      <td>2019</td>\n",
       "      <td>[allergi, asthma, immunol, re, jan, http, piss...</td>\n",
       "      <td>allergi asthma immunol re jan http pissn origi...</td>\n",
       "    </tr>\n",
       "    <tr>\n",
       "      <th>CAPTUM_TPO_Omalizumab_Maurer 2011.pdf_out_text.txt</th>\n",
       "      <td>Maurer 2011.pdf</td>\n",
       "      <td>[TPO, Omalizumab]</td>\n",
       "      <td>2011</td>\n",
       "      <td>[efficaci, safeti, omalizumab, patient, chroni...</td>\n",
       "      <td>efficaci safeti omalizumab patient chronic urt...</td>\n",
       "    </tr>\n",
       "    <tr>\n",
       "      <th>CAPTUM_Antihistamine_Omalizumab_Gimenez Arnau 2016.pdf_out_text.txt</th>\n",
       "      <td>Gimenez Arnau 2016.pdf</td>\n",
       "      <td>[Antihistamine, Omalizumab]</td>\n",
       "      <td>2016</td>\n",
       "      <td>[copyright, john, libbey, eurotext, download, ...</td>\n",
       "      <td>copyright john libbey eurotext download nyu la...</td>\n",
       "    </tr>\n",
       "    <tr>\n",
       "      <th>CAPTUM_ASST_Total IgE_Ulambayar 2020.pdf_out_text.txt</th>\n",
       "      <td>Ulambayar 2020.pdf</td>\n",
       "      <td>[ASST, Total IgE]</td>\n",
       "      <td>2020</td>\n",
       "      <td>[journal, microbiolog, immunolog, infect, avai...</td>\n",
       "      <td>journal microbiolog immunolog infect avail onl...</td>\n",
       "    </tr>\n",
       "  </tbody>\n",
       "</table>\n",
       "<p>101 rows × 5 columns</p>\n",
       "</div>"
      ],
      "text/plain": [
       "                                                                       Name  \\\n",
       "CAPTUM_Allergic Diseases_Antihistamine_Maurer 2...         Maurer 2017 .pdf   \n",
       "CAPTUM_Antihistamine_Omalizumab_Giménez‑Arnau ...  Giménez‑Arnau 2020.pdf   \n",
       "CAPTUM_ANA_Omalizumab_Asero 2017.pdf_out_text.txt            Asero 2017.pdf   \n",
       "CAPTUM_Total IgE_TPO_Aversano 2005.pdf_out_text...        Aversano 2005.pdf   \n",
       "CAPTUM_ASST_angioedema_Vikramkumar 2015.pdf_ou...     Vikramkumar 2015.pdf   \n",
       "...                                                                     ...   \n",
       "CAPTUM_Angioedema_Omalizumab_Maoz-Segal 2020.pd...      Maoz-Segal 2020.pdf   \n",
       "CAPTUM_Total IgE_TPO_Sanchez 2019.pdf_out_text.txt         Sanchez 2019.pdf   \n",
       "CAPTUM_TPO_Omalizumab_Maurer 2011.pdf_out_text.txt          Maurer 2011.pdf   \n",
       "CAPTUM_Antihistamine_Omalizumab_Gimenez Arnau 2...   Gimenez Arnau 2016.pdf   \n",
       "CAPTUM_ASST_Total IgE_Ulambayar 2020.pdf_out_t...       Ulambayar 2020.pdf   \n",
       "\n",
       "                                                                                  Tags  \\\n",
       "CAPTUM_Allergic Diseases_Antihistamine_Maurer 2...  [Allergic Diseases, Antihistamine]   \n",
       "CAPTUM_Antihistamine_Omalizumab_Giménez‑Arnau ...         [Antihistamine, Omalizumab]   \n",
       "CAPTUM_ANA_Omalizumab_Asero 2017.pdf_out_text.txt                    [ANA, Omalizumab]   \n",
       "CAPTUM_Total IgE_TPO_Aversano 2005.pdf_out_text...                    [Total IgE, TPO]   \n",
       "CAPTUM_ASST_angioedema_Vikramkumar 2015.pdf_ou...                 [ASST, angioedema]   \n",
       "...                                                                                ...   \n",
       "CAPTUM_Angioedema_Omalizumab_Maoz-Segal 2020.pd...            [Angioedema, Omalizumab]   \n",
       "CAPTUM_Total IgE_TPO_Sanchez 2019.pdf_out_text.txt                    [Total IgE, TPO]   \n",
       "CAPTUM_TPO_Omalizumab_Maurer 2011.pdf_out_text.txt                   [TPO, Omalizumab]   \n",
       "CAPTUM_Antihistamine_Omalizumab_Gimenez Arnau 2...         [Antihistamine, Omalizumab]   \n",
       "CAPTUM_ASST_Total IgE_Ulambayar 2020.pdf_out_t...                  [ASST, Total IgE]   \n",
       "\n",
       "                                                    Year  \\\n",
       "CAPTUM_Allergic Diseases_Antihistamine_Maurer 2...  017    \n",
       "CAPTUM_Antihistamine_Omalizumab_Giménez‑Arnau ...  2020   \n",
       "CAPTUM_ANA_Omalizumab_Asero 2017.pdf_out_text.txt   2017   \n",
       "CAPTUM_Total IgE_TPO_Aversano 2005.pdf_out_text...  2005   \n",
       "CAPTUM_ASST_angioedema_Vikramkumar 2015.pdf_ou...  2015   \n",
       "...                                                  ...   \n",
       "CAPTUM_Angioedema_Omalizumab_Maoz-Segal 2020.pd...  2020   \n",
       "CAPTUM_Total IgE_TPO_Sanchez 2019.pdf_out_text.txt  2019   \n",
       "CAPTUM_TPO_Omalizumab_Maurer 2011.pdf_out_text.txt  2011   \n",
       "CAPTUM_Antihistamine_Omalizumab_Gimenez Arnau 2...  2016   \n",
       "CAPTUM_ASST_Total IgE_Ulambayar 2020.pdf_out_t...  2020   \n",
       "\n",
       "                                                                                              Content  \\\n",
       "CAPTUM_Allergic Diseases_Antihistamine_Maurer 2...  [professor, franziska, rueff, orcid, receiv, d...   \n",
       "CAPTUM_Antihistamine_Omalizumab_Giménez‑Arnau ...  [drug, http, lead, articl, check, updat, targe...   \n",
       "CAPTUM_ANA_Omalizumab_Asero 2017.pdf_out_text.txt   [clinic, allergolog, origin, paper, intern, ar...   \n",
       "CAPTUM_Total IgE_TPO_Aversano 2005.pdf_out_text...  [allergi, origin, articl, copyright, blackwel,...   \n",
       "CAPTUM_ASST_angioedema_Vikramkumar 2015.pdf_ou...  [autolog, serum, skin, test, indic, chronic, a...   \n",
       "...                                                                                               ...   \n",
       "CAPTUM_Angioedema_Omalizumab_Maoz-Segal 2020.pd...  [maoz-seg, world, allergi, organ, journal, avv...   \n",
       "CAPTUM_Total IgE_TPO_Sanchez 2019.pdf_out_text.txt  [allergi, asthma, immunol, re, jan, http, piss...   \n",
       "CAPTUM_TPO_Omalizumab_Maurer 2011.pdf_out_text.txt  [efficaci, safeti, omalizumab, patient, chroni...   \n",
       "CAPTUM_Antihistamine_Omalizumab_Gimenez Arnau 2...  [copyright, john, libbey, eurotext, download, ...   \n",
       "CAPTUM_ASST_Total IgE_Ulambayar 2020.pdf_out_t...  [journal, microbiolog, immunolog, infect, avai...   \n",
       "\n",
       "                                                                                               Corpus  \n",
       "CAPTUM_Allergic Diseases_Antihistamine_Maurer 2...  professor franziska rueff orcid receiv date re...  \n",
       "CAPTUM_Antihistamine_Omalizumab_Giménez‑Arnau ...  drug http lead articl check updat target thera...  \n",
       "CAPTUM_ANA_Omalizumab_Asero 2017.pdf_out_text.txt   clinic allergolog origin paper intern archiv i...  \n",
       "CAPTUM_Total IgE_TPO_Aversano 2005.pdf_out_text...  allergi origin articl copyright blackwel munks...  \n",
       "CAPTUM_ASST_angioedema_Vikramkumar 2015.pdf_ou...  autolog serum skin test indic chronic autoimmu...  \n",
       "...                                                                                               ...  \n",
       "CAPTUM_Angioedema_Omalizumab_Maoz-Segal 2020.pd...  maoz-seg world allergi organ journal avv aisce...  \n",
       "CAPTUM_Total IgE_TPO_Sanchez 2019.pdf_out_text.txt  allergi asthma immunol re jan http pissn origi...  \n",
       "CAPTUM_TPO_Omalizumab_Maurer 2011.pdf_out_text.txt  efficaci safeti omalizumab patient chronic urt...  \n",
       "CAPTUM_Antihistamine_Omalizumab_Gimenez Arnau 2...  copyright john libbey eurotext download nyu la...  \n",
       "CAPTUM_ASST_Total IgE_Ulambayar 2020.pdf_out_t...  journal microbiolog immunolog infect avail onl...  \n",
       "\n",
       "[101 rows x 5 columns]"
      ]
     },
     "execution_count": 13,
     "metadata": {},
     "output_type": "execute_result"
    }
   ],
   "source": [
    "df"
   ]
  },
  {
   "cell_type": "code",
   "execution_count": 14,
   "id": "d0b07fa0",
   "metadata": {},
   "outputs": [
    {
     "name": "stdout",
     "output_type": "stream",
     "text": [
      "Tags:\n",
      "Angioedema\n",
      "BAT\n",
      "ANA\n",
      "Allergic Diseases\n",
      "angioedema\n",
      "Total IgE\n",
      "anti-FcεRI\n",
      "Antihistamine\n",
      "Severity\n",
      "Thyroglobulin\n",
      "Anti-IgE\n",
      "ASST\n",
      "Omalizumab\n",
      "IL-24\n",
      "serverity\n",
      "Eosinophil\n",
      "Basophil\n",
      "CRP\n",
      "TPO\n",
      "Basophil count\n",
      "Cyclosporine\n",
      "Duration\n",
      "BHRA\n",
      "D-Dimer\n"
     ]
    }
   ],
   "source": [
    "print('Tags:')\n",
    "tags = {element for e in df['Tags'] for element in e}\n",
    "print(*tags, sep=\"\\n\")"
   ]
  },
  {
   "cell_type": "markdown",
   "id": "8bb35178",
   "metadata": {},
   "source": [
    "# Algorithmen anwenden"
   ]
  },
  {
   "cell_type": "markdown",
   "id": "1c7411d8",
   "metadata": {},
   "source": [
    "### TFIDF Vertorizer"
   ]
  },
  {
   "cell_type": "code",
   "execution_count": null,
   "id": "2453744a",
   "metadata": {},
   "outputs": [],
   "source": [
    "tfidfconvert = TfidfVectorizer(ngram_range=(1,3)).fit(all_words)"
   ]
  },
  {
   "cell_type": "code",
   "execution_count": null,
   "id": "362e41ab",
   "metadata": {},
   "outputs": [],
   "source": [
    "len(tfidfconvert.vocabulary_)"
   ]
  },
  {
   "cell_type": "code",
   "execution_count": null,
   "id": "95f044e2",
   "metadata": {},
   "outputs": [],
   "source": [
    "words_transformed = tfidfconvert.transform(all_words)"
   ]
  },
  {
   "cell_type": "markdown",
   "id": "6712dce8",
   "metadata": {},
   "source": [
    "### K-Means Clustering"
   ]
  },
  {
   "cell_type": "code",
   "execution_count": null,
   "id": "67d59ddc",
   "metadata": {},
   "outputs": [],
   "source": [
    "from sklearn.cluster import KMeans"
   ]
  },
  {
   "cell_type": "markdown",
   "id": "95d1b144",
   "metadata": {},
   "source": [
    "K-Means für mehrere k's berechnen"
   ]
  },
  {
   "cell_type": "code",
   "execution_count": null,
   "id": "3a8567ca",
   "metadata": {},
   "outputs": [],
   "source": [
    "Sum_of_squared_distances = []\n",
    "K = range(1,50)\n",
    "for k in K: \n",
    "    km = KMeans(n_clusters=k)\n",
    "    km = km.fit(words_transformed)\n",
    "    Sum_of_squared_distances.append(km.inertia_)\n",
    "    "
   ]
  },
  {
   "cell_type": "code",
   "execution_count": null,
   "id": "49a1714b",
   "metadata": {},
   "outputs": [],
   "source": [
    "plt.plot(K,Sum_of_squared_distances, 'bx-')\n",
    "plt.xlabel('k')\n",
    "plt.ylabel('Sum_of_squared_distances')\n",
    "plt.title('Elbow Method For Optimal k')\n",
    "plt.show()"
   ]
  },
  {
   "cell_type": "code",
   "execution_count": null,
   "id": "dd49c716",
   "metadata": {},
   "outputs": [],
   "source": []
  }
 ],
 "metadata": {
  "kernelspec": {
   "display_name": "Python 3",
   "language": "python",
   "name": "python3"
  },
  "language_info": {
   "codemirror_mode": {
    "name": "ipython",
    "version": 3
   },
   "file_extension": ".py",
   "mimetype": "text/x-python",
   "name": "python",
   "nbconvert_exporter": "python",
   "pygments_lexer": "ipython3",
   "version": "3.7.10"
  }
 },
 "nbformat": 4,
 "nbformat_minor": 5
}
