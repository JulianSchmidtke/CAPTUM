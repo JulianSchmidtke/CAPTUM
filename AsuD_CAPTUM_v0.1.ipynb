{
  "nbformat": 4,
  "nbformat_minor": 5,
  "metadata": {
    "kernelspec": {
      "display_name": "Python 3",
      "language": "python",
      "name": "python3"
    },
    "language_info": {
      "codemirror_mode": {
        "name": "ipython",
        "version": 3
      },
      "file_extension": ".py",
      "mimetype": "text/x-python",
      "name": "python",
      "nbconvert_exporter": "python",
      "pygments_lexer": "ipython3",
      "version": "3.7.10"
    },
    "colab": {
      "name": "AsuD_CAPTUM_v0.1.ipynb",
      "provenance": [],
      "include_colab_link": true
    }
  },
  "cells": [
    {
      "cell_type": "markdown",
      "metadata": {
        "id": "view-in-github",
        "colab_type": "text"
      },
      "source": [
        "<a href=\"https://colab.research.google.com/github/JulianSchmidtke/CAPTUM/blob/main/AsuD_CAPTUM_v0.1.ipynb\" target=\"_parent\"><img src=\"https://colab.research.google.com/assets/colab-badge.svg\" alt=\"Open In Colab\"/></a>"
      ]
    },
    {
      "cell_type": "code",
      "metadata": {
        "id": "-QMYRkMslDGw",
        "colab": {
          "base_uri": "https://localhost:8080/"
        },
        "outputId": "37f31fd3-091d-4ba6-c78b-43557f567be5"
      },
      "source": [
        "!git clone https://github.com/JulianSchmidtke/CAPTUM.git"
      ],
      "id": "-QMYRkMslDGw",
      "execution_count": 1,
      "outputs": [
        {
          "output_type": "stream",
          "text": [
            "Cloning into 'CAPTUM'...\n",
            "remote: Enumerating objects: 487, done.\u001b[K\n",
            "remote: Counting objects: 100% (487/487), done.\u001b[K\n",
            "remote: Compressing objects: 100% (464/464), done.\u001b[K\n",
            "remote: Total 487 (delta 26), reused 463 (delta 20), pack-reused 0\u001b[K\n",
            "Receiving objects: 100% (487/487), 5.24 MiB | 9.95 MiB/s, done.\n",
            "Resolving deltas: 100% (26/26), done.\n"
          ],
          "name": "stdout"
        }
      ]
    },
    {
      "cell_type": "code",
      "metadata": {
        "id": "21aa3cc8",
        "colab": {
          "base_uri": "https://localhost:8080/"
        },
        "outputId": "1c6b1bbb-0a39-4d7e-9768-658af90e8a55"
      },
      "source": [
        "%matplotlib inline\n",
        "import matplotlib.pyplot as plt\n",
        "import nltk, os\n",
        "import pandas as pd\n",
        "import numpy as np\n",
        "\n",
        "from nltk.stem import PorterStemmer\n",
        "from nltk.stem import WordNetLemmatizer\n",
        "from nltk.corpus import stopwords\n",
        "\n",
        "from collections import Counter\n",
        "\n",
        "from sklearn.feature_extraction.text import TfidfVectorizer\n",
        "\n",
        "nltk.download('punkt')\n",
        "nltk.download('wordnet')\n",
        "nltk.download('stopwords')"
      ],
      "id": "21aa3cc8",
      "execution_count": 2,
      "outputs": [
        {
          "output_type": "stream",
          "text": [
            "[nltk_data] Downloading package punkt to /root/nltk_data...\n",
            "[nltk_data]   Unzipping tokenizers/punkt.zip.\n",
            "[nltk_data] Downloading package wordnet to /root/nltk_data...\n",
            "[nltk_data]   Unzipping corpora/wordnet.zip.\n",
            "[nltk_data] Downloading package stopwords to /root/nltk_data...\n",
            "[nltk_data]   Unzipping corpora/stopwords.zip.\n"
          ],
          "name": "stdout"
        },
        {
          "output_type": "execute_result",
          "data": {
            "text/plain": [
              "True"
            ]
          },
          "metadata": {
            "tags": []
          },
          "execution_count": 2
        }
      ]
    },
    {
      "cell_type": "code",
      "metadata": {
        "id": "18f27004",
        "outputId": "017f6a51-6212-491c-8d6b-8e34923a6280",
        "colab": {
          "base_uri": "https://localhost:8080/",
          "height": 419
        }
      },
      "source": [
        "#Arbeitsverzeichnis auf das Ordnerverzeichnis ändern, in welchem die Daten liegen (txt-Format)\n",
        "\n",
        "cwd = os.getcwd()\n",
        "nwd = r'/content/CAPTUM/files'\n",
        "\n",
        "os.chdir(nwd)\n",
        "\n",
        "#Speichern der Dateinamen in einem Array\n",
        "files = os.listdir()\n",
        "df_files = pd.DataFrame(files, columns=['Filepath'])\n",
        "df_files"
      ],
      "id": "18f27004",
      "execution_count": 38,
      "outputs": [
        {
          "output_type": "execute_result",
          "data": {
            "text/html": [
              "<div>\n",
              "<style scoped>\n",
              "    .dataframe tbody tr th:only-of-type {\n",
              "        vertical-align: middle;\n",
              "    }\n",
              "\n",
              "    .dataframe tbody tr th {\n",
              "        vertical-align: top;\n",
              "    }\n",
              "\n",
              "    .dataframe thead th {\n",
              "        text-align: right;\n",
              "    }\n",
              "</style>\n",
              "<table border=\"1\" class=\"dataframe\">\n",
              "  <thead>\n",
              "    <tr style=\"text-align: right;\">\n",
              "      <th></th>\n",
              "      <th>Filepath</th>\n",
              "    </tr>\n",
              "  </thead>\n",
              "  <tbody>\n",
              "    <tr>\n",
              "      <th>0</th>\n",
              "      <td>CAPTUM_Allergic Diseases_Omalizumab_Kasperska-...</td>\n",
              "    </tr>\n",
              "    <tr>\n",
              "      <th>1</th>\n",
              "      <td>CAPTUM_ASST_serverity_Chen 2017.pdf_out_text...</td>\n",
              "    </tr>\n",
              "    <tr>\n",
              "      <th>2</th>\n",
              "      <td>CAPTUM_Anti-IgE_TPO_Turk 2016.pdf_out_text.txt</td>\n",
              "    </tr>\n",
              "    <tr>\n",
              "      <th>3</th>\n",
              "      <td>CAPTUM_Severity_Duration_Amin 2018.pdf_out_tex...</td>\n",
              "    </tr>\n",
              "    <tr>\n",
              "      <th>4</th>\n",
              "      <td>CAPTUM_Total IgE_Duration_Choi 2018.pdf_out_te...</td>\n",
              "    </tr>\n",
              "    <tr>\n",
              "      <th>...</th>\n",
              "      <td>...</td>\n",
              "    </tr>\n",
              "    <tr>\n",
              "      <th>1041</th>\n",
              "      <td>CAPTUM_Anti-IgE_Thyroglobulin_Sun 2014.pdf_out...</td>\n",
              "    </tr>\n",
              "    <tr>\n",
              "      <th>1042</th>\n",
              "      <td>CAPTUM_D-Dimer_Antihistamine_Montjoye 2020.pdf...</td>\n",
              "    </tr>\n",
              "    <tr>\n",
              "      <th>1043</th>\n",
              "      <td>CAPTUM_Basophil_Antihistamine_Uysal 2016.pdf_o...</td>\n",
              "    </tr>\n",
              "    <tr>\n",
              "      <th>1044</th>\n",
              "      <td>CAPTUM_D-Dimer_Omalizumab_Asero 2017  .pdf_out...</td>\n",
              "    </tr>\n",
              "    <tr>\n",
              "      <th>1045</th>\n",
              "      <td>CAPTUM_BHRA_Basophil_Yasnowsky 2006.pdf_out_te...</td>\n",
              "    </tr>\n",
              "  </tbody>\n",
              "</table>\n",
              "<p>1046 rows × 1 columns</p>\n",
              "</div>"
            ],
            "text/plain": [
              "                                               Filepath\n",
              "0     CAPTUM_Allergic Diseases_Omalizumab_Kasperska-...\n",
              "1     CAPTUM_ASST_serverity_Chen 2017.pdf_out_text...\n",
              "2        CAPTUM_Anti-IgE_TPO_Turk 2016.pdf_out_text.txt\n",
              "3     CAPTUM_Severity_Duration_Amin 2018.pdf_out_tex...\n",
              "4     CAPTUM_Total IgE_Duration_Choi 2018.pdf_out_te...\n",
              "...                                                 ...\n",
              "1041  CAPTUM_Anti-IgE_Thyroglobulin_Sun 2014.pdf_out...\n",
              "1042  CAPTUM_D-Dimer_Antihistamine_Montjoye 2020.pdf...\n",
              "1043  CAPTUM_Basophil_Antihistamine_Uysal 2016.pdf_o...\n",
              "1044  CAPTUM_D-Dimer_Omalizumab_Asero 2017  .pdf_out...\n",
              "1045  CAPTUM_BHRA_Basophil_Yasnowsky 2006.pdf_out_te...\n",
              "\n",
              "[1046 rows x 1 columns]"
            ]
          },
          "metadata": {
            "tags": []
          },
          "execution_count": 38
        }
      ]
    },
    {
      "cell_type": "code",
      "metadata": {
        "id": "5ugMSyU0f_4n",
        "outputId": "1bc2afd4-786c-4404-c880-0c2a42c7e54c",
        "colab": {
          "base_uri": "https://localhost:8080/",
          "height": 589
        }
      },
      "source": [
        "# create checksum for each file to identify duplicates\n",
        "# https://stackoverflow.com/questions/16874598/how-do-i-calculate-the-md5-checksum-of-a-file-in-python#16876405\n",
        "import hashlib\n",
        "def get_checksum(filepath: str) -> str:\n",
        "    # Open,close, read file and calculate MD5 on its contents \n",
        "    with open(filepath, 'rb') as file_to_check:\n",
        "        # read contents of the file\n",
        "        data = file_to_check.read()    \n",
        "        # pipe contents of the file through\n",
        "        return hashlib.md5(data).hexdigest()\n",
        "df_files['Checksum'] = df_files['Filepath'].apply(get_checksum)\n",
        "df_files"
      ],
      "id": "5ugMSyU0f_4n",
      "execution_count": 39,
      "outputs": [
        {
          "output_type": "execute_result",
          "data": {
            "text/html": [
              "<div>\n",
              "<style scoped>\n",
              "    .dataframe tbody tr th:only-of-type {\n",
              "        vertical-align: middle;\n",
              "    }\n",
              "\n",
              "    .dataframe tbody tr th {\n",
              "        vertical-align: top;\n",
              "    }\n",
              "\n",
              "    .dataframe thead th {\n",
              "        text-align: right;\n",
              "    }\n",
              "</style>\n",
              "<table border=\"1\" class=\"dataframe\">\n",
              "  <thead>\n",
              "    <tr style=\"text-align: right;\">\n",
              "      <th></th>\n",
              "      <th>Filepath</th>\n",
              "      <th>Checksum</th>\n",
              "    </tr>\n",
              "  </thead>\n",
              "  <tbody>\n",
              "    <tr>\n",
              "      <th>0</th>\n",
              "      <td>CAPTUM_Allergic Diseases_Omalizumab_Kasperska-...</td>\n",
              "      <td>2cf68c89d16834a7cb69b736d4549c29</td>\n",
              "    </tr>\n",
              "    <tr>\n",
              "      <th>1</th>\n",
              "      <td>CAPTUM_ASST_serverity_Chen 2017.pdf_out_text...</td>\n",
              "      <td>b5c098eb3d4c2aa1f50c56fe8b7a4053</td>\n",
              "    </tr>\n",
              "    <tr>\n",
              "      <th>2</th>\n",
              "      <td>CAPTUM_Anti-IgE_TPO_Turk 2016.pdf_out_text.txt</td>\n",
              "      <td>6d67aafe0f7a5b6187f44c0061bb3a7b</td>\n",
              "    </tr>\n",
              "    <tr>\n",
              "      <th>3</th>\n",
              "      <td>CAPTUM_Severity_Duration_Amin 2018.pdf_out_tex...</td>\n",
              "      <td>c6a6bb5005722b996a3837401293d274</td>\n",
              "    </tr>\n",
              "    <tr>\n",
              "      <th>4</th>\n",
              "      <td>CAPTUM_Total IgE_Duration_Choi 2018.pdf_out_te...</td>\n",
              "      <td>d73f26b1f01d360d414e4f4648729f11</td>\n",
              "    </tr>\n",
              "    <tr>\n",
              "      <th>...</th>\n",
              "      <td>...</td>\n",
              "      <td>...</td>\n",
              "    </tr>\n",
              "    <tr>\n",
              "      <th>1041</th>\n",
              "      <td>CAPTUM_Anti-IgE_Thyroglobulin_Sun 2014.pdf_out...</td>\n",
              "      <td>8d90f8e8cb53382f4c557d26d7a553bc</td>\n",
              "    </tr>\n",
              "    <tr>\n",
              "      <th>1042</th>\n",
              "      <td>CAPTUM_D-Dimer_Antihistamine_Montjoye 2020.pdf...</td>\n",
              "      <td>5492f2ac1e413b91c6c99d02d3bbbd28</td>\n",
              "    </tr>\n",
              "    <tr>\n",
              "      <th>1043</th>\n",
              "      <td>CAPTUM_Basophil_Antihistamine_Uysal 2016.pdf_o...</td>\n",
              "      <td>a86431127af09c8de0863de2f261a361</td>\n",
              "    </tr>\n",
              "    <tr>\n",
              "      <th>1044</th>\n",
              "      <td>CAPTUM_D-Dimer_Omalizumab_Asero 2017  .pdf_out...</td>\n",
              "      <td>e2bfbe03a410839dc840d90601cb42cc</td>\n",
              "    </tr>\n",
              "    <tr>\n",
              "      <th>1045</th>\n",
              "      <td>CAPTUM_BHRA_Basophil_Yasnowsky 2006.pdf_out_te...</td>\n",
              "      <td>d9928cc0dad9361845f2a32c1faf54c2</td>\n",
              "    </tr>\n",
              "  </tbody>\n",
              "</table>\n",
              "<p>1046 rows × 2 columns</p>\n",
              "</div>"
            ],
            "text/plain": [
              "                                               Filepath                          Checksum\n",
              "0     CAPTUM_Allergic Diseases_Omalizumab_Kasperska-...  2cf68c89d16834a7cb69b736d4549c29\n",
              "1     CAPTUM_ASST_serverity_Chen 2017.pdf_out_text...  b5c098eb3d4c2aa1f50c56fe8b7a4053\n",
              "2        CAPTUM_Anti-IgE_TPO_Turk 2016.pdf_out_text.txt  6d67aafe0f7a5b6187f44c0061bb3a7b\n",
              "3     CAPTUM_Severity_Duration_Amin 2018.pdf_out_tex...  c6a6bb5005722b996a3837401293d274\n",
              "4     CAPTUM_Total IgE_Duration_Choi 2018.pdf_out_te...  d73f26b1f01d360d414e4f4648729f11\n",
              "...                                                 ...                               ...\n",
              "1041  CAPTUM_Anti-IgE_Thyroglobulin_Sun 2014.pdf_out...  8d90f8e8cb53382f4c557d26d7a553bc\n",
              "1042  CAPTUM_D-Dimer_Antihistamine_Montjoye 2020.pdf...  5492f2ac1e413b91c6c99d02d3bbbd28\n",
              "1043  CAPTUM_Basophil_Antihistamine_Uysal 2016.pdf_o...  a86431127af09c8de0863de2f261a361\n",
              "1044  CAPTUM_D-Dimer_Omalizumab_Asero 2017  .pdf_out...  e2bfbe03a410839dc840d90601cb42cc\n",
              "1045  CAPTUM_BHRA_Basophil_Yasnowsky 2006.pdf_out_te...  d9928cc0dad9361845f2a32c1faf54c2\n",
              "\n",
              "[1046 rows x 2 columns]"
            ]
          },
          "metadata": {
            "tags": []
          },
          "execution_count": 39
        }
      ]
    },
    {
      "cell_type": "code",
      "metadata": {
        "id": "62410ea9",
        "colab": {
          "base_uri": "https://localhost:8080/",
          "height": 643
        },
        "outputId": "fef6d215-95c1-4719-e6e1-6113c7eaf6ae"
      },
      "source": [
        "fileNameTags = list(map(lambda fn: fn.split('_')[0:-2],df_files['Filepath']))\n",
        "\n",
        "\n",
        "df_files['Name'] = [fNT[-1] for fNT in fileNameTags]\n",
        "df_files['Tags'] = [fNT[1:-1] for fNT in fileNameTags]\n",
        "df_files['Year'] = [fY[-8:-4] for fY in fileName]\n",
        "df_files['Authors'] = [fN.split(' ')[0] for fN in fileName]\n",
        "\n",
        "df_files"
      ],
      "id": "62410ea9",
      "execution_count": 43,
      "outputs": [
        {
          "output_type": "execute_result",
          "data": {
            "text/html": [
              "<div>\n",
              "<style scoped>\n",
              "    .dataframe tbody tr th:only-of-type {\n",
              "        vertical-align: middle;\n",
              "    }\n",
              "\n",
              "    .dataframe tbody tr th {\n",
              "        vertical-align: top;\n",
              "    }\n",
              "\n",
              "    .dataframe thead th {\n",
              "        text-align: right;\n",
              "    }\n",
              "</style>\n",
              "<table border=\"1\" class=\"dataframe\">\n",
              "  <thead>\n",
              "    <tr style=\"text-align: right;\">\n",
              "      <th></th>\n",
              "      <th>Filepath</th>\n",
              "      <th>Checksum</th>\n",
              "      <th>Name</th>\n",
              "      <th>Tags</th>\n",
              "      <th>Year</th>\n",
              "      <th>Authors</th>\n",
              "    </tr>\n",
              "  </thead>\n",
              "  <tbody>\n",
              "    <tr>\n",
              "      <th>0</th>\n",
              "      <td>CAPTUM_Allergic Diseases_Omalizumab_Kasperska-...</td>\n",
              "      <td>2cf68c89d16834a7cb69b736d4549c29</td>\n",
              "      <td>Kasperska-Zajac 2016.pdf</td>\n",
              "      <td>[Allergic Diseases, Omalizumab]</td>\n",
              "      <td>2016</td>\n",
              "      <td>Kasperska-Zajac</td>\n",
              "    </tr>\n",
              "    <tr>\n",
              "      <th>1</th>\n",
              "      <td>CAPTUM_ASST_serverity_Chen 2017.pdf_out_text...</td>\n",
              "      <td>b5c098eb3d4c2aa1f50c56fe8b7a4053</td>\n",
              "      <td>Chen 2017.pdf</td>\n",
              "      <td>[ASST, serverity]</td>\n",
              "      <td>2017</td>\n",
              "      <td>Chen</td>\n",
              "    </tr>\n",
              "    <tr>\n",
              "      <th>2</th>\n",
              "      <td>CAPTUM_Anti-IgE_TPO_Turk 2016.pdf_out_text.txt</td>\n",
              "      <td>6d67aafe0f7a5b6187f44c0061bb3a7b</td>\n",
              "      <td>Turk 2016.pdf</td>\n",
              "      <td>[Anti-IgE, TPO]</td>\n",
              "      <td>2016</td>\n",
              "      <td>Turk</td>\n",
              "    </tr>\n",
              "    <tr>\n",
              "      <th>3</th>\n",
              "      <td>CAPTUM_Severity_Duration_Amin 2018.pdf_out_tex...</td>\n",
              "      <td>c6a6bb5005722b996a3837401293d274</td>\n",
              "      <td>Amin 2018.pdf</td>\n",
              "      <td>[Severity, Duration]</td>\n",
              "      <td>2018</td>\n",
              "      <td>Amin</td>\n",
              "    </tr>\n",
              "    <tr>\n",
              "      <th>4</th>\n",
              "      <td>CAPTUM_Total IgE_Duration_Choi 2018.pdf_out_te...</td>\n",
              "      <td>d73f26b1f01d360d414e4f4648729f11</td>\n",
              "      <td>Choi 2018.pdf</td>\n",
              "      <td>[Total IgE, Duration]</td>\n",
              "      <td>2018</td>\n",
              "      <td>Choi</td>\n",
              "    </tr>\n",
              "    <tr>\n",
              "      <th>...</th>\n",
              "      <td>...</td>\n",
              "      <td>...</td>\n",
              "      <td>...</td>\n",
              "      <td>...</td>\n",
              "      <td>...</td>\n",
              "      <td>...</td>\n",
              "    </tr>\n",
              "    <tr>\n",
              "      <th>1041</th>\n",
              "      <td>CAPTUM_Anti-IgE_Thyroglobulin_Sun 2014.pdf_out...</td>\n",
              "      <td>8d90f8e8cb53382f4c557d26d7a553bc</td>\n",
              "      <td>Sun 2014.pdf</td>\n",
              "      <td>[Anti-IgE, Thyroglobulin]</td>\n",
              "      <td>2014</td>\n",
              "      <td>Sun</td>\n",
              "    </tr>\n",
              "    <tr>\n",
              "      <th>1042</th>\n",
              "      <td>CAPTUM_D-Dimer_Antihistamine_Montjoye 2020.pdf...</td>\n",
              "      <td>5492f2ac1e413b91c6c99d02d3bbbd28</td>\n",
              "      <td>Montjoye 2020.pdf</td>\n",
              "      <td>[D-Dimer, Antihistamine]</td>\n",
              "      <td>2020</td>\n",
              "      <td>Montjoye</td>\n",
              "    </tr>\n",
              "    <tr>\n",
              "      <th>1043</th>\n",
              "      <td>CAPTUM_Basophil_Antihistamine_Uysal 2016.pdf_o...</td>\n",
              "      <td>a86431127af09c8de0863de2f261a361</td>\n",
              "      <td>Uysal 2016.pdf</td>\n",
              "      <td>[Basophil, Antihistamine]</td>\n",
              "      <td>2016</td>\n",
              "      <td>Uysal</td>\n",
              "    </tr>\n",
              "    <tr>\n",
              "      <th>1044</th>\n",
              "      <td>CAPTUM_D-Dimer_Omalizumab_Asero 2017  .pdf_out...</td>\n",
              "      <td>e2bfbe03a410839dc840d90601cb42cc</td>\n",
              "      <td>Asero 2017  .pdf</td>\n",
              "      <td>[D-Dimer, Omalizumab]</td>\n",
              "      <td>17</td>\n",
              "      <td>Asero</td>\n",
              "    </tr>\n",
              "    <tr>\n",
              "      <th>1045</th>\n",
              "      <td>CAPTUM_BHRA_Basophil_Yasnowsky 2006.pdf_out_te...</td>\n",
              "      <td>d9928cc0dad9361845f2a32c1faf54c2</td>\n",
              "      <td>Yasnowsky 2006.pdf</td>\n",
              "      <td>[BHRA, Basophil]</td>\n",
              "      <td>2006</td>\n",
              "      <td>Yasnowsky</td>\n",
              "    </tr>\n",
              "  </tbody>\n",
              "</table>\n",
              "<p>1046 rows × 6 columns</p>\n",
              "</div>"
            ],
            "text/plain": [
              "                                               Filepath  ...          Authors\n",
              "0     CAPTUM_Allergic Diseases_Omalizumab_Kasperska-...  ...  Kasperska-Zajac\n",
              "1     CAPTUM_ASST_serverity_Chen 2017.pdf_out_text...  ...             Chen\n",
              "2        CAPTUM_Anti-IgE_TPO_Turk 2016.pdf_out_text.txt  ...             Turk\n",
              "3     CAPTUM_Severity_Duration_Amin 2018.pdf_out_tex...  ...             Amin\n",
              "4     CAPTUM_Total IgE_Duration_Choi 2018.pdf_out_te...  ...             Choi\n",
              "...                                                 ...  ...              ...\n",
              "1041  CAPTUM_Anti-IgE_Thyroglobulin_Sun 2014.pdf_out...  ...              Sun\n",
              "1042  CAPTUM_D-Dimer_Antihistamine_Montjoye 2020.pdf...  ...         Montjoye\n",
              "1043  CAPTUM_Basophil_Antihistamine_Uysal 2016.pdf_o...  ...            Uysal\n",
              "1044  CAPTUM_D-Dimer_Omalizumab_Asero 2017  .pdf_out...  ...            Asero\n",
              "1045  CAPTUM_BHRA_Basophil_Yasnowsky 2006.pdf_out_te...  ...        Yasnowsky\n",
              "\n",
              "[1046 rows x 6 columns]"
            ]
          },
          "metadata": {
            "tags": []
          },
          "execution_count": 43
        }
      ]
    },
    {
      "cell_type": "code",
      "metadata": {
        "id": "riAajBNjiMCf",
        "outputId": "6034c89b-26c7-403c-f0c0-b48f9b5c0a18",
        "colab": {
          "base_uri": "https://localhost:8080/",
          "height": 419
        }
      },
      "source": [
        "# create dataframe for further analytics w/o the duplicate articles\n",
        "df_analyze = df_files.drop_duplicates(subset=['Checksum'], keep='first')\n",
        "df_analyze.reset_index(inplace=True, drop=True)\n",
        "df_analyze = df_analyze.loc[:,['Authors','Year','Tags']]\n",
        "df_analyze"
      ],
      "id": "riAajBNjiMCf",
      "execution_count": 49,
      "outputs": [
        {
          "output_type": "execute_result",
          "data": {
            "text/html": [
              "<div>\n",
              "<style scoped>\n",
              "    .dataframe tbody tr th:only-of-type {\n",
              "        vertical-align: middle;\n",
              "    }\n",
              "\n",
              "    .dataframe tbody tr th {\n",
              "        vertical-align: top;\n",
              "    }\n",
              "\n",
              "    .dataframe thead th {\n",
              "        text-align: right;\n",
              "    }\n",
              "</style>\n",
              "<table border=\"1\" class=\"dataframe\">\n",
              "  <thead>\n",
              "    <tr style=\"text-align: right;\">\n",
              "      <th></th>\n",
              "      <th>Authors</th>\n",
              "      <th>Year</th>\n",
              "      <th>Tags</th>\n",
              "    </tr>\n",
              "  </thead>\n",
              "  <tbody>\n",
              "    <tr>\n",
              "      <th>0</th>\n",
              "      <td>Kasperska-Zajac</td>\n",
              "      <td>2016</td>\n",
              "      <td>[Allergic Diseases, Omalizumab]</td>\n",
              "    </tr>\n",
              "    <tr>\n",
              "      <th>1</th>\n",
              "      <td>Chen</td>\n",
              "      <td>2017</td>\n",
              "      <td>[ASST, serverity]</td>\n",
              "    </tr>\n",
              "    <tr>\n",
              "      <th>2</th>\n",
              "      <td>Turk</td>\n",
              "      <td>2016</td>\n",
              "      <td>[Anti-IgE, TPO]</td>\n",
              "    </tr>\n",
              "    <tr>\n",
              "      <th>3</th>\n",
              "      <td>Amin</td>\n",
              "      <td>2018</td>\n",
              "      <td>[Severity, Duration]</td>\n",
              "    </tr>\n",
              "    <tr>\n",
              "      <th>4</th>\n",
              "      <td>Choi</td>\n",
              "      <td>2018</td>\n",
              "      <td>[Total IgE, Duration]</td>\n",
              "    </tr>\n",
              "    <tr>\n",
              "      <th>...</th>\n",
              "      <td>...</td>\n",
              "      <td>...</td>\n",
              "      <td>...</td>\n",
              "    </tr>\n",
              "    <tr>\n",
              "      <th>449</th>\n",
              "      <td>Altrichter</td>\n",
              "      <td>2020</td>\n",
              "      <td>[Eosinophil, Basophil]</td>\n",
              "    </tr>\n",
              "    <tr>\n",
              "      <th>450</th>\n",
              "      <td>Damask</td>\n",
              "      <td>2020</td>\n",
              "      <td>[Allergic Diseases, Omalizumab]</td>\n",
              "    </tr>\n",
              "    <tr>\n",
              "      <th>451</th>\n",
              "      <td>Branicka</td>\n",
              "      <td>2020</td>\n",
              "      <td>[Eosinophil, Angioedema]</td>\n",
              "    </tr>\n",
              "    <tr>\n",
              "      <th>452</th>\n",
              "      <td>Najib</td>\n",
              "      <td>2009</td>\n",
              "      <td>[Basophil, Allergic Diseases]</td>\n",
              "    </tr>\n",
              "    <tr>\n",
              "      <th>453</th>\n",
              "      <td>Kikuchi</td>\n",
              "      <td>2001</td>\n",
              "      <td>[BHRA, Basophil]</td>\n",
              "    </tr>\n",
              "  </tbody>\n",
              "</table>\n",
              "<p>454 rows × 3 columns</p>\n",
              "</div>"
            ],
            "text/plain": [
              "             Authors  Year                             Tags\n",
              "0    Kasperska-Zajac  2016  [Allergic Diseases, Omalizumab]\n",
              "1               Chen  2017              [ASST, serverity]\n",
              "2               Turk  2016                  [Anti-IgE, TPO]\n",
              "3               Amin  2018             [Severity, Duration]\n",
              "4               Choi  2018            [Total IgE, Duration]\n",
              "..               ...   ...                              ...\n",
              "449       Altrichter  2020           [Eosinophil, Basophil]\n",
              "450           Damask  2020  [Allergic Diseases, Omalizumab]\n",
              "451         Branicka  2020         [Eosinophil, Angioedema]\n",
              "452            Najib  2009    [Basophil, Allergic Diseases]\n",
              "453          Kikuchi  2001                 [BHRA, Basophil]\n",
              "\n",
              "[454 rows x 3 columns]"
            ]
          },
          "metadata": {
            "tags": []
          },
          "execution_count": 49
        }
      ]
    },
    {
      "cell_type": "code",
      "metadata": {
        "id": "8029c690",
        "colab": {
          "base_uri": "https://localhost:8080/"
        },
        "outputId": "b4dbb1b5-67fa-4687-88bf-d77811f68a17"
      },
      "source": [
        "#Einen leeren Pandas-Dataframe erstellen\n",
        "\n",
        "df = pd.DataFrame(index=files)\n",
        "print(df)"
      ],
      "id": "8029c690",
      "execution_count": 8,
      "outputs": [
        {
          "output_type": "stream",
          "text": [
            "Empty DataFrame\n",
            "Columns: []\n",
            "Index: [CAPTUM_Allergic Diseases_Omalizumab_Kasperska-Zajac 2016.pdf_out_text.txt, CAPTUM_ASST_serverity_Chen 2017.pdf_out_text.txt, CAPTUM_Anti-IgE_TPO_Turk 2016.pdf_out_text.txt, CAPTUM_Severity_Duration_Amin 2018.pdf_out_text.txt, CAPTUM_Total IgE_Duration_Choi 2018.pdf_out_text.txt, CAPTUM_Severity_Omalizumab_Curto-Barredo 2018.pdf_out_text.txt, CAPTUM_Total IgE_Angioedema_Baioumy 2018.pdf_out_text.txt, CAPTUM_Total IgE_Eosinophil_Park 2013.pdf_out_text.txt, CAPTUM_Omalizumab_Cyclosporine_Rosenblum 2020.pdf_out_text.txt, CAPTUM_CRP_Angioedema_Asero 2017.pdf_out_text.txt, CAPTUM_BAT_TPO_Schoepke 2019.pdf_out_text.txt, CAPTUM_Basophil_CRP_Tedeschi 2010.pdf_out_text.txt, CAPTUM_Eosinophil_Omalizumab_Acer 2018.pdf_out_text.txt, CAPTUM_Severity_Omalizumab_Rauber 2020.pdf_out_text.txt, CAPTUM_BAT_Cyclosporine_Grattan 2000.pdf_out_text.txt, CAPTUM_Basophil_dsDNA_Frezzolini 2006.pdf_out_text.txt, CAPTUM_Total IgE_Omalizumab_Salman 2019.pdf_out_text.txt, CAPTUM_Thyroglobulin_ANA_Viswanathan 2012.pdf_out_text.txt, CAPTUM_Total IgE_Omalizumab_Deza 2017.pdf_out_text.txt, CAPTUM_ASST_CRP_Montjoye 2020.pdf_out_text.txt, CAPTUM_D-Dimer_Severity_Asero 2007.pdf_out_text.txt, CAPTUM_Eosinophil_Severity_Marques 2016.pdf_out_text.txt, CAPTUM_Severity_Omalizumab_Jorg 2016.pdf_out_text.txt, CAPTUM_Basophil_Allergic Diseases_Monfrecola 2003.pdf_out_text.txt, CAPTUM_TPO_Duration_Turk 2016.pdf_out_text.txt, CAPTUM_CRP_D-Dimer_Asero 2011.pdf_out_text.txt, CAPTUM_Total IgE_Severity_Gao 2020 .pdf_out_text.txt, CAPTUM_Antihistamine_Cyclosporine_Gimenez Arnau 2016.pdf_out_text.txt, CAPTUM_CRP_Angioedema_Takahagi 2010.pdf_out_text.txt, CAPTUM_ASST_serverity_Atwa 2014.pdf_out_text.txt, CAPTUM_Severity_Angioedema_Maurer 2020.pdf_out_text.txt, CAPTUM_BHRA_CRP_Tedeschi 2010.pdf_out_text.txt, CAPTUM_CRP_Severity_Akca 2020.pdf_out_text.txt, CAPTUM_ASST_angioedema_Baioumy 2018.pdf_out_text.txt, CAPTUM_Severity_Omalizumab_Kulthanan 2017 .pdf_out_text.txt, CAPTUM_TPO_Thyroglobulin_Gangemi 2009.pdf_out_text.txt, CAPTUM_CRP_Severity_Namazi 2015.pdf_out_text.txt, CAPTUM_Antihistamine_Omalizumab_Stepaniuk 2020.pdf_out_text.txt, CAPTUM_BHRA_Basophil_Fagiolo 2000.pdf_out_text.txt, CAPTUM_Basophil_Allergic Diseases_Cianferoni 2019.pdf_out_text.txt, CAPTUM_Total IgE_Basophil_Schoepke 2019.pdf_out_text.txt, CAPTUM_BHRA_Duration_Baker 2008.pdf_out_text.txt, CAPTUM_Severity_Duration_Toubi 2004.pdf_out_text.txt, CAPTUM_Severity_Omalizumab_Ruiz-Villaverde 2018.pdf_out_text.txt, CAPTUM_Anti-IgE_Duration_Izaki 2018.pdf_out_text.txt, CAPTUM_ASST_serverity_Chang 2019.pdf_out_text.txt, CAPTUM_Basophil_Omalizumab_Jorg 2016.pdf_out_text.txt, CAPTUM_Allergic Diseases_Angioedema_Sahiner 2011.pdf_out_text.txt, CAPTUM_Omalizumab_Cyclosporine_Rottem 2014.pdf_out_text.txt, CAPTUM_Eosinophil_Basophil_Caproni 2005.pdf_out_text.txt, CAPTUM_ASST_TPO_Kocaturk 2011.pdf_out_text.txt, CAPTUM_BHRA_Basophil_Palikhe 2008.pdf_out_text.txt, CAPTUM_Allergic Diseases_Omalizumab_Baker 2015.pdf_out_text.txt, CAPTUM_ASST_Allergic Diseases_Kurt 2011.pdf_out_text.txt, CAPTUM_D-Dimer_Omalizumab_Montjoye 2020.pdf_out_text.txt, CAPTUM_Total IgE_Antihistamine_Montjoye 2020.pdf_out_text.txt, CAPTUM_Severity_Antihistamine_Oda 2019.pdf_out_text.txt, CAPTUM_Eosinophil_Severity_Jenerowicz 2007.pdf_out_text.txt, CAPTUM_Total IgE_TPO_Altrichter 2011.pdf_out_text.txt, CAPTUM_BAT_Severity_Schoepke 2019.pdf_out_text.txt, CAPTUM_BAT_Allergic Diseases_Korosec 2009.pdf_out_text.txt, CAPTUM_CRP_Antihistamine_Asero 2017.pdf_out_text.txt, CAPTUM_Thyroglobulin_Severity_Viswanathan 2012.pdf_out_text.txt, CAPTUM_Severity_Omalizumab_Asero 2020  .pdf_out_text.txt, CAPTUM_ASST_serverity_Degirmenci 2017.pdf_out_text.txt, CAPTUM_Eosinophil_Severity_Ulambayar 2019.pdf_out_text.txt, CAPTUM_Basophil_Omalizumab_Montjoye 2020.pdf_out_text.txt, CAPTUM_BHRA_Anti-IgE_Schoepke 2019.pdf_out_text.txt, CAPTUM_Allergic Diseases_Severity_Maurer 2013.pdf_out_text.txt, CAPTUM_Total IgE_Duration_Sheldon 2016.pdf_out_text.txt, CAPTUM_Total IgE_Basophil_Uysal 2016.pdf_out_text.txt, CAPTUM_ASST_D-Dimer_Triwongwaranat 2013.pdf_out_text.txt, CAPTUM_ASST_BHRA_Zambetti 2010 .pdf_out_text.txt, CAPTUM_Severity_Omalizumab_Song 2013  .pdf_out_text.txt, CAPTUM_CRP_Antihistamine_Ghazanfar 2018.pdf_out_text.txt, CAPTUM_D-Dimer_Allergic Diseases_Berard 2018.pdf_out_text.txt, CAPTUM_Severity_Duration_Ulambayar 2020.pdf_out_text.txt, CAPTUM_D-Dimer_Omalizumab_Asero 2020 .pdf_out_text.txt, CAPTUM_anti-FcεRI_Basophil_Metz 2017.pdf_out_text.txt, CAPTUM_BAT_Total IgE_Metz 2017.pdf_out_text.txt, CAPTUM_CRP_Severity_Obtułowicz 2020.pdf_out_text.txt, CAPTUM_Allergic Diseases_Duration_Lee 2011.pdf_out_text.txt, CAPTUM_BHRA_Anti-IgE_Altrich 2009.pdf_out_text.txt, CAPTUM_Severity_Omalizumab_Savic 2015.pdf_out_text.txt, CAPTUM_Allergic Diseases_Severity_Park 2020.pdf_out_text.txt, CAPTUM_Anti-IgE_TPO_Schoepke 2019.pdf_out_text.txt, CAPTUM_Severity_Omalizumab_Magen 2019.pdf_out_text.txt, CAPTUM_CRP_Omalizumab_Akdogan 2019.pdf_out_text.txt, CAPTUM_Angioedema_Omalizumab_Staubach 2018.pdf_out_text.txt, CAPTUM_anti-FcεRI_Antihistamine_Wardhana 2012.pdf_out_text.txt, CAPTUM_Eosinophil_Duration_Aitella 2018.pdf_out_text.txt, CAPTUM_Severity_Angioedema_Stull 2017.pdf_out_text.txt, CAPTUM_Total IgE_Allergic Diseases_Fang 2018.pdf_out_text.txt, CAPTUM_Duration_Omalizumab_Har 2015.pdf_out_text.txt, CAPTUM_CRP_Angioedema_Magen 2011.pdf_out_text.txt, CAPTUM_Severity_Duration_Lal V 2020.pdf_out_text.txt, CAPTUM_ASST_BAT_Gentinetta 2011.pdf_out_text.txt, CAPTUM_Anti-IgE_Antihistamine_Staubach 2005.pdf_out_text.txt, CAPTUM_Basophil_Duration_Ohtsuka 2010.pdf_out_text.txt, CAPTUM_Duration_Cyclosporine_Lee 2017 .pdf_out_text.txt, ...]\n",
            "\n",
            "[1046 rows x 0 columns]\n"
          ],
          "name": "stdout"
        }
      ]
    },
    {
      "cell_type": "code",
      "metadata": {
        "id": "0e6af0f4"
      },
      "source": [
        "c = []\n",
        "for file in files:\n",
        "    f = open(file, \"r\", encoding = \"ISO-8859-1\")\n",
        "    c.append(f.read())\n",
        "    f.close"
      ],
      "id": "0e6af0f4",
      "execution_count": 9,
      "outputs": []
    },
    {
      "cell_type": "code",
      "metadata": {
        "id": "cda7168c",
        "colab": {
          "base_uri": "https://localhost:8080/",
          "height": 643
        },
        "outputId": "df8bc762-f7cd-4ed0-ee56-ebce930175fc"
      },
      "source": [
        "df['Name'] = fileName\n",
        "df['Tags'] = fileTags\n",
        "df['Year'] = fileYear\n",
        "df['Content'] = c\n",
        "df"
      ],
      "id": "cda7168c",
      "execution_count": 10,
      "outputs": [
        {
          "output_type": "execute_result",
          "data": {
            "text/html": [
              "<div>\n",
              "<style scoped>\n",
              "    .dataframe tbody tr th:only-of-type {\n",
              "        vertical-align: middle;\n",
              "    }\n",
              "\n",
              "    .dataframe tbody tr th {\n",
              "        vertical-align: top;\n",
              "    }\n",
              "\n",
              "    .dataframe thead th {\n",
              "        text-align: right;\n",
              "    }\n",
              "</style>\n",
              "<table border=\"1\" class=\"dataframe\">\n",
              "  <thead>\n",
              "    <tr style=\"text-align: right;\">\n",
              "      <th></th>\n",
              "      <th>Name</th>\n",
              "      <th>Tags</th>\n",
              "      <th>Year</th>\n",
              "      <th>Content</th>\n",
              "    </tr>\n",
              "  </thead>\n",
              "  <tbody>\n",
              "    <tr>\n",
              "      <th>CAPTUM_Allergic Diseases_Omalizumab_Kasperska-Zajac 2016.pdf_out_text.txt</th>\n",
              "      <td>Kasperska-Zajac 2016.pdf</td>\n",
              "      <td>[Allergic Diseases, Omalizumab]</td>\n",
              "      <td>2016</td>\n",
              "      <td>[International Journal of\\n| Immunopathology |...</td>\n",
              "    </tr>\n",
              "    <tr>\n",
              "      <th>CAPTUM_ASST_serverity_Chen 2017.pdf_out_text.txt</th>\n",
              "      <td>Chen 2017.pdf</td>\n",
              "      <td>[ASST, serverity]</td>\n",
              "      <td>2017</td>\n",
              "      <td>Article type : Original Article\\n\\nDifferent E...</td>\n",
              "    </tr>\n",
              "    <tr>\n",
              "      <th>CAPTUM_Anti-IgE_TPO_Turk 2016.pdf_out_text.txt</th>\n",
              "      <td>Turk 2016.pdf</td>\n",
              "      <td>[Anti-IgE, TPO]</td>\n",
              "      <td>2016</td>\n",
              "      <td>Allergology International xxx (2017) 1-5\\n\\n \\...</td>\n",
              "    </tr>\n",
              "    <tr>\n",
              "      <th>CAPTUM_Severity_Duration_Amin 2018.pdf_out_text.txt</th>\n",
              "      <td>Amin 2018.pdf</td>\n",
              "      <td>[Severity, Duration]</td>\n",
              "      <td>2018</td>\n",
              "      <td>ORIGINAL ARTICLE\\n\\nEur ANN ALLERGY CLIN IMMUN...</td>\n",
              "    </tr>\n",
              "    <tr>\n",
              "      <th>CAPTUM_Total IgE_Duration_Choi 2018.pdf_out_text.txt</th>\n",
              "      <td>Choi 2018.pdf</td>\n",
              "      <td>[Total IgE, Duration]</td>\n",
              "      <td>2018</td>\n",
              "      <td>ORIGINAL ARTICLE\\n\\n    \\n\\nKorean J Intern Me...</td>\n",
              "    </tr>\n",
              "    <tr>\n",
              "      <th>...</th>\n",
              "      <td>...</td>\n",
              "      <td>...</td>\n",
              "      <td>...</td>\n",
              "      <td>...</td>\n",
              "    </tr>\n",
              "    <tr>\n",
              "      <th>CAPTUM_Anti-IgE_Thyroglobulin_Sun 2014.pdf_out_text.txt</th>\n",
              "      <td>Sun 2014.pdf</td>\n",
              "      <td>[Anti-IgE, Thyroglobulin]</td>\n",
              "      <td>2014</td>\n",
              "      <td>Ann Dermatol Vol. 26, No. 2, 2014\\n\\nhttp://dx...</td>\n",
              "    </tr>\n",
              "    <tr>\n",
              "      <th>CAPTUM_D-Dimer_Antihistamine_Montjoye 2020.pdf_out_text.txt</th>\n",
              "      <td>Montjoye 2020.pdf</td>\n",
              "      <td>[D-Dimer, Antihistamine]</td>\n",
              "      <td>2020</td>\n",
              "      <td>Correlations between disease activity, autoimm...</td>\n",
              "    </tr>\n",
              "    <tr>\n",
              "      <th>CAPTUM_Basophil_Antihistamine_Uysal 2016.pdf_out_text.txt</th>\n",
              "      <td>Uysal 2016.pdf</td>\n",
              "      <td>[Basophil, Antihistamine]</td>\n",
              "      <td>2016</td>\n",
              "      <td>198\\n\\nOriginal Articl¢\\n\\n \\n\\nTURK A\\nPEDIAT...</td>\n",
              "    </tr>\n",
              "    <tr>\n",
              "      <th>CAPTUM_D-Dimer_Omalizumab_Asero 2017  .pdf_out_text.txt</th>\n",
              "      <td>Asero 2017  .pdf</td>\n",
              "      <td>[D-Dimer, Omalizumab]</td>\n",
              "      <td>17</td>\n",
              "      <td>\\n\\n \\n\\n \\n\\nConcise report\\n\\n \\n\\nCED\\n\\nC...</td>\n",
              "    </tr>\n",
              "    <tr>\n",
              "      <th>CAPTUM_BHRA_Basophil_Yasnowsky 2006.pdf_out_text.txt</th>\n",
              "      <td>Yasnowsky 2006.pdf</td>\n",
              "      <td>[BHRA, Basophil]</td>\n",
              "      <td>2006</td>\n",
              "      <td>a;\\nw\\n9\\nQ\\nw\\n®\\nQ\\na\\na\\na\\na\\n=\\na\\nzu\\nCy...</td>\n",
              "    </tr>\n",
              "  </tbody>\n",
              "</table>\n",
              "<p>1046 rows × 4 columns</p>\n",
              "</div>"
            ],
            "text/plain": [
              "                                                                        Name  ...                                            Content\n",
              "CAPTUM_Allergic Diseases_Omalizumab_Kasperska-Z...  Kasperska-Zajac 2016.pdf  ...  [International Journal of\\n| Immunopathology |...\n",
              "CAPTUM_ASST_serverity_Chen 2017.pdf_out_text.txt             Chen 2017.pdf  ...  Article type : Original Article\\n\\nDifferent E...\n",
              "CAPTUM_Anti-IgE_TPO_Turk 2016.pdf_out_text.txt                 Turk 2016.pdf  ...  Allergology International xxx (2017) 1-5\\n\\n \\...\n",
              "CAPTUM_Severity_Duration_Amin 2018.pdf_out_text...             Amin 2018.pdf  ...  ORIGINAL ARTICLE\\n\\nEur ANN ALLERGY CLIN IMMUN...\n",
              "CAPTUM_Total IgE_Duration_Choi 2018.pdf_out_tex...             Choi 2018.pdf  ...  ORIGINAL ARTICLE\\n\\n    \\n\\nKorean J Intern Me...\n",
              "...                                                                      ...  ...                                                ...\n",
              "CAPTUM_Anti-IgE_Thyroglobulin_Sun 2014.pdf_out_...              Sun 2014.pdf  ...  Ann Dermatol Vol. 26, No. 2, 2014\\n\\nhttp://dx...\n",
              "CAPTUM_D-Dimer_Antihistamine_Montjoye 2020.pdf_...         Montjoye 2020.pdf  ...  Correlations between disease activity, autoimm...\n",
              "CAPTUM_Basophil_Antihistamine_Uysal 2016.pdf_ou...            Uysal 2016.pdf  ...  198\\n\\nOriginal Articl¢\\n\\n \\n\\nTURK A\\nPEDIAT...\n",
              "CAPTUM_D-Dimer_Omalizumab_Asero 2017  .pdf_out_...          Asero 2017  .pdf  ...   \\n\\n \\n\\n \\n\\nConcise report\\n\\n \\n\\nCED\\n\\nC...\n",
              "CAPTUM_BHRA_Basophil_Yasnowsky 2006.pdf_out_tex...        Yasnowsky 2006.pdf  ...  a;\\nw\\n9\\nQ\\nw\\n®\\nQ\\na\\na\\na\\na\\n=\\na\\nzu\\nCy...\n",
              "\n",
              "[1046 rows x 4 columns]"
            ]
          },
          "metadata": {
            "tags": []
          },
          "execution_count": 10
        }
      ]
    },
    {
      "cell_type": "markdown",
      "metadata": {
        "id": "-nRxEmyLRhDU"
      },
      "source": [
        "Es werden Füllwörter entfernt."
      ],
      "id": "-nRxEmyLRhDU"
    },
    {
      "cell_type": "code",
      "metadata": {
        "id": "983b795c"
      },
      "source": [
        "stop_words=set(stopwords.words(\"english\"))\n",
        "def stoppingFunc(text, stop_words=stop_words):\n",
        "    filtered_text=[]\n",
        "    for word in text:\n",
        "        if len(word) < 3:\n",
        "            next\n",
        "        elif sum(c.isdigit() for c in word)>0:\n",
        "            next\n",
        "        elif word not in stop_words:\n",
        "            filtered_text.append(word)\n",
        "        \n",
        "    return filtered_text"
      ],
      "id": "983b795c",
      "execution_count": 11,
      "outputs": []
    },
    {
      "cell_type": "markdown",
      "metadata": {
        "id": "1Wu3O5CFRfVx"
      },
      "source": [
        "Wörter auf ihren Wortstamm reduzieren (cats -> cat, transportation -> transport)"
      ],
      "id": "1Wu3O5CFRfVx"
    },
    {
      "cell_type": "code",
      "metadata": {
        "id": "fa7a4b64"
      },
      "source": [
        "def stemmingFunc(text):\n",
        "    stemmer = PorterStemmer()\n",
        "    return [stemmer.stem(word) for word in text]"
      ],
      "id": "fa7a4b64",
      "execution_count": 12,
      "outputs": []
    },
    {
      "cell_type": "markdown",
      "metadata": {
        "id": "LDr_g2xlRdGG"
      },
      "source": [
        "Komplexere Version des Stemming. Wörter werden im Zusammenhang gesehen und reduziert. Verben werden auf den Infiitiv gesetzt usw."
      ],
      "id": "LDr_g2xlRdGG"
    },
    {
      "cell_type": "code",
      "metadata": {
        "id": "efd6f40d"
      },
      "source": [
        "def lemmatizingFunc(text):\n",
        "    lemmatizer = WordNetLemmatizer()\n",
        "    return [lemmatizer.lemmatize(word) for word in text]"
      ],
      "id": "efd6f40d",
      "execution_count": 13,
      "outputs": []
    },
    {
      "cell_type": "markdown",
      "metadata": {
        "id": "yjs1JRBiRY-I"
      },
      "source": [
        "Ich glaube es sollte entweder eine Stemming oder eine Lemmatizing Funktion angewendet werden.\n",
        "\n",
        "Ich glaube wir sollten erst Lemmatizen und dann Stopwords entfernen."
      ],
      "id": "yjs1JRBiRY-I"
    },
    {
      "cell_type": "code",
      "metadata": {
        "id": "905d8df9"
      },
      "source": [
        "df['Content'] = df['Content'].apply(lambda text: nltk.word_tokenize(text))\n",
        "df['Content'] = df['Content'].apply(stoppingFunc)\n",
        "df['Content'] = df['Content'].apply(stemmingFunc)\n",
        "df['Content'] = df['Content'].apply(lemmatizingFunc)\n",
        "\n",
        "df['Corpus'] = [' '.join(x) for x in df['Content']]"
      ],
      "id": "905d8df9",
      "execution_count": 14,
      "outputs": []
    },
    {
      "cell_type": "code",
      "metadata": {
        "id": "7220ee4a",
        "colab": {
          "base_uri": "https://localhost:8080/",
          "height": 881
        },
        "outputId": "6c8485f2-abd2-4084-fa74-147db67c712a"
      },
      "source": [
        "df"
      ],
      "id": "7220ee4a",
      "execution_count": 26,
      "outputs": [
        {
          "output_type": "execute_result",
          "data": {
            "text/html": [
              "<div>\n",
              "<style scoped>\n",
              "    .dataframe tbody tr th:only-of-type {\n",
              "        vertical-align: middle;\n",
              "    }\n",
              "\n",
              "    .dataframe tbody tr th {\n",
              "        vertical-align: top;\n",
              "    }\n",
              "\n",
              "    .dataframe thead th {\n",
              "        text-align: right;\n",
              "    }\n",
              "</style>\n",
              "<table border=\"1\" class=\"dataframe\">\n",
              "  <thead>\n",
              "    <tr style=\"text-align: right;\">\n",
              "      <th></th>\n",
              "      <th>Name</th>\n",
              "      <th>Tags</th>\n",
              "      <th>Year</th>\n",
              "      <th>Content</th>\n",
              "      <th>Corpus</th>\n",
              "    </tr>\n",
              "  </thead>\n",
              "  <tbody>\n",
              "    <tr>\n",
              "      <th>CAPTUM_Allergic Diseases_Omalizumab_Kasperska-Zajac 2016.pdf_out_text.txt</th>\n",
              "      <td>Kasperska-Zajac 2016.pdf</td>\n",
              "      <td>[Allergic Diseases, Omalizumab]</td>\n",
              "      <td>2016</td>\n",
              "      <td>[intern, journal, immunopatholog, pharmacolog,...</td>\n",
              "      <td>intern journal immunopatholog pharmacolog lett...</td>\n",
              "    </tr>\n",
              "    <tr>\n",
              "      <th>CAPTUM_ASST_serverity_Chen 2017.pdf_out_text.txt</th>\n",
              "      <td>Chen 2017.pdf</td>\n",
              "      <td>[ASST, serverity]</td>\n",
              "      <td>2017</td>\n",
              "      <td>[articl, type, origin, articl, differ, express...</td>\n",
              "      <td>articl type origin articl differ express patte...</td>\n",
              "    </tr>\n",
              "    <tr>\n",
              "      <th>CAPTUM_Anti-IgE_TPO_Turk 2016.pdf_out_text.txt</th>\n",
              "      <td>Turk 2016.pdf</td>\n",
              "      <td>[Anti-IgE, TPO]</td>\n",
              "      <td>2016</td>\n",
              "      <td>[allergolog, intern, xxx, content, list, avail...</td>\n",
              "      <td>allergolog intern xxx content list avail scien...</td>\n",
              "    </tr>\n",
              "    <tr>\n",
              "      <th>CAPTUM_Severity_Duration_Amin 2018.pdf_out_text.txt</th>\n",
              "      <td>Amin 2018.pdf</td>\n",
              "      <td>[Severity, Duration]</td>\n",
              "      <td>2018</td>\n",
              "      <td>[origin, articl, eur, ann, allergi, clin, immu...</td>\n",
              "      <td>origin articl eur ann allergi clin immunol vol...</td>\n",
              "    </tr>\n",
              "    <tr>\n",
              "      <th>CAPTUM_Total IgE_Duration_Choi 2018.pdf_out_text.txt</th>\n",
              "      <td>Choi 2018.pdf</td>\n",
              "      <td>[Total IgE, Duration]</td>\n",
              "      <td>2018</td>\n",
              "      <td>[origin, articl, korean, intern, med, http, di...</td>\n",
              "      <td>origin articl korean intern med http disease-s...</td>\n",
              "    </tr>\n",
              "    <tr>\n",
              "      <th>...</th>\n",
              "      <td>...</td>\n",
              "      <td>...</td>\n",
              "      <td>...</td>\n",
              "      <td>...</td>\n",
              "      <td>...</td>\n",
              "    </tr>\n",
              "    <tr>\n",
              "      <th>CAPTUM_Anti-IgE_Thyroglobulin_Sun 2014.pdf_out_text.txt</th>\n",
              "      <td>Sun 2014.pdf</td>\n",
              "      <td>[Anti-IgE, Thyroglobulin]</td>\n",
              "      <td>2014</td>\n",
              "      <td>[ann, dermatol, vol, http, origin, articl, cor...</td>\n",
              "      <td>ann dermatol vol http origin articl correl ant...</td>\n",
              "    </tr>\n",
              "    <tr>\n",
              "      <th>CAPTUM_D-Dimer_Antihistamine_Montjoye 2020.pdf_out_text.txt</th>\n",
              "      <td>Montjoye 2020.pdf</td>\n",
              "      <td>[D-Dimer, Antihistamine]</td>\n",
              "      <td>2020</td>\n",
              "      <td>[correl, diseas, activ, autoimmun, biolog, par...</td>\n",
              "      <td>correl diseas activ autoimmun biolog paramet p...</td>\n",
              "    </tr>\n",
              "    <tr>\n",
              "      <th>CAPTUM_Basophil_Antihistamine_Uysal 2016.pdf_out_text.txt</th>\n",
              "      <td>Uysal 2016.pdf</td>\n",
              "      <td>[Basophil, Antihistamine]</td>\n",
              "      <td>2016</td>\n",
              "      <td>[origin, articl¢, turk, pediatri, arsivi, cei,...</td>\n",
              "      <td>origin articl¢ turk pediatri arsivi cei high-d...</td>\n",
              "    </tr>\n",
              "    <tr>\n",
              "      <th>CAPTUM_D-Dimer_Omalizumab_Asero 2017  .pdf_out_text.txt</th>\n",
              "      <td>Asero 2017  .pdf</td>\n",
              "      <td>[D-Dimer, Omalizumab]</td>\n",
              "      <td>17</td>\n",
              "      <td>[concis, report, ced, clinic, experiment, derm...</td>\n",
              "      <td>concis report ced clinic experiment dermatolog...</td>\n",
              "    </tr>\n",
              "    <tr>\n",
              "      <th>CAPTUM_BHRA_Basophil_Yasnowsky 2006.pdf_out_text.txt</th>\n",
              "      <td>Yasnowsky 2006.pdf</td>\n",
              "      <td>[BHRA, Basophil]</td>\n",
              "      <td>2006</td>\n",
              "      <td>[chronic, urticaria, serum, increas, basophil,...</td>\n",
              "      <td>chronic urticaria serum increas basophil expre...</td>\n",
              "    </tr>\n",
              "  </tbody>\n",
              "</table>\n",
              "<p>1046 rows × 5 columns</p>\n",
              "</div>"
            ],
            "text/plain": [
              "                                                                        Name  ...                                             Corpus\n",
              "CAPTUM_Allergic Diseases_Omalizumab_Kasperska-Z...  Kasperska-Zajac 2016.pdf  ...  intern journal immunopatholog pharmacolog lett...\n",
              "CAPTUM_ASST_serverity_Chen 2017.pdf_out_text.txt             Chen 2017.pdf  ...  articl type origin articl differ express patte...\n",
              "CAPTUM_Anti-IgE_TPO_Turk 2016.pdf_out_text.txt                 Turk 2016.pdf  ...  allergolog intern xxx content list avail scien...\n",
              "CAPTUM_Severity_Duration_Amin 2018.pdf_out_text...             Amin 2018.pdf  ...  origin articl eur ann allergi clin immunol vol...\n",
              "CAPTUM_Total IgE_Duration_Choi 2018.pdf_out_tex...             Choi 2018.pdf  ...  origin articl korean intern med http disease-s...\n",
              "...                                                                      ...  ...                                                ...\n",
              "CAPTUM_Anti-IgE_Thyroglobulin_Sun 2014.pdf_out_...              Sun 2014.pdf  ...  ann dermatol vol http origin articl correl ant...\n",
              "CAPTUM_D-Dimer_Antihistamine_Montjoye 2020.pdf_...         Montjoye 2020.pdf  ...  correl diseas activ autoimmun biolog paramet p...\n",
              "CAPTUM_Basophil_Antihistamine_Uysal 2016.pdf_ou...            Uysal 2016.pdf  ...  origin articl¢ turk pediatri arsivi cei high-d...\n",
              "CAPTUM_D-Dimer_Omalizumab_Asero 2017  .pdf_out_...          Asero 2017  .pdf  ...  concis report ced clinic experiment dermatolog...\n",
              "CAPTUM_BHRA_Basophil_Yasnowsky 2006.pdf_out_tex...        Yasnowsky 2006.pdf  ...  chronic urticaria serum increas basophil expre...\n",
              "\n",
              "[1046 rows x 5 columns]"
            ]
          },
          "metadata": {
            "tags": []
          },
          "execution_count": 26
        }
      ]
    },
    {
      "cell_type": "code",
      "metadata": {
        "id": "d0b07fa0"
      },
      "source": [
        "print('Tags:')\n",
        "tags = {element for e in df['Tags'] for element in e}\n",
        "print(*tags, sep=\"\\n\")"
      ],
      "id": "d0b07fa0",
      "execution_count": null,
      "outputs": []
    },
    {
      "cell_type": "markdown",
      "metadata": {
        "id": "8bb35178"
      },
      "source": [
        "# Algorithmen anwenden"
      ],
      "id": "8bb35178"
    },
    {
      "cell_type": "markdown",
      "metadata": {
        "id": "1c7411d8"
      },
      "source": [
        "### TFIDF Vertorizer"
      ],
      "id": "1c7411d8"
    },
    {
      "cell_type": "code",
      "metadata": {
        "id": "2453744a"
      },
      "source": [
        "tfidfconvert = TfidfVectorizer(ngram_range=(3,3)).fit(df.Corpus.values)"
      ],
      "id": "2453744a",
      "execution_count": 25,
      "outputs": []
    },
    {
      "cell_type": "code",
      "metadata": {
        "id": "362e41ab",
        "colab": {
          "base_uri": "https://localhost:8080/"
        },
        "outputId": "92a1a25b-ac78-43f5-e0e7-dff88e534e11"
      },
      "source": [
        "len(tfidfconvert.vocabulary_)"
      ],
      "id": "362e41ab",
      "execution_count": 20,
      "outputs": [
        {
          "output_type": "execute_result",
          "data": {
            "text/plain": [
              "811302"
            ]
          },
          "metadata": {
            "tags": []
          },
          "execution_count": 20
        }
      ]
    },
    {
      "cell_type": "code",
      "metadata": {
        "id": "95f044e2"
      },
      "source": [
        "words_transformed = tfidfconvert.transform(df.Corpus.values)"
      ],
      "id": "95f044e2",
      "execution_count": 21,
      "outputs": []
    },
    {
      "cell_type": "code",
      "metadata": {
        "id": "PzKymALEXl7n",
        "outputId": "8b974ff5-dbf2-4e4f-e59b-a7aed70ee690",
        "colab": {
          "base_uri": "https://localhost:8080/"
        }
      },
      "source": [
        "df.Corpus"
      ],
      "id": "PzKymALEXl7n",
      "execution_count": 27,
      "outputs": [
        {
          "output_type": "execute_result",
          "data": {
            "text/plain": [
              "CAPTUM_Allergic Diseases_Omalizumab_Kasperska-Zajac 2016.pdf_out_text.txt    intern journal immunopatholog pharmacolog lett...\n",
              "CAPTUM_ASST_serverity_Chen 2017.pdf_out_text.txt                           articl type origin articl differ express patte...\n",
              "CAPTUM_Anti-IgE_TPO_Turk 2016.pdf_out_text.txt                               allergolog intern xxx content list avail scien...\n",
              "CAPTUM_Severity_Duration_Amin 2018.pdf_out_text.txt                          origin articl eur ann allergi clin immunol vol...\n",
              "CAPTUM_Total IgE_Duration_Choi 2018.pdf_out_text.txt                         origin articl korean intern med http disease-s...\n",
              "                                                                                                   ...                        \n",
              "CAPTUM_Anti-IgE_Thyroglobulin_Sun 2014.pdf_out_text.txt                      ann dermatol vol http origin articl correl ant...\n",
              "CAPTUM_D-Dimer_Antihistamine_Montjoye 2020.pdf_out_text.txt                  correl diseas activ autoimmun biolog paramet p...\n",
              "CAPTUM_Basophil_Antihistamine_Uysal 2016.pdf_out_text.txt                    origin articl¢ turk pediatri arsivi cei high-d...\n",
              "CAPTUM_D-Dimer_Omalizumab_Asero 2017  .pdf_out_text.txt                      concis report ced clinic experiment dermatolog...\n",
              "CAPTUM_BHRA_Basophil_Yasnowsky 2006.pdf_out_text.txt                         chronic urticaria serum increas basophil expre...\n",
              "Name: Corpus, Length: 1046, dtype: object"
            ]
          },
          "metadata": {
            "tags": []
          },
          "execution_count": 27
        }
      ]
    },
    {
      "cell_type": "markdown",
      "metadata": {
        "id": "6712dce8"
      },
      "source": [
        "### K-Means Clustering"
      ],
      "id": "6712dce8"
    },
    {
      "cell_type": "code",
      "metadata": {
        "id": "67d59ddc"
      },
      "source": [
        "from sklearn.cluster import KMeans"
      ],
      "id": "67d59ddc",
      "execution_count": null,
      "outputs": []
    },
    {
      "cell_type": "markdown",
      "metadata": {
        "id": "95d1b144"
      },
      "source": [
        "K-Means für mehrere k's berechnen"
      ],
      "id": "95d1b144"
    },
    {
      "cell_type": "code",
      "metadata": {
        "id": "3a8567ca",
        "colab": {
          "base_uri": "https://localhost:8080/"
        },
        "outputId": "d884a44b-0358-4068-bbcc-c19d2a1a67fc"
      },
      "source": [
        "Sum_of_squared_distances = []\n",
        "max_range = 10\n",
        "K = range(1,max_range + 1)\n",
        "for k in K: \n",
        "    print(str(k) + \"/\" + str(max_range))\n",
        "    km = KMeans(n_clusters=k)\n",
        "    km = km.fit(words_transformed)\n",
        "    Sum_of_squared_distances.append(km.inertia_)\n",
        "    "
      ],
      "id": "3a8567ca",
      "execution_count": null,
      "outputs": [
        {
          "output_type": "stream",
          "text": [
            "1/10\n",
            "2/10\n",
            "3/10\n",
            "4/10\n",
            "5/10\n",
            "6/10\n",
            "7/10\n",
            "8/10\n",
            "9/10\n"
          ],
          "name": "stdout"
        }
      ]
    },
    {
      "cell_type": "code",
      "metadata": {
        "id": "49a1714b",
        "colab": {
          "base_uri": "https://localhost:8080/",
          "height": 295
        },
        "outputId": "fee24f72-09ba-46a1-d804-a51bedf245c3"
      },
      "source": [
        "plt.plot(K,Sum_of_squared_distances, 'bx-')\n",
        "plt.xlabel('k')\n",
        "plt.ylabel('Sum_of_squared_distances')\n",
        "plt.title('Elbow Method For Optimal k')\n",
        "plt.show()"
      ],
      "id": "49a1714b",
      "execution_count": null,
      "outputs": [
        {
          "output_type": "display_data",
          "data": {
            "image/png": "[encoded data removed]",
            "text/plain": [
              "<Figure size 432x288 with 1 Axes>"
            ]
          },
          "metadata": {
            "tags": [],
            "needs_background": "light"
          }
        }
      ]
    },
    {
      "cell_type": "markdown",
      "metadata": {
        "id": "kW3Vc2n0VxMQ"
      },
      "source": [
        "# 1: A comprehensive overview of the markers / features"
      ],
      "id": "kW3Vc2n0VxMQ"
    },
    {
      "cell_type": "markdown",
      "metadata": {
        "id": "MetVakrrWdZR"
      },
      "source": [
        "Hier vorerst Marker und Features aus der Folie. Mehr kann durch Analyse der Texte oder dem Erstellen eines Dictionaries herausgefunden werden."
      ],
      "id": "MetVakrrWdZR"
    },
    {
      "cell_type": "code",
      "metadata": {
        "id": "2J_xfRVEWce6",
        "colab": {
          "base_uri": "https://localhost:8080/",
          "height": 555
        },
        "outputId": "607a6260-cd66-4cbd-d125-370c9af97817"
      },
      "source": [
        "markers = [\"Eosinopenia\", \"Basopenia\", \"IgT-anti-TPO\", \"CRP\", \"IgE\"]\n",
        "features = [\"Activity\", \"Duration\", \"Comorbid autoimmune diseases\", \"Angioedema\"]\n",
        "\n",
        "def find_markers(text):\n",
        "  found_markers = []\n",
        "  for marker in markers:\n",
        "    if marker.upper() in text.upper():\n",
        "      found_markers.append(marker)\n",
        "  return found_markers\n",
        "\n",
        "def find_features(text):\n",
        "  found_features = []\n",
        "  for feature in features:\n",
        "    if feature.upper() in text.upper():\n",
        "      found_features.append(feature)\n",
        "  return found_features\n",
        "\n",
        "df['Markers'] = df['Corpus'].apply(find_markers)\n",
        "df['Features'] = df['Corpus'].apply(find_features)\n",
        "df"
      ],
      "id": "2J_xfRVEWce6",
      "execution_count": null,
      "outputs": [
        {
          "output_type": "execute_result",
          "data": {
            "text/html": [
              "<div>\n",
              "<style scoped>\n",
              "    .dataframe tbody tr th:only-of-type {\n",
              "        vertical-align: middle;\n",
              "    }\n",
              "\n",
              "    .dataframe tbody tr th {\n",
              "        vertical-align: top;\n",
              "    }\n",
              "\n",
              "    .dataframe thead th {\n",
              "        text-align: right;\n",
              "    }\n",
              "</style>\n",
              "<table border=\"1\" class=\"dataframe\">\n",
              "  <thead>\n",
              "    <tr style=\"text-align: right;\">\n",
              "      <th></th>\n",
              "      <th>Name</th>\n",
              "      <th>Tags</th>\n",
              "      <th>Year</th>\n",
              "      <th>Content</th>\n",
              "      <th>Corpus</th>\n",
              "      <th>Markers</th>\n",
              "      <th>Features</th>\n",
              "    </tr>\n",
              "  </thead>\n",
              "  <tbody>\n",
              "    <tr>\n",
              "      <th>CAPTUM_Allergic Diseases_Omalizumab_Miller 2008.pdf_out_text.txt</th>\n",
              "      <td>Miller 2008.pdf</td>\n",
              "      <td>[Allergic Diseases, Omalizumab]</td>\n",
              "      <td>2008</td>\n",
              "      <td>[clinic, molecular, allergi, review, sever, as...</td>\n",
              "      <td>clinic molecular allergi review sever asthma o...</td>\n",
              "      <td>[IgE]</td>\n",
              "      <td>[Angioedema]</td>\n",
              "    </tr>\n",
              "    <tr>\n",
              "      <th>CAPTUM_ASST_TPO_Chanprapaph 2018 .pdf_out_text.txt</th>\n",
              "      <td>Chanprapaph 2018 .pdf</td>\n",
              "      <td>[ASST, TPO]</td>\n",
              "      <td>018</td>\n",
              "      <td>[hindawi, biom, research, intern, volum, artic...</td>\n",
              "      <td>hindawi biom research intern volum articl page...</td>\n",
              "      <td>[IgE]</td>\n",
              "      <td>[Angioedema]</td>\n",
              "    </tr>\n",
              "    <tr>\n",
              "      <th>CAPTUM_Angioedema_Antihistamine_Büyüköztürk 2012.pdf_out_text.txt</th>\n",
              "      <td>Büyüköztürk 2012.pdf</td>\n",
              "      <td>[Angioedema, Antihistamine]</td>\n",
              "      <td>2012</td>\n",
              "      <td>[japanes, dermatolog, associ, doi, origin, art...</td>\n",
              "      <td>japanes dermatolog associ doi origin articl jo...</td>\n",
              "      <td>[IgE]</td>\n",
              "      <td>[Angioedema]</td>\n",
              "    </tr>\n",
              "    <tr>\n",
              "      <th>CAPTUM_Allergic Diseases_Duration_Karaayvaz 2002.pdf_out_text.txt</th>\n",
              "      <td>Karaayvaz 2002.pdf</td>\n",
              "      <td>[Allergic Diseases, Duration]</td>\n",
              "      <td>2002</td>\n",
              "      <td>[taylor, franci, taylor, franci, group, journa...</td>\n",
              "      <td>taylor franci taylor franci group journal derm...</td>\n",
              "      <td>[CRP, IgE]</td>\n",
              "      <td>[Angioedema]</td>\n",
              "    </tr>\n",
              "    <tr>\n",
              "      <th>CAPTUM_ASST_angioedema_Magen 2011.pdf_out_text.txt</th>\n",
              "      <td>Magen 2011.pdf</td>\n",
              "      <td>[ASST, angioedema]</td>\n",
              "      <td>2011</td>\n",
              "      <td>[clinic, laboratori, featur, antihistamine-res...</td>\n",
              "      <td>clinic laboratori featur antihistamine-resist ...</td>\n",
              "      <td>[Basopenia, CRP, IgE]</td>\n",
              "      <td>[Activity, Angioedema]</td>\n",
              "    </tr>\n",
              "    <tr>\n",
              "      <th>...</th>\n",
              "      <td>...</td>\n",
              "      <td>...</td>\n",
              "      <td>...</td>\n",
              "      <td>...</td>\n",
              "      <td>...</td>\n",
              "      <td>...</td>\n",
              "      <td>...</td>\n",
              "    </tr>\n",
              "    <tr>\n",
              "      <th>CAPTUM_BAT_TPO_Sanchez 2019.pdf_out_text.txt</th>\n",
              "      <td>Sanchez 2019.pdf</td>\n",
              "      <td>[BAT, TPO]</td>\n",
              "      <td>2019</td>\n",
              "      <td>[allergi, asthma, immunol, re, jan, http, piss...</td>\n",
              "      <td>allergi asthma immunol re jan http pissn origi...</td>\n",
              "      <td>[IgE]</td>\n",
              "      <td>[Angioedema]</td>\n",
              "    </tr>\n",
              "    <tr>\n",
              "      <th>CAPTUM_Thyroglobulin_Omalizumab_Asero 2020.pdf_out_text.txt</th>\n",
              "      <td>Asero 2020.pdf</td>\n",
              "      <td>[Thyroglobulin, Omalizumab]</td>\n",
              "      <td>2020</td>\n",
              "      <td>[ical, experiment, immunolog, elit, leclrem, l...</td>\n",
              "      <td>ical experiment immunolog elit leclrem lela §o...</td>\n",
              "      <td>[IgE]</td>\n",
              "      <td>[Angioedema]</td>\n",
              "    </tr>\n",
              "    <tr>\n",
              "      <th>CAPTUM_Antihistamine_Omalizumab_Kaplan 2013.pdf_out_text.txt</th>\n",
              "      <td>Kaplan 2013.pdf</td>\n",
              "      <td>[Antihistamine, Omalizumab]</td>\n",
              "      <td>2013</td>\n",
              "      <td>[atop, dermat, skin, diseas, omalizumab, patie...</td>\n",
              "      <td>atop dermat skin diseas omalizumab patient sym...</td>\n",
              "      <td>[Basopenia, IgE]</td>\n",
              "      <td>[Angioedema]</td>\n",
              "    </tr>\n",
              "    <tr>\n",
              "      <th>CAPTUM_Allergic Diseases_Omalizumab_Crisafulli 2019.pdf_out_text.txt</th>\n",
              "      <td>Crisafulli 2019.pdf</td>\n",
              "      <td>[Allergic Diseases, Omalizumab]</td>\n",
              "      <td>2019</td>\n",
              "      <td>[crisa, italian, journal, pediatr, http, earch...</td>\n",
              "      <td>crisa italian journal pediatr http earch itali...</td>\n",
              "      <td>[IgE]</td>\n",
              "      <td>[Angioedema]</td>\n",
              "    </tr>\n",
              "    <tr>\n",
              "      <th>CAPTUM_Severity_Omalizumab_Nettis 2018.pdf_out_text.txt</th>\n",
              "      <td>Nettis 2018.pdf</td>\n",
              "      <td>[Severity, Omalizumab]</td>\n",
              "      <td>2018</td>\n",
              "      <td>[acta, dermato-venereologica, short, commun, c...</td>\n",
              "      <td>acta dermato-venereologica short commun check ...</td>\n",
              "      <td>[IgE]</td>\n",
              "      <td>[Angioedema]</td>\n",
              "    </tr>\n",
              "  </tbody>\n",
              "</table>\n",
              "<p>1046 rows × 7 columns</p>\n",
              "</div>"
            ],
            "text/plain": [
              "                                                                     Name  ...                Features\n",
              "CAPTUM_Allergic Diseases_Omalizumab_Miller 2008...        Miller 2008.pdf  ...            [Angioedema]\n",
              "CAPTUM_ASST_TPO_Chanprapaph 2018 .pdf_out_text...  Chanprapaph 2018 .pdf  ...            [Angioedema]\n",
              "CAPTUM_Angioedema_Antihistamine_Büyüköztürk 201...   Büyüköztürk 2012.pdf  ...            [Angioedema]\n",
              "CAPTUM_Allergic Diseases_Duration_Karaayvaz 200...     Karaayvaz 2002.pdf  ...            [Angioedema]\n",
              "CAPTUM_ASST_angioedema_Magen 2011.pdf_out_text...         Magen 2011.pdf  ...  [Activity, Angioedema]\n",
              "...                                                                   ...  ...                     ...\n",
              "CAPTUM_BAT_TPO_Sanchez 2019.pdf_out_text.txt             Sanchez 2019.pdf  ...            [Angioedema]\n",
              "CAPTUM_Thyroglobulin_Omalizumab_Asero 2020.pdf_...         Asero 2020.pdf  ...            [Angioedema]\n",
              "CAPTUM_Antihistamine_Omalizumab_Kaplan 2013.pdf...        Kaplan 2013.pdf  ...            [Angioedema]\n",
              "CAPTUM_Allergic Diseases_Omalizumab_Crisafulli ...    Crisafulli 2019.pdf  ...            [Angioedema]\n",
              "CAPTUM_Severity_Omalizumab_Nettis 2018.pdf_out_...        Nettis 2018.pdf  ...            [Angioedema]\n",
              "\n",
              "[1046 rows x 7 columns]"
            ]
          },
          "metadata": {
            "tags": []
          },
          "execution_count": 27
        }
      ]
    },
    {
      "cell_type": "markdown",
      "metadata": {
        "id": "KeAhKA03WAhV"
      },
      "source": [
        "# 2: To understand how the markers/features of Type IIb aiCSU are linked\n"
      ],
      "id": "KeAhKA03WAhV"
    },
    {
      "cell_type": "markdown",
      "metadata": {
        "id": "NV3iX8WyWDcU"
      },
      "source": [
        "## How strong is the link between any two given markers? ​\n",
        "\n",
        "Erste Definition Julian:\n",
        " $$link=\\frac{AB}{\\frac{A+B}{2}}$$\n"
      ],
      "id": "NV3iX8WyWDcU"
    },
    {
      "cell_type": "code",
      "metadata": {
        "id": "sGpk2cFBbQHm",
        "colab": {
          "base_uri": "https://localhost:8080/"
        },
        "outputId": "8e3842f2-c8fe-49db-b5f7-015034ae392d"
      },
      "source": [
        "def str_contains(text, a, b):\n",
        "  if a in text:\n",
        "    if b in text:\n",
        "      return True\n",
        "  return False\n",
        "\n",
        "def get_link(a, b):\n",
        "  if a == b:\n",
        "    return 1\n",
        "  # count_a = df[df.Markers.str.join(',').str.contains(a)].Markers.count()\n",
        "  # count_b = df[df.Markers.str.join(',').str.contains(b)].Markers.count()\n",
        "  # count_ab = df[df.Markers.str.join(',').str.contains(b)].Markers.count()\n",
        "  count_a = df[df.Markers.apply(str_contains, a=a, b=a)].Markers.count()\n",
        "  count_b = df[df.Markers.apply(str_contains, a=b, b=b)].Markers.count()\n",
        "  count_ab = df[df.Markers.apply(str_contains, a=a, b=b)].Markers.count()\n",
        "  return (count_ab/(0.5*(count_a+count_b)))\n",
        "\n",
        "\n",
        "link = get_link(markers[0], markers[1])\n",
        "link\n",
        "# df_x = df[df['Markers'].isin(['IgE'])]\n",
        "# df_x\n",
        "# df_x = df[all(x in  for x in [])]['Markers'].count()\n",
        "# df_x = df.Markers.to_list()\n",
        "# all(x in ['b', 'a', 'foo', 'bar'] for x in ['a', 'b'])\n",
        "\n",
        "# all(x in ['b', 'a', 'foo', 'bar'] for x in ['a', 'b'])\n",
        "# df_x\n",
        "\n",
        "\n",
        "# df[str_contains(df.Markers.str.join(','), , )]\n",
        "\n",
        "# df['Markers'].apply(str_contains, a = 'CRP', b='IgE')"
      ],
      "id": "sGpk2cFBbQHm",
      "execution_count": null,
      "outputs": [
        {
          "output_type": "execute_result",
          "data": {
            "text/plain": [
              "0.31"
            ]
          },
          "metadata": {
            "tags": []
          },
          "execution_count": 106
        }
      ]
    },
    {
      "cell_type": "code",
      "metadata": {
        "id": "ryrHJswlmUNm",
        "colab": {
          "base_uri": "https://localhost:8080/",
          "height": 204
        },
        "outputId": "646c51ef-65ff-402a-fdc6-bd9d364f511f"
      },
      "source": [
        "# df_markers = pd.DataFrame()\n",
        "# for marker_a in markers:\n",
        "#   df_markers[marker_a] = []\n",
        "#   #marker_links = []\n",
        "#   for marker_b in markers:\n",
        "#     df_markers = df_markers[marker_a].append(pd.Series(get_link(marker_a, marker_b)))\n",
        "#   #df_markers.append(marker_links)\n",
        "# df_markers\n",
        "\n",
        "# mylist = []\n",
        "# for marker in markers:\n",
        "#   mylist.append(markers)\n",
        "\n",
        "# mylist\n",
        "\n",
        "# df_markers = pd.DataFrame(markers, columns=markers)\n",
        "# df_markers\n",
        "\n",
        "\n",
        "df_markers = pd.DataFrame(index=markers, columns=markers)\n",
        "df_markers\n",
        "\n",
        "for marker_a in markers:\n",
        "  for marker_b in markers:\n",
        "    df_markers[marker_a][marker_b] = get_link(marker_a, marker_b)\n",
        "\n",
        "df_markers"
      ],
      "id": "ryrHJswlmUNm",
      "execution_count": null,
      "outputs": [
        {
          "output_type": "execute_result",
          "data": {
            "text/html": [
              "<div>\n",
              "<style scoped>\n",
              "    .dataframe tbody tr th:only-of-type {\n",
              "        vertical-align: middle;\n",
              "    }\n",
              "\n",
              "    .dataframe tbody tr th {\n",
              "        vertical-align: top;\n",
              "    }\n",
              "\n",
              "    .dataframe thead th {\n",
              "        text-align: right;\n",
              "    }\n",
              "</style>\n",
              "<table border=\"1\" class=\"dataframe\">\n",
              "  <thead>\n",
              "    <tr style=\"text-align: right;\">\n",
              "      <th></th>\n",
              "      <th>Eosinopenia</th>\n",
              "      <th>Basopenia</th>\n",
              "      <th>IgT-anti-TPO</th>\n",
              "      <th>CRP</th>\n",
              "      <th>IgE</th>\n",
              "    </tr>\n",
              "  </thead>\n",
              "  <tbody>\n",
              "    <tr>\n",
              "      <th>Eosinopenia</th>\n",
              "      <td>1</td>\n",
              "      <td>0.31</td>\n",
              "      <td>0</td>\n",
              "      <td>0.176638</td>\n",
              "      <td>0.0685484</td>\n",
              "    </tr>\n",
              "    <tr>\n",
              "      <th>Basopenia</th>\n",
              "      <td>0.31</td>\n",
              "      <td>1</td>\n",
              "      <td>0</td>\n",
              "      <td>0.360248</td>\n",
              "      <td>0.295374</td>\n",
              "    </tr>\n",
              "    <tr>\n",
              "      <th>IgT-anti-TPO</th>\n",
              "      <td>0</td>\n",
              "      <td>0</td>\n",
              "      <td>1</td>\n",
              "      <td>0</td>\n",
              "      <td>0</td>\n",
              "    </tr>\n",
              "    <tr>\n",
              "      <th>CRP</th>\n",
              "      <td>0.176638</td>\n",
              "      <td>0.360248</td>\n",
              "      <td>0</td>\n",
              "      <td>1</td>\n",
              "      <td>0.456471</td>\n",
              "    </tr>\n",
              "    <tr>\n",
              "      <th>IgE</th>\n",
              "      <td>0.0685484</td>\n",
              "      <td>0.295374</td>\n",
              "      <td>0</td>\n",
              "      <td>0.456471</td>\n",
              "      <td>1</td>\n",
              "    </tr>\n",
              "  </tbody>\n",
              "</table>\n",
              "</div>"
            ],
            "text/plain": [
              "             Eosinopenia Basopenia IgT-anti-TPO       CRP        IgE\n",
              "Eosinopenia            1      0.31            0  0.176638  0.0685484\n",
              "Basopenia           0.31         1            0  0.360248   0.295374\n",
              "IgT-anti-TPO           0         0            1         0          0\n",
              "CRP             0.176638  0.360248            0         1   0.456471\n",
              "IgE            0.0685484  0.295374            0  0.456471          1"
            ]
          },
          "metadata": {
            "tags": []
          },
          "execution_count": 130
        }
      ]
    },
    {
      "cell_type": "markdown",
      "metadata": {
        "id": "g-0JJ6AFWIzl"
      },
      "source": [
        "## Did the publication show a difference for marker a in patients stratified by marker b (and vice versa) and how big was the difference? ​"
      ],
      "id": "g-0JJ6AFWIzl"
    },
    {
      "cell_type": "markdown",
      "metadata": {
        "id": "xvmbLv-gWLn6"
      },
      "source": [
        "## Did the publication show a correlation between a and b and how strong was it? ​"
      ],
      "id": "xvmbLv-gWLn6"
    },
    {
      "cell_type": "markdown",
      "metadata": {
        "id": "my4X-cuxWOAs"
      },
      "source": [
        "## Was the result of a study that showed a link between a and b reproducible? ​\n"
      ],
      "id": "my4X-cuxWOAs"
    },
    {
      "cell_type": "markdown",
      "metadata": {
        "id": "CpLGkD8zWQnq"
      },
      "source": [
        "## How many studies confirmed the link? "
      ],
      "id": "CpLGkD8zWQnq"
    },
    {
      "cell_type": "markdown",
      "metadata": {
        "id": "6_a7XnoPWSmw"
      },
      "source": [
        "## How many studies failed to reproduce the link? ​"
      ],
      "id": "6_a7XnoPWSmw"
    },
    {
      "cell_type": "markdown",
      "metadata": {
        "id": "uIv498DZWUz_"
      },
      "source": [
        "## How good is the quality of the study that demonstrates a link (how many patients?, how well characterized?, multicenter?, prospective vs retrospective, etc….)?"
      ],
      "id": "uIv498DZWUz_"
    }
  ]
}