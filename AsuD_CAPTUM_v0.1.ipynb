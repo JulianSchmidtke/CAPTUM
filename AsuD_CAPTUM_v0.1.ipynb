{
  "nbformat": 4,
  "nbformat_minor": 5,
  "metadata": {
    "kernelspec": {
      "display_name": "Python 3",
      "language": "python",
      "name": "python3"
    },
    "language_info": {
      "codemirror_mode": {
        "name": "ipython",
        "version": 3
      },
      "file_extension": ".py",
      "mimetype": "text/x-python",
      "name": "python",
      "nbconvert_exporter": "python",
      "pygments_lexer": "ipython3",
      "version": "3.7.10"
    },
    "colab": {
      "name": "AsuD_CAPTUM_v0.1.ipynb",
      "provenance": [],
      "include_colab_link": true
    }
  },
  "cells": [
    {
      "cell_type": "markdown",
      "metadata": {
        "id": "view-in-github",
        "colab_type": "text"
      },
      "source": [
        "<a href=\"https://colab.research.google.com/github/JulianSchmidtke/CAPTUM/blob/main/AsuD_CAPTUM_v0.1.ipynb\" target=\"_parent\"><img src=\"https://colab.research.google.com/assets/colab-badge.svg\" alt=\"Open In Colab\"/></a>"
      ]
    },
    {
      "cell_type": "code",
      "metadata": {
        "id": "21aa3cc8"
      },
      "source": [
        "%matplotlib inline\n",
        "import matplotlib.pyplot as plt\n",
        "import nltk, os\n",
        "import pandas as pd\n",
        "import numpy as np\n",
        "import re\n",
        "from collections import Counter\n",
        "import shutil"
      ],
      "id": "21aa3cc8",
      "execution_count": 1,
      "outputs": []
    },
    {
      "cell_type": "code",
      "metadata": {
        "id": "y1JNnvqwhn-d",
        "colab": {
          "base_uri": "https://localhost:8080/"
        },
        "outputId": "0f8d4238-34d2-4333-e7d7-a8f8ae778bfc"
      },
      "source": [
        "os.chdir(r'/content')\n",
        "\n",
        "content_dir = r'/content/CAPTUM/'\n",
        "\n",
        "# Remove if files already exist\n",
        "while os.path.exists(content_dir): \n",
        "    shutil.rmtree(content_dir)\n",
        "\n",
        "\n",
        "!git clone https://github.com/JulianSchmidtke/CAPTUM.git"
      ],
      "id": "y1JNnvqwhn-d",
      "execution_count": 2,
      "outputs": [
        {
          "output_type": "stream",
          "text": [
            "Cloning into 'CAPTUM'...\n",
            "remote: Enumerating objects: 547, done.\u001b[K\n",
            "remote: Counting objects: 100% (547/547), done.\u001b[K\n",
            "remote: Compressing objects: 100% (524/524), done.\u001b[K\n",
            "remote: Total 547 (delta 42), reused 463 (delta 20), pack-reused 0\u001b[K\n",
            "Receiving objects: 100% (547/547), 11.75 MiB | 8.95 MiB/s, done.\n",
            "Resolving deltas: 100% (42/42), done.\n"
          ],
          "name": "stdout"
        }
      ]
    },
    {
      "cell_type": "markdown",
      "metadata": {
        "id": "R1twNnO_f3hp"
      },
      "source": [
        "# Duplikate unter den Papern entfernen anhand der Hash-Werte"
      ],
      "id": "R1twNnO_f3hp"
    },
    {
      "cell_type": "code",
      "metadata": {
        "id": "18f27004"
      },
      "source": [
        "#Arbeitsverzeichnis auf das Ordnerverzeichnis ändern, in welchem die Daten liegen (txt-Format)\n",
        "file_dir = r'/content/CAPTUM/files'\n",
        "os.chdir(file_dir)\n",
        "\n",
        "#Speichern der Dateinamen in einem Array\n",
        "files = os.listdir()\n",
        "df_files = pd.DataFrame(files, columns=['Filepath'])"
      ],
      "id": "18f27004",
      "execution_count": 3,
      "outputs": []
    },
    {
      "cell_type": "code",
      "metadata": {
        "id": "5ugMSyU0f_4n"
      },
      "source": [
        "# create checksum for each file to identify duplicates\n",
        "# https://stackoverflow.com/questions/16874598/how-do-i-calculate-the-md5-checksum-of-a-file-in-python#16876405\n",
        "import hashlib\n",
        "def get_checksum(filepath: str) -> str:\n",
        "    # Open,close, read file and calculate MD5 on its contents \n",
        "    with open(filepath, 'rb') as file_to_check:\n",
        "        # read contents of the file\n",
        "        data = file_to_check.read()    \n",
        "        # pipe contents of the file through\n",
        "        return hashlib.md5(data).hexdigest()\n",
        "df_files['Checksum'] = df_files['Filepath'].apply(get_checksum)"
      ],
      "id": "5ugMSyU0f_4n",
      "execution_count": 4,
      "outputs": []
    },
    {
      "cell_type": "code",
      "metadata": {
        "id": "62410ea9"
      },
      "source": [
        "fileNameTags = list(map(lambda fn: fn.replace('', '+').split('_')[0:-2],df_files['Filepath']))\n",
        "\n",
        "\n",
        "df_files['Name'] = [fNT[-1] for fNT in fileNameTags]\n",
        "df_files['Tags'] = [fNT[1:-1] for fNT in fileNameTags]\n",
        "df_files['Year'] = [fY[-8:-4] for fY in df_files['Name']]\n",
        "df_files['Authors'] = [fN.split(' ')[0] for fN in df_files['Name']]"
      ],
      "id": "62410ea9",
      "execution_count": 5,
      "outputs": []
    },
    {
      "cell_type": "code",
      "metadata": {
        "id": "-6NJ23USltk9",
        "colab": {
          "base_uri": "https://localhost:8080/",
          "height": 677
        },
        "outputId": "8f262662-30af-4105-d35e-f7e808a6659b"
      },
      "source": [
        "#Den Inhalt der Paper einlesen und in einen Pandas-\n",
        "df_files['Content'] = df_files['Filepath'].apply(lambda f: open(f, 'r', encoding = \"ISO-8859-1\").read())\n",
        "df_files"
      ],
      "id": "-6NJ23USltk9",
      "execution_count": 6,
      "outputs": [
        {
          "output_type": "execute_result",
          "data": {
            "text/html": [
              "<div>\n",
              "<style scoped>\n",
              "    .dataframe tbody tr th:only-of-type {\n",
              "        vertical-align: middle;\n",
              "    }\n",
              "\n",
              "    .dataframe tbody tr th {\n",
              "        vertical-align: top;\n",
              "    }\n",
              "\n",
              "    .dataframe thead th {\n",
              "        text-align: right;\n",
              "    }\n",
              "</style>\n",
              "<table border=\"1\" class=\"dataframe\">\n",
              "  <thead>\n",
              "    <tr style=\"text-align: right;\">\n",
              "      <th></th>\n",
              "      <th>Filepath</th>\n",
              "      <th>Checksum</th>\n",
              "      <th>Name</th>\n",
              "      <th>Tags</th>\n",
              "      <th>Year</th>\n",
              "      <th>Authors</th>\n",
              "      <th>Content</th>\n",
              "    </tr>\n",
              "  </thead>\n",
              "  <tbody>\n",
              "    <tr>\n",
              "      <th>0</th>\n",
              "      <td>CAPTUM_Angioedema_Antihistamine_Büyüköztürk 20...</td>\n",
              "      <td>f1c33a85bccf2333444ee3510641276d</td>\n",
              "      <td>Büyüköztürk 2012.pdf</td>\n",
              "      <td>[Angioedema, Antihistamine]</td>\n",
              "      <td>2012</td>\n",
              "      <td>Büyüköztürk</td>\n",
              "      <td>JAPANESE\\n\\nDERMATOLOGICAL\\nASSOCIATION\\n\\n \\n...</td>\n",
              "    </tr>\n",
              "    <tr>\n",
              "      <th>1</th>\n",
              "      <td>CAPTUM_Severity_Omalizumab_Baysak 2020.pdf_out...</td>\n",
              "      <td>d62e728a555e0fb6159cc7534d5b1edb</td>\n",
              "      <td>Baysak 2020.pdf</td>\n",
              "      <td>[Severity, Omalizumab]</td>\n",
              "      <td>2020</td>\n",
              "      <td>Baysak</td>\n",
              "      <td>Long-term follow-up effect of omalizumab in ch...</td>\n",
              "    </tr>\n",
              "    <tr>\n",
              "      <th>2</th>\n",
              "      <td>CAPTUM_TPO_Thyroglobulin_Gangemi 2009.pdf_out_...</td>\n",
              "      <td>b95cca90d19a65d473854603062f3923</td>\n",
              "      <td>Gangemi 2009.pdf</td>\n",
              "      <td>[TPO, Thyroglobulin]</td>\n",
              "      <td>2009</td>\n",
              "      <td>Gangemi</td>\n",
              "      <td>J. Endocrinol. Invest. 32: 107-110, 2009\\n\\nSe...</td>\n",
              "    </tr>\n",
              "    <tr>\n",
              "      <th>3</th>\n",
              "      <td>CAPTUM_Angioedema_Antihistamine_Hofman 2020.pd...</td>\n",
              "      <td>e8b7fe09fb6b8069ad49406b65949f76</td>\n",
              "      <td>Hofman 2020.pdf</td>\n",
              "      <td>[Angioedema, Antihistamine]</td>\n",
              "      <td>2020</td>\n",
              "      <td>Hofman</td>\n",
              "      <td>| ®\\nReceived: 7 June 2019 Revised: 12 Decembe...</td>\n",
              "    </tr>\n",
              "    <tr>\n",
              "      <th>4</th>\n",
              "      <td>CAPTUM_Severity_Tissue factor_Asero 2007.pdf_o...</td>\n",
              "      <td>8fc28946e318d647a4533f80f38d7a75</td>\n",
              "      <td>Asero 2007.pdf</td>\n",
              "      <td>[Severity, Tissue factor]</td>\n",
              "      <td>2007</td>\n",
              "      <td>Asero</td>\n",
              "      <td>Food allergy, anaphylaxis, dermatology, and dr...</td>\n",
              "    </tr>\n",
              "    <tr>\n",
              "      <th>...</th>\n",
              "      <td>...</td>\n",
              "      <td>...</td>\n",
              "      <td>...</td>\n",
              "      <td>...</td>\n",
              "      <td>...</td>\n",
              "      <td>...</td>\n",
              "      <td>...</td>\n",
              "    </tr>\n",
              "    <tr>\n",
              "      <th>1041</th>\n",
              "      <td>CAPTUM_Basophil_Antihistamine_Kim 2016.pdf_out...</td>\n",
              "      <td>58c4b83abea873226cc388588866c20e</td>\n",
              "      <td>Kim 2016.pdf</td>\n",
              "      <td>[Basophil, Antihistamine]</td>\n",
              "      <td>2016</td>\n",
              "      <td>Kim</td>\n",
              "      <td>OZ0z/SO/11 Uo =361SH98A 4Z&gt;IBE GAMA VOLPO NEIO...</td>\n",
              "    </tr>\n",
              "    <tr>\n",
              "      <th>1042</th>\n",
              "      <td>CAPTUM_ASST_serverity_Pathania 2019.pdf_out_...</td>\n",
              "      <td>2902b652fbb15995ca2402871eb3b2e4</td>\n",
              "      <td>Pathania 2019.pdf</td>\n",
              "      <td>[ASST+, serverity+]</td>\n",
              "      <td>2019</td>\n",
              "      <td>Pathania</td>\n",
              "      <td>World Allergy Organization Journal 12 (2019) 1...</td>\n",
              "    </tr>\n",
              "    <tr>\n",
              "      <th>1043</th>\n",
              "      <td>CAPTUM_ASST_serverity_Chang 2019.pdf_out_tex...</td>\n",
              "      <td>848f12d7e5b811838c69dd73ef66da87</td>\n",
              "      <td>Chang 2019.pdf</td>\n",
              "      <td>[ASST+, serverity+]</td>\n",
              "      <td>2019</td>\n",
              "      <td>Chang</td>\n",
              "      <td>Taylor &amp; Francis\\nTaylor &amp; Francs Group\\n\\nJou...</td>\n",
              "    </tr>\n",
              "    <tr>\n",
              "      <th>1044</th>\n",
              "      <td>CAPTUM_Anti-IgE_IL-24_Schmetzer 2017.pdf_out_t...</td>\n",
              "      <td>ddd3809b19f3e4930b7aadd99fd287a3</td>\n",
              "      <td>Schmetzer 2017.pdf</td>\n",
              "      <td>[Anti-IgE, IL-24]</td>\n",
              "      <td>2017</td>\n",
              "      <td>Schmetzer</td>\n",
              "      <td>Anaphylaxis, drug allergy, urticaria, and angi...</td>\n",
              "    </tr>\n",
              "    <tr>\n",
              "      <th>1045</th>\n",
              "      <td>CAPTUM_BAT_TPO_Sanchez 2019.pdf_out_text.txt</td>\n",
              "      <td>6a90bc3764491ae17e204dc518ccee4d</td>\n",
              "      <td>Sanchez 2019.pdf</td>\n",
              "      <td>[BAT, TPO]</td>\n",
              "      <td>2019</td>\n",
              "      <td>Sanchez</td>\n",
              "      <td>Allergy Asthma Immunol Res. 2019 Jan;11(1):29-...</td>\n",
              "    </tr>\n",
              "  </tbody>\n",
              "</table>\n",
              "<p>1046 rows × 7 columns</p>\n",
              "</div>"
            ],
            "text/plain": [
              "                                               Filepath  ...                                            Content\n",
              "0     CAPTUM_Angioedema_Antihistamine_Büyüköztürk 20...  ...  JAPANESE\\n\\nDERMATOLOGICAL\\nASSOCIATION\\n\\n \\n...\n",
              "1     CAPTUM_Severity_Omalizumab_Baysak 2020.pdf_out...  ...  Long-term follow-up effect of omalizumab in ch...\n",
              "2     CAPTUM_TPO_Thyroglobulin_Gangemi 2009.pdf_out_...  ...  J. Endocrinol. Invest. 32: 107-110, 2009\\n\\nSe...\n",
              "3     CAPTUM_Angioedema_Antihistamine_Hofman 2020.pd...  ...  | ®\\nReceived: 7 June 2019 Revised: 12 Decembe...\n",
              "4     CAPTUM_Severity_Tissue factor_Asero 2007.pdf_o...  ...  Food allergy, anaphylaxis, dermatology, and dr...\n",
              "...                                                 ...  ...                                                ...\n",
              "1041  CAPTUM_Basophil_Antihistamine_Kim 2016.pdf_out...  ...  OZ0z/SO/11 Uo =361SH98A 4Z>IBE GAMA VOLPO NEIO...\n",
              "1042  CAPTUM_ASST_serverity_Pathania 2019.pdf_out_...  ...  World Allergy Organization Journal 12 (2019) 1...\n",
              "1043  CAPTUM_ASST_serverity_Chang 2019.pdf_out_tex...  ...  Taylor & Francis\\nTaylor & Francs Group\\n\\nJou...\n",
              "1044  CAPTUM_Anti-IgE_IL-24_Schmetzer 2017.pdf_out_t...  ...  Anaphylaxis, drug allergy, urticaria, and angi...\n",
              "1045       CAPTUM_BAT_TPO_Sanchez 2019.pdf_out_text.txt  ...  Allergy Asthma Immunol Res. 2019 Jan;11(1):29-...\n",
              "\n",
              "[1046 rows x 7 columns]"
            ]
          },
          "metadata": {
            "tags": []
          },
          "execution_count": 6
        }
      ]
    },
    {
      "cell_type": "code",
      "metadata": {
        "id": "NfbR4_P9s0f_"
      },
      "source": [
        "checksums = df_files['Checksum'].unique()\n",
        "for checksum in checksums:\n",
        "    tags = df_files.loc[df_files['Checksum'] == checksum, 'Tags']\n",
        "    list_of_pair_of_tags = tags.values.ravel()\n",
        "    list_of_tags = [tag for tags in list_of_pair_of_tags for tag in tags]\n",
        "    unique_tags = pd.unique(list_of_tags)\n",
        "    df_files.loc[df_files['Checksum'] == checksum, 'Tags'] = ', '.join(map(str, unique_tags))"
      ],
      "id": "NfbR4_P9s0f_",
      "execution_count": 7,
      "outputs": []
    },
    {
      "cell_type": "code",
      "metadata": {
        "id": "riAajBNjiMCf"
      },
      "source": [
        "# create dataframe for further analytics w/o the duplicate articles\n",
        "df = df_files.drop_duplicates(subset=['Checksum'], keep='first')\n",
        "df.reset_index(inplace=True, drop=True)\n",
        "df = df.loc[:,['Authors','Year','Tags', 'Content']]"
      ],
      "id": "riAajBNjiMCf",
      "execution_count": 8,
      "outputs": []
    },
    {
      "cell_type": "markdown",
      "metadata": {
        "id": "XYlSFMEfgAwt"
      },
      "source": [
        "# Korpus erstellen"
      ],
      "id": "XYlSFMEfgAwt"
    },
    {
      "cell_type": "code",
      "metadata": {
        "id": "LFVLJt6FMzRr",
        "colab": {
          "base_uri": "https://localhost:8080/"
        },
        "outputId": "9e2a8087-23e7-41f2-9c27-613be22dd772"
      },
      "source": [
        "from nltk.stem import PorterStemmer\n",
        "from nltk.stem import WordNetLemmatizer\n",
        "from nltk.corpus import stopwords\n",
        "\n",
        "from collections import Counter\n",
        "\n",
        "from sklearn.feature_extraction.text import TfidfVectorizer\n",
        "\n",
        "nltk.download('punkt')\n",
        "nltk.download('wordnet')\n",
        "nltk.download('stopwords')"
      ],
      "id": "LFVLJt6FMzRr",
      "execution_count": 9,
      "outputs": [
        {
          "output_type": "stream",
          "text": [
            "[nltk_data] Downloading package punkt to /root/nltk_data...\n",
            "[nltk_data]   Unzipping tokenizers/punkt.zip.\n",
            "[nltk_data] Downloading package wordnet to /root/nltk_data...\n",
            "[nltk_data]   Unzipping corpora/wordnet.zip.\n",
            "[nltk_data] Downloading package stopwords to /root/nltk_data...\n",
            "[nltk_data]   Unzipping corpora/stopwords.zip.\n"
          ],
          "name": "stdout"
        },
        {
          "output_type": "execute_result",
          "data": {
            "text/plain": [
              "True"
            ]
          },
          "metadata": {
            "tags": []
          },
          "execution_count": 9
        }
      ]
    },
    {
      "cell_type": "markdown",
      "metadata": {
        "id": "-nRxEmyLRhDU"
      },
      "source": [
        "Es werden Füllwörter entfernt."
      ],
      "id": "-nRxEmyLRhDU"
    },
    {
      "cell_type": "code",
      "metadata": {
        "id": "983b795c"
      },
      "source": [
        "stop_words=set(stopwords.words(\"english\"))\n",
        "def stoppingFunc(text, stop_words=stop_words):\n",
        "    filtered_text=[]\n",
        "    for word in text:\n",
        "        # Wort unter 3 Zeichen -> weg\n",
        "        if len(word) < 3:\n",
        "          next\n",
        "        # Mehr als eine Ziffer -> weg\n",
        "        elif sum(c.isdigit() for c in word)>1:\n",
        "          next\n",
        "        # nicht in Stopword Liste -> behalten\n",
        "        elif word not in stop_words:\n",
        "          filtered_text.append(word)\n",
        "        \n",
        "    return filtered_text"
      ],
      "id": "983b795c",
      "execution_count": 10,
      "outputs": []
    },
    {
      "cell_type": "markdown",
      "metadata": {
        "id": "1Wu3O5CFRfVx"
      },
      "source": [
        "Wörter auf ihren Wortstamm reduzieren (cats -> cat, transportation -> transport)"
      ],
      "id": "1Wu3O5CFRfVx"
    },
    {
      "cell_type": "code",
      "metadata": {
        "id": "fa7a4b64"
      },
      "source": [
        "def stemmingFunc(text):\n",
        "    stemmer = PorterStemmer()\n",
        "    return [stemmer.stem(word) for word in text]"
      ],
      "id": "fa7a4b64",
      "execution_count": 11,
      "outputs": []
    },
    {
      "cell_type": "markdown",
      "metadata": {
        "id": "LDr_g2xlRdGG"
      },
      "source": [
        "Komplexere Version des Stemming. Wörter werden im Zusammenhang gesehen und reduziert. Verben werden auf den Infiitiv gesetzt usw."
      ],
      "id": "LDr_g2xlRdGG"
    },
    {
      "cell_type": "code",
      "metadata": {
        "id": "efd6f40d"
      },
      "source": [
        "def lemmatizingFunc(text):\n",
        "    lemmatizer = WordNetLemmatizer()\n",
        "    return [lemmatizer.lemmatize(word) for word in text]"
      ],
      "id": "efd6f40d",
      "execution_count": 12,
      "outputs": []
    },
    {
      "cell_type": "code",
      "metadata": {
        "id": "hjUQ6ELhBLWv"
      },
      "source": [
        "def removeWords(text):\n",
        "  filtered_text=[]\n",
        "  for word in text:\n",
        "    if word.lower() in ('csu', 'urticaria', 'doi', 'http', 'the', 'al', 'fig', \n",
        "                        'point', 'data', 'patient', 'result', 'study', 'disease', \n",
        "                        'result', 'group', 'table', 'figure', 'patient'):\n",
        "      next\n",
        "    else:\n",
        "      filtered_text.append(word)\n",
        "\n",
        "  counter = Counter(filtered_text)\n",
        "  filtered_text = [key for key, val in counter.items() if val > 1]\n",
        "\n",
        "  return filtered_text"
      ],
      "id": "hjUQ6ELhBLWv",
      "execution_count": 13,
      "outputs": []
    },
    {
      "cell_type": "code",
      "metadata": {
        "id": "8jXAdrQgT4sV"
      },
      "source": [
        "def remove_doi(text):\n",
        "  doi_regex = r\"10.\\d{4,9}\\/[-._;()\\/:A-Z0-9]+$\"\n",
        "  new_text = re.sub(doi_regex, '', text, flags=re.IGNORECASE)\n",
        "  return new_text"
      ],
      "id": "8jXAdrQgT4sV",
      "execution_count": 14,
      "outputs": []
    },
    {
      "cell_type": "code",
      "metadata": {
        "id": "QTogJ6y6EOX4",
        "colab": {
          "base_uri": "https://localhost:8080/"
        },
        "outputId": "57083690-4ce8-449e-e798-c3338305eb77"
      },
      "source": [
        "removeWords(['csu', 'TEST', 'DOI', 'doi', 'al', 'DOI'])"
      ],
      "id": "QTogJ6y6EOX4",
      "execution_count": 15,
      "outputs": [
        {
          "output_type": "execute_result",
          "data": {
            "text/plain": [
              "[]"
            ]
          },
          "metadata": {
            "tags": []
          },
          "execution_count": 15
        }
      ]
    },
    {
      "cell_type": "code",
      "metadata": {
        "id": "xKqD-XOFY8Xd"
      },
      "source": [
        "def normalize_text(tokenizer, text):\n",
        "  # lowercase text\n",
        "  text = str(text).lower()\n",
        "  # remove non-UTF\n",
        "  text = text.encode(\"utf-8\", \"ignore\").decode()\n",
        "  # remove doi\n",
        "  text = remove_doi(text)\n",
        "\n",
        "  tokenized_text = tokenizer.tokenize(text)\n",
        "\n",
        "  tokenized_text = removeWords(tokenized_text)\n",
        "  tokenized_text = stoppingFunc(tokenized_text)\n",
        "  #tokenized_text = stemmingFunc(tokenized_text)\n",
        "  tokenized_text = lemmatizingFunc(tokenized_text)\n",
        "\n",
        "  text = \" \".join(tokenized_text)\n",
        "  return text"
      ],
      "id": "xKqD-XOFY8Xd",
      "execution_count": 16,
      "outputs": []
    },
    {
      "cell_type": "code",
      "metadata": {
        "id": "gi4T7zVR-iTk"
      },
      "source": [
        "def remove_word_in_every_corpus(corpus, series):\n",
        "  words = set(series)\n",
        "  print(words)\n",
        "  return\n",
        "\n",
        "\n",
        "\n",
        "\n",
        "  new_corpus = []\n",
        "  for word in corpus:\n",
        "    in_every_corpus = True\n",
        "    for element in series:\n",
        "      if not word in element:\n",
        "        in_every_corpus = False\n",
        "    if in_every_corpus:\n",
        "      new_corpus += word\n",
        "  return new_corpus"
      ],
      "id": "gi4T7zVR-iTk",
      "execution_count": 17,
      "outputs": []
    },
    {
      "cell_type": "markdown",
      "metadata": {
        "id": "yjs1JRBiRY-I"
      },
      "source": [
        "Ich glaube es sollte entweder eine Stemming oder eine Lemmatizing Funktion angewendet werden.\n",
        "\n",
        "Ich glaube wir sollten erst Lemmatizen und dann Stopwords entfernen."
      ],
      "id": "yjs1JRBiRY-I"
    },
    {
      "cell_type": "code",
      "metadata": {
        "id": "EQ-PJE_p_K7g"
      },
      "source": [
        "regex_tokenizer = nltk.RegexpTokenizer(\"\\w+\")\n",
        "df['Corpus'] = df['Content'].apply(lambda c: normalize_text(regex_tokenizer, c))\n",
        "\n",
        "# Corpus aufräumen \n",
        "#df['Corpus'] = df['Corpus'].apply(lambda c: remove_word_in_every_corpus(c, df['Content']))\n",
        "\n",
        "\n",
        "regex_tokenizer2 = nltk.RegexpTokenizer('\\w+[\\.,]{0,1}')\n",
        "df['Corpus_w_Punctuation'] = df['Content'].apply(lambda c: normalize_text(regex_tokenizer2, c))\n"
      ],
      "id": "EQ-PJE_p_K7g",
      "execution_count": 18,
      "outputs": []
    },
    {
      "cell_type": "code",
      "metadata": {
        "id": "mxju8ng-_Gi5",
        "colab": {
          "base_uri": "https://localhost:8080/"
        },
        "outputId": "88f4e2df-8b33-4a7a-a7b6-96cf50d95d41"
      },
      "source": [
        "corpus_list = df['Content'].to_list()\n",
        "remove_word_in_every_corpus('', corpus_list)"
      ],
      "id": "mxju8ng-_Gi5",
      "execution_count": 19,
      "outputs": [
        {
          "output_type": "stream",
          "text": [
            "IOPub data rate exceeded.\n",
            "The notebook server will temporarily stop sending output\n",
            "to the client in order to avoid crashing it.\n",
            "To change this limit, set the config variable\n",
            "`--NotebookApp.iopub_data_rate_limit`.\n",
            "\n",
            "Current values:\n",
            "NotebookApp.iopub_data_rate_limit=1000000.0 (bytes/sec)\n",
            "NotebookApp.rate_limit_window=3.0 (secs)\n",
            "\n"
          ],
          "name": "stderr"
        }
      ]
    },
    {
      "cell_type": "code",
      "metadata": {
        "id": "HhxYmjBJ2iYG",
        "colab": {
          "base_uri": "https://localhost:8080/",
          "height": 1000
        },
        "outputId": "b86bb315-c307-4fc7-8449-a8d50d010059"
      },
      "source": [
        "df"
      ],
      "id": "HhxYmjBJ2iYG",
      "execution_count": 20,
      "outputs": [
        {
          "output_type": "execute_result",
          "data": {
            "text/html": [
              "<div>\n",
              "<style scoped>\n",
              "    .dataframe tbody tr th:only-of-type {\n",
              "        vertical-align: middle;\n",
              "    }\n",
              "\n",
              "    .dataframe tbody tr th {\n",
              "        vertical-align: top;\n",
              "    }\n",
              "\n",
              "    .dataframe thead th {\n",
              "        text-align: right;\n",
              "    }\n",
              "</style>\n",
              "<table border=\"1\" class=\"dataframe\">\n",
              "  <thead>\n",
              "    <tr style=\"text-align: right;\">\n",
              "      <th></th>\n",
              "      <th>Authors</th>\n",
              "      <th>Year</th>\n",
              "      <th>Tags</th>\n",
              "      <th>Content</th>\n",
              "      <th>Corpus</th>\n",
              "      <th>Corpus_w_Punctuation</th>\n",
              "    </tr>\n",
              "  </thead>\n",
              "  <tbody>\n",
              "    <tr>\n",
              "      <th>0</th>\n",
              "      <td>Büyüköztürk</td>\n",
              "      <td>2012</td>\n",
              "      <td>Angioedema, Antihistamine, Severity, Omalizumab</td>\n",
              "      <td>JAPANESE\\n\\nDERMATOLOGICAL\\nASSOCIATION\\n\\n \\n...</td>\n",
              "      <td>japanese dermatological association dermatolog...</td>\n",
              "      <td>japanese dermatological association dermatolog...</td>\n",
              "    </tr>\n",
              "    <tr>\n",
              "      <th>1</th>\n",
              "      <td>Baysak</td>\n",
              "      <td>2020</td>\n",
              "      <td>Severity, Omalizumab, CRP</td>\n",
              "      <td>Long-term follow-up effect of omalizumab in ch...</td>\n",
              "      <td>long term follow effect omalizumab chronic spo...</td>\n",
              "      <td>long term follow effect omalizumab chronic spo...</td>\n",
              "    </tr>\n",
              "    <tr>\n",
              "      <th>2</th>\n",
              "      <td>Gangemi</td>\n",
              "      <td>2009</td>\n",
              "      <td>TPO, Thyroglobulin, Duration</td>\n",
              "      <td>J. Endocrinol. Invest. 32: 107-110, 2009\\n\\nSe...</td>\n",
              "      <td>endocrinol invest serum thyroid autoantibody p...</td>\n",
              "      <td>endocrinol. invest. serum thyroid autoantibody...</td>\n",
              "    </tr>\n",
              "    <tr>\n",
              "      <th>3</th>\n",
              "      <td>Hofman</td>\n",
              "      <td>2020</td>\n",
              "      <td>Angioedema, Antihistamine, Severity</td>\n",
              "      <td>| ®\\nReceived: 7 June 2019 Revised: 12 Decembe...</td>\n",
              "      <td>received revised december cea original article...</td>\n",
              "      <td>received revised december cea. original articl...</td>\n",
              "    </tr>\n",
              "    <tr>\n",
              "      <th>4</th>\n",
              "      <td>Asero</td>\n",
              "      <td>2007</td>\n",
              "      <td>Severity, Tissue factor, D-Dimer</td>\n",
              "      <td>Food allergy, anaphylaxis, dermatology, and dr...</td>\n",
              "      <td>allergy dermatology drug activation tissue fac...</td>\n",
              "      <td>allergy, drug allergy activation tissue factor...</td>\n",
              "    </tr>\n",
              "    <tr>\n",
              "      <th>...</th>\n",
              "      <td>...</td>\n",
              "      <td>...</td>\n",
              "      <td>...</td>\n",
              "      <td>...</td>\n",
              "      <td>...</td>\n",
              "      <td>...</td>\n",
              "    </tr>\n",
              "    <tr>\n",
              "      <th>449</th>\n",
              "      <td>Kasumagic-Halilovic</td>\n",
              "      <td>2017</td>\n",
              "      <td>TPO, Thyroglobulin</td>\n",
              "      <td>Published online:05/02/2017\\n\\nORIGINAL PAPER\\...</td>\n",
              "      <td>published original paper med arch feb accepted...</td>\n",
              "      <td>published original paper med arch. feb accepte...</td>\n",
              "    </tr>\n",
              "    <tr>\n",
              "      <th>450</th>\n",
              "      <td>Altrichter</td>\n",
              "      <td>2020</td>\n",
              "      <td>Eosinophil, Allergic Diseases</td>\n",
              "      <td>Current perspectives\\n\\nThe role of eosinophil...</td>\n",
              "      <td>role eosinophil chronic spontaneous update alt...</td>\n",
              "      <td>role eosinophil chronic spontaneous update md,...</td>\n",
              "    </tr>\n",
              "    <tr>\n",
              "      <th>451</th>\n",
              "      <td>Sánchez</td>\n",
              "      <td>2019</td>\n",
              "      <td>TPO, Severity</td>\n",
              "      <td>Hindawi\\n\\nJournal of Immunology Research\\n\\nV...</td>\n",
              "      <td>journal immunology research article page clini...</td>\n",
              "      <td>journal immunology research article clinical c...</td>\n",
              "    </tr>\n",
              "    <tr>\n",
              "      <th>452</th>\n",
              "      <td>Asero</td>\n",
              "      <td>020</td>\n",
              "      <td>D-Dimer, Omalizumab</td>\n",
              "      <td>CHRONIC SPONTANEOUS URTICARIA TREATED WITH OMA...</td>\n",
              "      <td>chronic spontaneous treated omalizumab early l...</td>\n",
              "      <td>chronic spontaneous treated omalizumab early l...</td>\n",
              "    </tr>\n",
              "    <tr>\n",
              "      <th>453</th>\n",
              "      <td>Chang</td>\n",
              "      <td>2019</td>\n",
              "      <td>ASST+, serverity+</td>\n",
              "      <td>Taylor &amp; Francis\\nTaylor &amp; Francs Group\\n\\nJou...</td>\n",
              "      <td>taylor francis journal dermatological treatmen...</td>\n",
              "      <td>taylor francis journal dermatological treatmen...</td>\n",
              "    </tr>\n",
              "  </tbody>\n",
              "</table>\n",
              "<p>454 rows × 6 columns</p>\n",
              "</div>"
            ],
            "text/plain": [
              "                 Authors  ...                               Corpus_w_Punctuation\n",
              "0            Büyüköztürk  ...  japanese dermatological association dermatolog...\n",
              "1                 Baysak  ...  long term follow effect omalizumab chronic spo...\n",
              "2                Gangemi  ...  endocrinol. invest. serum thyroid autoantibody...\n",
              "3                 Hofman  ...  received revised december cea. original articl...\n",
              "4                  Asero  ...  allergy, drug allergy activation tissue factor...\n",
              "..                   ...  ...                                                ...\n",
              "449  Kasumagic-Halilovic  ...  published original paper med arch. feb accepte...\n",
              "450           Altrichter  ...  role eosinophil chronic spontaneous update md,...\n",
              "451              Sánchez  ...  journal immunology research article clinical c...\n",
              "452                Asero  ...  chronic spontaneous treated omalizumab early l...\n",
              "453                Chang  ...  taylor francis journal dermatological treatmen...\n",
              "\n",
              "[454 rows x 6 columns]"
            ]
          },
          "metadata": {
            "tags": []
          },
          "execution_count": 20
        }
      ]
    },
    {
      "cell_type": "markdown",
      "metadata": {
        "id": "BPVoM5XU5WGq"
      },
      "source": [
        "# Wordcloud\n"
      ],
      "id": "BPVoM5XU5WGq"
    },
    {
      "cell_type": "code",
      "metadata": {
        "id": "sLfPfxb45leF",
        "colab": {
          "base_uri": "https://localhost:8080/"
        },
        "outputId": "d0705e93-00b9-4bd5-9106-1c45a5592c05"
      },
      "source": [
        "!pip install wordcloud\n",
        "\n",
        "from wordcloud import WordCloud"
      ],
      "id": "sLfPfxb45leF",
      "execution_count": null,
      "outputs": [
        {
          "output_type": "stream",
          "text": [
            "Requirement already satisfied: wordcloud in /usr/local/lib/python3.7/dist-packages (1.5.0)\n",
            "Requirement already satisfied: pillow in /usr/local/lib/python3.7/dist-packages (from wordcloud) (7.1.2)\n",
            "Requirement already satisfied: numpy>=1.6.1 in /usr/local/lib/python3.7/dist-packages (from wordcloud) (1.19.5)\n"
          ],
          "name": "stdout"
        }
      ]
    },
    {
      "cell_type": "code",
      "metadata": {
        "id": "NV_k2aSr5YhZ",
        "colab": {
          "base_uri": "https://localhost:8080/",
          "height": 248
        },
        "outputId": "953fe0b2-63e0-4b98-a683-479c1c03baf5"
      },
      "source": [
        "words = ' '.join(list(df['Corpus']))\n",
        "wordcloud = WordCloud(width=1000, height=1000, max_words=1000).generate(words)\n",
        "wordcloud.to_file(\"../../first_review.png\")\n",
        "\n",
        "plt.imshow(wordcloud, interpolation='bilinear')\n",
        "plt.axis(\"off\")\n",
        "plt.show()"
      ],
      "id": "NV_k2aSr5YhZ",
      "execution_count": null,
      "outputs": [
        {
          "output_type": "display_data",
          "data": {
            "image/png": "[encoded data removed]",
            "text/plain": [
              "<Figure size 432x288 with 1 Axes>"
            ]
          },
          "metadata": {
            "tags": [],
            "needs_background": "light"
          }
        }
      ]
    },
    {
      "cell_type": "markdown",
      "metadata": {
        "id": "hCuEEMfP4-Y4"
      },
      "source": [
        "# Distinct Tags"
      ],
      "id": "hCuEEMfP4-Y4"
    },
    {
      "cell_type": "code",
      "metadata": {
        "id": "StvfVkx226jA",
        "colab": {
          "base_uri": "https://localhost:8080/"
        },
        "outputId": "746af628-aea5-48ae-b3c0-a933ff1a90a0"
      },
      "source": [
        "type(list(df['Tags']))\n",
        "tags = set(', '.join(list(df['Tags'])).split(', '))\n",
        "print(*tags, sep=\"\\n\")"
      ],
      "id": "StvfVkx226jA",
      "execution_count": null,
      "outputs": [
        {
          "output_type": "stream",
          "text": [
            "Angioedema\n",
            "Antihistamine\n",
            "Omalizumab\n",
            "Anti-IgE\n",
            "Severity\n",
            "Total IgE\n",
            "TPO\n",
            "anti-FcεRI\n",
            "Ana\n",
            "ASST+\n",
            "CRP\n",
            "serverity+\n",
            "duration\n",
            "Basophil count\n",
            "BAT\n",
            "Eosinophil count\n",
            "Tissue factor\n",
            "omalizumab\n",
            "Duration\n",
            "thyroglobulin\n",
            "Allergic Diseases\n",
            "dsDNA\n",
            "Thyroglobulin\n",
            "angioedema\n",
            "anti-TPO IgE ratio+\n",
            "Basophil\n",
            "BHRA\n",
            "Cyclosporine\n",
            "D-Dimer\n",
            "IL-24\n",
            "cyclosporine\n",
            "Eosinophil\n",
            "ANA\n"
          ],
          "name": "stdout"
        }
      ]
    },
    {
      "cell_type": "markdown",
      "metadata": {
        "id": "8bb35178"
      },
      "source": [
        "# Algorithmen anwenden"
      ],
      "id": "8bb35178"
    },
    {
      "cell_type": "markdown",
      "metadata": {
        "id": "T4RAqPjcZSY4"
      },
      "source": [
        "### ScispaCy"
      ],
      "id": "T4RAqPjcZSY4"
    },
    {
      "cell_type": "code",
      "metadata": {
        "id": "6JlnzphOZVZ7",
        "colab": {
          "base_uri": "https://localhost:8080/"
        },
        "outputId": "a8bd5256-8d1c-499a-9eeb-d95b50300c05"
      },
      "source": [
        "!pip install spacy==3.1.0\n",
        "!pip install scispacy==0.4.0\n",
        "!pip install https://s3-us-west-2.amazonaws.com/ai2-s2-scispacy/releases/v0.4.0/en_ner_bionlp13cg_md-0.4.0.tar.gz\n",
        "!pip install https://s3-us-west-2.amazonaws.com/ai2-s2-scispacy/releases/v0.4.0/en_core_sci_sm-0.4.0.tar.gz"
      ],
      "id": "6JlnzphOZVZ7",
      "execution_count": 21,
      "outputs": [
        {
          "output_type": "stream",
          "text": [
            "Collecting spacy==3.1.0\n",
            "  Downloading spacy-3.1.0-cp37-cp37m-manylinux_2_17_x86_64.manylinux2014_x86_64.whl (6.4 MB)\n",
            "\u001b[K     |████████████████████████████████| 6.4 MB 3.8 MB/s \n",
            "\u001b[?25hRequirement already satisfied: tqdm<5.0.0,>=4.38.0 in /usr/local/lib/python3.7/dist-packages (from spacy==3.1.0) (4.41.1)\n",
            "Collecting thinc<8.1.0,>=8.0.7\n",
            "  Downloading thinc-8.0.8-cp37-cp37m-manylinux_2_17_x86_64.manylinux2014_x86_64.whl (621 kB)\n",
            "\u001b[K     |████████████████████████████████| 621 kB 43.6 MB/s \n",
            "\u001b[?25hCollecting pathy>=0.3.5\n",
            "  Downloading pathy-0.6.0-py3-none-any.whl (42 kB)\n",
            "\u001b[K     |████████████████████████████████| 42 kB 1.4 MB/s \n",
            "\u001b[?25hRequirement already satisfied: blis<0.8.0,>=0.4.0 in /usr/local/lib/python3.7/dist-packages (from spacy==3.1.0) (0.4.1)\n",
            "Collecting spacy-legacy<3.1.0,>=3.0.7\n",
            "  Downloading spacy_legacy-3.0.8-py2.py3-none-any.whl (14 kB)\n",
            "Requirement already satisfied: typing-extensions<4.0.0.0,>=3.7.4 in /usr/local/lib/python3.7/dist-packages (from spacy==3.1.0) (3.7.4.3)\n",
            "Requirement already satisfied: preshed<3.1.0,>=3.0.2 in /usr/local/lib/python3.7/dist-packages (from spacy==3.1.0) (3.0.5)\n",
            "Requirement already satisfied: murmurhash<1.1.0,>=0.28.0 in /usr/local/lib/python3.7/dist-packages (from spacy==3.1.0) (1.0.5)\n",
            "Requirement already satisfied: jinja2 in /usr/local/lib/python3.7/dist-packages (from spacy==3.1.0) (2.11.3)\n",
            "Collecting typer<0.4.0,>=0.3.0\n",
            "  Downloading typer-0.3.2-py3-none-any.whl (21 kB)\n",
            "Requirement already satisfied: cymem<2.1.0,>=2.0.2 in /usr/local/lib/python3.7/dist-packages (from spacy==3.1.0) (2.0.5)\n",
            "Collecting catalogue<2.1.0,>=2.0.4\n",
            "  Downloading catalogue-2.0.4-py3-none-any.whl (16 kB)\n",
            "Requirement already satisfied: numpy>=1.15.0 in /usr/local/lib/python3.7/dist-packages (from spacy==3.1.0) (1.19.5)\n",
            "Requirement already satisfied: wasabi<1.1.0,>=0.8.1 in /usr/local/lib/python3.7/dist-packages (from spacy==3.1.0) (0.8.2)\n",
            "Requirement already satisfied: setuptools in /usr/local/lib/python3.7/dist-packages (from spacy==3.1.0) (57.2.0)\n",
            "Collecting srsly<3.0.0,>=2.4.1\n",
            "  Downloading srsly-2.4.1-cp37-cp37m-manylinux2014_x86_64.whl (456 kB)\n",
            "\u001b[K     |████████████████████████████████| 456 kB 26.5 MB/s \n",
            "\u001b[?25hRequirement already satisfied: requests<3.0.0,>=2.13.0 in /usr/local/lib/python3.7/dist-packages (from spacy==3.1.0) (2.23.0)\n",
            "Requirement already satisfied: packaging>=20.0 in /usr/local/lib/python3.7/dist-packages (from spacy==3.1.0) (21.0)\n",
            "Collecting pydantic!=1.8,!=1.8.1,<1.9.0,>=1.7.4\n",
            "  Downloading pydantic-1.8.2-cp37-cp37m-manylinux2014_x86_64.whl (10.1 MB)\n",
            "\u001b[K     |████████████████████████████████| 10.1 MB 47.9 MB/s \n",
            "\u001b[?25hRequirement already satisfied: zipp>=0.5 in /usr/local/lib/python3.7/dist-packages (from catalogue<2.1.0,>=2.0.4->spacy==3.1.0) (3.5.0)\n",
            "Requirement already satisfied: pyparsing>=2.0.2 in /usr/local/lib/python3.7/dist-packages (from packaging>=20.0->spacy==3.1.0) (2.4.7)\n",
            "Requirement already satisfied: smart-open<6.0.0,>=5.0.0 in /usr/local/lib/python3.7/dist-packages (from pathy>=0.3.5->spacy==3.1.0) (5.1.0)\n",
            "Requirement already satisfied: certifi>=2017.4.17 in /usr/local/lib/python3.7/dist-packages (from requests<3.0.0,>=2.13.0->spacy==3.1.0) (2021.5.30)\n",
            "Requirement already satisfied: chardet<4,>=3.0.2 in /usr/local/lib/python3.7/dist-packages (from requests<3.0.0,>=2.13.0->spacy==3.1.0) (3.0.4)\n",
            "Requirement already satisfied: urllib3!=1.25.0,!=1.25.1,<1.26,>=1.21.1 in /usr/local/lib/python3.7/dist-packages (from requests<3.0.0,>=2.13.0->spacy==3.1.0) (1.24.3)\n",
            "Requirement already satisfied: idna<3,>=2.5 in /usr/local/lib/python3.7/dist-packages (from requests<3.0.0,>=2.13.0->spacy==3.1.0) (2.10)\n",
            "Requirement already satisfied: click<7.2.0,>=7.1.1 in /usr/local/lib/python3.7/dist-packages (from typer<0.4.0,>=0.3.0->spacy==3.1.0) (7.1.2)\n",
            "Requirement already satisfied: MarkupSafe>=0.23 in /usr/local/lib/python3.7/dist-packages (from jinja2->spacy==3.1.0) (2.0.1)\n",
            "Installing collected packages: catalogue, typer, srsly, pydantic, thinc, spacy-legacy, pathy, spacy\n",
            "  Attempting uninstall: catalogue\n",
            "    Found existing installation: catalogue 1.0.0\n",
            "    Uninstalling catalogue-1.0.0:\n",
            "      Successfully uninstalled catalogue-1.0.0\n",
            "  Attempting uninstall: srsly\n",
            "    Found existing installation: srsly 1.0.5\n",
            "    Uninstalling srsly-1.0.5:\n",
            "      Successfully uninstalled srsly-1.0.5\n",
            "  Attempting uninstall: thinc\n",
            "    Found existing installation: thinc 7.4.0\n",
            "    Uninstalling thinc-7.4.0:\n",
            "      Successfully uninstalled thinc-7.4.0\n",
            "  Attempting uninstall: spacy\n",
            "    Found existing installation: spacy 2.2.4\n",
            "    Uninstalling spacy-2.2.4:\n",
            "      Successfully uninstalled spacy-2.2.4\n",
            "Successfully installed catalogue-2.0.4 pathy-0.6.0 pydantic-1.8.2 spacy-3.1.0 spacy-legacy-3.0.8 srsly-2.4.1 thinc-8.0.8 typer-0.3.2\n",
            "Collecting scispacy==0.4.0\n",
            "  Downloading scispacy-0.4.0-py3-none-any.whl (44 kB)\n",
            "\u001b[K     |████████████████████████████████| 44 kB 1.1 MB/s \n",
            "\u001b[?25hRequirement already satisfied: scikit-learn>=0.20.3 in /usr/local/lib/python3.7/dist-packages (from scispacy==0.4.0) (0.22.2.post1)\n",
            "Collecting pysbd\n",
            "  Downloading pysbd-0.3.4-py3-none-any.whl (71 kB)\n",
            "\u001b[K     |████████████████████████████████| 71 kB 3.7 MB/s \n",
            "\u001b[?25hCollecting conllu\n",
            "  Downloading conllu-4.4-py2.py3-none-any.whl (15 kB)\n",
            "Requirement already satisfied: joblib in /usr/local/lib/python3.7/dist-packages (from scispacy==0.4.0) (1.0.1)\n",
            "Requirement already satisfied: numpy in /usr/local/lib/python3.7/dist-packages (from scispacy==0.4.0) (1.19.5)\n",
            "Requirement already satisfied: requests<3.0.0,>=2.0.0 in /usr/local/lib/python3.7/dist-packages (from scispacy==0.4.0) (2.23.0)\n",
            "Collecting nmslib>=1.7.3.6\n",
            "  Downloading nmslib-2.1.1-cp37-cp37m-manylinux2010_x86_64.whl (13.5 MB)\n",
            "\u001b[K     |████████████████████████████████| 13.5 MB 73 kB/s \n",
            "\u001b[?25hCollecting spacy<3.1.0,>=3.0.0\n",
            "  Downloading spacy-3.0.7-cp37-cp37m-manylinux_2_17_x86_64.manylinux2014_x86_64.whl (6.3 MB)\n",
            "\u001b[K     |████████████████████████████████| 6.3 MB 38.8 MB/s \n",
            "\u001b[?25hRequirement already satisfied: psutil in /usr/local/lib/python3.7/dist-packages (from nmslib>=1.7.3.6->scispacy==0.4.0) (5.4.8)\n",
            "Collecting pybind11<2.6.2\n",
            "  Downloading pybind11-2.6.1-py2.py3-none-any.whl (188 kB)\n",
            "\u001b[K     |████████████████████████████████| 188 kB 35.4 MB/s \n",
            "\u001b[?25hRequirement already satisfied: chardet<4,>=3.0.2 in /usr/local/lib/python3.7/dist-packages (from requests<3.0.0,>=2.0.0->scispacy==0.4.0) (3.0.4)\n",
            "Requirement already satisfied: idna<3,>=2.5 in /usr/local/lib/python3.7/dist-packages (from requests<3.0.0,>=2.0.0->scispacy==0.4.0) (2.10)\n",
            "Requirement already satisfied: urllib3!=1.25.0,!=1.25.1,<1.26,>=1.21.1 in /usr/local/lib/python3.7/dist-packages (from requests<3.0.0,>=2.0.0->scispacy==0.4.0) (1.24.3)\n",
            "Requirement already satisfied: certifi>=2017.4.17 in /usr/local/lib/python3.7/dist-packages (from requests<3.0.0,>=2.0.0->scispacy==0.4.0) (2021.5.30)\n",
            "Requirement already satisfied: scipy>=0.17.0 in /usr/local/lib/python3.7/dist-packages (from scikit-learn>=0.20.3->scispacy==0.4.0) (1.4.1)\n",
            "Requirement already satisfied: pydantic!=1.8,!=1.8.1,<1.9.0,>=1.7.4 in /usr/local/lib/python3.7/dist-packages (from spacy<3.1.0,>=3.0.0->scispacy==0.4.0) (1.8.2)\n",
            "Requirement already satisfied: typer<0.4.0,>=0.3.0 in /usr/local/lib/python3.7/dist-packages (from spacy<3.1.0,>=3.0.0->scispacy==0.4.0) (0.3.2)\n",
            "Requirement already satisfied: spacy-legacy<3.1.0,>=3.0.5 in /usr/local/lib/python3.7/dist-packages (from spacy<3.1.0,>=3.0.0->scispacy==0.4.0) (3.0.8)\n",
            "Requirement already satisfied: thinc<8.1.0,>=8.0.3 in /usr/local/lib/python3.7/dist-packages (from spacy<3.1.0,>=3.0.0->scispacy==0.4.0) (8.0.8)\n",
            "Requirement already satisfied: jinja2 in /usr/local/lib/python3.7/dist-packages (from spacy<3.1.0,>=3.0.0->scispacy==0.4.0) (2.11.3)\n",
            "Requirement already satisfied: setuptools in /usr/local/lib/python3.7/dist-packages (from spacy<3.1.0,>=3.0.0->scispacy==0.4.0) (57.2.0)\n",
            "Requirement already satisfied: wasabi<1.1.0,>=0.8.1 in /usr/local/lib/python3.7/dist-packages (from spacy<3.1.0,>=3.0.0->scispacy==0.4.0) (0.8.2)\n",
            "Requirement already satisfied: blis<0.8.0,>=0.4.0 in /usr/local/lib/python3.7/dist-packages (from spacy<3.1.0,>=3.0.0->scispacy==0.4.0) (0.4.1)\n",
            "Requirement already satisfied: tqdm<5.0.0,>=4.38.0 in /usr/local/lib/python3.7/dist-packages (from spacy<3.1.0,>=3.0.0->scispacy==0.4.0) (4.41.1)\n",
            "Requirement already satisfied: packaging>=20.0 in /usr/local/lib/python3.7/dist-packages (from spacy<3.1.0,>=3.0.0->scispacy==0.4.0) (21.0)\n",
            "Requirement already satisfied: srsly<3.0.0,>=2.4.1 in /usr/local/lib/python3.7/dist-packages (from spacy<3.1.0,>=3.0.0->scispacy==0.4.0) (2.4.1)\n",
            "Requirement already satisfied: cymem<2.1.0,>=2.0.2 in /usr/local/lib/python3.7/dist-packages (from spacy<3.1.0,>=3.0.0->scispacy==0.4.0) (2.0.5)\n",
            "Requirement already satisfied: catalogue<2.1.0,>=2.0.4 in /usr/local/lib/python3.7/dist-packages (from spacy<3.1.0,>=3.0.0->scispacy==0.4.0) (2.0.4)\n",
            "Requirement already satisfied: murmurhash<1.1.0,>=0.28.0 in /usr/local/lib/python3.7/dist-packages (from spacy<3.1.0,>=3.0.0->scispacy==0.4.0) (1.0.5)\n",
            "Requirement already satisfied: preshed<3.1.0,>=3.0.2 in /usr/local/lib/python3.7/dist-packages (from spacy<3.1.0,>=3.0.0->scispacy==0.4.0) (3.0.5)\n",
            "Requirement already satisfied: typing-extensions<4.0.0.0,>=3.7.4 in /usr/local/lib/python3.7/dist-packages (from spacy<3.1.0,>=3.0.0->scispacy==0.4.0) (3.7.4.3)\n",
            "Requirement already satisfied: pathy>=0.3.5 in /usr/local/lib/python3.7/dist-packages (from spacy<3.1.0,>=3.0.0->scispacy==0.4.0) (0.6.0)\n",
            "Requirement already satisfied: zipp>=0.5 in /usr/local/lib/python3.7/dist-packages (from catalogue<2.1.0,>=2.0.4->spacy<3.1.0,>=3.0.0->scispacy==0.4.0) (3.5.0)\n",
            "Requirement already satisfied: pyparsing>=2.0.2 in /usr/local/lib/python3.7/dist-packages (from packaging>=20.0->spacy<3.1.0,>=3.0.0->scispacy==0.4.0) (2.4.7)\n",
            "Requirement already satisfied: smart-open<6.0.0,>=5.0.0 in /usr/local/lib/python3.7/dist-packages (from pathy>=0.3.5->spacy<3.1.0,>=3.0.0->scispacy==0.4.0) (5.1.0)\n",
            "Requirement already satisfied: click<7.2.0,>=7.1.1 in /usr/local/lib/python3.7/dist-packages (from typer<0.4.0,>=0.3.0->spacy<3.1.0,>=3.0.0->scispacy==0.4.0) (7.1.2)\n",
            "Requirement already satisfied: MarkupSafe>=0.23 in /usr/local/lib/python3.7/dist-packages (from jinja2->spacy<3.1.0,>=3.0.0->scispacy==0.4.0) (2.0.1)\n",
            "Installing collected packages: pybind11, spacy, pysbd, nmslib, conllu, scispacy\n",
            "  Attempting uninstall: spacy\n",
            "    Found existing installation: spacy 3.1.0\n",
            "    Uninstalling spacy-3.1.0:\n",
            "      Successfully uninstalled spacy-3.1.0\n",
            "Successfully installed conllu-4.4 nmslib-2.1.1 pybind11-2.6.1 pysbd-0.3.4 scispacy-0.4.0 spacy-3.0.7\n",
            "Collecting https://s3-us-west-2.amazonaws.com/ai2-s2-scispacy/releases/v0.4.0/en_ner_bionlp13cg_md-0.4.0.tar.gz\n",
            "  Downloading https://s3-us-west-2.amazonaws.com/ai2-s2-scispacy/releases/v0.4.0/en_ner_bionlp13cg_md-0.4.0.tar.gz (125.1 MB)\n",
            "\u001b[K     |████████████████████████████████| 125.1 MB 43 kB/s \n",
            "\u001b[?25hRequirement already satisfied: spacy<3.1.0,>=3.0.1 in /usr/local/lib/python3.7/dist-packages (from en-ner-bionlp13cg-md==0.4.0) (3.0.7)\n",
            "Requirement already satisfied: srsly<3.0.0,>=2.4.1 in /usr/local/lib/python3.7/dist-packages (from spacy<3.1.0,>=3.0.1->en-ner-bionlp13cg-md==0.4.0) (2.4.1)\n",
            "Requirement already satisfied: pydantic!=1.8,!=1.8.1,<1.9.0,>=1.7.4 in /usr/local/lib/python3.7/dist-packages (from spacy<3.1.0,>=3.0.1->en-ner-bionlp13cg-md==0.4.0) (1.8.2)\n",
            "Requirement already satisfied: typer<0.4.0,>=0.3.0 in /usr/local/lib/python3.7/dist-packages (from spacy<3.1.0,>=3.0.1->en-ner-bionlp13cg-md==0.4.0) (0.3.2)\n",
            "Requirement already satisfied: murmurhash<1.1.0,>=0.28.0 in /usr/local/lib/python3.7/dist-packages (from spacy<3.1.0,>=3.0.1->en-ner-bionlp13cg-md==0.4.0) (1.0.5)\n",
            "Requirement already satisfied: jinja2 in /usr/local/lib/python3.7/dist-packages (from spacy<3.1.0,>=3.0.1->en-ner-bionlp13cg-md==0.4.0) (2.11.3)\n",
            "Requirement already satisfied: pathy>=0.3.5 in /usr/local/lib/python3.7/dist-packages (from spacy<3.1.0,>=3.0.1->en-ner-bionlp13cg-md==0.4.0) (0.6.0)\n",
            "Requirement already satisfied: requests<3.0.0,>=2.13.0 in /usr/local/lib/python3.7/dist-packages (from spacy<3.1.0,>=3.0.1->en-ner-bionlp13cg-md==0.4.0) (2.23.0)\n",
            "Requirement already satisfied: preshed<3.1.0,>=3.0.2 in /usr/local/lib/python3.7/dist-packages (from spacy<3.1.0,>=3.0.1->en-ner-bionlp13cg-md==0.4.0) (3.0.5)\n",
            "Requirement already satisfied: numpy>=1.15.0 in /usr/local/lib/python3.7/dist-packages (from spacy<3.1.0,>=3.0.1->en-ner-bionlp13cg-md==0.4.0) (1.19.5)\n",
            "Requirement already satisfied: wasabi<1.1.0,>=0.8.1 in /usr/local/lib/python3.7/dist-packages (from spacy<3.1.0,>=3.0.1->en-ner-bionlp13cg-md==0.4.0) (0.8.2)\n",
            "Requirement already satisfied: catalogue<2.1.0,>=2.0.4 in /usr/local/lib/python3.7/dist-packages (from spacy<3.1.0,>=3.0.1->en-ner-bionlp13cg-md==0.4.0) (2.0.4)\n",
            "Requirement already satisfied: packaging>=20.0 in /usr/local/lib/python3.7/dist-packages (from spacy<3.1.0,>=3.0.1->en-ner-bionlp13cg-md==0.4.0) (21.0)\n",
            "Requirement already satisfied: cymem<2.1.0,>=2.0.2 in /usr/local/lib/python3.7/dist-packages (from spacy<3.1.0,>=3.0.1->en-ner-bionlp13cg-md==0.4.0) (2.0.5)\n",
            "Requirement already satisfied: blis<0.8.0,>=0.4.0 in /usr/local/lib/python3.7/dist-packages (from spacy<3.1.0,>=3.0.1->en-ner-bionlp13cg-md==0.4.0) (0.4.1)\n",
            "Requirement already satisfied: tqdm<5.0.0,>=4.38.0 in /usr/local/lib/python3.7/dist-packages (from spacy<3.1.0,>=3.0.1->en-ner-bionlp13cg-md==0.4.0) (4.41.1)\n",
            "Requirement already satisfied: spacy-legacy<3.1.0,>=3.0.5 in /usr/local/lib/python3.7/dist-packages (from spacy<3.1.0,>=3.0.1->en-ner-bionlp13cg-md==0.4.0) (3.0.8)\n",
            "Requirement already satisfied: thinc<8.1.0,>=8.0.3 in /usr/local/lib/python3.7/dist-packages (from spacy<3.1.0,>=3.0.1->en-ner-bionlp13cg-md==0.4.0) (8.0.8)\n",
            "Requirement already satisfied: setuptools in /usr/local/lib/python3.7/dist-packages (from spacy<3.1.0,>=3.0.1->en-ner-bionlp13cg-md==0.4.0) (57.2.0)\n",
            "Requirement already satisfied: typing-extensions<4.0.0.0,>=3.7.4 in /usr/local/lib/python3.7/dist-packages (from spacy<3.1.0,>=3.0.1->en-ner-bionlp13cg-md==0.4.0) (3.7.4.3)\n",
            "Requirement already satisfied: zipp>=0.5 in /usr/local/lib/python3.7/dist-packages (from catalogue<2.1.0,>=2.0.4->spacy<3.1.0,>=3.0.1->en-ner-bionlp13cg-md==0.4.0) (3.5.0)\n",
            "Requirement already satisfied: pyparsing>=2.0.2 in /usr/local/lib/python3.7/dist-packages (from packaging>=20.0->spacy<3.1.0,>=3.0.1->en-ner-bionlp13cg-md==0.4.0) (2.4.7)\n",
            "Requirement already satisfied: smart-open<6.0.0,>=5.0.0 in /usr/local/lib/python3.7/dist-packages (from pathy>=0.3.5->spacy<3.1.0,>=3.0.1->en-ner-bionlp13cg-md==0.4.0) (5.1.0)\n",
            "Requirement already satisfied: chardet<4,>=3.0.2 in /usr/local/lib/python3.7/dist-packages (from requests<3.0.0,>=2.13.0->spacy<3.1.0,>=3.0.1->en-ner-bionlp13cg-md==0.4.0) (3.0.4)\n",
            "Requirement already satisfied: certifi>=2017.4.17 in /usr/local/lib/python3.7/dist-packages (from requests<3.0.0,>=2.13.0->spacy<3.1.0,>=3.0.1->en-ner-bionlp13cg-md==0.4.0) (2021.5.30)\n",
            "Requirement already satisfied: idna<3,>=2.5 in /usr/local/lib/python3.7/dist-packages (from requests<3.0.0,>=2.13.0->spacy<3.1.0,>=3.0.1->en-ner-bionlp13cg-md==0.4.0) (2.10)\n",
            "Requirement already satisfied: urllib3!=1.25.0,!=1.25.1,<1.26,>=1.21.1 in /usr/local/lib/python3.7/dist-packages (from requests<3.0.0,>=2.13.0->spacy<3.1.0,>=3.0.1->en-ner-bionlp13cg-md==0.4.0) (1.24.3)\n",
            "Requirement already satisfied: click<7.2.0,>=7.1.1 in /usr/local/lib/python3.7/dist-packages (from typer<0.4.0,>=0.3.0->spacy<3.1.0,>=3.0.1->en-ner-bionlp13cg-md==0.4.0) (7.1.2)\n",
            "Requirement already satisfied: MarkupSafe>=0.23 in /usr/local/lib/python3.7/dist-packages (from jinja2->spacy<3.1.0,>=3.0.1->en-ner-bionlp13cg-md==0.4.0) (2.0.1)\n",
            "Building wheels for collected packages: en-ner-bionlp13cg-md\n",
            "  Building wheel for en-ner-bionlp13cg-md (setup.py) ... \u001b[?25l\u001b[?25hdone\n",
            "  Created wheel for en-ner-bionlp13cg-md: filename=en_ner_bionlp13cg_md-0.4.0-py3-none-any.whl size=125679333 sha256=24d8f396af5e721ccf868421c9b410b11aac89427ed2c8274ff75e48f8169bc6\n",
            "  Stored in directory: /root/.cache/pip/wheels/dd/33/4a/14c949fd6eac7b0b20f15f111f1d3a2847e26e509d0a184d3d\n",
            "Successfully built en-ner-bionlp13cg-md\n",
            "Installing collected packages: en-ner-bionlp13cg-md\n",
            "Successfully installed en-ner-bionlp13cg-md-0.4.0\n",
            "Collecting https://s3-us-west-2.amazonaws.com/ai2-s2-scispacy/releases/v0.4.0/en_core_sci_sm-0.4.0.tar.gz\n",
            "  Downloading https://s3-us-west-2.amazonaws.com/ai2-s2-scispacy/releases/v0.4.0/en_core_sci_sm-0.4.0.tar.gz (15.6 MB)\n",
            "\u001b[K     |████████████████████████████████| 15.6 MB 146 kB/s \n",
            "\u001b[?25hRequirement already satisfied: spacy<3.1.0,>=3.0.1 in /usr/local/lib/python3.7/dist-packages (from en-core-sci-sm==0.4.0) (3.0.7)\n",
            "Requirement already satisfied: requests<3.0.0,>=2.13.0 in /usr/local/lib/python3.7/dist-packages (from spacy<3.1.0,>=3.0.1->en-core-sci-sm==0.4.0) (2.23.0)\n",
            "Requirement already satisfied: srsly<3.0.0,>=2.4.1 in /usr/local/lib/python3.7/dist-packages (from spacy<3.1.0,>=3.0.1->en-core-sci-sm==0.4.0) (2.4.1)\n",
            "Requirement already satisfied: jinja2 in /usr/local/lib/python3.7/dist-packages (from spacy<3.1.0,>=3.0.1->en-core-sci-sm==0.4.0) (2.11.3)\n",
            "Requirement already satisfied: packaging>=20.0 in /usr/local/lib/python3.7/dist-packages (from spacy<3.1.0,>=3.0.1->en-core-sci-sm==0.4.0) (21.0)\n",
            "Requirement already satisfied: numpy>=1.15.0 in /usr/local/lib/python3.7/dist-packages (from spacy<3.1.0,>=3.0.1->en-core-sci-sm==0.4.0) (1.19.5)\n",
            "Requirement already satisfied: murmurhash<1.1.0,>=0.28.0 in /usr/local/lib/python3.7/dist-packages (from spacy<3.1.0,>=3.0.1->en-core-sci-sm==0.4.0) (1.0.5)\n",
            "Requirement already satisfied: typing-extensions<4.0.0.0,>=3.7.4 in /usr/local/lib/python3.7/dist-packages (from spacy<3.1.0,>=3.0.1->en-core-sci-sm==0.4.0) (3.7.4.3)\n",
            "Requirement already satisfied: spacy-legacy<3.1.0,>=3.0.5 in /usr/local/lib/python3.7/dist-packages (from spacy<3.1.0,>=3.0.1->en-core-sci-sm==0.4.0) (3.0.8)\n",
            "Requirement already satisfied: tqdm<5.0.0,>=4.38.0 in /usr/local/lib/python3.7/dist-packages (from spacy<3.1.0,>=3.0.1->en-core-sci-sm==0.4.0) (4.41.1)\n",
            "Requirement already satisfied: setuptools in /usr/local/lib/python3.7/dist-packages (from spacy<3.1.0,>=3.0.1->en-core-sci-sm==0.4.0) (57.2.0)\n",
            "Requirement already satisfied: thinc<8.1.0,>=8.0.3 in /usr/local/lib/python3.7/dist-packages (from spacy<3.1.0,>=3.0.1->en-core-sci-sm==0.4.0) (8.0.8)\n",
            "Requirement already satisfied: pathy>=0.3.5 in /usr/local/lib/python3.7/dist-packages (from spacy<3.1.0,>=3.0.1->en-core-sci-sm==0.4.0) (0.6.0)\n",
            "Requirement already satisfied: preshed<3.1.0,>=3.0.2 in /usr/local/lib/python3.7/dist-packages (from spacy<3.1.0,>=3.0.1->en-core-sci-sm==0.4.0) (3.0.5)\n",
            "Requirement already satisfied: blis<0.8.0,>=0.4.0 in /usr/local/lib/python3.7/dist-packages (from spacy<3.1.0,>=3.0.1->en-core-sci-sm==0.4.0) (0.4.1)\n",
            "Requirement already satisfied: wasabi<1.1.0,>=0.8.1 in /usr/local/lib/python3.7/dist-packages (from spacy<3.1.0,>=3.0.1->en-core-sci-sm==0.4.0) (0.8.2)\n",
            "Requirement already satisfied: pydantic!=1.8,!=1.8.1,<1.9.0,>=1.7.4 in /usr/local/lib/python3.7/dist-packages (from spacy<3.1.0,>=3.0.1->en-core-sci-sm==0.4.0) (1.8.2)\n",
            "Requirement already satisfied: catalogue<2.1.0,>=2.0.4 in /usr/local/lib/python3.7/dist-packages (from spacy<3.1.0,>=3.0.1->en-core-sci-sm==0.4.0) (2.0.4)\n",
            "Requirement already satisfied: typer<0.4.0,>=0.3.0 in /usr/local/lib/python3.7/dist-packages (from spacy<3.1.0,>=3.0.1->en-core-sci-sm==0.4.0) (0.3.2)\n",
            "Requirement already satisfied: cymem<2.1.0,>=2.0.2 in /usr/local/lib/python3.7/dist-packages (from spacy<3.1.0,>=3.0.1->en-core-sci-sm==0.4.0) (2.0.5)\n",
            "Requirement already satisfied: zipp>=0.5 in /usr/local/lib/python3.7/dist-packages (from catalogue<2.1.0,>=2.0.4->spacy<3.1.0,>=3.0.1->en-core-sci-sm==0.4.0) (3.5.0)\n",
            "Requirement already satisfied: pyparsing>=2.0.2 in /usr/local/lib/python3.7/dist-packages (from packaging>=20.0->spacy<3.1.0,>=3.0.1->en-core-sci-sm==0.4.0) (2.4.7)\n",
            "Requirement already satisfied: smart-open<6.0.0,>=5.0.0 in /usr/local/lib/python3.7/dist-packages (from pathy>=0.3.5->spacy<3.1.0,>=3.0.1->en-core-sci-sm==0.4.0) (5.1.0)\n",
            "Requirement already satisfied: urllib3!=1.25.0,!=1.25.1,<1.26,>=1.21.1 in /usr/local/lib/python3.7/dist-packages (from requests<3.0.0,>=2.13.0->spacy<3.1.0,>=3.0.1->en-core-sci-sm==0.4.0) (1.24.3)\n",
            "Requirement already satisfied: idna<3,>=2.5 in /usr/local/lib/python3.7/dist-packages (from requests<3.0.0,>=2.13.0->spacy<3.1.0,>=3.0.1->en-core-sci-sm==0.4.0) (2.10)\n",
            "Requirement already satisfied: certifi>=2017.4.17 in /usr/local/lib/python3.7/dist-packages (from requests<3.0.0,>=2.13.0->spacy<3.1.0,>=3.0.1->en-core-sci-sm==0.4.0) (2021.5.30)\n",
            "Requirement already satisfied: chardet<4,>=3.0.2 in /usr/local/lib/python3.7/dist-packages (from requests<3.0.0,>=2.13.0->spacy<3.1.0,>=3.0.1->en-core-sci-sm==0.4.0) (3.0.4)\n",
            "Requirement already satisfied: click<7.2.0,>=7.1.1 in /usr/local/lib/python3.7/dist-packages (from typer<0.4.0,>=0.3.0->spacy<3.1.0,>=3.0.1->en-core-sci-sm==0.4.0) (7.1.2)\n",
            "Requirement already satisfied: MarkupSafe>=0.23 in /usr/local/lib/python3.7/dist-packages (from jinja2->spacy<3.1.0,>=3.0.1->en-core-sci-sm==0.4.0) (2.0.1)\n",
            "Building wheels for collected packages: en-core-sci-sm\n",
            "  Building wheel for en-core-sci-sm (setup.py) ... \u001b[?25l\u001b[?25hdone\n",
            "  Created wheel for en-core-sci-sm: filename=en_core_sci_sm-0.4.0-py3-none-any.whl size=15660351 sha256=55904593cef441ef33e90cacfa7d579902636d649514ccf20aabcfd24a25db76\n",
            "  Stored in directory: /root/.cache/pip/wheels/31/4b/3a/03f2732eb69789a7df3bf29c1bc010f660ada5f3c295d4073c\n",
            "Successfully built en-core-sci-sm\n",
            "Installing collected packages: en-core-sci-sm\n",
            "Successfully installed en-core-sci-sm-0.4.0\n"
          ],
          "name": "stdout"
        }
      ]
    },
    {
      "cell_type": "code",
      "metadata": {
        "id": "PTchhU9LZkIT"
      },
      "source": [
        "import spacy\n",
        "import scispacy\n",
        "\n",
        "from spacy import displacy\n",
        "from scispacy.abbreviation import AbbreviationDetector\n",
        "from scispacy.linking import EntityLinker\n",
        "from collections import OrderedDict, Counter\n",
        "from pprint import pprint\n"
      ],
      "id": "PTchhU9LZkIT",
      "execution_count": 22,
      "outputs": []
    },
    {
      "cell_type": "code",
      "metadata": {
        "id": "N2CihlcPZrA1"
      },
      "source": [
        "\n",
        "def display_entities(model, document):\n",
        "  doc = nlp(document)\n",
        "  displacy_image = displacy.render(doc, jupyter=True, style='ent')\n",
        "  entity_and_label = set([(X.text, X.label_) for X in doc.ents])\n",
        "  return displacy_image, entity_and_label"
      ],
      "id": "N2CihlcPZrA1",
      "execution_count": 24,
      "outputs": []
    },
    {
      "cell_type": "code",
      "metadata": {
        "id": "-QkOlsuvZzc4",
        "colab": {
          "base_uri": "https://localhost:8080/",
          "height": 807
        },
        "outputId": "8797130b-28c3-40a2-a02f-3def78f868d5"
      },
      "source": [
        "#As an example print the first Corpus from the df with the recogniced entities.\n",
        "nlp = spacy.load('en_ner_bionlp13cg_md')\n",
        "entities = display_entities(nlp, df['Corpus_w_Punctuation'][0])"
      ],
      "id": "-QkOlsuvZzc4",
      "execution_count": 25,
      "outputs": [
        {
          "output_type": "display_data",
          "data": {
            "text/html": [
              "<span class=\"tex2jax_ignore\"><div class=\"entities\" style=\"line-height: 2.5; direction: ltr\">japanese dermatological association dermatology \n",
              "<mark class=\"entity\" style=\"background: #ddd; padding: 0.45em 0.6em; margin: 0 0.25em; line-height: 1; border-radius: 0.35em;\">\n",
              "    omalizumab\n",
              "    <span style=\"font-size: 0.8em; font-weight: bold; line-height: 1; border-radius: 0.35em; vertical-align: middle; margin-left: 0.5rem\">SIMPLE_CHEMICAL</span>\n",
              "</mark>\n",
              " markedly improves activity score quality life chronic spontaneous \n",
              "<mark class=\"entity\" style=\"background: #ddd; padding: 0.45em 0.6em; margin: 0 0.25em; line-height: 1; border-radius: 0.35em;\">\n",
              "    patient\n",
              "    <span style=\"font-size: 0.8em; font-weight: bold; line-height: 1; border-radius: 0.35em; vertical-align: middle; margin-left: 0.5rem\">ORGANISM</span>\n",
              "</mark>\n",
              " real asli \n",
              "<mark class=\"entity\" style=\"background: #ddd; padding: 0.45em 0.6em; margin: 0 0.25em; line-height: 1; border-radius: 0.35em;\">\n",
              "    gelincik\n",
              "    <span style=\"font-size: 0.8em; font-weight: bold; line-height: 1; border-radius: 0.35em; vertical-align: middle; margin-left: 0.5rem\">GENE_OR_GENE_PRODUCT</span>\n",
              "</mark>\n",
              ", department internal medicine, division allergy, istanbul faculty university, istanbul, treatment consists \n",
              "<mark class=\"entity\" style=\"background: #ddd; padding: 0.45em 0.6em; margin: 0 0.25em; line-height: 1; border-radius: 0.35em;\">\n",
              "    antihistamine first\n",
              "    <span style=\"font-size: 0.8em; font-weight: bold; line-height: 1; border-radius: 0.35em; vertical-align: middle; margin-left: 0.5rem\">GENE_OR_GENE_PRODUCT</span>\n",
              "</mark>\n",
              " line treatment. severe symptoms, combination necessary well dose augmentations. guideline suggest possibility using resistant cases, therapy still investigational. treated two idiopathic recurrent angioedema omalizumab, benefited recommended \n",
              "<mark class=\"entity\" style=\"background: #ddd; padding: 0.45em 0.6em; margin: 0 0.25em; line-height: 1; border-radius: 0.35em;\">\n",
              "    line\n",
              "    <span style=\"font-size: 0.8em; font-weight: bold; line-height: 1; border-radius: 0.35em; vertical-align: middle; margin-left: 0.5rem\">CELL</span>\n",
              "</mark>\n",
              ", second third evaluate efficacy \n",
              "<mark class=\"entity\" style=\"background: #ddd; padding: 0.45em 0.6em; margin: 0 0.25em; line-height: 1; border-radius: 0.35em;\">\n",
              "    uas q2ol\n",
              "    <span style=\"font-size: 0.8em; font-weight: bold; line-height: 1; border-radius: 0.35em; vertical-align: middle; margin-left: 0.5rem\">ORGANISM</span>\n",
              "</mark>\n",
              " baseline, end sixth month therapy. dosage interval according suggested asthma displayed significant improvement \n",
              "<mark class=\"entity\" style=\"background: #ddd; padding: 0.45em 0.6em; margin: 0 0.25em; line-height: 1; border-radius: 0.35em;\">\n",
              "    patients\n",
              "    <span style=\"font-size: 0.8em; font-weight: bold; line-height: 1; border-radius: 0.35em; vertical-align: middle; margin-left: 0.5rem\">ORGANISM</span>\n",
              "</mark>\n",
              ". none reported adverse effect submission data. result show \n",
              "<mark class=\"entity\" style=\"background: #ddd; padding: 0.45em 0.6em; margin: 0 0.25em; line-height: 1; border-radius: 0.35em;\">\n",
              "    skin\n",
              "    <span style=\"font-size: 0.8em; font-weight: bold; line-height: 1; border-radius: 0.35em; vertical-align: middle; margin-left: 0.5rem\">ORGAN</span>\n",
              "</mark>\n",
              " characterized \n",
              "<mark class=\"entity\" style=\"background: #ddd; padding: 0.45em 0.6em; margin: 0 0.25em; line-height: 1; border-radius: 0.35em;\">\n",
              "    wheal\n",
              "    <span style=\"font-size: 0.8em; font-weight: bold; line-height: 1; border-radius: 0.35em; vertical-align: middle; margin-left: 0.5rem\">IMMATERIAL_ANATOMICAL_ENTITY</span>\n",
              "</mark>\n",
              " angioedema. current guideline european clinical \n",
              "<mark class=\"entity\" style=\"background: #ddd; padding: 0.45em 0.6em; margin: 0 0.25em; line-height: 1; border-radius: 0.35em;\">\n",
              "    eaaci network\n",
              "    <span style=\"font-size: 0.8em; font-weight: bold; line-height: 1; border-radius: 0.35em; vertical-align: middle; margin-left: 0.5rem\">PATHOLOGICAL_FORMATION</span>\n",
              "</mark>\n",
              " allergy len edf wao use \n",
              "<mark class=\"entity\" style=\"background: #ddd; padding: 0.45em 0.6em; margin: 0 0.25em; line-height: 1; border-radius: 0.35em;\">\n",
              "    corticosteroids\n",
              "    <span style=\"font-size: 0.8em; font-weight: bold; line-height: 1; border-radius: 0.35em; vertical-align: middle; margin-left: 0.5rem\">SIMPLE_CHEMICAL</span>\n",
              "</mark>\n",
              ". symptom daily regular csu. increasing every fourth need \n",
              "<mark class=\"entity\" style=\"background: #ddd; padding: 0.45em 0.6em; margin: 0 0.25em; line-height: 1; border-radius: 0.35em;\">\n",
              "    corticosteroid frequent must angioedema\n",
              "    <span style=\"font-size: 0.8em; font-weight: bold; line-height: 1; border-radius: 0.35em; vertical-align: middle; margin-left: 0.5rem\">SIMPLE_CHEMICAL</span>\n",
              "</mark>\n",
              ", urticaria, life. \n",
              "<mark class=\"entity\" style=\"background: #ddd; padding: 0.45em 0.6em; margin: 0 0.25em; line-height: 1; border-radius: 0.35em;\">\n",
              "    cyclosporin\n",
              "    <span style=\"font-size: 0.8em; font-weight: bold; line-height: 1; border-radius: 0.35em; vertical-align: middle; margin-left: 0.5rem\">SIMPLE_CHEMICAL</span>\n",
              "</mark>\n",
              " demonstrated effective antibody \n",
              "<mark class=\"entity\" style=\"background: #ddd; padding: 0.45em 0.6em; margin: 0 0.25em; line-height: 1; border-radius: 0.35em;\">\n",
              "    immunoglobulin fceri surface mast\n",
              "    <span style=\"font-size: 0.8em; font-weight: bold; line-height: 1; border-radius: 0.35em; vertical-align: middle; margin-left: 0.5rem\">GENE_OR_GENE_PRODUCT</span>\n",
              "</mark>\n",
              " included apart different found one kaplan al. published placebo demonstrating \n",
              "<mark class=\"entity\" style=\"background: #ddd; padding: 0.45em 0.6em; margin: 0 0.25em; line-height: 1; border-radius: 0.35em;\">\n",
              "    antihistamine\n",
              "    <span style=\"font-size: 0.8em; font-weight: bold; line-height: 1; border-radius: 0.35em; vertical-align: middle; margin-left: 0.5rem\">SIMPLE_CHEMICAL</span>\n",
              "</mark>\n",
              " cu. option recently, groffik responded \n",
              "<mark class=\"entity\" style=\"background: #ddd; padding: 0.45em 0.6em; margin: 0 0.25em; line-height: 1; border-radius: 0.35em;\">\n",
              "    omalizumab\n",
              "    <span style=\"font-size: 0.8em; font-weight: bold; line-height: 1; border-radius: 0.35em; vertical-align: middle; margin-left: 0.5rem\">SIMPLE_CHEMICAL</span>\n",
              "</mark>\n",
              ". biiyiikéztiirk improved twelve month year definition, classification diagnosis urticaria. except no. laboratory examination including autoimmune autologous \n",
              "<mark class=\"entity\" style=\"background: #ddd; padding: 0.45em 0.6em; margin: 0 0.25em; line-height: 1; border-radius: 0.35em;\">\n",
              "    serum\n",
              "    <span style=\"font-size: 0.8em; font-weight: bold; line-height: 1; border-radius: 0.35em; vertical-align: middle; margin-left: 0.5rem\">ORGANISM_SUBSTANCE</span>\n",
              "</mark>\n",
              " test asst high level anti \n",
              "<mark class=\"entity\" style=\"background: #ddd; padding: 0.45em 0.6em; margin: 0 0.25em; line-height: 1; border-radius: 0.35em;\">\n",
              "    thyroid peroxidase\n",
              "    <span style=\"font-size: 0.8em; font-weight: bold; line-height: 1; border-radius: 0.35em; vertical-align: middle; margin-left: 0.5rem\">CANCER</span>\n",
              "</mark>\n",
              " response food three despite \n",
              "<mark class=\"entity\" style=\"background: #ddd; padding: 0.45em 0.6em; margin: 0 0.25em; line-height: 1; border-radius: 0.35em;\">\n",
              "    patients\n",
              "    <span style=\"font-size: 0.8em; font-weight: bold; line-height: 1; border-radius: 0.35em; vertical-align: middle; margin-left: 0.5rem\">ORGANISM</span>\n",
              "</mark>\n",
              ", nos. attack many attacks, impaired also benefit danazol medication cu, permission individual drug calculated based ige initial case week number total score sum pruritus could turkish version recently kocattirk scale pruritus, impact sleep limit used difference baseline questionnaires. dos yr csu, week pretreatment 1st 6th follow significantly beginning control questionnaire compared improvement take suffer qol great observed receiving similar index \n",
              "<mark class=\"entity\" style=\"background: #ddd; padding: 0.45em 0.6em; margin: 0 0.25em; line-height: 1; border-radius: 0.35em;\">\n",
              "    dlqi vestergaard deleuran\n",
              "    <span style=\"font-size: 0.8em; font-weight: bold; line-height: 1; border-radius: 0.35em; vertical-align: middle; margin-left: 0.5rem\">GENE_OR_GENE_PRODUCT</span>\n",
              "</mark>\n",
              " reduced maurer clearly refractory decrease continued rescue although needed release \n",
              "<mark class=\"entity\" style=\"background: #ddd; padding: 0.45em 0.6em; margin: 0 0.25em; line-height: 1; border-radius: 0.35em;\">\n",
              "    cell noga\n",
              "    <span style=\"font-size: 0.8em; font-weight: bold; line-height: 1; border-radius: 0.35em; vertical-align: middle; margin-left: 0.5rem\">CELLULAR_COMPONENT</span>\n",
              "</mark>\n",
              " inflammatory downregulation lemoli new tolerated safety time \n",
              "<mark class=\"entity\" style=\"background: #ddd; padding: 0.45em 0.6em; margin: 0 0.25em; line-height: 1; border-radius: 0.35em;\">\n",
              "    zuberbier asero\n",
              "    <span style=\"font-size: 0.8em; font-weight: bold; line-height: 1; border-radius: 0.35em; vertical-align: middle; margin-left: 0.5rem\">ORGANISM</span>\n",
              "</mark>\n",
              " bindslev jensen effect ann \n",
              "<mark class=\"entity\" style=\"background: #ddd; padding: 0.45em 0.6em; margin: 0 0.25em; line-height: 1; border-radius: 0.35em;\">\n",
              "    immunol clin staubach baiardini pasquali\n",
              "    <span style=\"font-size: 0.8em; font-weight: bold; line-height: 1; border-radius: 0.35em; vertical-align: middle; margin-left: 0.5rem\">SIMPLE_CHEMICAL</span>\n",
              "</mark>\n",
              " questionnaire acta derm venereol dermatol</div></span>"
            ],
            "text/plain": [
              "<IPython.core.display.HTML object>"
            ]
          },
          "metadata": {
            "tags": []
          }
        }
      ]
    },
    {
      "cell_type": "code",
      "metadata": {
        "id": "6EKyYmRKaDLS",
        "colab": {
          "base_uri": "https://localhost:8080/",
          "height": 700
        },
        "outputId": "37482d59-c203-46f6-f695-5515992ef863"
      },
      "source": [
        "entities_dataframe = pd.DataFrame(entities[1],columns=['Entity','Label'])\n",
        "entities_dataframe"
      ],
      "id": "6EKyYmRKaDLS",
      "execution_count": 26,
      "outputs": [
        {
          "output_type": "execute_result",
          "data": {
            "text/html": [
              "<div>\n",
              "<style scoped>\n",
              "    .dataframe tbody tr th:only-of-type {\n",
              "        vertical-align: middle;\n",
              "    }\n",
              "\n",
              "    .dataframe tbody tr th {\n",
              "        vertical-align: top;\n",
              "    }\n",
              "\n",
              "    .dataframe thead th {\n",
              "        text-align: right;\n",
              "    }\n",
              "</style>\n",
              "<table border=\"1\" class=\"dataframe\">\n",
              "  <thead>\n",
              "    <tr style=\"text-align: right;\">\n",
              "      <th></th>\n",
              "      <th>Entity</th>\n",
              "      <th>Label</th>\n",
              "    </tr>\n",
              "  </thead>\n",
              "  <tbody>\n",
              "    <tr>\n",
              "      <th>0</th>\n",
              "      <td>skin</td>\n",
              "      <td>ORGAN</td>\n",
              "    </tr>\n",
              "    <tr>\n",
              "      <th>1</th>\n",
              "      <td>immunoglobulin fceri surface mast</td>\n",
              "      <td>GENE_OR_GENE_PRODUCT</td>\n",
              "    </tr>\n",
              "    <tr>\n",
              "      <th>2</th>\n",
              "      <td>cell noga</td>\n",
              "      <td>CELLULAR_COMPONENT</td>\n",
              "    </tr>\n",
              "    <tr>\n",
              "      <th>3</th>\n",
              "      <td>corticosteroids</td>\n",
              "      <td>SIMPLE_CHEMICAL</td>\n",
              "    </tr>\n",
              "    <tr>\n",
              "      <th>4</th>\n",
              "      <td>line</td>\n",
              "      <td>CELL</td>\n",
              "    </tr>\n",
              "    <tr>\n",
              "      <th>5</th>\n",
              "      <td>patients</td>\n",
              "      <td>ORGANISM</td>\n",
              "    </tr>\n",
              "    <tr>\n",
              "      <th>6</th>\n",
              "      <td>corticosteroid frequent must angioedema</td>\n",
              "      <td>SIMPLE_CHEMICAL</td>\n",
              "    </tr>\n",
              "    <tr>\n",
              "      <th>7</th>\n",
              "      <td>omalizumab</td>\n",
              "      <td>SIMPLE_CHEMICAL</td>\n",
              "    </tr>\n",
              "    <tr>\n",
              "      <th>8</th>\n",
              "      <td>thyroid peroxidase</td>\n",
              "      <td>CANCER</td>\n",
              "    </tr>\n",
              "    <tr>\n",
              "      <th>9</th>\n",
              "      <td>antihistamine first</td>\n",
              "      <td>GENE_OR_GENE_PRODUCT</td>\n",
              "    </tr>\n",
              "    <tr>\n",
              "      <th>10</th>\n",
              "      <td>immunol clin staubach baiardini pasquali</td>\n",
              "      <td>SIMPLE_CHEMICAL</td>\n",
              "    </tr>\n",
              "    <tr>\n",
              "      <th>11</th>\n",
              "      <td>eaaci network</td>\n",
              "      <td>PATHOLOGICAL_FORMATION</td>\n",
              "    </tr>\n",
              "    <tr>\n",
              "      <th>12</th>\n",
              "      <td>gelincik</td>\n",
              "      <td>GENE_OR_GENE_PRODUCT</td>\n",
              "    </tr>\n",
              "    <tr>\n",
              "      <th>13</th>\n",
              "      <td>uas q2ol</td>\n",
              "      <td>ORGANISM</td>\n",
              "    </tr>\n",
              "    <tr>\n",
              "      <th>14</th>\n",
              "      <td>patient</td>\n",
              "      <td>ORGANISM</td>\n",
              "    </tr>\n",
              "    <tr>\n",
              "      <th>15</th>\n",
              "      <td>serum</td>\n",
              "      <td>ORGANISM_SUBSTANCE</td>\n",
              "    </tr>\n",
              "    <tr>\n",
              "      <th>16</th>\n",
              "      <td>cyclosporin</td>\n",
              "      <td>SIMPLE_CHEMICAL</td>\n",
              "    </tr>\n",
              "    <tr>\n",
              "      <th>17</th>\n",
              "      <td>dlqi vestergaard deleuran</td>\n",
              "      <td>GENE_OR_GENE_PRODUCT</td>\n",
              "    </tr>\n",
              "    <tr>\n",
              "      <th>18</th>\n",
              "      <td>antihistamine</td>\n",
              "      <td>SIMPLE_CHEMICAL</td>\n",
              "    </tr>\n",
              "    <tr>\n",
              "      <th>19</th>\n",
              "      <td>wheal</td>\n",
              "      <td>IMMATERIAL_ANATOMICAL_ENTITY</td>\n",
              "    </tr>\n",
              "    <tr>\n",
              "      <th>20</th>\n",
              "      <td>zuberbier asero</td>\n",
              "      <td>ORGANISM</td>\n",
              "    </tr>\n",
              "  </tbody>\n",
              "</table>\n",
              "</div>"
            ],
            "text/plain": [
              "                                      Entity                         Label\n",
              "0                                       skin                         ORGAN\n",
              "1          immunoglobulin fceri surface mast          GENE_OR_GENE_PRODUCT\n",
              "2                                  cell noga            CELLULAR_COMPONENT\n",
              "3                            corticosteroids               SIMPLE_CHEMICAL\n",
              "4                                       line                          CELL\n",
              "5                                   patients                      ORGANISM\n",
              "6    corticosteroid frequent must angioedema               SIMPLE_CHEMICAL\n",
              "7                                 omalizumab               SIMPLE_CHEMICAL\n",
              "8                         thyroid peroxidase                        CANCER\n",
              "9                        antihistamine first          GENE_OR_GENE_PRODUCT\n",
              "10  immunol clin staubach baiardini pasquali               SIMPLE_CHEMICAL\n",
              "11                             eaaci network        PATHOLOGICAL_FORMATION\n",
              "12                                  gelincik          GENE_OR_GENE_PRODUCT\n",
              "13                                  uas q2ol                      ORGANISM\n",
              "14                                   patient                      ORGANISM\n",
              "15                                     serum            ORGANISM_SUBSTANCE\n",
              "16                               cyclosporin               SIMPLE_CHEMICAL\n",
              "17                 dlqi vestergaard deleuran          GENE_OR_GENE_PRODUCT\n",
              "18                             antihistamine               SIMPLE_CHEMICAL\n",
              "19                                     wheal  IMMATERIAL_ANATOMICAL_ENTITY\n",
              "20                           zuberbier asero                      ORGANISM"
            ]
          },
          "metadata": {
            "tags": []
          },
          "execution_count": 26
        }
      ]
    },
    {
      "cell_type": "code",
      "metadata": {
        "id": "5hotGj2nZ1aK"
      },
      "source": [
        "def entity_linker(linker_name,document):\n",
        "  \"\"\"A function tha accepts the name of a scispacy knowledgebase and \n",
        "  documents and returns the entity link details\"\"\"\n",
        "  \n",
        "  doc = nlp(document)\n",
        "  try: \n",
        "    entity = doc.ents[0]\n",
        "  except IndexError:\n",
        "    entity = 'NaN'\n",
        "  entity_details = []\n",
        "  entity_details.append(entity)\n",
        "  try:\n",
        "    for linker_ent in entity._.kb_ents:\n",
        "      Concept_Id, Score = linker_ent\n",
        "      entity_details.appen('Entity_matching_Score :{}'.format(Score))\n",
        "      entity_details.append(linker.kb.cui_to_entity[linker_ent[linker_ent[0]]])\n",
        "  except AttributeError:\n",
        "    pass\n",
        "  return entity_details"
      ],
      "id": "5hotGj2nZ1aK",
      "execution_count": 27,
      "outputs": []
    },
    {
      "cell_type": "code",
      "metadata": {
        "id": "FD8H-TZJeJv2"
      },
      "source": [
        "nlp = spacy.load('en_ner_bionlp13cg_md')\n",
        "nlp.add_pipe(\"scispacy_linker\", config={\"resolve_abbreviations\": True, \"linker_name\": \"umls\"}) #parameters are tunable, so it can be set to return more than 2 entity matches.\n",
        "doc = df['Corpus_w_Punctuation'][0]\n",
        "doc = nlp(doc)\n",
        "\n",
        "entity = doc.ents[0]\n",
        "\n",
        "linker = nlp.get_pipe(\"scispacy_linker\")\n",
        "for ent in entity._.kb_ents:\n",
        "\tprint(linker.kb.cui_to_entity[ent[0]])\n"
      ],
      "id": "FD8H-TZJeJv2",
      "execution_count": null,
      "outputs": []
    },
    {
      "cell_type": "markdown",
      "metadata": {
        "id": "NUvil67imP_C"
      },
      "source": [
        "## Bag of Words\n",
        "Quelle: [towardsdatascience](https://towardsdatascience.com/topic-modeling-and-latent-dirichlet-allocation-in-python-9bf156893c24)"
      ],
      "id": "NUvil67imP_C"
    },
    {
      "cell_type": "code",
      "metadata": {
        "id": "XXEW8CQQmqZA",
        "colab": {
          "base_uri": "https://localhost:8080/"
        },
        "outputId": "4437f9e3-0d6a-4c73-908f-70d5b8cdb3a1"
      },
      "source": [
        "import gensim\n",
        "import numpy as np\n",
        "np.random.seed(2021)\n",
        "import nltk\n",
        "nltk.download('wordnet')"
      ],
      "id": "XXEW8CQQmqZA",
      "execution_count": null,
      "outputs": [
        {
          "output_type": "stream",
          "text": [
            "[nltk_data] Downloading package wordnet to /root/nltk_data...\n",
            "[nltk_data]   Package wordnet is already up-to-date!\n"
          ],
          "name": "stdout"
        },
        {
          "output_type": "execute_result",
          "data": {
            "text/plain": [
              "True"
            ]
          },
          "metadata": {
            "tags": []
          },
          "execution_count": 30
        }
      ]
    },
    {
      "cell_type": "code",
      "metadata": {
        "id": "DhoqU6U_mue-"
      },
      "source": [
        "processed_docs = df['Corpus'].apply(lambda c: c.split(' '))"
      ],
      "id": "DhoqU6U_mue-",
      "execution_count": null,
      "outputs": []
    },
    {
      "cell_type": "code",
      "metadata": {
        "id": "gWjoEt0rmwnV",
        "colab": {
          "base_uri": "https://localhost:8080/"
        },
        "outputId": "72077fc1-4d03-4d0c-f7a9-d61dbf8f2ea1"
      },
      "source": [
        "dictionary = gensim.corpora.Dictionary(processed_docs)\n",
        "count = 0\n",
        "for k, v in dictionary.iteritems():\n",
        "    print(k, v)\n",
        "    count += 1\n",
        "    if count > 10:\n",
        "        break"
      ],
      "id": "gWjoEt0rmwnV",
      "execution_count": null,
      "outputs": [
        {
          "output_type": "stream",
          "text": [
            "0 _http\n",
            "1 aair\n",
            "2 aairorg\n",
            "3 able\n",
            "4 academy\n",
            "5 accepted\n",
            "6 according\n",
            "7 achieve\n",
            "8 achieved\n",
            "9 achieving\n",
            "10 acta\n"
          ],
          "name": "stdout"
        }
      ]
    },
    {
      "cell_type": "markdown",
      "metadata": {
        "id": "vJf8rx6MoqDu"
      },
      "source": [
        "### **LDA** (LatentDirichletAllocation) \n",
        "Quelle: [Medium-Artikel zu LDA](https://towardsdatascience.com/nlp-with-lda-latent-dirichlet-allocation-and-text-clustering-to-improve-classification-97688c23d98)"
      ],
      "id": "vJf8rx6MoqDu"
    },
    {
      "cell_type": "code",
      "metadata": {
        "id": "j0i46zY1sXJ2",
        "colab": {
          "base_uri": "https://localhost:8080/"
        },
        "outputId": "c843b5ef-2c27-4e7a-9c3a-de0e94caa45e"
      },
      "source": [
        "#Turn tags into a set for faster checking of whether a tag exists or not\n",
        "type(list(df['Tags']))\n",
        "unique_tags = set(', '.join(list(df['Tags'])).split(', '))\n",
        "print(*unique_tags, sep=\"\\n\")\n"
      ],
      "id": "j0i46zY1sXJ2",
      "execution_count": null,
      "outputs": [
        {
          "output_type": "stream",
          "text": [
            "Angioedema\n",
            "Antihistamine\n",
            "Omalizumab\n",
            "Anti-IgE\n",
            "Severity\n",
            "Total IgE\n",
            "TPO\n",
            "anti-FcεRI\n",
            "Ana\n",
            "ASST+\n",
            "CRP\n",
            "serverity+\n",
            "duration\n",
            "Basophil count\n",
            "BAT\n",
            "Eosinophil count\n",
            "Tissue factor\n",
            "omalizumab\n",
            "Duration\n",
            "thyroglobulin\n",
            "Allergic Diseases\n",
            "dsDNA\n",
            "Thyroglobulin\n",
            "angioedema\n",
            "anti-TPO IgE ratio+\n",
            "Basophil\n",
            "BHRA\n",
            "Cyclosporine\n",
            "D-Dimer\n",
            "IL-24\n",
            "cyclosporine\n",
            "Eosinophil\n",
            "ANA\n"
          ],
          "name": "stdout"
        }
      ]
    },
    {
      "cell_type": "code",
      "metadata": {
        "id": "iMTf0IC6qfQi"
      },
      "source": [
        "from sklearn.feature_extraction.text import CountVectorizer\n",
        "from sklearn.decomposition import LatentDirichletAllocation as LDA\n",
        "\n",
        "\n",
        "def find_topics(text):\n",
        "  count_vectorizer = CountVectorizer()\n",
        "  count_data = count_vectorizer.fit_transform(list(text))\n",
        "\n",
        "\n",
        "  # One topic that has an avg of two words because most questions had 1/2 tags\n",
        "  number_topics = 5\n",
        "  number_words = 20\n",
        "\n",
        "  # Create and fit the LDA model\n",
        "  lda = LDA(n_components=number_topics, n_jobs=-1)\n",
        "  lda.fit(count_data)\n",
        "  words = count_vectorizer.get_feature_names()\n",
        "\n",
        "  #Get topics from model. They are represented as a list e.g. ['military','army']\n",
        "  topics = [[words[i] for i in topic.argsort()[:-number_words - 1:-1]] for (topic_idx, topic) in enumerate(lda.components_)]\n",
        "  topic_groups = topics\n",
        "\n",
        "  topics = np.array(topics).ravel()\n",
        "  distinct_topics = list(set(topics))\n",
        "\n",
        "  #Only use topics for which a tag already exists\n",
        "  existing_topics = set.intersection(set(topics),unique_tags)\n",
        "\n",
        "  \n",
        "\n",
        "  return (words, distinct_topics, topic_groups, existing_topics)"
      ],
      "id": "iMTf0IC6qfQi",
      "execution_count": null,
      "outputs": []
    },
    {
      "cell_type": "code",
      "metadata": {
        "id": "wVjwSYTVvfKI"
      },
      "source": [
        "words, distinct_topics, topic_groups, existing_topics = find_topics(df['Corpus_w_Punctuation'])"
      ],
      "id": "wVjwSYTVvfKI",
      "execution_count": null,
      "outputs": []
    },
    {
      "cell_type": "code",
      "metadata": {
        "id": "0hlQ-SwUzDG1",
        "colab": {
          "base_uri": "https://localhost:8080/"
        },
        "outputId": "c238c0c6-3290-4d79-e7c1-dbf6e6917474"
      },
      "source": [
        "sorted(distinct_topics)\n"
      ],
      "id": "0hlQ-SwUzDG1",
      "execution_count": null,
      "outputs": [
        {
          "output_type": "execute_result",
          "data": {
            "text/plain": [
              "['activation',\n",
              " 'activity',\n",
              " 'airway',\n",
              " 'allergy',\n",
              " 'analysis',\n",
              " 'angioedema',\n",
              " 'antibody',\n",
              " 'antihistamine',\n",
              " 'asst',\n",
              " 'asthma',\n",
              " 'basophil',\n",
              " 'cell',\n",
              " 'cells',\n",
              " 'cohort',\n",
              " 'concentration',\n",
              " 'confidence',\n",
              " 'content',\n",
              " 'control',\n",
              " 'correlation',\n",
              " 'difference',\n",
              " 'dimension',\n",
              " 'disease',\n",
              " 'dose',\n",
              " 'dosing',\n",
              " 'education',\n",
              " 'effect',\n",
              " 'eosinophil',\n",
              " 'factor',\n",
              " 'function',\n",
              " 'ige',\n",
              " 'individual',\n",
              " 'inflammation',\n",
              " 'level',\n",
              " 'lloq',\n",
              " 'male',\n",
              " 'manuscript',\n",
              " 'mechanism',\n",
              " 'mediated',\n",
              " 'medimmune',\n",
              " 'method',\n",
              " 'model',\n",
              " 'month',\n",
              " 'mouse',\n",
              " 'national',\n",
              " 'omalizumab',\n",
              " 'pathway',\n",
              " 'patient',\n",
              " 'patients',\n",
              " 'placebo',\n",
              " 'plate',\n",
              " 'process',\n",
              " 'protein',\n",
              " 'psoriasis',\n",
              " 'reaction',\n",
              " 'receptor',\n",
              " 'respectively',\n",
              " 'response',\n",
              " 'scale',\n",
              " 'score',\n",
              " 'screening',\n",
              " 'secretion',\n",
              " 'serum',\n",
              " 'severity',\n",
              " 'skin',\n",
              " 'standard',\n",
              " 'study',\n",
              " 'subject',\n",
              " 'symptom',\n",
              " 'syndrome',\n",
              " 'test',\n",
              " 'therapy',\n",
              " 'treatment',\n",
              " 'type',\n",
              " 'urticaria',\n",
              " 'virginia',\n",
              " 'week',\n",
              " 'year']"
            ]
          },
          "metadata": {
            "tags": []
          },
          "execution_count": 36
        }
      ]
    },
    {
      "cell_type": "markdown",
      "metadata": {
        "id": "rjf-SfSvy_hP"
      },
      "source": [
        "### **BERTopic** \n",
        "Topic modeling mit BERTopic -> siehe: https://towardsdatascience.com/topic-modeling-with-bert-779f7db187e6"
      ],
      "id": "rjf-SfSvy_hP"
    },
    {
      "cell_type": "markdown",
      "metadata": {
        "id": "0KkNASXt6JZ_"
      },
      "source": [
        "Copy and Paste aus: https://colab.research.google.com/drive/1iqs9Y5_zLI6R6mAwlnapcxcUbKjpv2CC?usp=sharing#scrollTo=MgMaef_uZT0T\n",
        "bzw.: https://www.youtube.com/watch?v=TLPmlVeEf1k"
      ],
      "id": "0KkNASXt6JZ_"
    },
    {
      "cell_type": "code",
      "metadata": {
        "id": "xdOCH0kszsfi",
        "colab": {
          "base_uri": "https://localhost:8080/",
          "height": 333
        },
        "outputId": "ee3d5d5d-1bb5-4f55-de83-52cbc9bc9ab9"
      },
      "source": [
        "!pip3 install bertopic[all]\n",
        "from bertopic import BERTopic"
      ],
      "id": "xdOCH0kszsfi",
      "execution_count": null,
      "outputs": [
        {
          "output_type": "stream",
          "text": [
            "^C\n"
          ],
          "name": "stdout"
        },
        {
          "output_type": "error",
          "ename": "ModuleNotFoundError",
          "evalue": "ignored",
          "traceback": [
            "\u001b[0;31m---------------------------------------------------------------------------\u001b[0m",
            "\u001b[0;31mModuleNotFoundError\u001b[0m                       Traceback (most recent call last)",
            "\u001b[0;32m<ipython-input-29-dac9e6e84e94>\u001b[0m in \u001b[0;36m<module>\u001b[0;34m()\u001b[0m\n\u001b[1;32m      1\u001b[0m \u001b[0mget_ipython\u001b[0m\u001b[0;34m(\u001b[0m\u001b[0;34m)\u001b[0m\u001b[0;34m.\u001b[0m\u001b[0msystem\u001b[0m\u001b[0;34m(\u001b[0m\u001b[0;34m'pip3 install bertopic[all]'\u001b[0m\u001b[0;34m)\u001b[0m\u001b[0;34m\u001b[0m\u001b[0;34m\u001b[0m\u001b[0m\n\u001b[0;32m----> 2\u001b[0;31m \u001b[0;32mfrom\u001b[0m \u001b[0mbertopic\u001b[0m \u001b[0;32mimport\u001b[0m \u001b[0mBERTopic\u001b[0m\u001b[0;34m\u001b[0m\u001b[0;34m\u001b[0m\u001b[0m\n\u001b[0m",
            "\u001b[0;31mModuleNotFoundError\u001b[0m: No module named 'bertopic'",
            "",
            "\u001b[0;31m---------------------------------------------------------------------------\u001b[0;32m\nNOTE: If your import is failing due to a missing package, you can\nmanually install dependencies using either !pip or !apt.\n\nTo view examples of installing some common dependencies, click the\n\"Open Examples\" button below.\n\u001b[0;31m---------------------------------------------------------------------------\u001b[0m\n"
          ]
        }
      ]
    },
    {
      "cell_type": "code",
      "metadata": {
        "id": "ELTFNj8VXCAQ"
      },
      "source": [
        "topic_model = BERTopic(language=\"english\", calculate_probabilities=True) # We need the probabilities to visualize\n",
        "topics, _ = topic_model.fit_transform(list(df['Content']))"
      ],
      "id": "ELTFNj8VXCAQ",
      "execution_count": null,
      "outputs": []
    },
    {
      "cell_type": "code",
      "metadata": {
        "id": "bFiD4jIi6DZn"
      },
      "source": [
        "# Get the most frequent topics\n",
        "topic_freq = topic_model.get_topic_freq()\n",
        "outliers = topic_freq['Count'][topic_freq['Topic']==-1].iloc[0]\n",
        "print(f\"{outliers} documents have not been classified\")\n",
        "print(f\"The other {topic_freq['Count'].sum() - outliers} documents are {topic_freq['Topic'].shape[0]-1} topics\")"
      ],
      "id": "bFiD4jIi6DZn",
      "execution_count": null,
      "outputs": []
    },
    {
      "cell_type": "code",
      "metadata": {
        "id": "vVP7-geA6HXx"
      },
      "source": [
        "topic_freq.head()"
      ],
      "id": "vVP7-geA6HXx",
      "execution_count": null,
      "outputs": []
    },
    {
      "cell_type": "code",
      "metadata": {
        "id": "SgiYB3av6yeg"
      },
      "source": [
        "print(f\"There are {topic_freq['Count'].iloc[1]} documents that are talking about topic ID {topic_freq['Topic'].iloc[1]}\")"
      ],
      "id": "SgiYB3av6yeg",
      "execution_count": null,
      "outputs": []
    },
    {
      "cell_type": "code",
      "metadata": {
        "id": "9EDrpSkB64rL"
      },
      "source": [
        "topic_model.get_topic(topic_freq['Topic'].iloc[1])"
      ],
      "id": "9EDrpSkB64rL",
      "execution_count": null,
      "outputs": []
    },
    {
      "cell_type": "code",
      "metadata": {
        "id": "HHDEzS4V7BBu"
      },
      "source": [
        "topic_model.visualize_topics()"
      ],
      "id": "HHDEzS4V7BBu",
      "execution_count": null,
      "outputs": []
    },
    {
      "cell_type": "markdown",
      "metadata": {
        "id": "jpTRFMDj-eZL"
      },
      "source": [
        "### **DistilBert**\n",
        "Quelle: https://towardsdatascience.com/topic-modeling-with-bert-779f7db187e6"
      ],
      "id": "jpTRFMDj-eZL"
    },
    {
      "cell_type": "code",
      "metadata": {
        "id": "wGpHETQJ-ujr"
      },
      "source": [
        "from sentence_transformers import SentenceTransformer\n",
        "model = SentenceTransformer('distilbert-base-nli-mean-tokens')\n",
        "embeddings = model.encode(df['Content'], show_progress_bar=True)"
      ],
      "id": "wGpHETQJ-ujr",
      "execution_count": null,
      "outputs": []
    },
    {
      "cell_type": "code",
      "metadata": {
        "id": "dKV0TTx4_MDa"
      },
      "source": [
        "import umap\n",
        "umap_embeddings = umap.UMAP(n_neighbors=15, \n",
        "                            n_components=5,\n",
        "                            metric='cosine').fit_transform(embeddings)"
      ],
      "id": "dKV0TTx4_MDa",
      "execution_count": null,
      "outputs": []
    },
    {
      "cell_type": "code",
      "metadata": {
        "id": "KVcm8J1oAGdc"
      },
      "source": [
        "import hdbscan\n",
        "cluster = hdbscan.HDBSCAN(min_cluster_size=4,\n",
        "                          metric='euclidean',                      \n",
        "                          cluster_selection_method='eom').fit(umap_embeddings)"
      ],
      "id": "KVcm8J1oAGdc",
      "execution_count": null,
      "outputs": []
    },
    {
      "cell_type": "code",
      "metadata": {
        "id": "IRLEuowiAt8z"
      },
      "source": [
        "# Prepare data\n",
        "umap_data = umap.UMAP(n_neighbors=20, n_components=2, min_dist=0.0, metric='cosine').fit_transform(embeddings)\n",
        "result = pd.DataFrame(umap_data, columns=['x', 'y'])\n",
        "result['labels'] = cluster.labels_\n",
        "\n",
        "# Visualize clusters\n",
        "fig, ax = plt.subplots(figsize=(20, 10))\n",
        "outliers = result.loc[result.labels == -1, :]\n",
        "clustered = result.loc[result.labels != -1, :]\n",
        "plt.scatter(outliers.x, outliers.y, color='#BDBDBD', s=15)\n",
        "plt.scatter(clustered.x, clustered.y, c=clustered.labels, s=15, cmap='hsv_r')\n",
        "plt.colorbar()"
      ],
      "id": "IRLEuowiAt8z",
      "execution_count": null,
      "outputs": []
    },
    {
      "cell_type": "markdown",
      "metadata": {
        "id": "HoXi6ici5_qs"
      },
      "source": [
        "### Top2Vec\n",
        "\n",
        "Quelle: https://github.com/bhattbhavesh91/Top2Vec-Demo/blob/main/Top2Vec-Notebook.ipynb"
      ],
      "id": "HoXi6ici5_qs"
    },
    {
      "cell_type": "code",
      "metadata": {
        "id": "HfedNDaf6IXj",
        "colab": {
          "base_uri": "https://localhost:8080/"
        },
        "outputId": "32f0dcf8-716c-4a70-cde5-fd4154dbad0d"
      },
      "source": [
        "!pip install -q numpy\n",
        "!pip install -q pandas\n",
        "!pip install -q gensim\n",
        "!pip install -q pynndescent>=0.4\n",
        "!pip install -q umap-learn\n",
        "!pip install -q hdbscan\n",
        "!pip install -q wordcloud\n",
        "!pip install -q tensorflow\n",
        "!pip install -q tensorflow_hub\n",
        "!pip install -q tensorflow_text\n",
        "!pip install -q torch\n",
        "!pip install -q sentence_transformers\n",
        "!pip install -q hnswlib\n",
        "!pip install -q joblib<1.0.0\n",
        "!pip install -q top2vec[sentence_transformers]"
      ],
      "id": "HfedNDaf6IXj",
      "execution_count": null,
      "outputs": [
        {
          "output_type": "stream",
          "text": [
            "\u001b[?25l\r\u001b[K     |████                            | 10 kB 23.9 MB/s eta 0:00:01\r\u001b[K     |████████                        | 20 kB 30.6 MB/s eta 0:00:01\r\u001b[K     |████████████▏                   | 30 kB 36.9 MB/s eta 0:00:01\r\u001b[K     |████████████████▏               | 40 kB 40.9 MB/s eta 0:00:01\r\u001b[K     |████████████████████▎           | 51 kB 36.4 MB/s eta 0:00:01\r\u001b[K     |████████████████████████▎       | 61 kB 30.8 MB/s eta 0:00:01\r\u001b[K     |████████████████████████████▍   | 71 kB 30.5 MB/s eta 0:00:01\r\u001b[K     |████████████████████████████████| 80 kB 8.7 MB/s \n",
            "\u001b[?25h  Building wheel for umap-learn (setup.py) ... \u001b[?25l\u001b[?25hdone\n",
            "\u001b[K     |████████████████████████████████| 6.4 MB 40.7 MB/s \n",
            "\u001b[?25h  Installing build dependencies ... \u001b[?25l\u001b[?25hdone\n",
            "  Getting requirements to build wheel ... \u001b[?25l\u001b[?25hdone\n",
            "    Preparing wheel metadata ... \u001b[?25l\u001b[?25hdone\n",
            "  Building wheel for hdbscan (PEP 517) ... \u001b[?25l\u001b[?25hdone\n",
            "\u001b[K     |████████████████████████████████| 4.3 MB 29.9 MB/s \n",
            "\u001b[K     |████████████████████████████████| 85 kB 4.4 MB/s \n",
            "\u001b[K     |████████████████████████████████| 2.6 MB 28.4 MB/s \n",
            "\u001b[K     |████████████████████████████████| 1.2 MB 42.3 MB/s \n",
            "\u001b[K     |████████████████████████████████| 43 kB 1.7 MB/s \n",
            "\u001b[K     |████████████████████████████████| 3.3 MB 39.9 MB/s \n",
            "\u001b[K     |████████████████████████████████| 895 kB 40.5 MB/s \n",
            "\u001b[K     |████████████████████████████████| 636 kB 20.3 MB/s \n",
            "\u001b[?25h  Building wheel for sentence-transformers (setup.py) ... \u001b[?25l\u001b[?25hdone\n",
            "  Installing build dependencies ... \u001b[?25l\u001b[?25hdone\n",
            "  Getting requirements to build wheel ... \u001b[?25l\u001b[?25hdone\n",
            "    Preparing wheel metadata ... \u001b[?25l\u001b[?25hdone\n",
            "  Building wheel for hnswlib (PEP 517) ... \u001b[?25l\u001b[?25hdone\n",
            "/bin/bash: 1.0.0: No such file or directory\n"
          ],
          "name": "stdout"
        }
      ]
    },
    {
      "cell_type": "code",
      "metadata": {
        "id": "dNR9_lgr6Rnw"
      },
      "source": [
        "import numpy as np\n",
        "import pandas as pd\n",
        "from copy import deepcopy\n",
        "from top2vec import Top2Vec"
      ],
      "id": "dNR9_lgr6Rnw",
      "execution_count": null,
      "outputs": []
    },
    {
      "cell_type": "code",
      "metadata": {
        "id": "M0Rivd9R6bDL"
      },
      "source": [
        "docs = list(df.loc[:, \"Content\"].values)\n",
        "docs[:5]"
      ],
      "id": "M0Rivd9R6bDL",
      "execution_count": null,
      "outputs": []
    },
    {
      "cell_type": "code",
      "metadata": {
        "id": "XbrUw3TM7lRC"
      },
      "source": [
        "model = Top2Vec(docs, embedding_model='universal-sentence-encoder')"
      ],
      "id": "XbrUw3TM7lRC",
      "execution_count": null,
      "outputs": []
    },
    {
      "cell_type": "code",
      "metadata": {
        "id": "W3QTpYcV7s4U"
      },
      "source": [
        "model.get_num_topics()"
      ],
      "id": "W3QTpYcV7s4U",
      "execution_count": null,
      "outputs": []
    },
    {
      "cell_type": "code",
      "metadata": {
        "id": "51SEhzi-7xae"
      },
      "source": [
        "topic_words, word_scores, topic_nums = model.get_topics(1)"
      ],
      "id": "51SEhzi-7xae",
      "execution_count": null,
      "outputs": []
    },
    {
      "cell_type": "code",
      "metadata": {
        "id": "-QwLqbcl76A_"
      },
      "source": [
        "for topic in topic_nums:\n",
        "    model.generate_topic_wordcloud(topic)"
      ],
      "id": "-QwLqbcl76A_",
      "execution_count": null,
      "outputs": []
    },
    {
      "cell_type": "markdown",
      "metadata": {
        "id": "1c7411d8"
      },
      "source": [
        "### TFIDF Vertorizer"
      ],
      "id": "1c7411d8"
    },
    {
      "cell_type": "code",
      "metadata": {
        "id": "2453744a"
      },
      "source": [
        "#@title Dateiinhalt, Korpus oder Korpus mit Satzzeichen\n",
        "src = 'Corpus_w_Punctuation' #@param {type:\"string\"}\n",
        "tfidfconvert = TfidfVectorizer(ngram_range=(1,1)).fit(df[src].values)"
      ],
      "id": "2453744a",
      "execution_count": null,
      "outputs": []
    },
    {
      "cell_type": "code",
      "metadata": {
        "id": "362e41ab",
        "colab": {
          "base_uri": "https://localhost:8080/"
        },
        "outputId": "2d3d4d0d-5c85-43cd-c6a8-9e5788984197"
      },
      "source": [
        "len(tfidfconvert.vocabulary_)"
      ],
      "id": "362e41ab",
      "execution_count": null,
      "outputs": [
        {
          "output_type": "execute_result",
          "data": {
            "text/plain": [
              "15875"
            ]
          },
          "metadata": {
            "tags": []
          },
          "execution_count": 24
        }
      ]
    },
    {
      "cell_type": "code",
      "metadata": {
        "id": "95f044e2"
      },
      "source": [
        "words_transformed = tfidfconvert.transform(df['Corpus'].values)"
      ],
      "id": "95f044e2",
      "execution_count": null,
      "outputs": []
    },
    {
      "cell_type": "markdown",
      "metadata": {
        "id": "6712dce8"
      },
      "source": [
        "### K-Means Clustering"
      ],
      "id": "6712dce8"
    },
    {
      "cell_type": "code",
      "metadata": {
        "id": "67d59ddc"
      },
      "source": [
        "from sklearn.cluster import KMeans"
      ],
      "id": "67d59ddc",
      "execution_count": null,
      "outputs": []
    },
    {
      "cell_type": "markdown",
      "metadata": {
        "id": "95d1b144"
      },
      "source": [
        "K-Means für mehrere k's berechnen und anschließend plotten"
      ],
      "id": "95d1b144"
    },
    {
      "cell_type": "code",
      "metadata": {
        "id": "3a8567ca",
        "colab": {
          "base_uri": "https://localhost:8080/"
        },
        "outputId": "2d42eb24-028d-4cdf-c9b0-ad49a42dc8a5"
      },
      "source": [
        "Sum_of_squared_distances = []\n",
        "max_range = 10\n",
        "K = range(1,max_range + 1)\n",
        "for k in K: \n",
        "    print(str(k) + \"/\" + str(max_range))\n",
        "    km = KMeans(n_clusters=k)\n",
        "    km = km.fit(words_transformed)\n",
        "    Sum_of_squared_distances.append(km.inertia_)\n",
        "    "
      ],
      "id": "3a8567ca",
      "execution_count": null,
      "outputs": [
        {
          "output_type": "stream",
          "text": [
            "1/10\n",
            "2/10\n",
            "3/10\n",
            "4/10\n",
            "5/10\n",
            "6/10\n",
            "7/10\n",
            "8/10\n",
            "9/10\n",
            "10/10\n"
          ],
          "name": "stdout"
        }
      ]
    },
    {
      "cell_type": "code",
      "metadata": {
        "id": "49a1714b",
        "colab": {
          "base_uri": "https://localhost:8080/",
          "height": 295
        },
        "outputId": "9393d8ec-250a-4405-eb2a-fb527f4f2b90"
      },
      "source": [
        "plt.plot(K,Sum_of_squared_distances, 'b^-')\n",
        "plt.xlabel('k')\n",
        "plt.ylabel('Summe der quadrierten Abweichungen')\n",
        "plt.title('Elbow-Methode (Korpus mit Zeichensetzung)')\n",
        "plt.show()"
      ],
      "id": "49a1714b",
      "execution_count": null,
      "outputs": [
        {
          "output_type": "display_data",
          "data": {
            "image/png": "[encoded data removed]",
            "text/plain": [
              "<Figure size 432x288 with 1 Axes>"
            ]
          },
          "metadata": {
            "tags": [],
            "needs_background": "light"
          }
        }
      ]
    },
    {
      "cell_type": "markdown",
      "metadata": {
        "id": "xdOeFJslhT2V"
      },
      "source": [
        "Wortsammlungen erstellen durch angabe der Idealen Clusterzahl im Formularfeld"
      ],
      "id": "xdOeFJslhT2V"
    },
    {
      "cell_type": "code",
      "metadata": {
        "id": "3A6o-gMJYAKI"
      },
      "source": [
        "#@title Anzahl der Cluster gem. Elbow-Curve\n",
        "k = 2#@param {type:\"integer\"}\n",
        "\n",
        "km = KMeans(n_clusters=k, init='k-means++', max_iter=100, n_init=1,\n",
        "                verbose=1)"
      ],
      "id": "3A6o-gMJYAKI",
      "execution_count": null,
      "outputs": []
    },
    {
      "cell_type": "code",
      "metadata": {
        "colab": {
          "base_uri": "https://localhost:8080/"
        },
        "id": "mFrzxFPxYiIn",
        "outputId": "e91277f8-a82f-4715-e551-854f08239399"
      },
      "source": [
        "#https://scikit-learn.org/stable/auto_examples/text/plot_document_clustering.html\n",
        "km = km.fit(words_transformed)\n",
        "order_centroids = km.cluster_centers_.argsort()[:, ::-1]\n",
        "terms = tfidfconvert.get_feature_names()\n",
        "\n",
        "clustered_words = []\n",
        "for i in range(k):\n",
        "  words_per_cluster = []\n",
        "  for ind in order_centroids[i, :20]:\n",
        "    words_per_cluster.append(terms[ind])\n",
        "  clustered_words.append(words_per_cluster)"
      ],
      "id": "mFrzxFPxYiIn",
      "execution_count": null,
      "outputs": [
        {
          "output_type": "stream",
          "text": [
            "Initialization complete\n",
            "Iteration  0, inertia 792.049\n",
            "Iteration  1, inertia 403.922\n",
            "Iteration  2, inertia 403.322\n",
            "Iteration  3, inertia 402.123\n",
            "Iteration  4, inertia 400.930\n",
            "Iteration  5, inertia 400.069\n",
            "Iteration  6, inertia 399.599\n",
            "Iteration  7, inertia 399.340\n",
            "Iteration  8, inertia 399.208\n",
            "Iteration  9, inertia 399.119\n",
            "Iteration 10, inertia 399.066\n",
            "Iteration 11, inertia 399.026\n",
            "Iteration 12, inertia 398.991\n",
            "Iteration 13, inertia 398.976\n",
            "Converged at iteration 13: center shift 0.000000e+00 within tolerance 5.630529e-09\n"
          ],
          "name": "stdout"
        }
      ]
    },
    {
      "cell_type": "code",
      "metadata": {
        "colab": {
          "base_uri": "https://localhost:8080/",
          "height": 669
        },
        "id": "poE8cdUgJnpI",
        "outputId": "ac1b7520-373d-4c54-9218-81fbc1bc25a9"
      },
      "source": [
        "#clustered_words Liste transponieren\n",
        "clustered_words = list(map(list, zip(*clustered_words)))\n",
        "\n",
        "#Dataframe aus clustered_words erstellen\n",
        "cluster_names = ['Cluster %s' %i for i in range(1,k+1)]\n",
        "df_clustered_words = pd.DataFrame(data=clustered_words, columns=cluster_names)\n",
        "df_clustered_words"
      ],
      "id": "poE8cdUgJnpI",
      "execution_count": null,
      "outputs": [
        {
          "output_type": "execute_result",
          "data": {
            "text/html": [
              "<div>\n",
              "<style scoped>\n",
              "    .dataframe tbody tr th:only-of-type {\n",
              "        vertical-align: middle;\n",
              "    }\n",
              "\n",
              "    .dataframe tbody tr th {\n",
              "        vertical-align: top;\n",
              "    }\n",
              "\n",
              "    .dataframe thead th {\n",
              "        text-align: right;\n",
              "    }\n",
              "</style>\n",
              "<table border=\"1\" class=\"dataframe\">\n",
              "  <thead>\n",
              "    <tr style=\"text-align: right;\">\n",
              "      <th></th>\n",
              "      <th>Cluster 1</th>\n",
              "      <th>Cluster 2</th>\n",
              "    </tr>\n",
              "  </thead>\n",
              "  <tbody>\n",
              "    <tr>\n",
              "      <th>0</th>\n",
              "      <td>cell</td>\n",
              "      <td>antihistamine</td>\n",
              "    </tr>\n",
              "    <tr>\n",
              "      <th>1</th>\n",
              "      <td>basophil</td>\n",
              "      <td>week</td>\n",
              "    </tr>\n",
              "    <tr>\n",
              "      <th>2</th>\n",
              "      <td>control</td>\n",
              "      <td>month</td>\n",
              "    </tr>\n",
              "    <tr>\n",
              "      <th>3</th>\n",
              "      <td>factor</td>\n",
              "      <td>score</td>\n",
              "    </tr>\n",
              "    <tr>\n",
              "      <th>4</th>\n",
              "      <td>test</td>\n",
              "      <td>guideline</td>\n",
              "    </tr>\n",
              "    <tr>\n",
              "      <th>5</th>\n",
              "      <td>level</td>\n",
              "      <td>trial</td>\n",
              "    </tr>\n",
              "    <tr>\n",
              "      <th>6</th>\n",
              "      <td>antibody</td>\n",
              "      <td>effect</td>\n",
              "    </tr>\n",
              "    <tr>\n",
              "      <th>7</th>\n",
              "      <td>serum</td>\n",
              "      <td>symptom</td>\n",
              "    </tr>\n",
              "    <tr>\n",
              "      <th>8</th>\n",
              "      <td>wheal</td>\n",
              "      <td>day</td>\n",
              "    </tr>\n",
              "    <tr>\n",
              "      <th>9</th>\n",
              "      <td>difference</td>\n",
              "      <td>therapy</td>\n",
              "    </tr>\n",
              "    <tr>\n",
              "      <th>10</th>\n",
              "      <td>autoantibody</td>\n",
              "      <td>year</td>\n",
              "    </tr>\n",
              "    <tr>\n",
              "      <th>11</th>\n",
              "      <td>value</td>\n",
              "      <td>medication</td>\n",
              "    </tr>\n",
              "    <tr>\n",
              "      <th>12</th>\n",
              "      <td>concentration</td>\n",
              "      <td>treatment</td>\n",
              "    </tr>\n",
              "    <tr>\n",
              "      <th>13</th>\n",
              "      <td>assay</td>\n",
              "      <td>drug</td>\n",
              "    </tr>\n",
              "    <tr>\n",
              "      <th>14</th>\n",
              "      <td>protein</td>\n",
              "      <td>time</td>\n",
              "    </tr>\n",
              "    <tr>\n",
              "      <th>15</th>\n",
              "      <td>receptor</td>\n",
              "      <td>case</td>\n",
              "    </tr>\n",
              "    <tr>\n",
              "      <th>16</th>\n",
              "      <td>correlation</td>\n",
              "      <td>life</td>\n",
              "    </tr>\n",
              "    <tr>\n",
              "      <th>17</th>\n",
              "      <td>method</td>\n",
              "      <td>outcome</td>\n",
              "    </tr>\n",
              "    <tr>\n",
              "      <th>18</th>\n",
              "      <td>subject</td>\n",
              "      <td>response</td>\n",
              "    </tr>\n",
              "    <tr>\n",
              "      <th>19</th>\n",
              "      <td>reaction</td>\n",
              "      <td>omalizumab</td>\n",
              "    </tr>\n",
              "  </tbody>\n",
              "</table>\n",
              "</div>"
            ],
            "text/plain": [
              "        Cluster 1      Cluster 2\n",
              "0            cell  antihistamine\n",
              "1        basophil           week\n",
              "2         control          month\n",
              "3          factor          score\n",
              "4            test      guideline\n",
              "5           level          trial\n",
              "6        antibody         effect\n",
              "7           serum        symptom\n",
              "8           wheal            day\n",
              "9      difference        therapy\n",
              "10   autoantibody           year\n",
              "11          value     medication\n",
              "12  concentration      treatment\n",
              "13          assay           drug\n",
              "14        protein           time\n",
              "15       receptor           case\n",
              "16    correlation           life\n",
              "17         method        outcome\n",
              "18        subject       response\n",
              "19       reaction     omalizumab"
            ]
          },
          "metadata": {
            "tags": []
          },
          "execution_count": 52
        }
      ]
    },
    {
      "cell_type": "markdown",
      "metadata": {
        "id": "OfRnuFS-6pSI"
      },
      "source": [
        "\n",
        "\n",
        "# **IDEEN zum Cluster bilden**\n",
        "\n",
        "\n",
        "- Bag of Words kreiren um neuer Cluster / Wortgruppen zu finden über Häufigkeit der Wörter oder nähe der Wörter zu einander\n",
        "- Visualisieren des Links zwischen Markern in einer HeatMap\n",
        "- BioBert einsetzen\n",
        "- Part of Speech recognition um Autorennamen zu identifizieren \n",
        "- AutorenNamen und Marker verknüpfen / clustern\n",
        "- \n",
        "\n",
        "\n",
        "**Generelle Todo's**\n",
        "- Distinct Values für Abkürzungsverzeichnis erheben und mit Markern abgleichen\n",
        "- CRISP-DM als Vorgehensmoddel zugrundeliegen\n",
        "- Begründen Stemm / Lemmatizing - Erörterung im Paper"
      ],
      "id": "OfRnuFS-6pSI"
    }
  ]
}