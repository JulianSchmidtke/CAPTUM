{
  "nbformat": 4,
  "nbformat_minor": 5,
  "metadata": {
    "kernelspec": {
      "display_name": "Python 3",
      "language": "python",
      "name": "python3"
    },
    "language_info": {
      "codemirror_mode": {
        "name": "ipython",
        "version": 3
      },
      "file_extension": ".py",
      "mimetype": "text/x-python",
      "name": "python",
      "nbconvert_exporter": "python",
      "pygments_lexer": "ipython3",
      "version": "3.7.10"
    },
    "colab": {
      "name": "AsuD_CAPTUM_v0.1.ipynb",
      "provenance": [],
      "include_colab_link": true
    }
  },
  "cells": [
    {
      "cell_type": "markdown",
      "metadata": {
        "id": "view-in-github",
        "colab_type": "text"
      },
      "source": [
        "<a href=\"https://colab.research.google.com/github/JulianSchmidtke/CAPTUM/blob/main/AsuD_CAPTUM_v0.1.ipynb\" target=\"_parent\"><img src=\"https://colab.research.google.com/assets/colab-badge.svg\" alt=\"Open In Colab\"/></a>"
      ]
    },
    {
      "cell_type": "code",
      "metadata": {
        "id": "21aa3cc8"
      },
      "source": [
        "%matplotlib inline\n",
        "import matplotlib.pyplot as plt\n",
        "import nltk, os\n",
        "import pandas as pd\n",
        "import numpy as np\n",
        "import re\n",
        "from collections import Counter\n",
        "import shutil"
      ],
      "id": "21aa3cc8",
      "execution_count": 2,
      "outputs": []
    },
    {
      "cell_type": "code",
      "metadata": {
        "id": "y1JNnvqwhn-d",
        "outputId": "8ac6e1a9-458d-4ca6-95e6-4b5f80e09248",
        "colab": {
          "base_uri": "https://localhost:8080/"
        }
      },
      "source": [
        "os.chdir(r'/content')\n",
        "\n",
        "content_dir = r'/content/CAPTUM/'\n",
        "\n",
        "# Remove if files already exist\n",
        "while os.path.exists(content_dir): \n",
        "    shutil.rmtree(content_dir)\n",
        "\n",
        "\n",
        "!git clone https://github.com/JulianSchmidtke/CAPTUM.git"
      ],
      "id": "y1JNnvqwhn-d",
      "execution_count": 5,
      "outputs": [
        {
          "output_type": "stream",
          "text": [
            "Cloning into 'CAPTUM'...\n",
            "remote: Enumerating objects: 529, done.\u001b[K\n",
            "remote: Counting objects: 100% (529/529), done.\u001b[K\n",
            "remote: Compressing objects: 100% (506/506), done.\u001b[K\n",
            "remote: Total 529 (delta 37), reused 463 (delta 20), pack-reused 0\u001b[K\n",
            "Receiving objects: 100% (529/529), 11.45 MiB | 9.72 MiB/s, done.\n",
            "Resolving deltas: 100% (37/37), done.\n"
          ],
          "name": "stdout"
        }
      ]
    },
    {
      "cell_type": "markdown",
      "metadata": {
        "id": "R1twNnO_f3hp"
      },
      "source": [
        "# Duplikate unter den Papern entfernen anhand der Hash-Werte"
      ],
      "id": "R1twNnO_f3hp"
    },
    {
      "cell_type": "code",
      "metadata": {
        "id": "18f27004",
        "colab": {
          "base_uri": "https://localhost:8080/",
          "height": 419
        },
        "outputId": "1ffaffb9-cf9b-4d61-c281-ea0b09f163aa"
      },
      "source": [
        "#Arbeitsverzeichnis auf das Ordnerverzeichnis ändern, in welchem die Daten liegen (txt-Format)\n",
        "file_dir = r'/content/CAPTUM/files'\n",
        "os.chdir(file_dir)\n",
        "\n",
        "#Speichern der Dateinamen in einem Array\n",
        "files = os.listdir()\n",
        "df_files = pd.DataFrame(files, columns=['Filepath'])"
      ],
      "id": "18f27004",
      "execution_count": 7,
      "outputs": [
        {
          "output_type": "execute_result",
          "data": {
            "text/html": [
              "<div>\n",
              "<style scoped>\n",
              "    .dataframe tbody tr th:only-of-type {\n",
              "        vertical-align: middle;\n",
              "    }\n",
              "\n",
              "    .dataframe tbody tr th {\n",
              "        vertical-align: top;\n",
              "    }\n",
              "\n",
              "    .dataframe thead th {\n",
              "        text-align: right;\n",
              "    }\n",
              "</style>\n",
              "<table border=\"1\" class=\"dataframe\">\n",
              "  <thead>\n",
              "    <tr style=\"text-align: right;\">\n",
              "      <th></th>\n",
              "      <th>Filepath</th>\n",
              "    </tr>\n",
              "  </thead>\n",
              "  <tbody>\n",
              "    <tr>\n",
              "      <th>0</th>\n",
              "      <td>CAPTUM_BAT_BHRA_Swerdt 2005.pdf_out_text.txt</td>\n",
              "    </tr>\n",
              "    <tr>\n",
              "      <th>1</th>\n",
              "      <td>CAPTUM_BAT_Cyclosporine_Grattan 2000.pdf_out_t...</td>\n",
              "    </tr>\n",
              "    <tr>\n",
              "      <th>2</th>\n",
              "      <td>CAPTUM_Severity_Duration_Arik yilmaz 2017.pdf_...</td>\n",
              "    </tr>\n",
              "    <tr>\n",
              "      <th>3</th>\n",
              "      <td>CAPTUM_Angioedema_Omalizumab_Maurer 2016 .pdf_...</td>\n",
              "    </tr>\n",
              "    <tr>\n",
              "      <th>4</th>\n",
              "      <td>CAPTUM_Severity_Omalizumab_Metz 2018.pdf_out_t...</td>\n",
              "    </tr>\n",
              "    <tr>\n",
              "      <th>...</th>\n",
              "      <td>...</td>\n",
              "    </tr>\n",
              "    <tr>\n",
              "      <th>1041</th>\n",
              "      <td>CAPTUM_Eosinophil_Basophil_Uysal 2016.pdf_out_...</td>\n",
              "    </tr>\n",
              "    <tr>\n",
              "      <th>1042</th>\n",
              "      <td>CAPTUM_Total IgE_D-Dimer_Asero 2019.pdf_out_te...</td>\n",
              "    </tr>\n",
              "    <tr>\n",
              "      <th>1043</th>\n",
              "      <td>CAPTUM_ASST_Allergic Diseases_Chen 2016.pdf_o...</td>\n",
              "    </tr>\n",
              "    <tr>\n",
              "      <th>1044</th>\n",
              "      <td>CAPTUM_ASST_CRP_Montjoye 2020.pdf_out_text.txt</td>\n",
              "    </tr>\n",
              "    <tr>\n",
              "      <th>1045</th>\n",
              "      <td>CAPTUM_D-Dimer_Allergic Diseases_Zhang 2020.pd...</td>\n",
              "    </tr>\n",
              "  </tbody>\n",
              "</table>\n",
              "<p>1046 rows × 1 columns</p>\n",
              "</div>"
            ],
            "text/plain": [
              "                                               Filepath\n",
              "0          CAPTUM_BAT_BHRA_Swerdt 2005.pdf_out_text.txt\n",
              "1     CAPTUM_BAT_Cyclosporine_Grattan 2000.pdf_out_t...\n",
              "2     CAPTUM_Severity_Duration_Arik yilmaz 2017.pdf_...\n",
              "3     CAPTUM_Angioedema_Omalizumab_Maurer 2016 .pdf_...\n",
              "4     CAPTUM_Severity_Omalizumab_Metz 2018.pdf_out_t...\n",
              "...                                                 ...\n",
              "1041  CAPTUM_Eosinophil_Basophil_Uysal 2016.pdf_out_...\n",
              "1042  CAPTUM_Total IgE_D-Dimer_Asero 2019.pdf_out_te...\n",
              "1043  CAPTUM_ASST_Allergic Diseases_Chen 2016.pdf_o...\n",
              "1044    CAPTUM_ASST_CRP_Montjoye 2020.pdf_out_text.txt\n",
              "1045  CAPTUM_D-Dimer_Allergic Diseases_Zhang 2020.pd...\n",
              "\n",
              "[1046 rows x 1 columns]"
            ]
          },
          "metadata": {
            "tags": []
          },
          "execution_count": 7
        }
      ]
    },
    {
      "cell_type": "code",
      "metadata": {
        "id": "5ugMSyU0f_4n"
      },
      "source": [
        "# create checksum for each file to identify duplicates\n",
        "# https://stackoverflow.com/questions/16874598/how-do-i-calculate-the-md5-checksum-of-a-file-in-python#16876405\n",
        "import hashlib\n",
        "def get_checksum(filepath: str) -> str:\n",
        "    # Open,close, read file and calculate MD5 on its contents \n",
        "    with open(filepath, 'rb') as file_to_check:\n",
        "        # read contents of the file\n",
        "        data = file_to_check.read()    \n",
        "        # pipe contents of the file through\n",
        "        return hashlib.md5(data).hexdigest()\n",
        "df_files['Checksum'] = df_files['Filepath'].apply(get_checksum)"
      ],
      "id": "5ugMSyU0f_4n",
      "execution_count": 8,
      "outputs": []
    },
    {
      "cell_type": "code",
      "metadata": {
        "id": "62410ea9"
      },
      "source": [
        "fileNameTags = list(map(lambda fn: fn.replace('', '+').split('_')[0:-2],df_files['Filepath']))\n",
        "\n",
        "\n",
        "df_files['Name'] = [fNT[-1] for fNT in fileNameTags]\n",
        "df_files['Tags'] = [fNT[1:-1] for fNT in fileNameTags]\n",
        "df_files['Year'] = [fY[-8:-4] for fY in df_files['Name']]\n",
        "df_files['Authors'] = [fN.split(' ')[0] for fN in df_files['Name']]"
      ],
      "id": "62410ea9",
      "execution_count": 9,
      "outputs": []
    },
    {
      "cell_type": "code",
      "metadata": {
        "id": "-6NJ23USltk9",
        "colab": {
          "base_uri": "https://localhost:8080/",
          "height": 677
        },
        "outputId": "eb550d85-9195-4933-adb0-e9fff0247671"
      },
      "source": [
        "#Den Inhalt der Paper einlesen und in einen Pandas-\n",
        "df_files['Content'] = df_files['Filepath'].apply(lambda f: open(f, 'r', encoding = \"ISO-8859-1\").read())\n",
        "df_files"
      ],
      "id": "-6NJ23USltk9",
      "execution_count": 10,
      "outputs": [
        {
          "output_type": "execute_result",
          "data": {
            "text/html": [
              "<div>\n",
              "<style scoped>\n",
              "    .dataframe tbody tr th:only-of-type {\n",
              "        vertical-align: middle;\n",
              "    }\n",
              "\n",
              "    .dataframe tbody tr th {\n",
              "        vertical-align: top;\n",
              "    }\n",
              "\n",
              "    .dataframe thead th {\n",
              "        text-align: right;\n",
              "    }\n",
              "</style>\n",
              "<table border=\"1\" class=\"dataframe\">\n",
              "  <thead>\n",
              "    <tr style=\"text-align: right;\">\n",
              "      <th></th>\n",
              "      <th>Filepath</th>\n",
              "      <th>Checksum</th>\n",
              "      <th>Name</th>\n",
              "      <th>Tags</th>\n",
              "      <th>Year</th>\n",
              "      <th>Authors</th>\n",
              "      <th>Content</th>\n",
              "    </tr>\n",
              "  </thead>\n",
              "  <tbody>\n",
              "    <tr>\n",
              "      <th>0</th>\n",
              "      <td>CAPTUM_BAT_BHRA_Swerdt 2005.pdf_out_text.txt</td>\n",
              "      <td>cfc0bafeca8e44c8ae4b20db99d3f4d8</td>\n",
              "      <td>Swerdt 2005.pdf</td>\n",
              "      <td>[BAT, BHRA]</td>\n",
              "      <td>2005</td>\n",
              "      <td>Swerdt</td>\n",
              "      <td>youpuap AB1a]|p poo\\n\\nS\\nw\\no\\na\\nw\\n®\\nY\\na...</td>\n",
              "    </tr>\n",
              "    <tr>\n",
              "      <th>1</th>\n",
              "      <td>CAPTUM_BAT_Cyclosporine_Grattan 2000.pdf_out_t...</td>\n",
              "      <td>79e96f4baf3415f2597f79f00d86d3b1</td>\n",
              "      <td>Grattan 2000.pdf</td>\n",
              "      <td>[BAT, Cyclosporine]</td>\n",
              "      <td>2000</td>\n",
              "      <td>Grattan</td>\n",
              "      <td>British Journal of Dermatology 2000; 143: 365-...</td>\n",
              "    </tr>\n",
              "    <tr>\n",
              "      <th>2</th>\n",
              "      <td>CAPTUM_Severity_Duration_Arik yilmaz 2017.pdf_...</td>\n",
              "      <td>edb8e044a0018d41eeaad404dc4ee498</td>\n",
              "      <td>Arik yilmaz 2017.pdf</td>\n",
              "      <td>[Severity, Duration]</td>\n",
              "      <td>2017</td>\n",
              "      <td>Arik</td>\n",
              "      <td>The persistence of chronic spontaneous urticar...</td>\n",
              "    </tr>\n",
              "    <tr>\n",
              "      <th>3</th>\n",
              "      <td>CAPTUM_Angioedema_Omalizumab_Maurer 2016 .pdf_...</td>\n",
              "      <td>cf4d0c262fc8cccde7c7dbf63093f221</td>\n",
              "      <td>Maurer 2016 .pdf</td>\n",
              "      <td>[Angioedema, Omalizumab]</td>\n",
              "      <td>016</td>\n",
              "      <td>Maurer</td>\n",
              "      <td>Received Date: 29-Sep-2016\\nAccepted Date: 22-...</td>\n",
              "    </tr>\n",
              "    <tr>\n",
              "      <th>4</th>\n",
              "      <td>CAPTUM_Severity_Omalizumab_Metz 2018.pdf_out_t...</td>\n",
              "      <td>d6fa683062ac6c499d450bc62fe38ecc</td>\n",
              "      <td>Metz 2018.pdf</td>\n",
              "      <td>[Severity, Omalizumab]</td>\n",
              "      <td>2018</td>\n",
              "      <td>Metz</td>\n",
              "      <td>Check for\\nupdates\\n\\nPROF. MARCUS MAURER (Orc...</td>\n",
              "    </tr>\n",
              "    <tr>\n",
              "      <th>...</th>\n",
              "      <td>...</td>\n",
              "      <td>...</td>\n",
              "      <td>...</td>\n",
              "      <td>...</td>\n",
              "      <td>...</td>\n",
              "      <td>...</td>\n",
              "      <td>...</td>\n",
              "    </tr>\n",
              "    <tr>\n",
              "      <th>1041</th>\n",
              "      <td>CAPTUM_Eosinophil_Basophil_Uysal 2016.pdf_out_...</td>\n",
              "      <td>a86431127af09c8de0863de2f261a361</td>\n",
              "      <td>Uysal 2016.pdf</td>\n",
              "      <td>[Eosinophil, Basophil]</td>\n",
              "      <td>2016</td>\n",
              "      <td>Uysal</td>\n",
              "      <td>198\\n\\nOriginal Articl¢\\n\\n \\n\\nTURK A\\nPEDIAT...</td>\n",
              "    </tr>\n",
              "    <tr>\n",
              "      <th>1042</th>\n",
              "      <td>CAPTUM_Total IgE_D-Dimer_Asero 2019.pdf_out_te...</td>\n",
              "      <td>c7b5ca323305000a835fc3260b1ea077</td>\n",
              "      <td>Asero 2019.pdf</td>\n",
              "      <td>[Total IgE, D-Dimer]</td>\n",
              "      <td>2019</td>\n",
              "      <td>Asero</td>\n",
              "      <td>ORIGINAL ARTICLE\\n\\nEur ANN ALLERGY CLIN IMMUN...</td>\n",
              "    </tr>\n",
              "    <tr>\n",
              "      <th>1043</th>\n",
              "      <td>CAPTUM_ASST_Allergic Diseases_Chen 2016.pdf_o...</td>\n",
              "      <td>2fa8166af1abbc7c11e4209a5a68a996</td>\n",
              "      <td>Chen 2016.pdf</td>\n",
              "      <td>[ASST+, Allergic Diseases]</td>\n",
              "      <td>2016</td>\n",
              "      <td>Chen</td>\n",
              "      <td>Received Date: 13-Jan-2016\\nAccepted Date: 18-...</td>\n",
              "    </tr>\n",
              "    <tr>\n",
              "      <th>1044</th>\n",
              "      <td>CAPTUM_ASST_CRP_Montjoye 2020.pdf_out_text.txt</td>\n",
              "      <td>5492f2ac1e413b91c6c99d02d3bbbd28</td>\n",
              "      <td>Montjoye 2020.pdf</td>\n",
              "      <td>[ASST+, CRP]</td>\n",
              "      <td>2020</td>\n",
              "      <td>Montjoye</td>\n",
              "      <td>Correlations between disease activity, autoimm...</td>\n",
              "    </tr>\n",
              "    <tr>\n",
              "      <th>1045</th>\n",
              "      <td>CAPTUM_D-Dimer_Allergic Diseases_Zhang 2020.pd...</td>\n",
              "      <td>c63864c24c7140c6b67eea393eb1aff2</td>\n",
              "      <td>Zhang 2020.pdf</td>\n",
              "      <td>[D-Dimer, Allergic Diseases]</td>\n",
              "      <td>2020</td>\n",
              "      <td>Zhang</td>\n",
              "      <td>Received: 17 February 2020\\n\\nRevised: 18 Febr...</td>\n",
              "    </tr>\n",
              "  </tbody>\n",
              "</table>\n",
              "<p>1046 rows × 7 columns</p>\n",
              "</div>"
            ],
            "text/plain": [
              "                                               Filepath  ...                                            Content\n",
              "0          CAPTUM_BAT_BHRA_Swerdt 2005.pdf_out_text.txt  ...  youpuap AB1a]|p poo\\n\\nS\\nw\\no\\na\\nw\\n®\\nY\\na...\n",
              "1     CAPTUM_BAT_Cyclosporine_Grattan 2000.pdf_out_t...  ...  British Journal of Dermatology 2000; 143: 365-...\n",
              "2     CAPTUM_Severity_Duration_Arik yilmaz 2017.pdf_...  ...  The persistence of chronic spontaneous urticar...\n",
              "3     CAPTUM_Angioedema_Omalizumab_Maurer 2016 .pdf_...  ...  Received Date: 29-Sep-2016\\nAccepted Date: 22-...\n",
              "4     CAPTUM_Severity_Omalizumab_Metz 2018.pdf_out_t...  ...  Check for\\nupdates\\n\\nPROF. MARCUS MAURER (Orc...\n",
              "...                                                 ...  ...                                                ...\n",
              "1041  CAPTUM_Eosinophil_Basophil_Uysal 2016.pdf_out_...  ...  198\\n\\nOriginal Articl¢\\n\\n \\n\\nTURK A\\nPEDIAT...\n",
              "1042  CAPTUM_Total IgE_D-Dimer_Asero 2019.pdf_out_te...  ...  ORIGINAL ARTICLE\\n\\nEur ANN ALLERGY CLIN IMMUN...\n",
              "1043  CAPTUM_ASST_Allergic Diseases_Chen 2016.pdf_o...  ...  Received Date: 13-Jan-2016\\nAccepted Date: 18-...\n",
              "1044    CAPTUM_ASST_CRP_Montjoye 2020.pdf_out_text.txt  ...  Correlations between disease activity, autoimm...\n",
              "1045  CAPTUM_D-Dimer_Allergic Diseases_Zhang 2020.pd...  ...  Received: 17 February 2020\\n\\nRevised: 18 Febr...\n",
              "\n",
              "[1046 rows x 7 columns]"
            ]
          },
          "metadata": {
            "tags": []
          },
          "execution_count": 10
        }
      ]
    },
    {
      "cell_type": "code",
      "metadata": {
        "id": "NfbR4_P9s0f_"
      },
      "source": [
        "checksums = df_files['Checksum'].unique()\n",
        "for checksum in checksums:\n",
        "    tags = df_files.loc[df_files['Checksum'] == checksum, 'Tags']\n",
        "    list_of_pair_of_tags = tags.values.ravel()\n",
        "    list_of_tags = [tag for tags in list_of_pair_of_tags for tag in tags]\n",
        "    unique_tags = pd.unique(list_of_tags)\n",
        "    df_files.loc[df_files['Checksum'] == checksum, 'Tags'] = ', '.join(map(str, unique_tags))"
      ],
      "id": "NfbR4_P9s0f_",
      "execution_count": 11,
      "outputs": []
    },
    {
      "cell_type": "code",
      "metadata": {
        "id": "riAajBNjiMCf"
      },
      "source": [
        "# create dataframe for further analytics w/o the duplicate articles\n",
        "df = df_files.drop_duplicates(subset=['Checksum'], keep='first')\n",
        "df.reset_index(inplace=True, drop=True)\n",
        "df = df.loc[:,['Authors','Year','Tags', 'Content']]"
      ],
      "id": "riAajBNjiMCf",
      "execution_count": 12,
      "outputs": []
    },
    {
      "cell_type": "markdown",
      "metadata": {
        "id": "XYlSFMEfgAwt"
      },
      "source": [
        "# Korpus erstellen"
      ],
      "id": "XYlSFMEfgAwt"
    },
    {
      "cell_type": "code",
      "metadata": {
        "id": "LFVLJt6FMzRr",
        "colab": {
          "base_uri": "https://localhost:8080/"
        },
        "outputId": "3cbe0ae3-3fe4-4f1f-c116-08ea02392acd"
      },
      "source": [
        "from nltk.stem import PorterStemmer\n",
        "from nltk.stem import WordNetLemmatizer\n",
        "from nltk.corpus import stopwords\n",
        "\n",
        "from collections import Counter\n",
        "\n",
        "from sklearn.feature_extraction.text import TfidfVectorizer\n",
        "\n",
        "nltk.download('punkt')\n",
        "nltk.download('wordnet')\n",
        "nltk.download('stopwords')"
      ],
      "id": "LFVLJt6FMzRr",
      "execution_count": 13,
      "outputs": [
        {
          "output_type": "stream",
          "text": [
            "[nltk_data] Downloading package punkt to /root/nltk_data...\n",
            "[nltk_data]   Unzipping tokenizers/punkt.zip.\n",
            "[nltk_data] Downloading package wordnet to /root/nltk_data...\n",
            "[nltk_data]   Unzipping corpora/wordnet.zip.\n",
            "[nltk_data] Downloading package stopwords to /root/nltk_data...\n",
            "[nltk_data]   Unzipping corpora/stopwords.zip.\n"
          ],
          "name": "stdout"
        },
        {
          "output_type": "execute_result",
          "data": {
            "text/plain": [
              "True"
            ]
          },
          "metadata": {
            "tags": []
          },
          "execution_count": 13
        }
      ]
    },
    {
      "cell_type": "markdown",
      "metadata": {
        "id": "-nRxEmyLRhDU"
      },
      "source": [
        "Es werden Füllwörter entfernt."
      ],
      "id": "-nRxEmyLRhDU"
    },
    {
      "cell_type": "code",
      "metadata": {
        "id": "983b795c"
      },
      "source": [
        "stop_words=set(stopwords.words(\"english\"))\n",
        "def stoppingFunc(text, stop_words=stop_words):\n",
        "    filtered_text=[]\n",
        "    for word in text:\n",
        "        # Wort unter 3 Zeichen -> weg\n",
        "        if len(word) < 3:\n",
        "          next\n",
        "        # Mehr als eine Ziffer -> weg\n",
        "        elif sum(c.isdigit() for c in word)>1:\n",
        "          next\n",
        "        # nicht in Stopword Liste -> behalten\n",
        "        elif word not in stop_words:\n",
        "          filtered_text.append(word)\n",
        "        \n",
        "    return filtered_text"
      ],
      "id": "983b795c",
      "execution_count": 15,
      "outputs": []
    },
    {
      "cell_type": "markdown",
      "metadata": {
        "id": "1Wu3O5CFRfVx"
      },
      "source": [
        "Wörter auf ihren Wortstamm reduzieren (cats -> cat, transportation -> transport)"
      ],
      "id": "1Wu3O5CFRfVx"
    },
    {
      "cell_type": "code",
      "metadata": {
        "id": "fa7a4b64"
      },
      "source": [
        "def stemmingFunc(text):\n",
        "    stemmer = PorterStemmer()\n",
        "    return [stemmer.stem(word) for word in text]"
      ],
      "id": "fa7a4b64",
      "execution_count": 16,
      "outputs": []
    },
    {
      "cell_type": "markdown",
      "metadata": {
        "id": "LDr_g2xlRdGG"
      },
      "source": [
        "Komplexere Version des Stemming. Wörter werden im Zusammenhang gesehen und reduziert. Verben werden auf den Infiitiv gesetzt usw."
      ],
      "id": "LDr_g2xlRdGG"
    },
    {
      "cell_type": "code",
      "metadata": {
        "id": "efd6f40d"
      },
      "source": [
        "def lemmatizingFunc(text):\n",
        "    lemmatizer = WordNetLemmatizer()\n",
        "    return [lemmatizer.lemmatize(word) for word in text]"
      ],
      "id": "efd6f40d",
      "execution_count": 17,
      "outputs": []
    },
    {
      "cell_type": "code",
      "metadata": {
        "id": "hjUQ6ELhBLWv"
      },
      "source": [
        "def removeWords(text):\n",
        "  filtered_text=[]\n",
        "  for word in text:\n",
        "    if word.lower() in ('csu', 'urticaria', 'doi', 'http', 'the', 'al'):\n",
        "      next\n",
        "    else:\n",
        "      filtered_text.append(word)\n",
        "\n",
        "  counter = Counter(filtered_text)\n",
        "  filtered_text = [key for key, val in counter.items() if val > 1]\n",
        "\n",
        "  return filtered_text"
      ],
      "id": "hjUQ6ELhBLWv",
      "execution_count": 18,
      "outputs": []
    },
    {
      "cell_type": "code",
      "metadata": {
        "id": "8jXAdrQgT4sV"
      },
      "source": [
        "def remove_doi(text):\n",
        "  doi_regex = r\"10.\\d{4,9}\\/[-._;()\\/:A-Z0-9]+$\"\n",
        "  new_text = re.sub(doi_regex, '', text, flags=re.IGNORECASE)\n",
        "  return new_text"
      ],
      "id": "8jXAdrQgT4sV",
      "execution_count": 19,
      "outputs": []
    },
    {
      "cell_type": "code",
      "metadata": {
        "id": "QTogJ6y6EOX4",
        "colab": {
          "base_uri": "https://localhost:8080/"
        },
        "outputId": "34a16ef6-5b0e-4a63-f367-4e410b57ce50"
      },
      "source": [
        "removeWords(['csu', 'TEST', 'DOI', 'doi', 'al', 'DOI'])"
      ],
      "id": "QTogJ6y6EOX4",
      "execution_count": 20,
      "outputs": [
        {
          "output_type": "execute_result",
          "data": {
            "text/plain": [
              "['DOI']"
            ]
          },
          "metadata": {
            "tags": []
          },
          "execution_count": 20
        }
      ]
    },
    {
      "cell_type": "code",
      "metadata": {
        "id": "xKqD-XOFY8Xd"
      },
      "source": [
        "def normalize_text(tokenizer, text):\n",
        "  # lowercase text\n",
        "  text = str(text).lower()\n",
        "  # remove non-UTF\n",
        "  text = text.encode(\"utf-8\", \"ignore\").decode()\n",
        "  # remove doi\n",
        "  text = remove_doi(text)\n",
        "\n",
        "  tokenized_text = tokenizer.tokenize(text)\n",
        "\n",
        "  tokenized_text = removeWords(tokenized_text)\n",
        "  tokenized_text = stoppingFunc(tokenized_text)\n",
        "  #tokenized_text = stemmingFunc(tokenized_text)\n",
        "  tokenized_text = lemmatizingFunc(tokenized_text)\n",
        "\n",
        "  text = \" \".join(tokenized_text)\n",
        "  return text"
      ],
      "id": "xKqD-XOFY8Xd",
      "execution_count": 21,
      "outputs": []
    },
    {
      "cell_type": "markdown",
      "metadata": {
        "id": "yjs1JRBiRY-I"
      },
      "source": [
        "Ich glaube es sollte entweder eine Stemming oder eine Lemmatizing Funktion angewendet werden.\n",
        "\n",
        "Ich glaube wir sollten erst Lemmatizen und dann Stopwords entfernen."
      ],
      "id": "yjs1JRBiRY-I"
    },
    {
      "cell_type": "code",
      "metadata": {
        "id": "EQ-PJE_p_K7g"
      },
      "source": [
        "regex_tokenizer = nltk.RegexpTokenizer(\"\\w+\")\n",
        "df['Corpus'] = df['Content'].apply(lambda c: normalize_text(regex_tokenizer, c))\n",
        "\n",
        "\n",
        "regex_tokenizer2 = nltk.RegexpTokenizer('\\w+[\\.,]{0,1}')\n",
        "df['Corpus_w_Punctuation'] = df['Content'].apply(lambda c: normalize_text(regex_tokenizer2, c))"
      ],
      "id": "EQ-PJE_p_K7g",
      "execution_count": 22,
      "outputs": []
    },
    {
      "cell_type": "code",
      "metadata": {
        "id": "HhxYmjBJ2iYG",
        "colab": {
          "base_uri": "https://localhost:8080/",
          "height": 1000
        },
        "outputId": "51f09df7-5c5d-415e-fbb8-9986996a4dba"
      },
      "source": [
        "df"
      ],
      "id": "HhxYmjBJ2iYG",
      "execution_count": 23,
      "outputs": [
        {
          "output_type": "execute_result",
          "data": {
            "text/html": [
              "<div>\n",
              "<style scoped>\n",
              "    .dataframe tbody tr th:only-of-type {\n",
              "        vertical-align: middle;\n",
              "    }\n",
              "\n",
              "    .dataframe tbody tr th {\n",
              "        vertical-align: top;\n",
              "    }\n",
              "\n",
              "    .dataframe thead th {\n",
              "        text-align: right;\n",
              "    }\n",
              "</style>\n",
              "<table border=\"1\" class=\"dataframe\">\n",
              "  <thead>\n",
              "    <tr style=\"text-align: right;\">\n",
              "      <th></th>\n",
              "      <th>Authors</th>\n",
              "      <th>Year</th>\n",
              "      <th>Tags</th>\n",
              "      <th>Content</th>\n",
              "      <th>Corpus</th>\n",
              "      <th>Corpus_w_Punctuation</th>\n",
              "    </tr>\n",
              "  </thead>\n",
              "  <tbody>\n",
              "    <tr>\n",
              "      <th>0</th>\n",
              "      <td>Swerdt</td>\n",
              "      <td>2005</td>\n",
              "      <td>BAT, BHRA, Basophil, Severity, Angioedema</td>\n",
              "      <td>youpuap AB1a]|p poo\\n\\nS\\nw\\no\\na\\nw\\n®\\nY\\na...</td>\n",
              "      <td>sixd detection basophil activating igg autoant...</td>\n",
              "      <td>sixd detection basophil activating igg autoant...</td>\n",
              "    </tr>\n",
              "    <tr>\n",
              "      <th>1</th>\n",
              "      <td>Grattan</td>\n",
              "      <td>2000</td>\n",
              "      <td>BAT, Cyclosporine, BHRA, Severity, Basophil, A...</td>\n",
              "      <td>British Journal of Dermatology 2000; 143: 365-...</td>\n",
              "      <td>british journal dermatology randomized double ...</td>\n",
              "      <td>british journal dermatology randomized double ...</td>\n",
              "    </tr>\n",
              "    <tr>\n",
              "      <th>2</th>\n",
              "      <td>Arik</td>\n",
              "      <td>2017</td>\n",
              "      <td>Severity, Duration, Allergic Diseases, Angioedema</td>\n",
              "      <td>The persistence of chronic spontaneous urticar...</td>\n",
              "      <td>persistence chronic spontaneous childhood asso...</td>\n",
              "      <td>persistence chronic spontaneous childhood asso...</td>\n",
              "    </tr>\n",
              "    <tr>\n",
              "      <th>3</th>\n",
              "      <td>Maurer</td>\n",
              "      <td>016</td>\n",
              "      <td>Angioedema, Omalizumab</td>\n",
              "      <td>Received Date: 29-Sep-2016\\nAccepted Date: 22-...</td>\n",
              "      <td>received date accepted article positive impact...</td>\n",
              "      <td>received date accepted article positive impact...</td>\n",
              "    </tr>\n",
              "    <tr>\n",
              "      <th>4</th>\n",
              "      <td>Metz</td>\n",
              "      <td>2018</td>\n",
              "      <td>Severity, Omalizumab</td>\n",
              "      <td>Check for\\nupdates\\n\\nPROF. MARCUS MAURER (Orc...</td>\n",
              "      <td>marcus maurer article type experimental allerg...</td>\n",
              "      <td>marcus maurer article type experimental allerg...</td>\n",
              "    </tr>\n",
              "    <tr>\n",
              "      <th>...</th>\n",
              "      <td>...</td>\n",
              "      <td>...</td>\n",
              "      <td>...</td>\n",
              "      <td>...</td>\n",
              "      <td>...</td>\n",
              "      <td>...</td>\n",
              "    </tr>\n",
              "    <tr>\n",
              "      <th>449</th>\n",
              "      <td>Sterba</td>\n",
              "      <td>2015</td>\n",
              "      <td>anti-FcεRI, Basophil</td>\n",
              "      <td>jduosnueyy souiny yduosnueyy soulny jduosnueyy...</td>\n",
              "      <td>jduosnueyy souiny yduosnueyy soulny souyny aut...</td>\n",
              "      <td>jduosnueyy souiny yduosnueyy soulny souyny aut...</td>\n",
              "    </tr>\n",
              "    <tr>\n",
              "      <th>450</th>\n",
              "      <td>Nada</td>\n",
              "      <td>2020</td>\n",
              "      <td>Duration, Angioedema</td>\n",
              "      <td>| ®\\nAccepted: 11 September 2020.\\n\\nCheck for...</td>\n",
              "      <td>received jocd contribution wiley dermatology i...</td>\n",
              "      <td>received jocd. contribution wiley dermatology ...</td>\n",
              "    </tr>\n",
              "    <tr>\n",
              "      <th>451</th>\n",
              "      <td>Saini</td>\n",
              "      <td>2017</td>\n",
              "      <td>Basophil, Omalizumab</td>\n",
              "      <td>Accepted Manuscript\\n\\nJOURNAL OF INVESTIGATIV...</td>\n",
              "      <td>accepted manuscript journal investigative derm...</td>\n",
              "      <td>accepted manuscript journal investigative derm...</td>\n",
              "    </tr>\n",
              "    <tr>\n",
              "      <th>452</th>\n",
              "      <td>Ferrer</td>\n",
              "      <td>2017</td>\n",
              "      <td>Severity, Omalizumab</td>\n",
              "      <td>doi:10.1684/ejd.2017.3085\\n\\nReview\\n\\nMarta F...</td>\n",
              "      <td>ejd review marta ferrer isabelle boccon gibod ...</td>\n",
              "      <td>ejd. review marta ferrer isabelle boccon gibod...</td>\n",
              "    </tr>\n",
              "    <tr>\n",
              "      <th>453</th>\n",
              "      <td>Llanos</td>\n",
              "      <td>2019</td>\n",
              "      <td>Allergic Diseases, Omalizumab</td>\n",
              "      <td>Journal of Asthma and Allergy\\n\\n3\\n\\nDove\\n\\n...</td>\n",
              "      <td>journal asthma allergy dove original research ...</td>\n",
              "      <td>journal asthma allergy dove original research ...</td>\n",
              "    </tr>\n",
              "  </tbody>\n",
              "</table>\n",
              "<p>454 rows × 6 columns</p>\n",
              "</div>"
            ],
            "text/plain": [
              "     Authors  ...                               Corpus_w_Punctuation\n",
              "0     Swerdt  ...  sixd detection basophil activating igg autoant...\n",
              "1    Grattan  ...  british journal dermatology randomized double ...\n",
              "2       Arik  ...  persistence chronic spontaneous childhood asso...\n",
              "3     Maurer  ...  received date accepted article positive impact...\n",
              "4       Metz  ...  marcus maurer article type experimental allerg...\n",
              "..       ...  ...                                                ...\n",
              "449   Sterba  ...  jduosnueyy souiny yduosnueyy soulny souyny aut...\n",
              "450     Nada  ...  received jocd. contribution wiley dermatology ...\n",
              "451    Saini  ...  accepted manuscript journal investigative derm...\n",
              "452   Ferrer  ...  ejd. review marta ferrer isabelle boccon gibod...\n",
              "453   Llanos  ...  journal asthma allergy dove original research ...\n",
              "\n",
              "[454 rows x 6 columns]"
            ]
          },
          "metadata": {
            "tags": []
          },
          "execution_count": 23
        }
      ]
    },
    {
      "cell_type": "markdown",
      "metadata": {
        "id": "hCuEEMfP4-Y4"
      },
      "source": [
        "### Distinct Tags"
      ],
      "id": "hCuEEMfP4-Y4"
    },
    {
      "cell_type": "code",
      "metadata": {
        "id": "StvfVkx226jA",
        "colab": {
          "base_uri": "https://localhost:8080/"
        },
        "outputId": "85618b16-a862-4cce-bd26-8b835abdb0c5"
      },
      "source": [
        "type(list(df['Tags']))\n",
        "tags = set(', '.join(list(df['Tags'])).split(', '))\n",
        "print(*tags, sep=\"\\n\")"
      ],
      "id": "StvfVkx226jA",
      "execution_count": 24,
      "outputs": [
        {
          "output_type": "stream",
          "text": [
            "Omalizumab\n",
            "ANA\n",
            "anti-TPO IgE ratio+\n",
            "CRP\n",
            "Antihistamine\n",
            "dsDNA\n",
            "Ana\n",
            "Allergic Diseases\n",
            "anti-FcεRI\n",
            "Cyclosporine\n",
            "BHRA\n",
            "Basophil count\n",
            "Eosinophil\n",
            "duration\n",
            "Anti-IgE\n",
            "Basophil\n",
            "serverity+\n",
            "thyroglobulin\n",
            "Duration\n",
            "angioedema\n",
            "ASST+\n",
            "Angioedema\n",
            "Tissue factor\n",
            "BAT\n",
            "cyclosporine\n",
            "omalizumab\n",
            "Severity\n",
            "IL-24\n",
            "D-Dimer\n",
            "Eosinophil count\n",
            "Thyroglobulin\n",
            "Total IgE\n",
            "TPO\n"
          ],
          "name": "stdout"
        }
      ]
    },
    {
      "cell_type": "markdown",
      "metadata": {
        "id": "8bb35178"
      },
      "source": [
        "# Algorithmen anwenden"
      ],
      "id": "8bb35178"
    },
    {
      "cell_type": "markdown",
      "metadata": {
        "id": "NUvil67imP_C"
      },
      "source": [
        "## Bag of Words\n",
        "Quelle: [towardsdatascience](https://towardsdatascience.com/topic-modeling-and-latent-dirichlet-allocation-in-python-9bf156893c24)"
      ],
      "id": "NUvil67imP_C"
    },
    {
      "cell_type": "code",
      "metadata": {
        "id": "XXEW8CQQmqZA",
        "outputId": "8b6411c6-d390-47a5-b5a8-310919836182",
        "colab": {
          "base_uri": "https://localhost:8080/"
        }
      },
      "source": [
        "import gensim\n",
        "import numpy as np\n",
        "np.random.seed(2021)\n",
        "import nltk\n",
        "nltk.download('wordnet')"
      ],
      "id": "XXEW8CQQmqZA",
      "execution_count": 35,
      "outputs": [
        {
          "output_type": "stream",
          "text": [
            "[nltk_data] Downloading package wordnet to /root/nltk_data...\n",
            "[nltk_data]   Package wordnet is already up-to-date!\n"
          ],
          "name": "stdout"
        },
        {
          "output_type": "execute_result",
          "data": {
            "text/plain": [
              "True"
            ]
          },
          "metadata": {
            "tags": []
          },
          "execution_count": 35
        }
      ]
    },
    {
      "cell_type": "code",
      "metadata": {
        "id": "DhoqU6U_mue-"
      },
      "source": [
        "processed_docs = df['Corpus'].apply(lambda c: c.split(' '))"
      ],
      "id": "DhoqU6U_mue-",
      "execution_count": 36,
      "outputs": []
    },
    {
      "cell_type": "code",
      "metadata": {
        "id": "gWjoEt0rmwnV",
        "outputId": "6c10d087-38af-4176-96a0-990bf1cc46c5",
        "colab": {
          "base_uri": "https://localhost:8080/"
        }
      },
      "source": [
        "dictionary = gensim.corpora.Dictionary(processed_docs)\n",
        "count = 0\n",
        "for k, v in dictionary.iteritems():\n",
        "    print(k, v)\n",
        "    count += 1\n",
        "    if count > 10:\n",
        "        break"
      ],
      "id": "gWjoEt0rmwnV",
      "execution_count": 37,
      "outputs": [
        {
          "output_type": "stream",
          "text": [
            "0 aaa\n",
            "1 accordance\n",
            "2 activated\n",
            "3 activates\n",
            "4 activating\n",
            "5 activation\n",
            "6 activity\n",
            "7 affinity\n",
            "8 age\n",
            "9 allergen\n",
            "10 allergy\n"
          ],
          "name": "stdout"
        }
      ]
    },
    {
      "cell_type": "markdown",
      "metadata": {
        "id": "vJf8rx6MoqDu"
      },
      "source": [
        "### **LDA** (LatentDirichletAllocation) \n",
        "Quelle: [Medium-Artikel zu LDA](https://towardsdatascience.com/nlp-with-lda-latent-dirichlet-allocation-and-text-clustering-to-improve-classification-97688c23d98)"
      ],
      "id": "vJf8rx6MoqDu"
    },
    {
      "cell_type": "code",
      "metadata": {
        "id": "j0i46zY1sXJ2"
      },
      "source": [
        "#Turn tags into a set for faster checking of whether a tag exists or not\n",
        "type(list(df['Tags']))\n",
        "unique_tags = set(', '.join(list(df['Tags'])).split(', '))\n",
        "print(*unique_tags, sep=\"\\n\")\n"
      ],
      "id": "j0i46zY1sXJ2",
      "execution_count": null,
      "outputs": []
    },
    {
      "cell_type": "code",
      "metadata": {
        "id": "iMTf0IC6qfQi"
      },
      "source": [
        "from sklearn.feature_extraction.text import CountVectorizer\n",
        "from sklearn.decomposition import LatentDirichletAllocation as LDA\n",
        "\n",
        "\n",
        "def find_topics(text):\n",
        "  count_vectorizer = CountVectorizer()\n",
        "  count_data = count_vectorizer.fit_transform(list(text))\n",
        "\n",
        "\n",
        "  # One topic that has an avg of two words because most questions had 1/2 tags\n",
        "  number_topics = 5\n",
        "  number_words = 20\n",
        "\n",
        "  # Create and fit the LDA model\n",
        "  lda = LDA(n_components=number_topics, n_jobs=-1)\n",
        "  lda.fit(count_data)\n",
        "  words = count_vectorizer.get_feature_names()\n",
        "\n",
        "  #Get topics from model. They are represented as a list e.g. ['military','army']\n",
        "  topics = [[words[i] for i in topic.argsort()[:-number_words - 1:-1]] for (topic_idx, topic) in enumerate(lda.components_)]\n",
        "  topic_groups = topics\n",
        "\n",
        "  topics = np.array(topics).ravel()\n",
        "  distinct_topics = list(set(topics))\n",
        "\n",
        "  #Only use topics for which a tag already exists\n",
        "  existing_topics = set.intersection(set(topics),unique_tags)\n",
        "\n",
        "  \n",
        "\n",
        "  return (words, distinct_topics, topic_groups, existing_topics)"
      ],
      "id": "iMTf0IC6qfQi",
      "execution_count": null,
      "outputs": []
    },
    {
      "cell_type": "code",
      "metadata": {
        "id": "wVjwSYTVvfKI"
      },
      "source": [
        "words, distinct_topics, topic_groups, existing_topics = find_topics(df['Corpus_w_Punctuation'])"
      ],
      "id": "wVjwSYTVvfKI",
      "execution_count": null,
      "outputs": []
    },
    {
      "cell_type": "code",
      "metadata": {
        "id": "0hlQ-SwUzDG1"
      },
      "source": [
        "sorted(distinct_topics)\n"
      ],
      "id": "0hlQ-SwUzDG1",
      "execution_count": null,
      "outputs": []
    },
    {
      "cell_type": "markdown",
      "metadata": {
        "id": "rjf-SfSvy_hP"
      },
      "source": [
        "### **BERTopic** \n",
        "Topic modeling mit BERTopic -> siehe: https://towardsdatascience.com/topic-modeling-with-bert-779f7db187e6"
      ],
      "id": "rjf-SfSvy_hP"
    },
    {
      "cell_type": "markdown",
      "metadata": {
        "id": "0KkNASXt6JZ_"
      },
      "source": [
        "Copy and Paste aus: https://colab.research.google.com/drive/1iqs9Y5_zLI6R6mAwlnapcxcUbKjpv2CC?usp=sharing#scrollTo=MgMaef_uZT0T\n",
        "bzw.: https://www.youtube.com/watch?v=TLPmlVeEf1k"
      ],
      "id": "0KkNASXt6JZ_"
    },
    {
      "cell_type": "code",
      "metadata": {
        "id": "xdOCH0kszsfi",
        "colab": {
          "base_uri": "https://localhost:8080/",
          "height": 333
        },
        "outputId": "ee3d5d5d-1bb5-4f55-de83-52cbc9bc9ab9"
      },
      "source": [
        "!pip3 install bertopic[all]\n",
        "from bertopic import BERTopic"
      ],
      "id": "xdOCH0kszsfi",
      "execution_count": 29,
      "outputs": [
        {
          "output_type": "stream",
          "text": [
            "^C\n"
          ],
          "name": "stdout"
        },
        {
          "output_type": "error",
          "ename": "ModuleNotFoundError",
          "evalue": "ignored",
          "traceback": [
            "\u001b[0;31m---------------------------------------------------------------------------\u001b[0m",
            "\u001b[0;31mModuleNotFoundError\u001b[0m                       Traceback (most recent call last)",
            "\u001b[0;32m<ipython-input-29-dac9e6e84e94>\u001b[0m in \u001b[0;36m<module>\u001b[0;34m()\u001b[0m\n\u001b[1;32m      1\u001b[0m \u001b[0mget_ipython\u001b[0m\u001b[0;34m(\u001b[0m\u001b[0;34m)\u001b[0m\u001b[0;34m.\u001b[0m\u001b[0msystem\u001b[0m\u001b[0;34m(\u001b[0m\u001b[0;34m'pip3 install bertopic[all]'\u001b[0m\u001b[0;34m)\u001b[0m\u001b[0;34m\u001b[0m\u001b[0;34m\u001b[0m\u001b[0m\n\u001b[0;32m----> 2\u001b[0;31m \u001b[0;32mfrom\u001b[0m \u001b[0mbertopic\u001b[0m \u001b[0;32mimport\u001b[0m \u001b[0mBERTopic\u001b[0m\u001b[0;34m\u001b[0m\u001b[0;34m\u001b[0m\u001b[0m\n\u001b[0m",
            "\u001b[0;31mModuleNotFoundError\u001b[0m: No module named 'bertopic'",
            "",
            "\u001b[0;31m---------------------------------------------------------------------------\u001b[0;32m\nNOTE: If your import is failing due to a missing package, you can\nmanually install dependencies using either !pip or !apt.\n\nTo view examples of installing some common dependencies, click the\n\"Open Examples\" button below.\n\u001b[0;31m---------------------------------------------------------------------------\u001b[0m\n"
          ]
        }
      ]
    },
    {
      "cell_type": "code",
      "metadata": {
        "id": "ELTFNj8VXCAQ"
      },
      "source": [
        "topic_model = BERTopic(language=\"english\", calculate_probabilities=True) # We need the probabilities to visualize\n",
        "topics, _ = topic_model.fit_transform(list(df['Content']))"
      ],
      "id": "ELTFNj8VXCAQ",
      "execution_count": null,
      "outputs": []
    },
    {
      "cell_type": "code",
      "metadata": {
        "id": "bFiD4jIi6DZn"
      },
      "source": [
        "# Get the most frequent topics\n",
        "topic_freq = topic_model.get_topic_freq()\n",
        "outliers = topic_freq['Count'][topic_freq['Topic']==-1].iloc[0]\n",
        "print(f\"{outliers} documents have not been classified\")\n",
        "print(f\"The other {topic_freq['Count'].sum() - outliers} documents are {topic_freq['Topic'].shape[0]-1} topics\")"
      ],
      "id": "bFiD4jIi6DZn",
      "execution_count": null,
      "outputs": []
    },
    {
      "cell_type": "code",
      "metadata": {
        "id": "vVP7-geA6HXx"
      },
      "source": [
        "topic_freq.head()"
      ],
      "id": "vVP7-geA6HXx",
      "execution_count": null,
      "outputs": []
    },
    {
      "cell_type": "code",
      "metadata": {
        "id": "SgiYB3av6yeg"
      },
      "source": [
        "print(f\"There are {topic_freq['Count'].iloc[1]} documents that are talking about topic ID {topic_freq['Topic'].iloc[1]}\")"
      ],
      "id": "SgiYB3av6yeg",
      "execution_count": null,
      "outputs": []
    },
    {
      "cell_type": "code",
      "metadata": {
        "id": "9EDrpSkB64rL"
      },
      "source": [
        "topic_model.get_topic(topic_freq['Topic'].iloc[1])"
      ],
      "id": "9EDrpSkB64rL",
      "execution_count": null,
      "outputs": []
    },
    {
      "cell_type": "code",
      "metadata": {
        "id": "HHDEzS4V7BBu"
      },
      "source": [
        "topic_model.visualize_topics()"
      ],
      "id": "HHDEzS4V7BBu",
      "execution_count": null,
      "outputs": []
    },
    {
      "cell_type": "markdown",
      "metadata": {
        "id": "jpTRFMDj-eZL"
      },
      "source": [
        "### **DistilBert**\n",
        "Quelle: https://towardsdatascience.com/topic-modeling-with-bert-779f7db187e6"
      ],
      "id": "jpTRFMDj-eZL"
    },
    {
      "cell_type": "code",
      "metadata": {
        "id": "wGpHETQJ-ujr"
      },
      "source": [
        "from sentence_transformers import SentenceTransformer\n",
        "model = SentenceTransformer('distilbert-base-nli-mean-tokens')\n",
        "embeddings = model.encode(df['Content'], show_progress_bar=True)"
      ],
      "id": "wGpHETQJ-ujr",
      "execution_count": null,
      "outputs": []
    },
    {
      "cell_type": "code",
      "metadata": {
        "id": "dKV0TTx4_MDa"
      },
      "source": [
        "import umap\n",
        "umap_embeddings = umap.UMAP(n_neighbors=15, \n",
        "                            n_components=5,\n",
        "                            metric='cosine').fit_transform(embeddings)"
      ],
      "id": "dKV0TTx4_MDa",
      "execution_count": null,
      "outputs": []
    },
    {
      "cell_type": "code",
      "metadata": {
        "id": "KVcm8J1oAGdc"
      },
      "source": [
        "import hdbscan\n",
        "cluster = hdbscan.HDBSCAN(min_cluster_size=4,\n",
        "                          metric='euclidean',                      \n",
        "                          cluster_selection_method='eom').fit(umap_embeddings)"
      ],
      "id": "KVcm8J1oAGdc",
      "execution_count": null,
      "outputs": []
    },
    {
      "cell_type": "code",
      "metadata": {
        "id": "IRLEuowiAt8z"
      },
      "source": [
        "# Prepare data\n",
        "umap_data = umap.UMAP(n_neighbors=20, n_components=2, min_dist=0.0, metric='cosine').fit_transform(embeddings)\n",
        "result = pd.DataFrame(umap_data, columns=['x', 'y'])\n",
        "result['labels'] = cluster.labels_\n",
        "\n",
        "# Visualize clusters\n",
        "fig, ax = plt.subplots(figsize=(20, 10))\n",
        "outliers = result.loc[result.labels == -1, :]\n",
        "clustered = result.loc[result.labels != -1, :]\n",
        "plt.scatter(outliers.x, outliers.y, color='#BDBDBD', s=15)\n",
        "plt.scatter(clustered.x, clustered.y, c=clustered.labels, s=15, cmap='hsv_r')\n",
        "plt.colorbar()"
      ],
      "id": "IRLEuowiAt8z",
      "execution_count": null,
      "outputs": []
    },
    {
      "cell_type": "markdown",
      "metadata": {
        "id": "HoXi6ici5_qs"
      },
      "source": [
        "### Top2Vec\n",
        "\n",
        "Quelle: https://github.com/bhattbhavesh91/Top2Vec-Demo/blob/main/Top2Vec-Notebook.ipynb"
      ],
      "id": "HoXi6ici5_qs"
    },
    {
      "cell_type": "code",
      "metadata": {
        "id": "HfedNDaf6IXj"
      },
      "source": [
        "!pip install -q numpy\n",
        "!pip install -q pandas\n",
        "!pip install -q gensim\n",
        "!pip install -q pynndescent>=0.4\n",
        "!pip install -q umap-learn\n",
        "!pip install -q hdbscan\n",
        "!pip install -q wordcloud\n",
        "!pip install -q tensorflow\n",
        "!pip install -q tensorflow_hub\n",
        "!pip install -q tensorflow_text\n",
        "!pip install -q torch\n",
        "!pip install -q sentence_transformers\n",
        "!pip install -q hnswlib\n",
        "!pip install -q joblib<1.0.0\n",
        "!pip install -q top2vec[sentence_transformers]"
      ],
      "id": "HfedNDaf6IXj",
      "execution_count": null,
      "outputs": []
    },
    {
      "cell_type": "code",
      "metadata": {
        "id": "dNR9_lgr6Rnw"
      },
      "source": [
        "import numpy as np\n",
        "import pandas as pd\n",
        "from copy import deepcopy\n",
        "from top2vec import Top2Vec"
      ],
      "id": "dNR9_lgr6Rnw",
      "execution_count": null,
      "outputs": []
    },
    {
      "cell_type": "code",
      "metadata": {
        "id": "M0Rivd9R6bDL"
      },
      "source": [
        "docs = list(df.loc[:, \"Content\"].values)\n",
        "docs[:5]"
      ],
      "id": "M0Rivd9R6bDL",
      "execution_count": null,
      "outputs": []
    },
    {
      "cell_type": "code",
      "metadata": {
        "id": "XbrUw3TM7lRC"
      },
      "source": [
        "model = Top2Vec(docs, embedding_model='universal-sentence-encoder')"
      ],
      "id": "XbrUw3TM7lRC",
      "execution_count": null,
      "outputs": []
    },
    {
      "cell_type": "code",
      "metadata": {
        "id": "W3QTpYcV7s4U"
      },
      "source": [
        "model.get_num_topics()"
      ],
      "id": "W3QTpYcV7s4U",
      "execution_count": null,
      "outputs": []
    },
    {
      "cell_type": "code",
      "metadata": {
        "id": "51SEhzi-7xae"
      },
      "source": [
        "topic_words, word_scores, topic_nums = model.get_topics(1)"
      ],
      "id": "51SEhzi-7xae",
      "execution_count": null,
      "outputs": []
    },
    {
      "cell_type": "code",
      "metadata": {
        "id": "-QwLqbcl76A_"
      },
      "source": [
        "for topic in topic_nums:\n",
        "    model.generate_topic_wordcloud(topic)"
      ],
      "id": "-QwLqbcl76A_",
      "execution_count": null,
      "outputs": []
    },
    {
      "cell_type": "markdown",
      "metadata": {
        "id": "1c7411d8"
      },
      "source": [
        "### TFIDF Vertorizer"
      ],
      "id": "1c7411d8"
    },
    {
      "cell_type": "code",
      "metadata": {
        "id": "2453744a"
      },
      "source": [
        "tfidfconvert = TfidfVectorizer(ngram_range=(1,1)).fit(df.Corpus.values)"
      ],
      "id": "2453744a",
      "execution_count": 27,
      "outputs": []
    },
    {
      "cell_type": "code",
      "metadata": {
        "id": "362e41ab",
        "colab": {
          "base_uri": "https://localhost:8080/"
        },
        "outputId": "6a1c72d0-79bf-452b-831b-1eedd2ae6946"
      },
      "source": [
        "len(tfidfconvert.vocabulary_)"
      ],
      "id": "362e41ab",
      "execution_count": 28,
      "outputs": [
        {
          "output_type": "execute_result",
          "data": {
            "text/plain": [
              "15739"
            ]
          },
          "metadata": {
            "tags": []
          },
          "execution_count": 28
        }
      ]
    },
    {
      "cell_type": "code",
      "metadata": {
        "id": "95f044e2"
      },
      "source": [
        "words_transformed = tfidfconvert.transform(df.Corpus.values)"
      ],
      "id": "95f044e2",
      "execution_count": 29,
      "outputs": []
    },
    {
      "cell_type": "markdown",
      "metadata": {
        "id": "6712dce8"
      },
      "source": [
        "### K-Means Clustering"
      ],
      "id": "6712dce8"
    },
    {
      "cell_type": "code",
      "metadata": {
        "id": "67d59ddc"
      },
      "source": [
        "from sklearn.cluster import KMeans"
      ],
      "id": "67d59ddc",
      "execution_count": 30,
      "outputs": []
    },
    {
      "cell_type": "markdown",
      "metadata": {
        "id": "95d1b144"
      },
      "source": [
        "K-Means für mehrere k's berechnen"
      ],
      "id": "95d1b144"
    },
    {
      "cell_type": "code",
      "metadata": {
        "id": "3a8567ca",
        "colab": {
          "base_uri": "https://localhost:8080/"
        },
        "outputId": "e5fb4a44-845d-454b-a7ba-c534bb509ea5"
      },
      "source": [
        "Sum_of_squared_distances = []\n",
        "max_range = 25\n",
        "K = range(1,max_range + 1)\n",
        "for k in K: \n",
        "    print(str(k) + \"/\" + str(max_range))\n",
        "    km = KMeans(n_clusters=k)\n",
        "    km = km.fit(words_transformed)\n",
        "    Sum_of_squared_distances.append(km.inertia_)\n",
        "    "
      ],
      "id": "3a8567ca",
      "execution_count": 33,
      "outputs": [
        {
          "output_type": "stream",
          "text": [
            "1/25\n",
            "2/25\n",
            "3/25\n",
            "4/25\n",
            "5/25\n",
            "6/25\n",
            "7/25\n",
            "8/25\n",
            "9/25\n",
            "10/25\n",
            "11/25\n",
            "12/25\n",
            "13/25\n",
            "14/25\n",
            "15/25\n",
            "16/25\n",
            "17/25\n",
            "18/25\n",
            "19/25\n",
            "20/25\n",
            "21/25\n",
            "22/25\n",
            "23/25\n",
            "24/25\n",
            "25/25\n"
          ],
          "name": "stdout"
        }
      ]
    },
    {
      "cell_type": "code",
      "metadata": {
        "id": "49a1714b",
        "colab": {
          "base_uri": "https://localhost:8080/",
          "height": 295
        },
        "outputId": "deced511-9f2b-4be9-8d60-a0903aeca935"
      },
      "source": [
        "plt.plot(K,Sum_of_squared_distances, 'b^-')\n",
        "plt.xlabel('k')\n",
        "plt.ylabel('Sum_of_squared_distances')\n",
        "plt.title('Elbow Method For Optimal k')\n",
        "plt.show()"
      ],
      "id": "49a1714b",
      "execution_count": 34,
      "outputs": [
        {
          "output_type": "display_data",
          "data": {
            "image/png": "[encoded data removed]",
            "text/plain": [
              "<Figure size 432x288 with 1 Axes>"
            ]
          },
          "metadata": {
            "tags": [],
            "needs_background": "light"
          }
        }
      ]
    },
    {
      "cell_type": "markdown",
      "metadata": {
        "id": "OfRnuFS-6pSI"
      },
      "source": [
        "\n",
        "\n",
        "# **IDEEN zum Cluster bilden**\n",
        "\n",
        "\n",
        "- Bag of Words kreiren um neuer Cluster / Wortgruppen zu finden über Häufigkeit der Wörter oder nähe der Wörter zu einander\n",
        "- Visualisieren des Links zwischen Markern in einer HeatMap\n",
        "- BioBert einsetzen\n",
        "- Part of Speech recognition um Autorennamen zu identifizieren \n",
        "- AutorenNamen und Marker verknüpfen / clustern\n",
        "- \n",
        "\n",
        "\n",
        "**Generelle Todo's**\n",
        "- Distinct Values für Abkürzungsverzeichnis erheben und mit Markern abgleichen\n",
        "- CRISP-DM als Vorgehensmoddel zugrundeliegen\n",
        "- Begründen Stemm / Lemmatizing - Erörterung im Paper"
      ],
      "id": "OfRnuFS-6pSI"
    }
  ]
}