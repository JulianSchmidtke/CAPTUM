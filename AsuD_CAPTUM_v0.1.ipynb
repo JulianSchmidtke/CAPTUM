{
  "nbformat": 4,
  "nbformat_minor": 5,
  "metadata": {
    "kernelspec": {
      "display_name": "Python 3",
      "language": "python",
      "name": "python3"
    },
    "language_info": {
      "codemirror_mode": {
        "name": "ipython",
        "version": 3
      },
      "file_extension": ".py",
      "mimetype": "text/x-python",
      "name": "python",
      "nbconvert_exporter": "python",
      "pygments_lexer": "ipython3",
      "version": "3.7.10"
    },
    "colab": {
      "name": "AsuD_CAPTUM_v0.1.ipynb",
      "provenance": [],
      "include_colab_link": true
    }
  },
  "cells": [
    {
      "cell_type": "markdown",
      "metadata": {
        "id": "view-in-github",
        "colab_type": "text"
      },
      "source": [
        "<a href=\"https://colab.research.google.com/github/JulianSchmidtke/CAPTUM/blob/main/AsuD_CAPTUM_v0.1.ipynb\" target=\"_parent\"><img src=\"https://colab.research.google.com/assets/colab-badge.svg\" alt=\"Open In Colab\"/></a>"
      ]
    },
    {
      "cell_type": "code",
      "metadata": {
        "id": "-QMYRkMslDGw",
        "outputId": "bb4b4b41-2829-4d91-f6c9-ff9752f56d96",
        "colab": {
          "base_uri": "https://localhost:8080/"
        }
      },
      "source": [
        "!git clone https://github.com/JulianSchmidtke/CAPTUM.git"
      ],
      "id": "-QMYRkMslDGw",
      "execution_count": 61,
      "outputs": [
        {
          "output_type": "stream",
          "text": [
            "Cloning into 'CAPTUM'...\n",
            "remote: Enumerating objects: 478, done.\u001b[K\n",
            "remote: Counting objects: 100% (478/478), done.\u001b[K\n",
            "remote: Compressing objects: 100% (455/455), done.\u001b[K\n",
            "remote: Total 478 (delta 23), reused 463 (delta 20), pack-reused 0\u001b[K\n",
            "Receiving objects: 100% (478/478), 5.19 MiB | 13.22 MiB/s, done.\n",
            "Resolving deltas: 100% (23/23), done.\n"
          ],
          "name": "stdout"
        }
      ]
    },
    {
      "cell_type": "code",
      "metadata": {
        "id": "21aa3cc8",
        "outputId": "95cd2a66-553e-40d3-ddc1-2968394fae0e",
        "colab": {
          "base_uri": "https://localhost:8080/"
        }
      },
      "source": [
        "%matplotlib inline\n",
        "import matplotlib.pyplot as plt\n",
        "import nltk, os\n",
        "import pandas as pd\n",
        "import numpy as np\n",
        "\n",
        "from nltk.stem import PorterStemmer\n",
        "from nltk.stem import WordNetLemmatizer\n",
        "from nltk.corpus import stopwords\n",
        "\n",
        "from collections import Counter\n",
        "\n",
        "from sklearn.feature_extraction.text import TfidfVectorizer\n",
        "\n",
        "nltk.download('punkt')\n",
        "nltk.download('wordnet')\n",
        "nltk.download('stopwords')"
      ],
      "id": "21aa3cc8",
      "execution_count": 62,
      "outputs": [
        {
          "output_type": "stream",
          "text": [
            "[nltk_data] Downloading package punkt to /root/nltk_data...\n",
            "[nltk_data]   Package punkt is already up-to-date!\n",
            "[nltk_data] Downloading package wordnet to /root/nltk_data...\n",
            "[nltk_data]   Package wordnet is already up-to-date!\n",
            "[nltk_data] Downloading package stopwords to /root/nltk_data...\n",
            "[nltk_data]   Package stopwords is already up-to-date!\n"
          ],
          "name": "stdout"
        },
        {
          "output_type": "execute_result",
          "data": {
            "text/plain": [
              "True"
            ]
          },
          "metadata": {
            "tags": []
          },
          "execution_count": 62
        }
      ]
    },
    {
      "cell_type": "code",
      "metadata": {
        "id": "18f27004"
      },
      "source": [
        "#Arbeitsverzeichnis auf das Ordnerverzeichnis ändern, in welchem die Daten liegen (txt-Format)\n",
        "\n",
        "cwd = os.getcwd()\n",
        "nwd = r'/content/CAPTUM/files'\n",
        "\n",
        "os.chdir(nwd)\n",
        "\n",
        "#Speichern der Dateinamen in einem Array\n",
        "files = os.listdir()"
      ],
      "id": "18f27004",
      "execution_count": 70,
      "outputs": []
    },
    {
      "cell_type": "code",
      "metadata": {
        "id": "07ce4d17"
      },
      "source": [
        "#Zu Testzwecken werden lediglich die letzten 5 Dateien verwendet\n",
        "files = files[100:201]"
      ],
      "id": "07ce4d17",
      "execution_count": 71,
      "outputs": []
    },
    {
      "cell_type": "code",
      "metadata": {
        "id": "62410ea9",
        "outputId": "7b824d40-f42b-4f9f-da06-c49ac4559daa",
        "colab": {
          "base_uri": "https://localhost:8080/"
        }
      },
      "source": [
        "fileNameTags = list(map(lambda fn: fn.split('_')[0:-2],files))\n",
        "\n",
        "fileName = [fNT[-1] for fNT in fileNameTags]\n",
        "fileTags = [fNT[1:-1] for fNT in fileNameTags]\n",
        "fileYear = [fY[-8:-4] for fY in fileName]\n",
        "\n",
        "print(fileNameTags)\n",
        "print(fileName)\n",
        "print(fileTags)\n",
        "print(fileYear)"
      ],
      "id": "62410ea9",
      "execution_count": 72,
      "outputs": [
        {
          "output_type": "stream",
          "text": [
            "[['CAPTUM', 'D-Dimer', 'Duration', 'Kolkhir 2017.pdf'], ['CAPTUM', 'Total IgE', 'TPO', 'Demirkan 2019.pdf'], ['CAPTUM', 'ASST\\uf028', 'serverity\\uf028', 'Aktar 2015.pdf'], ['CAPTUM', 'ASST\\uf028', 'Total IgE', 'Gao 2020 .pdf'], ['CAPTUM', 'Duration', 'Angioedema', 'Abolnezhadian 2016.pdf'], ['CAPTUM', 'Duration', 'Angioedema', 'Cavkaytar 2015.pdf'], ['CAPTUM', 'Severity', 'Antihistamine', 'Hofman 2020.pdf'], ['CAPTUM', 'TPO', 'Thyroglobulin', 'Mozena 2010.pdf'], ['CAPTUM', 'CRP', 'Angioedema', 'Ghazanfar 2018.pdf'], ['CAPTUM', 'Basophil', 'Antihistamine', '~Irinyi 2007.pdf'], ['CAPTUM', 'CRP', 'Severity', 'Grzanka 2014.pdf'], ['CAPTUM', 'Duration', 'Omalizumab', 'Su 2020.pdf'], ['CAPTUM', 'BAT', 'Severity', 'Schoepke 2019.pdf'], ['CAPTUM', 'Severity', 'Duration', 'Nettis 2006.pdf'], ['CAPTUM', 'Total IgE', 'Eosinophil', 'Park 2013.pdf'], ['CAPTUM', 'BHRA', 'Basophil', 'Grattan 2000.pdf'], ['CAPTUM', 'BAT', 'Basophil', 'Sanchez 2019.pdf'], ['CAPTUM', 'Severity', 'Angioedema', 'Sussman 2018.pdf'], ['CAPTUM', 'ASST\\uf028', 'serverity\\uf028', 'Ye 2016.pdf'], ['CAPTUM', 'BAT', 'Total IgE', 'Uysal 2016.pdf'], ['CAPTUM', 'ASST\\uf028', 'Total IgE', 'Demirkan 2019.pdf'], ['CAPTUM', 'Basophil', 'IL-24', 'Schmetzer 2017.pdf'], ['CAPTUM', 'BHRA', 'Anti-IgE', 'Schmetzer 2017.pdf'], ['CAPTUM', 'D-Dimer', 'Angioedema', 'Marzano 2018.pdf'], ['CAPTUM', 'Allergic Diseases', 'Antihistamine', 'Maurer 2017 .pdf'], ['CAPTUM', 'ASST\\uf028', 'angioedema', 'Magen 2011.pdf'], ['CAPTUM', 'ASST\\uf028', 'TPO', 'Silvares 2017.pdf'], ['CAPTUM', 'CRP', 'Severity', 'Namazi 2015.pdf'], ['CAPTUM', 'Angioedema', 'Omalizumab', 'Zazzali 2016.pdf'], ['CAPTUM', 'ASST\\uf028', 'angioedema', 'Magen 2013.pdf'], ['CAPTUM', 'ANA', 'Allergic Diseases', 'Sahiner 2011.pdf'], ['CAPTUM', 'Duration', 'Angioedema', 'Patel 2016.pdf'], ['CAPTUM', 'Duration', 'Antihistamine', 'Bajaj 2008.pdf'], ['CAPTUM', 'TPO', 'Thyroglobulin', 'Gangemi 2009.pdf'], ['CAPTUM', 'Allergic Diseases', 'Omalizumab', 'Casale 2015.pdf'], ['CAPTUM', 'Total IgE', 'TPO', 'Aversano 2005.pdf'], ['CAPTUM', 'Anti-IgE', 'ANA', 'Maoz-Segal 2020.pdf'], ['CAPTUM', 'BAT', 'Severity', 'Endo 2020.pdf'], ['CAPTUM', 'Total IgE', 'Basophil', 'Montjoye 2020.pdf'], ['CAPTUM', 'Total IgE', 'Omalizumab', 'Çildağ 2018.pdf'], ['CAPTUM', 'anti-TPO IgE ratio\\uf028', 'Total IgE', 'Demirkan 2019.pdf'], ['CAPTUM', 'TPO', 'Duration', 'Kumaran 2020.pdf'], ['CAPTUM', 'D-Dimer', 'Allergic Diseases', 'Marzano 2018.pdf'], ['CAPTUM', 'Anti-IgE', 'Total IgE', 'Metz 2017.pdf'], ['CAPTUM', 'Duration', 'Omalizumab', 'Avcı 2019.pdf'], ['CAPTUM', 'Allergic Diseases', 'Severity', 'Lee 2017.pdf'], ['CAPTUM', 'ASST\\uf028', 'CRP', 'Tedeschi 2012.pdf'], ['CAPTUM', 'BAT', 'Basophil', 'Barredo 2016.pdf'], ['CAPTUM', 'D-Dimer', 'Antihistamine', 'Asero 2017 .pdf'], ['CAPTUM', 'D-Dimer', 'Severity', 'Chauhan 2019.pdf'], ['CAPTUM', 'BHRA', 'anti-FcεRI', 'Kandeel 2001.pdf'], ['CAPTUM', 'Severity', 'Duration', 'Park 2020.pdf'], ['CAPTUM', 'Allergic Diseases', 'Angioedema', 'Miller 2008.pdf'], ['CAPTUM', 'CRP', 'Severity', 'Ucmak 2013.pdf'], ['CAPTUM', 'CRP', 'Duration', 'Kolkhir 2017.pdf'], ['CAPTUM', 'Severity', 'Omalizumab', 'Magen 2019.pdf'], ['CAPTUM', 'Severity', 'Omalizumab', 'Metz 2017.pdf'], ['CAPTUM', 'Severity', 'Angioedema', 'Nabavizadeh 2020.pdf'], ['CAPTUM', 'D-Dimer', 'Antihistamine', 'Farres 2015.pdf'], ['CAPTUM', 'Allergic Diseases', 'Omalizumab', 'Damask 2020.pdf'], ['CAPTUM', 'ASST\\uf028', 'omalizumab', 'Nettis 2018.pdf'], ['CAPTUM', 'D-Dimer', 'Severity', 'Baek 2014.pdf'], ['CAPTUM', 'BHRA', 'Basophil', 'Kolkhir 2020.pdf'], ['CAPTUM', 'TPO', 'Thyroglobulin', 'Silvares 2017.pdf'], ['CAPTUM', 'Severity', 'Omalizumab', 'Turk 2016.pdf'], ['CAPTUM', 'Thyroglobulin', 'Duration', 'Karaayvaz 2002.pdf'], ['CAPTUM', 'ASST\\uf028', 'angioedema', 'Dias 2020.pdf'], ['CAPTUM', 'Angioedema', 'Antihistamine', 'Türk 2020.pdf'], ['CAPTUM', 'BAT', 'Duration', 'Oda 2019.pdf'], ['CAPTUM', 'D-Dimer', 'Omalizumab', 'Marzano 2018.pdf'], ['CAPTUM', 'BAT', 'Basophil', 'Korosec 2009.pdf'], ['CAPTUM', 'Total IgE', 'Omalizumab', 'Asero 2020.pdf'], ['CAPTUM', 'Thyroglobulin', 'ANA', 'Viswanathan 2012.pdf'], ['CAPTUM', 'TPO', 'Omalizumab', 'Turk 2016.pdf'], ['CAPTUM', 'Angioedema', 'Antihistamine', 'Hofman 2020.pdf'], ['CAPTUM', 'Allergic Diseases', 'Antihistamine', 'Leech 2011.pdf'], ['CAPTUM', 'CRP', 'Angioedema', 'Czarnecka-Operacz 2018.pdf'], ['CAPTUM', 'Eosinophil', 'Severity', 'Kolkhir 2020.pdf'], ['CAPTUM', 'Anti-IgE', 'Thyroglobulin', 'Sun 2014.pdf'], ['CAPTUM', 'CRP', 'Severity', 'Grzanka 2018.pdf'], ['CAPTUM', 'CRP', 'Antihistamine', 'Yan 2019.pdf'], ['CAPTUM', 'D-Dimer', 'Severity', 'Marzano 2011.pdf'], ['CAPTUM', 'Basophil', 'Allergic Diseases', 'Meknache 2009.pdf'], ['CAPTUM', 'Eosinophil', 'Severity', 'Lee 2009.pdf'], ['CAPTUM', 'CRP', 'Severity', 'Varghese 2016.pdf'], ['CAPTUM', 'Allergic Diseases', 'Angioedema', 'Patel 2016.pdf'], ['CAPTUM', 'anti-FcεRI', 'Antihistamine', 'Wardhana 2012.pdf'], ['CAPTUM', 'Eosinophil', 'Antihistamine', 'Uysal 2016.pdf'], ['CAPTUM', 'Allergic Diseases', 'Angioedema', 'Machluf 2019.pdf'], ['CAPTUM', 'BHRA', 'Basophil', 'Konstantinou 2013.pdf'], ['CAPTUM', 'ASST\\uf028', 'duration', 'Shankar 2010.pdf'], ['CAPTUM', 'CRP', 'Severity', 'Erol 2020.pdf'], ['CAPTUM', 'Severity', 'Omalizumab', 'Asero 2020  .pdf'], ['CAPTUM', 'Angioedema', 'Antihistamine', 'Büyüköztürk 2012.pdf'], ['CAPTUM', 'ASST\\uf028', 'D-Dimer', 'Triwongwaranat 2013.pdf'], ['CAPTUM', 'Duration', 'Omalizumab', 'Bernstein 2018.pdf'], ['CAPTUM', 'Total IgE', 'Antihistamine', 'Türk 2020.pdf'], ['CAPTUM', 'CRP', 'D-Dimer', 'Montjoye 2020.pdf'], ['CAPTUM', 'Basophil', 'Allergic Diseases', 'Vasagar 2006.pdf'], ['CAPTUM', 'Basophil', 'Antihistamine', 'Dyke 2008.pdf'], ['CAPTUM', 'BAT', 'Total IgE', 'Metz 2017.pdf']]\n",
            "['Kolkhir 2017.pdf', 'Demirkan 2019.pdf', 'Aktar 2015.pdf', 'Gao 2020 .pdf', 'Abolnezhadian 2016.pdf', 'Cavkaytar 2015.pdf', 'Hofman 2020.pdf', 'Mozena 2010.pdf', 'Ghazanfar 2018.pdf', '~Irinyi 2007.pdf', 'Grzanka 2014.pdf', 'Su 2020.pdf', 'Schoepke 2019.pdf', 'Nettis 2006.pdf', 'Park 2013.pdf', 'Grattan 2000.pdf', 'Sanchez 2019.pdf', 'Sussman 2018.pdf', 'Ye 2016.pdf', 'Uysal 2016.pdf', 'Demirkan 2019.pdf', 'Schmetzer 2017.pdf', 'Schmetzer 2017.pdf', 'Marzano 2018.pdf', 'Maurer 2017 .pdf', 'Magen 2011.pdf', 'Silvares 2017.pdf', 'Namazi 2015.pdf', 'Zazzali 2016.pdf', 'Magen 2013.pdf', 'Sahiner 2011.pdf', 'Patel 2016.pdf', 'Bajaj 2008.pdf', 'Gangemi 2009.pdf', 'Casale 2015.pdf', 'Aversano 2005.pdf', 'Maoz-Segal 2020.pdf', 'Endo 2020.pdf', 'Montjoye 2020.pdf', 'Çildağ 2018.pdf', 'Demirkan 2019.pdf', 'Kumaran 2020.pdf', 'Marzano 2018.pdf', 'Metz 2017.pdf', 'Avcı 2019.pdf', 'Lee 2017.pdf', 'Tedeschi 2012.pdf', 'Barredo 2016.pdf', 'Asero 2017 .pdf', 'Chauhan 2019.pdf', 'Kandeel 2001.pdf', 'Park 2020.pdf', 'Miller 2008.pdf', 'Ucmak 2013.pdf', 'Kolkhir 2017.pdf', 'Magen 2019.pdf', 'Metz 2017.pdf', 'Nabavizadeh 2020.pdf', 'Farres 2015.pdf', 'Damask 2020.pdf', 'Nettis 2018.pdf', 'Baek 2014.pdf', 'Kolkhir 2020.pdf', 'Silvares 2017.pdf', 'Turk 2016.pdf', 'Karaayvaz 2002.pdf', 'Dias 2020.pdf', 'Türk 2020.pdf', 'Oda 2019.pdf', 'Marzano 2018.pdf', 'Korosec 2009.pdf', 'Asero 2020.pdf', 'Viswanathan 2012.pdf', 'Turk 2016.pdf', 'Hofman 2020.pdf', 'Leech 2011.pdf', 'Czarnecka-Operacz 2018.pdf', 'Kolkhir 2020.pdf', 'Sun 2014.pdf', 'Grzanka 2018.pdf', 'Yan 2019.pdf', 'Marzano 2011.pdf', 'Meknache 2009.pdf', 'Lee 2009.pdf', 'Varghese 2016.pdf', 'Patel 2016.pdf', 'Wardhana 2012.pdf', 'Uysal 2016.pdf', 'Machluf 2019.pdf', 'Konstantinou 2013.pdf', 'Shankar 2010.pdf', 'Erol 2020.pdf', 'Asero 2020  .pdf', 'Büyüköztürk 2012.pdf', 'Triwongwaranat 2013.pdf', 'Bernstein 2018.pdf', 'Türk 2020.pdf', 'Montjoye 2020.pdf', 'Vasagar 2006.pdf', 'Dyke 2008.pdf', 'Metz 2017.pdf']\n",
            "[['D-Dimer', 'Duration'], ['Total IgE', 'TPO'], ['ASST\\uf028', 'serverity\\uf028'], ['ASST\\uf028', 'Total IgE'], ['Duration', 'Angioedema'], ['Duration', 'Angioedema'], ['Severity', 'Antihistamine'], ['TPO', 'Thyroglobulin'], ['CRP', 'Angioedema'], ['Basophil', 'Antihistamine'], ['CRP', 'Severity'], ['Duration', 'Omalizumab'], ['BAT', 'Severity'], ['Severity', 'Duration'], ['Total IgE', 'Eosinophil'], ['BHRA', 'Basophil'], ['BAT', 'Basophil'], ['Severity', 'Angioedema'], ['ASST\\uf028', 'serverity\\uf028'], ['BAT', 'Total IgE'], ['ASST\\uf028', 'Total IgE'], ['Basophil', 'IL-24'], ['BHRA', 'Anti-IgE'], ['D-Dimer', 'Angioedema'], ['Allergic Diseases', 'Antihistamine'], ['ASST\\uf028', 'angioedema'], ['ASST\\uf028', 'TPO'], ['CRP', 'Severity'], ['Angioedema', 'Omalizumab'], ['ASST\\uf028', 'angioedema'], ['ANA', 'Allergic Diseases'], ['Duration', 'Angioedema'], ['Duration', 'Antihistamine'], ['TPO', 'Thyroglobulin'], ['Allergic Diseases', 'Omalizumab'], ['Total IgE', 'TPO'], ['Anti-IgE', 'ANA'], ['BAT', 'Severity'], ['Total IgE', 'Basophil'], ['Total IgE', 'Omalizumab'], ['anti-TPO IgE ratio\\uf028', 'Total IgE'], ['TPO', 'Duration'], ['D-Dimer', 'Allergic Diseases'], ['Anti-IgE', 'Total IgE'], ['Duration', 'Omalizumab'], ['Allergic Diseases', 'Severity'], ['ASST\\uf028', 'CRP'], ['BAT', 'Basophil'], ['D-Dimer', 'Antihistamine'], ['D-Dimer', 'Severity'], ['BHRA', 'anti-FcεRI'], ['Severity', 'Duration'], ['Allergic Diseases', 'Angioedema'], ['CRP', 'Severity'], ['CRP', 'Duration'], ['Severity', 'Omalizumab'], ['Severity', 'Omalizumab'], ['Severity', 'Angioedema'], ['D-Dimer', 'Antihistamine'], ['Allergic Diseases', 'Omalizumab'], ['ASST\\uf028', 'omalizumab'], ['D-Dimer', 'Severity'], ['BHRA', 'Basophil'], ['TPO', 'Thyroglobulin'], ['Severity', 'Omalizumab'], ['Thyroglobulin', 'Duration'], ['ASST\\uf028', 'angioedema'], ['Angioedema', 'Antihistamine'], ['BAT', 'Duration'], ['D-Dimer', 'Omalizumab'], ['BAT', 'Basophil'], ['Total IgE', 'Omalizumab'], ['Thyroglobulin', 'ANA'], ['TPO', 'Omalizumab'], ['Angioedema', 'Antihistamine'], ['Allergic Diseases', 'Antihistamine'], ['CRP', 'Angioedema'], ['Eosinophil', 'Severity'], ['Anti-IgE', 'Thyroglobulin'], ['CRP', 'Severity'], ['CRP', 'Antihistamine'], ['D-Dimer', 'Severity'], ['Basophil', 'Allergic Diseases'], ['Eosinophil', 'Severity'], ['CRP', 'Severity'], ['Allergic Diseases', 'Angioedema'], ['anti-FcεRI', 'Antihistamine'], ['Eosinophil', 'Antihistamine'], ['Allergic Diseases', 'Angioedema'], ['BHRA', 'Basophil'], ['ASST\\uf028', 'duration'], ['CRP', 'Severity'], ['Severity', 'Omalizumab'], ['Angioedema', 'Antihistamine'], ['ASST\\uf028', 'D-Dimer'], ['Duration', 'Omalizumab'], ['Total IgE', 'Antihistamine'], ['CRP', 'D-Dimer'], ['Basophil', 'Allergic Diseases'], ['Basophil', 'Antihistamine'], ['BAT', 'Total IgE']]\n",
            "['2017', '2019', '2015', '020 ', '2016', '2015', '2020', '2010', '2018', '2007', '2014', '2020', '2019', '2006', '2013', '2000', '2019', '2018', '2016', '2016', '2019', '2017', '2017', '2018', '017 ', '2011', '2017', '2015', '2016', '2013', '2011', '2016', '2008', '2009', '2015', '2005', '2020', '2020', '2020', '2018', '2019', '2020', '2018', '2017', '2019', '2017', '2012', '2016', '017 ', '2019', '2001', '2020', '2008', '2013', '2017', '2019', '2017', '2020', '2015', '2020', '2018', '2014', '2020', '2017', '2016', '2002', '2020', '2020', '2019', '2018', '2009', '2020', '2012', '2016', '2020', '2011', '2018', '2020', '2014', '2018', '2019', '2011', '2009', '2009', '2016', '2016', '2012', '2016', '2019', '2013', '2010', '2020', '20  ', '2012', '2013', '2018', '2020', '2020', '2006', '2008', '2017']\n"
          ],
          "name": "stdout"
        }
      ]
    },
    {
      "cell_type": "code",
      "metadata": {
        "id": "8029c690",
        "outputId": "905a4fc2-e800-4d6f-b8c3-7b18a814e522",
        "colab": {
          "base_uri": "https://localhost:8080/"
        }
      },
      "source": [
        "#Einen leeren Pandas-Dataframe erstellen\n",
        "\n",
        "df = pd.DataFrame(index=files)\n",
        "print(df)"
      ],
      "id": "8029c690",
      "execution_count": 73,
      "outputs": [
        {
          "output_type": "stream",
          "text": [
            "Empty DataFrame\n",
            "Columns: []\n",
            "Index: [CAPTUM_D-Dimer_Duration_Kolkhir 2017.pdf_out_text.txt, CAPTUM_Total IgE_TPO_Demirkan 2019.pdf_out_text.txt, CAPTUM_ASST_serverity_Aktar 2015.pdf_out_text.txt, CAPTUM_ASST_Total IgE_Gao 2020 .pdf_out_text.txt, CAPTUM_Duration_Angioedema_Abolnezhadian 2016.pdf_out_text.txt, CAPTUM_Duration_Angioedema_Cavkaytar 2015.pdf_out_text.txt, CAPTUM_Severity_Antihistamine_Hofman 2020.pdf_out_text.txt, CAPTUM_TPO_Thyroglobulin_Mozena 2010.pdf_out_text.txt, CAPTUM_CRP_Angioedema_Ghazanfar 2018.pdf_out_text.txt, CAPTUM_Basophil_Antihistamine_~Irinyi 2007.pdf_out_text.txt, CAPTUM_CRP_Severity_Grzanka 2014.pdf_out_text.txt, CAPTUM_Duration_Omalizumab_Su 2020.pdf_out_text.txt, CAPTUM_BAT_Severity_Schoepke 2019.pdf_out_text.txt, CAPTUM_Severity_Duration_Nettis 2006.pdf_out_text.txt, CAPTUM_Total IgE_Eosinophil_Park 2013.pdf_out_text.txt, CAPTUM_BHRA_Basophil_Grattan 2000.pdf_out_text.txt, CAPTUM_BAT_Basophil_Sanchez 2019.pdf_out_text.txt, CAPTUM_Severity_Angioedema_Sussman 2018.pdf_out_text.txt, CAPTUM_ASST_serverity_Ye 2016.pdf_out_text.txt, CAPTUM_BAT_Total IgE_Uysal 2016.pdf_out_text.txt, CAPTUM_ASST_Total IgE_Demirkan 2019.pdf_out_text.txt, CAPTUM_Basophil_IL-24_Schmetzer 2017.pdf_out_text.txt, CAPTUM_BHRA_Anti-IgE_Schmetzer 2017.pdf_out_text.txt, CAPTUM_D-Dimer_Angioedema_Marzano 2018.pdf_out_text.txt, CAPTUM_Allergic Diseases_Antihistamine_Maurer 2017 .pdf_out_text.txt, CAPTUM_ASST_angioedema_Magen 2011.pdf_out_text.txt, CAPTUM_ASST_TPO_Silvares 2017.pdf_out_text.txt, CAPTUM_CRP_Severity_Namazi 2015.pdf_out_text.txt, CAPTUM_Angioedema_Omalizumab_Zazzali 2016.pdf_out_text.txt, CAPTUM_ASST_angioedema_Magen 2013.pdf_out_text.txt, CAPTUM_ANA_Allergic Diseases_Sahiner 2011.pdf_out_text.txt, CAPTUM_Duration_Angioedema_Patel 2016.pdf_out_text.txt, CAPTUM_Duration_Antihistamine_Bajaj 2008.pdf_out_text.txt, CAPTUM_TPO_Thyroglobulin_Gangemi 2009.pdf_out_text.txt, CAPTUM_Allergic Diseases_Omalizumab_Casale 2015.pdf_out_text.txt, CAPTUM_Total IgE_TPO_Aversano 2005.pdf_out_text.txt, CAPTUM_Anti-IgE_ANA_Maoz-Segal 2020.pdf_out_text.txt, CAPTUM_BAT_Severity_Endo 2020.pdf_out_text.txt, CAPTUM_Total IgE_Basophil_Montjoye 2020.pdf_out_text.txt, CAPTUM_Total IgE_Omalizumab_Çildağ 2018.pdf_out_text.txt, CAPTUM_anti-TPO IgE ratio_Total IgE_Demirkan 2019.pdf_out_text.txt, CAPTUM_TPO_Duration_Kumaran 2020.pdf_out_text.txt, CAPTUM_D-Dimer_Allergic Diseases_Marzano 2018.pdf_out_text.txt, CAPTUM_Anti-IgE_Total IgE_Metz 2017.pdf_out_text.txt, CAPTUM_Duration_Omalizumab_Avcı 2019.pdf_out_text.txt, CAPTUM_Allergic Diseases_Severity_Lee 2017.pdf_out_text.txt, CAPTUM_ASST_CRP_Tedeschi 2012.pdf_out_text.txt, CAPTUM_BAT_Basophil_Barredo 2016.pdf_out_text.txt, CAPTUM_D-Dimer_Antihistamine_Asero 2017 .pdf_out_text.txt, CAPTUM_D-Dimer_Severity_Chauhan 2019.pdf_out_text.txt, CAPTUM_BHRA_anti-FcεRI_Kandeel 2001.pdf_out_text.txt, CAPTUM_Severity_Duration_Park 2020.pdf_out_text.txt, CAPTUM_Allergic Diseases_Angioedema_Miller 2008.pdf_out_text.txt, CAPTUM_CRP_Severity_Ucmak 2013.pdf_out_text.txt, CAPTUM_CRP_Duration_Kolkhir 2017.pdf_out_text.txt, CAPTUM_Severity_Omalizumab_Magen 2019.pdf_out_text.txt, CAPTUM_Severity_Omalizumab_Metz 2017.pdf_out_text.txt, CAPTUM_Severity_Angioedema_Nabavizadeh 2020.pdf_out_text.txt, CAPTUM_D-Dimer_Antihistamine_Farres 2015.pdf_out_text.txt, CAPTUM_Allergic Diseases_Omalizumab_Damask 2020.pdf_out_text.txt, CAPTUM_ASST_omalizumab_Nettis 2018.pdf_out_text.txt, CAPTUM_D-Dimer_Severity_Baek 2014.pdf_out_text.txt, CAPTUM_BHRA_Basophil_Kolkhir 2020.pdf_out_text.txt, CAPTUM_TPO_Thyroglobulin_Silvares 2017.pdf_out_text.txt, CAPTUM_Severity_Omalizumab_Turk 2016.pdf_out_text.txt, CAPTUM_Thyroglobulin_Duration_Karaayvaz 2002.pdf_out_text.txt, CAPTUM_ASST_angioedema_Dias 2020.pdf_out_text.txt, CAPTUM_Angioedema_Antihistamine_Türk 2020.pdf_out_text.txt, CAPTUM_BAT_Duration_Oda 2019.pdf_out_text.txt, CAPTUM_D-Dimer_Omalizumab_Marzano 2018.pdf_out_text.txt, CAPTUM_BAT_Basophil_Korosec 2009.pdf_out_text.txt, CAPTUM_Total IgE_Omalizumab_Asero 2020.pdf_out_text.txt, CAPTUM_Thyroglobulin_ANA_Viswanathan 2012.pdf_out_text.txt, CAPTUM_TPO_Omalizumab_Turk 2016.pdf_out_text.txt, CAPTUM_Angioedema_Antihistamine_Hofman 2020.pdf_out_text.txt, CAPTUM_Allergic Diseases_Antihistamine_Leech 2011.pdf_out_text.txt, CAPTUM_CRP_Angioedema_Czarnecka-Operacz 2018.pdf_out_text.txt, CAPTUM_Eosinophil_Severity_Kolkhir 2020.pdf_out_text.txt, CAPTUM_Anti-IgE_Thyroglobulin_Sun 2014.pdf_out_text.txt, CAPTUM_CRP_Severity_Grzanka 2018.pdf_out_text.txt, CAPTUM_CRP_Antihistamine_Yan 2019.pdf_out_text.txt, CAPTUM_D-Dimer_Severity_Marzano 2011.pdf_out_text.txt, CAPTUM_Basophil_Allergic Diseases_Meknache 2009.pdf_out_text.txt, CAPTUM_Eosinophil_Severity_Lee 2009.pdf_out_text.txt, CAPTUM_CRP_Severity_Varghese 2016.pdf_out_text.txt, CAPTUM_Allergic Diseases_Angioedema_Patel 2016.pdf_out_text.txt, CAPTUM_anti-FcεRI_Antihistamine_Wardhana 2012.pdf_out_text.txt, CAPTUM_Eosinophil_Antihistamine_Uysal 2016.pdf_out_text.txt, CAPTUM_Allergic Diseases_Angioedema_Machluf 2019.pdf_out_text.txt, CAPTUM_BHRA_Basophil_Konstantinou 2013.pdf_out_text.txt, CAPTUM_ASST_duration_Shankar 2010.pdf_out_text.txt, CAPTUM_CRP_Severity_Erol 2020.pdf_out_text.txt, CAPTUM_Severity_Omalizumab_Asero 2020  .pdf_out_text.txt, CAPTUM_Angioedema_Antihistamine_Büyüköztürk 2012.pdf_out_text.txt, CAPTUM_ASST_D-Dimer_Triwongwaranat 2013.pdf_out_text.txt, CAPTUM_Duration_Omalizumab_Bernstein 2018.pdf_out_text.txt, CAPTUM_Total IgE_Antihistamine_Türk 2020.pdf_out_text.txt, CAPTUM_CRP_D-Dimer_Montjoye 2020.pdf_out_text.txt, CAPTUM_Basophil_Allergic Diseases_Vasagar 2006.pdf_out_text.txt, CAPTUM_Basophil_Antihistamine_Dyke 2008.pdf_out_text.txt, ...]\n",
            "\n",
            "[101 rows x 0 columns]\n"
          ],
          "name": "stdout"
        }
      ]
    },
    {
      "cell_type": "code",
      "metadata": {
        "id": "0e6af0f4"
      },
      "source": [
        "c = []\n",
        "for file in files:\n",
        "    f = open(file, \"r\", encoding = \"ISO-8859-1\")\n",
        "    c.append(f.read())\n",
        "    f.close"
      ],
      "id": "0e6af0f4",
      "execution_count": 74,
      "outputs": []
    },
    {
      "cell_type": "code",
      "metadata": {
        "id": "cda7168c",
        "outputId": "77832649-906b-4336-eb53-b427c3325c72",
        "colab": {
          "base_uri": "https://localhost:8080/",
          "height": 419
        }
      },
      "source": [
        "df['Name'] = fileName\n",
        "df['Tags'] = fileTags\n",
        "df['Year'] = fileYear\n",
        "df['Content'] = c\n",
        "df"
      ],
      "id": "cda7168c",
      "execution_count": 75,
      "outputs": [
        {
          "output_type": "execute_result",
          "data": {
            "text/html": [
              "<div>\n",
              "<style scoped>\n",
              "    .dataframe tbody tr th:only-of-type {\n",
              "        vertical-align: middle;\n",
              "    }\n",
              "\n",
              "    .dataframe tbody tr th {\n",
              "        vertical-align: top;\n",
              "    }\n",
              "\n",
              "    .dataframe thead th {\n",
              "        text-align: right;\n",
              "    }\n",
              "</style>\n",
              "<table border=\"1\" class=\"dataframe\">\n",
              "  <thead>\n",
              "    <tr style=\"text-align: right;\">\n",
              "      <th></th>\n",
              "      <th>Name</th>\n",
              "      <th>Tags</th>\n",
              "      <th>Year</th>\n",
              "      <th>Content</th>\n",
              "    </tr>\n",
              "  </thead>\n",
              "  <tbody>\n",
              "    <tr>\n",
              "      <th>CAPTUM_D-Dimer_Duration_Kolkhir 2017.pdf_out_text.txt</th>\n",
              "      <td>Kolkhir 2017.pdf</td>\n",
              "      <td>[D-Dimer, Duration]</td>\n",
              "      <td>2017</td>\n",
              "      <td>DR. SABINE ALTRICHTER (Orcid ID : O000-0001-99...</td>\n",
              "    </tr>\n",
              "    <tr>\n",
              "      <th>CAPTUM_Total IgE_TPO_Demirkan 2019.pdf_out_text.txt</th>\n",
              "      <td>Demirkan 2019.pdf</td>\n",
              "      <td>[Total IgE, TPO]</td>\n",
              "      <td>2019</td>\n",
              "      <td>Original paper\\n\\nRationale for the autologous...</td>\n",
              "    </tr>\n",
              "    <tr>\n",
              "      <th>CAPTUM_ASST_serverity_Aktar 2015.pdf_out_text.txt</th>\n",
              "      <td>Aktar 2015.pdf</td>\n",
              "      <td>[ASST, serverity]</td>\n",
              "      <td>2015</td>\n",
              "      <td>Original paper\\n\\nThe relation of autologous s...</td>\n",
              "    </tr>\n",
              "    <tr>\n",
              "      <th>CAPTUM_ASST_Total IgE_Gao 2020 .pdf_out_text.txt</th>\n",
              "      <td>Gao 2020 .pdf</td>\n",
              "      <td>[ASST, Total IgE]</td>\n",
              "      <td>020</td>\n",
              "      <td>Am J Trans! Res 2020;12(8):4434-4444\\nwww.ajtr...</td>\n",
              "    </tr>\n",
              "    <tr>\n",
              "      <th>CAPTUM_Duration_Angioedema_Abolnezhadian 2016.pdf_out_text.txt</th>\n",
              "      <td>Abolnezhadian 2016.pdf</td>\n",
              "      <td>[Duration, Angioedema]</td>\n",
              "      <td>2016</td>\n",
              "      <td>BREIF COMMUNICATION\\nIran J Allergy Asthma Imm...</td>\n",
              "    </tr>\n",
              "    <tr>\n",
              "      <th>...</th>\n",
              "      <td>...</td>\n",
              "      <td>...</td>\n",
              "      <td>...</td>\n",
              "      <td>...</td>\n",
              "    </tr>\n",
              "    <tr>\n",
              "      <th>CAPTUM_Total IgE_Antihistamine_Türk 2020.pdf_out_text.txt</th>\n",
              "      <td>Türk 2020.pdf</td>\n",
              "      <td>[Total IgE, Antihistamine]</td>\n",
              "      <td>2020</td>\n",
              "      <td>Title: Effectiveness of as-needed antihistamin...</td>\n",
              "    </tr>\n",
              "    <tr>\n",
              "      <th>CAPTUM_CRP_D-Dimer_Montjoye 2020.pdf_out_text.txt</th>\n",
              "      <td>Montjoye 2020.pdf</td>\n",
              "      <td>[CRP, D-Dimer]</td>\n",
              "      <td>2020</td>\n",
              "      <td>Correlations between disease activity, autoimm...</td>\n",
              "    </tr>\n",
              "    <tr>\n",
              "      <th>CAPTUM_Basophil_Allergic Diseases_Vasagar 2006.pdf_out_text.txt</th>\n",
              "      <td>Vasagar 2006.pdf</td>\n",
              "      <td>[Basophil, Allergic Diseases]</td>\n",
              "      <td>2006</td>\n",
              "      <td>Clinical and Experimental Allergy, 36, 770-776...</td>\n",
              "    </tr>\n",
              "    <tr>\n",
              "      <th>CAPTUM_Basophil_Antihistamine_Dyke 2008.pdf_out_text.txt</th>\n",
              "      <td>Dyke 2008.pdf</td>\n",
              "      <td>[Basophil, Antihistamine]</td>\n",
              "      <td>2008</td>\n",
              "      <td>doi: 10.1111/).1365-2222.2007.02864.x\\n\\n \\n\\n...</td>\n",
              "    </tr>\n",
              "    <tr>\n",
              "      <th>CAPTUM_BAT_Total IgE_Metz 2017.pdf_out_text.txt</th>\n",
              "      <td>Metz 2017.pdf</td>\n",
              "      <td>[BAT, Total IgE]</td>\n",
              "      <td>2017</td>\n",
              "      <td>Theranostics 2017, Vol. 7, Issue 5\\n\\nea\\n\\n \\...</td>\n",
              "    </tr>\n",
              "  </tbody>\n",
              "</table>\n",
              "<p>101 rows × 4 columns</p>\n",
              "</div>"
            ],
            "text/plain": [
              "                                                                      Name  ...                                            Content\n",
              "CAPTUM_D-Dimer_Duration_Kolkhir 2017.pdf_out_te...        Kolkhir 2017.pdf  ...  DR. SABINE ALTRICHTER (Orcid ID : O000-0001-99...\n",
              "CAPTUM_Total IgE_TPO_Demirkan 2019.pdf_out_text...       Demirkan 2019.pdf  ...  Original paper\\n\\nRationale for the autologous...\n",
              "CAPTUM_ASST_serverity_Aktar 2015.pdf_out_text...          Aktar 2015.pdf  ...  Original paper\\n\\nThe relation of autologous s...\n",
              "CAPTUM_ASST_Total IgE_Gao 2020 .pdf_out_text.txt            Gao 2020 .pdf  ...  Am J Trans! Res 2020;12(8):4434-4444\\nwww.ajtr...\n",
              "CAPTUM_Duration_Angioedema_Abolnezhadian 2016.p...  Abolnezhadian 2016.pdf  ...  BREIF COMMUNICATION\\nIran J Allergy Asthma Imm...\n",
              "...                                                                    ...  ...                                                ...\n",
              "CAPTUM_Total IgE_Antihistamine_Türk 2020.pdf_ou...           Türk 2020.pdf  ...  Title: Effectiveness of as-needed antihistamin...\n",
              "CAPTUM_CRP_D-Dimer_Montjoye 2020.pdf_out_text.txt        Montjoye 2020.pdf  ...  Correlations between disease activity, autoimm...\n",
              "CAPTUM_Basophil_Allergic Diseases_Vasagar 2006....        Vasagar 2006.pdf  ...  Clinical and Experimental Allergy, 36, 770-776...\n",
              "CAPTUM_Basophil_Antihistamine_Dyke 2008.pdf_out...           Dyke 2008.pdf  ...  doi: 10.1111/).1365-2222.2007.02864.x\\n\\n \\n\\n...\n",
              "CAPTUM_BAT_Total IgE_Metz 2017.pdf_out_text.txt              Metz 2017.pdf  ...  Theranostics 2017, Vol. 7, Issue 5\\n\\nea\\n\\n \\...\n",
              "\n",
              "[101 rows x 4 columns]"
            ]
          },
          "metadata": {
            "tags": []
          },
          "execution_count": 75
        }
      ]
    },
    {
      "cell_type": "code",
      "metadata": {
        "id": "983b795c"
      },
      "source": [
        "stop_words=set(stopwords.words(\"english\"))\n",
        "def stoppingFunc(text, stop_words=stop_words):\n",
        "    filtered_text=[]\n",
        "    for word in text:\n",
        "        if len(word) < 3:\n",
        "            next\n",
        "        elif sum(c.isdigit() for c in word)>0:\n",
        "            next\n",
        "        elif word not in stop_words:\n",
        "            filtered_text.append(word)\n",
        "        \n",
        "    return filtered_text"
      ],
      "id": "983b795c",
      "execution_count": 76,
      "outputs": []
    },
    {
      "cell_type": "code",
      "metadata": {
        "id": "fa7a4b64"
      },
      "source": [
        "def stemmingFunc(text):\n",
        "    stemmer = PorterStemmer()\n",
        "    return [stemmer.stem(word) for word in text]"
      ],
      "id": "fa7a4b64",
      "execution_count": 77,
      "outputs": []
    },
    {
      "cell_type": "code",
      "metadata": {
        "id": "efd6f40d"
      },
      "source": [
        "def lemmatizingFunc(text):\n",
        "    lemmatizer = WordNetLemmatizer()\n",
        "    return [lemmatizer.lemmatize(word) for word in text]"
      ],
      "id": "efd6f40d",
      "execution_count": 78,
      "outputs": []
    },
    {
      "cell_type": "code",
      "metadata": {
        "id": "905d8df9"
      },
      "source": [
        "df['Content'] = df['Content'].apply(lambda text: nltk.word_tokenize(text))\n",
        "df['Content'] = df['Content'].apply(stoppingFunc)\n",
        "df['Content'] = df['Content'].apply(stemmingFunc)\n",
        "df['Content'] = df['Content'].apply(lemmatizingFunc)\n",
        "df['Corpus'] = [' '.join(x) for x in df['Content']]"
      ],
      "id": "905d8df9",
      "execution_count": 79,
      "outputs": []
    },
    {
      "cell_type": "code",
      "metadata": {
        "id": "7220ee4a",
        "outputId": "acd06d0d-e8fe-4650-fded-9b02ceea02f0",
        "colab": {
          "base_uri": "https://localhost:8080/",
          "height": 453
        }
      },
      "source": [
        "df"
      ],
      "id": "7220ee4a",
      "execution_count": 80,
      "outputs": [
        {
          "output_type": "execute_result",
          "data": {
            "text/html": [
              "<div>\n",
              "<style scoped>\n",
              "    .dataframe tbody tr th:only-of-type {\n",
              "        vertical-align: middle;\n",
              "    }\n",
              "\n",
              "    .dataframe tbody tr th {\n",
              "        vertical-align: top;\n",
              "    }\n",
              "\n",
              "    .dataframe thead th {\n",
              "        text-align: right;\n",
              "    }\n",
              "</style>\n",
              "<table border=\"1\" class=\"dataframe\">\n",
              "  <thead>\n",
              "    <tr style=\"text-align: right;\">\n",
              "      <th></th>\n",
              "      <th>Name</th>\n",
              "      <th>Tags</th>\n",
              "      <th>Year</th>\n",
              "      <th>Content</th>\n",
              "      <th>Corpus</th>\n",
              "    </tr>\n",
              "  </thead>\n",
              "  <tbody>\n",
              "    <tr>\n",
              "      <th>CAPTUM_D-Dimer_Duration_Kolkhir 2017.pdf_out_text.txt</th>\n",
              "      <td>Kolkhir 2017.pdf</td>\n",
              "      <td>[D-Dimer, Duration]</td>\n",
              "      <td>2017</td>\n",
              "      <td>[dr., sabin, altricht, orcid, prof., marcu, ma...</td>\n",
              "      <td>dr. sabin altricht orcid prof. marcu maurer or...</td>\n",
              "    </tr>\n",
              "    <tr>\n",
              "      <th>CAPTUM_Total IgE_TPO_Demirkan 2019.pdf_out_text.txt</th>\n",
              "      <td>Demirkan 2019.pdf</td>\n",
              "      <td>[Total IgE, TPO]</td>\n",
              "      <td>2019</td>\n",
              "      <td>[origin, paper, rational, autolog, serum, skin...</td>\n",
              "      <td>origin paper rational autolog serum skin test ...</td>\n",
              "    </tr>\n",
              "    <tr>\n",
              "      <th>CAPTUM_ASST_serverity_Aktar 2015.pdf_out_text.txt</th>\n",
              "      <td>Aktar 2015.pdf</td>\n",
              "      <td>[ASST, serverity]</td>\n",
              "      <td>2015</td>\n",
              "      <td>[origin, paper, the, relat, autolog, serum, pl...</td>\n",
              "      <td>origin paper the relat autolog serum plasma sk...</td>\n",
              "    </tr>\n",
              "    <tr>\n",
              "      <th>CAPTUM_ASST_Total IgE_Gao 2020 .pdf_out_text.txt</th>\n",
              "      <td>Gao 2020 .pdf</td>\n",
              "      <td>[ASST, Total IgE]</td>\n",
              "      <td>020</td>\n",
              "      <td>[tran, re, www.ajtrorg, origin, articl, pathog...</td>\n",
              "      <td>tran re www.ajtrorg origin articl pathogen rol...</td>\n",
              "    </tr>\n",
              "    <tr>\n",
              "      <th>CAPTUM_Duration_Angioedema_Abolnezhadian 2016.pdf_out_text.txt</th>\n",
              "      <td>Abolnezhadian 2016.pdf</td>\n",
              "      <td>[Duration, Angioedema]</td>\n",
              "      <td>2016</td>\n",
              "      <td>[breif, commun, iran, allergi, asthma, immunol...</td>\n",
              "      <td>breif commun iran allergi asthma immunol augus...</td>\n",
              "    </tr>\n",
              "    <tr>\n",
              "      <th>...</th>\n",
              "      <td>...</td>\n",
              "      <td>...</td>\n",
              "      <td>...</td>\n",
              "      <td>...</td>\n",
              "      <td>...</td>\n",
              "    </tr>\n",
              "    <tr>\n",
              "      <th>CAPTUM_Total IgE_Antihistamine_Türk 2020.pdf_out_text.txt</th>\n",
              "      <td>Türk 2020.pdf</td>\n",
              "      <td>[Total IgE, Antihistamine]</td>\n",
              "      <td>2020</td>\n",
              "      <td>[titl, effect, as-need, antihistamin, chronic,...</td>\n",
              "      <td>titl effect as-need antihistamin chronic spont...</td>\n",
              "    </tr>\n",
              "    <tr>\n",
              "      <th>CAPTUM_CRP_D-Dimer_Montjoye 2020.pdf_out_text.txt</th>\n",
              "      <td>Montjoye 2020.pdf</td>\n",
              "      <td>[CRP, D-Dimer]</td>\n",
              "      <td>2020</td>\n",
              "      <td>[correl, diseas, activ, autoimmun, biolog, par...</td>\n",
              "      <td>correl diseas activ autoimmun biolog paramet p...</td>\n",
              "    </tr>\n",
              "    <tr>\n",
              "      <th>CAPTUM_Basophil_Allergic Diseases_Vasagar 2006.pdf_out_text.txt</th>\n",
              "      <td>Vasagar 2006.pdf</td>\n",
              "      <td>[Basophil, Allergic Diseases]</td>\n",
              "      <td>2006</td>\n",
              "      <td>[clinic, experiment, allergi, origin, paper, b...</td>\n",
              "      <td>clinic experiment allergi origin paper blackwe...</td>\n",
              "    </tr>\n",
              "    <tr>\n",
              "      <th>CAPTUM_Basophil_Antihistamine_Dyke 2008.pdf_out_text.txt</th>\n",
              "      <td>Dyke 2008.pdf</td>\n",
              "      <td>[Basophil, Antihistamine]</td>\n",
              "      <td>2008</td>\n",
              "      <td>[doi, rigin, paper, clinic, experiment, allerg...</td>\n",
              "      <td>doi rigin paper clinic experiment allergi the ...</td>\n",
              "    </tr>\n",
              "    <tr>\n",
              "      <th>CAPTUM_BAT_Total IgE_Metz 2017.pdf_out_text.txt</th>\n",
              "      <td>Metz 2017.pdf</td>\n",
              "      <td>[BAT, Total IgE]</td>\n",
              "      <td>2017</td>\n",
              "      <td>[theranost, vol, issu, ivyspr, intern, publish...</td>\n",
              "      <td>theranost vol issu ivyspr intern publish thera...</td>\n",
              "    </tr>\n",
              "  </tbody>\n",
              "</table>\n",
              "<p>101 rows × 5 columns</p>\n",
              "</div>"
            ],
            "text/plain": [
              "                                                                      Name  ...                                             Corpus\n",
              "CAPTUM_D-Dimer_Duration_Kolkhir 2017.pdf_out_te...        Kolkhir 2017.pdf  ...  dr. sabin altricht orcid prof. marcu maurer or...\n",
              "CAPTUM_Total IgE_TPO_Demirkan 2019.pdf_out_text...       Demirkan 2019.pdf  ...  origin paper rational autolog serum skin test ...\n",
              "CAPTUM_ASST_serverity_Aktar 2015.pdf_out_text...          Aktar 2015.pdf  ...  origin paper the relat autolog serum plasma sk...\n",
              "CAPTUM_ASST_Total IgE_Gao 2020 .pdf_out_text.txt            Gao 2020 .pdf  ...  tran re www.ajtrorg origin articl pathogen rol...\n",
              "CAPTUM_Duration_Angioedema_Abolnezhadian 2016.p...  Abolnezhadian 2016.pdf  ...  breif commun iran allergi asthma immunol augus...\n",
              "...                                                                    ...  ...                                                ...\n",
              "CAPTUM_Total IgE_Antihistamine_Türk 2020.pdf_ou...           Türk 2020.pdf  ...  titl effect as-need antihistamin chronic spont...\n",
              "CAPTUM_CRP_D-Dimer_Montjoye 2020.pdf_out_text.txt        Montjoye 2020.pdf  ...  correl diseas activ autoimmun biolog paramet p...\n",
              "CAPTUM_Basophil_Allergic Diseases_Vasagar 2006....        Vasagar 2006.pdf  ...  clinic experiment allergi origin paper blackwe...\n",
              "CAPTUM_Basophil_Antihistamine_Dyke 2008.pdf_out...           Dyke 2008.pdf  ...  doi rigin paper clinic experiment allergi the ...\n",
              "CAPTUM_BAT_Total IgE_Metz 2017.pdf_out_text.txt              Metz 2017.pdf  ...  theranost vol issu ivyspr intern publish thera...\n",
              "\n",
              "[101 rows x 5 columns]"
            ]
          },
          "metadata": {
            "tags": []
          },
          "execution_count": 80
        }
      ]
    },
    {
      "cell_type": "code",
      "metadata": {
        "id": "d0b07fa0",
        "outputId": "c1c496b9-6c7d-4cb7-d0c2-6167497c1f4d",
        "colab": {
          "base_uri": "https://localhost:8080/"
        }
      },
      "source": [
        "print('Tags:')\n",
        "tags = {element for e in df['Tags'] for element in e}\n",
        "print(*tags, sep=\"\\n\")"
      ],
      "id": "d0b07fa0",
      "execution_count": 81,
      "outputs": [
        {
          "output_type": "stream",
          "text": [
            "Tags:\n",
            "Duration\n",
            "TPO\n",
            "anti-FcεRI\n",
            "Omalizumab\n",
            "Basophil\n",
            "Anti-IgE\n",
            "angioedema\n",
            "D-Dimer\n",
            "Total IgE\n",
            "Antihistamine\n",
            "Thyroglobulin\n",
            "BHRA\n",
            "IL-24\n",
            "Angioedema\n",
            "anti-TPO IgE ratio\n",
            "ASST\n",
            "BAT\n",
            "CRP\n",
            "Allergic Diseases\n",
            "serverity\n",
            "ANA\n",
            "duration\n",
            "Severity\n",
            "Eosinophil\n",
            "omalizumab\n"
          ],
          "name": "stdout"
        }
      ]
    },
    {
      "cell_type": "code",
      "metadata": {
        "id": "EIJVF5X8j-A3"
      },
      "source": [
        ""
      ],
      "id": "EIJVF5X8j-A3",
      "execution_count": 54,
      "outputs": []
    },
    {
      "cell_type": "markdown",
      "metadata": {
        "id": "8bb35178"
      },
      "source": [
        "# Algorithmen anwenden"
      ],
      "id": "8bb35178"
    },
    {
      "cell_type": "markdown",
      "metadata": {
        "id": "1c7411d8"
      },
      "source": [
        "### TFIDF Vertorizer"
      ],
      "id": "1c7411d8"
    },
    {
      "cell_type": "code",
      "metadata": {
        "id": "2453744a"
      },
      "source": [
        "tfidfconvert = TfidfVectorizer(ngram_range=(1,3)).fit(df.Corpus.values)"
      ],
      "id": "2453744a",
      "execution_count": 82,
      "outputs": []
    },
    {
      "cell_type": "code",
      "metadata": {
        "id": "362e41ab",
        "outputId": "06bc7eeb-4c4c-4551-d173-6f67000829c5",
        "colab": {
          "base_uri": "https://localhost:8080/"
        }
      },
      "source": [
        "len(tfidfconvert.vocabulary_)"
      ],
      "id": "362e41ab",
      "execution_count": 83,
      "outputs": [
        {
          "output_type": "execute_result",
          "data": {
            "text/plain": [
              "327937"
            ]
          },
          "metadata": {
            "tags": []
          },
          "execution_count": 83
        }
      ]
    },
    {
      "cell_type": "code",
      "metadata": {
        "id": "95f044e2"
      },
      "source": [
        "words_transformed = tfidfconvert.transform(df.Corpus.values)"
      ],
      "id": "95f044e2",
      "execution_count": 84,
      "outputs": []
    },
    {
      "cell_type": "markdown",
      "metadata": {
        "id": "6712dce8"
      },
      "source": [
        "### K-Means Clustering"
      ],
      "id": "6712dce8"
    },
    {
      "cell_type": "code",
      "metadata": {
        "id": "67d59ddc"
      },
      "source": [
        "from sklearn.cluster import KMeans"
      ],
      "id": "67d59ddc",
      "execution_count": 85,
      "outputs": []
    },
    {
      "cell_type": "markdown",
      "metadata": {
        "id": "95d1b144"
      },
      "source": [
        "K-Means für mehrere k's berechnen"
      ],
      "id": "95d1b144"
    },
    {
      "cell_type": "code",
      "metadata": {
        "id": "3a8567ca",
        "outputId": "d884a44b-0358-4068-bbcc-c19d2a1a67fc",
        "colab": {
          "base_uri": "https://localhost:8080/"
        }
      },
      "source": [
        "Sum_of_squared_distances = []\n",
        "max_range = 10\n",
        "K = range(1,max_range + 1)\n",
        "for k in K: \n",
        "    print(str(k) + \"/\" + str(max_range))\n",
        "    km = KMeans(n_clusters=k)\n",
        "    km = km.fit(words_transformed)\n",
        "    Sum_of_squared_distances.append(km.inertia_)\n",
        "    "
      ],
      "id": "3a8567ca",
      "execution_count": 91,
      "outputs": [
        {
          "output_type": "stream",
          "text": [
            "1/10\n",
            "2/10\n",
            "3/10\n",
            "4/10\n",
            "5/10\n",
            "6/10\n",
            "7/10\n",
            "8/10\n",
            "9/10\n"
          ],
          "name": "stdout"
        }
      ]
    },
    {
      "cell_type": "code",
      "metadata": {
        "id": "49a1714b",
        "outputId": "fee24f72-09ba-46a1-d804-a51bedf245c3",
        "colab": {
          "base_uri": "https://localhost:8080/",
          "height": 295
        }
      },
      "source": [
        "plt.plot(K,Sum_of_squared_distances, 'bx-')\n",
        "plt.xlabel('k')\n",
        "plt.ylabel('Sum_of_squared_distances')\n",
        "plt.title('Elbow Method For Optimal k')\n",
        "plt.show()"
      ],
      "id": "49a1714b",
      "execution_count": 92,
      "outputs": [
        {
          "output_type": "display_data",
          "data": {
            "image/png": "[encoded data removed]",
            "text/plain": [
              "<Figure size 432x288 with 1 Axes>"
            ]
          },
          "metadata": {
            "tags": [],
            "needs_background": "light"
          }
        }
      ]
    }
  ]
}